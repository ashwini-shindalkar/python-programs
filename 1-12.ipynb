{
 "cells": [
  {
   "cell_type": "markdown",
   "id": "a190b5c6",
   "metadata": {},
   "source": [
    "1) Write a program to concatenate two strings \"Good Morning!\" and \"Have a nice day!\" and print the combined string using a space in between."
   ]
  },
  {
   "cell_type": "code",
   "execution_count": 9,
   "id": "e255e1f9-881f-462d-8221-a93d8bdce88b",
   "metadata": {},
   "outputs": [
    {
     "name": "stdout",
     "output_type": "stream",
     "text": [
      "Good Morning! Have a nice day!\n"
     ]
    }
   ],
   "source": [
    "str1=\"Good Morning!\"\n",
    "str2=\"Have a nice day!\"\n",
    "my_String=str1+\" \"+ str2\n",
    "print(my_String)"
   ]
  },
  {
   "cell_type": "markdown",
   "id": "49308533",
   "metadata": {},
   "source": [
    "2) Can you give multiline comment & explain what is the meaning of identifiers?"
   ]
  },
  {
   "cell_type": "code",
   "execution_count": 2,
   "id": "bf801a4d-cccc-48e6-b1eb-8a510d4b0644",
   "metadata": {},
   "outputs": [
    {
     "data": {
      "text/plain": [
       "'\\nAn identifire is the name\\ngiven to entities like function ,\\nvariables etc\\n'"
      ]
     },
     "execution_count": 2,
     "metadata": {},
     "output_type": "execute_result"
    }
   ],
   "source": [
    "\"\"\"\n",
    "An identifire is the name\n",
    "given to entities like function ,\n",
    "variables etc\n",
    "\"\"\"\n"
   ]
  },
  {
   "cell_type": "markdown",
   "id": "2f387717",
   "metadata": {},
   "source": [
    "3) Write a program to slice a string str=\"Hello Everyone\" to get the following output:\n",
    "  \n",
    "  - 'Hello'\n",
    "  - 'yone'\n",
    "  - vE oll'\n",
    "  - 'Eeyn'"
   ]
  },
  {
   "cell_type": "code",
   "execution_count": 1,
   "id": "906aeb74-0d17-44f9-8f61-ab16d5a36776",
   "metadata": {},
   "outputs": [
    {
     "data": {
      "text/plain": [
       "'Hello Everyone'"
      ]
     },
     "execution_count": 1,
     "metadata": {},
     "output_type": "execute_result"
    }
   ],
   "source": [
    "str=\"Hello Everyone\"\n",
    "str"
   ]
  },
  {
   "cell_type": "code",
   "execution_count": 3,
   "id": "bf92ac8b-8928-4f15-93f5-4d9db62b532d",
   "metadata": {},
   "outputs": [
    {
     "data": {
      "text/plain": [
       "'Hello'"
      ]
     },
     "execution_count": 3,
     "metadata": {},
     "output_type": "execute_result"
    }
   ],
   "source": [
    "str[0:5]"
   ]
  },
  {
   "cell_type": "code",
   "execution_count": 8,
   "id": "a0e9518d-65aa-4aa0-9f0d-2e375d74aeab",
   "metadata": {},
   "outputs": [
    {
     "data": {
      "text/plain": [
       "'yone'"
      ]
     },
     "execution_count": 8,
     "metadata": {},
     "output_type": "execute_result"
    }
   ],
   "source": [
    "str[10:14]"
   ]
  },
  {
   "cell_type": "code",
   "execution_count": 30,
   "id": "8ba20c94-e0d5-4995-9c73-c0cf28c29c09",
   "metadata": {},
   "outputs": [
    {
     "data": {
      "text/plain": [
       "'vE oll'"
      ]
     },
     "execution_count": 30,
     "metadata": {},
     "output_type": "execute_result"
    }
   ],
   "source": [
    "str[-7:-13:-1]"
   ]
  },
  {
   "cell_type": "code",
   "execution_count": 35,
   "id": "ae913e8f-47e0-4756-b1cc-f80829e70d1e",
   "metadata": {},
   "outputs": [
    {
     "data": {
      "text/plain": [
       "'Eeyn'"
      ]
     },
     "execution_count": 35,
     "metadata": {},
     "output_type": "execute_result"
    }
   ],
   "source": [
    "str[6:13:2]"
   ]
  },
  {
   "cell_type": "markdown",
   "id": "70c5d551",
   "metadata": {},
   "source": [
    "4) We have variable x=22+5j. Can you check the type of variable x?"
   ]
  },
  {
   "cell_type": "code",
   "execution_count": 47,
   "id": "b1e2c1f6-98c7-4619-9ee1-afef587b934e",
   "metadata": {},
   "outputs": [
    {
     "data": {
      "text/plain": [
       "complex"
      ]
     },
     "execution_count": 47,
     "metadata": {},
     "output_type": "execute_result"
    }
   ],
   "source": [
    "x=22+5j\n",
    "type(x)"
   ]
  },
  {
   "cell_type": "markdown",
   "id": "1e935fcb",
   "metadata": {},
   "source": [
    "5) We have variable y=88.7. How do we check if y is instance of float type?"
   ]
  },
  {
   "cell_type": "code",
   "execution_count": 62,
   "id": "d7a2fe85-5950-4117-8d59-784e2ef4fdb5",
   "metadata": {},
   "outputs": [
    {
     "name": "stdout",
     "output_type": "stream",
     "text": [
      "88.7\n",
      "True\n"
     ]
    }
   ],
   "source": [
    "y=88.7\n",
    "print(y)\n",
    "print(isinstance(y,float)) #true-y is instance of float"
   ]
  },
  {
   "cell_type": "markdown",
   "id": "e33a7524-6246-44cc-a2ab-36c2b8a4408c",
   "metadata": {},
   "source": [
    "6) We have Raju who has scored 400 marks in his recent test. Use multiple assignment technique to store his name & score in 2 different variables & print them."
   ]
  },
  {
   "cell_type": "code",
   "execution_count": 55,
   "id": "f668e55d-6e6d-44b8-adbb-69a9e59d3d09",
   "metadata": {},
   "outputs": [
    {
     "name": "stdout",
     "output_type": "stream",
     "text": [
      "Raju 400\n"
     ]
    }
   ],
   "source": [
    "name,score=\"Raju\",400\n",
    "print(name,score)"
   ]
  },
  {
   "cell_type": "markdown",
   "id": "b7b99679",
   "metadata": {},
   "source": [
    "7) Use partition() to split the string, str3=\"Twinkle Twinkle little star\" based on argument string \"little\""
   ]
  },
  {
   "cell_type": "code",
   "execution_count": 63,
   "id": "8062e6fa-66e5-4a80-877f-6cb4ffc40ff8",
   "metadata": {},
   "outputs": [
    {
     "data": {
      "text/plain": [
       "('Twinkle Twinkle ', 'little', ' star')"
      ]
     },
     "execution_count": 63,
     "metadata": {},
     "output_type": "execute_result"
    }
   ],
   "source": [
    "str3=\"Twinkle Twinkle little star\"\n",
    "str3.partition(\"little\")"
   ]
  },
  {
   "cell_type": "markdown",
   "id": "a6a00eeb",
   "metadata": {},
   "source": [
    "8) What is the output of x=int(5.7)+float(4)+int(True)?"
   ]
  },
  {
   "cell_type": "code",
   "execution_count": 65,
   "id": "d25e2866-d281-42f5-9a86-432fa6a301e3",
   "metadata": {},
   "outputs": [
    {
     "data": {
      "text/plain": [
       "10.0"
      ]
     },
     "execution_count": 65,
     "metadata": {},
     "output_type": "execute_result"
    }
   ],
   "source": [
    "x=int(5.7)+float(4)+int(True)\n",
    "x"
   ]
  },
  {
   "cell_type": "markdown",
   "id": "5499094f",
   "metadata": {},
   "source": [
    "9) We have string, str=\"Have a nice day!\". Can you count & print number of occurances of letter 'a'?"
   ]
  },
  {
   "cell_type": "code",
   "execution_count": 67,
   "id": "79229e1c-d2a4-4a37-b1c5-0d490300bfd4",
   "metadata": {},
   "outputs": [
    {
     "data": {
      "text/plain": [
       "3"
      ]
     },
     "execution_count": 67,
     "metadata": {},
     "output_type": "execute_result"
    }
   ],
   "source": [
    "str=\"Have a nice day\"\n",
    "str.count(\"a\")"
   ]
  },
  {
   "cell_type": "markdown",
   "id": "173d3f8f",
   "metadata": {},
   "source": [
    "10) str1=\"   Thank you  \". Remove whitespaces from beginning & end of string."
   ]
  },
  {
   "cell_type": "code",
   "execution_count": 69,
   "id": "75e55c8c-3286-47ab-9d41-8b1f93569d37",
   "metadata": {},
   "outputs": [
    {
     "data": {
      "text/plain": [
       "'Thank you'"
      ]
     },
     "execution_count": 69,
     "metadata": {},
     "output_type": "execute_result"
    }
   ],
   "source": [
    "str1=\"   Thank you    \"\n",
    "str1.strip()"
   ]
  },
  {
   "cell_type": "markdown",
   "id": "b0131f62",
   "metadata": {},
   "source": [
    "11) Split str=\"Have a nice day!\" based on letter 'a'"
   ]
  },
  {
   "cell_type": "code",
   "execution_count": 2,
   "id": "e1b4c71d-7ae2-409f-8f8a-5711a2c65a06",
   "metadata": {},
   "outputs": [
    {
     "data": {
      "text/plain": [
       "['H', 've ', ' nice d', 'y!']"
      ]
     },
     "execution_count": 2,
     "metadata": {},
     "output_type": "execute_result"
    }
   ],
   "source": [
    "str=\"Have a nice day!\"\n",
    "str.split(\"a\")"
   ]
  },
  {
   "cell_type": "markdown",
   "id": "a606d1f8",
   "metadata": {},
   "source": [
    "12) What will be output of y=(5<6 and 1==4)?"
   ]
  },
  {
   "cell_type": "code",
   "execution_count": 73,
   "id": "ffd6db36-bf58-4f00-842a-3e9b84532dd9",
   "metadata": {},
   "outputs": [
    {
     "data": {
      "text/plain": [
       "False"
      ]
     },
     "execution_count": 73,
     "metadata": {},
     "output_type": "execute_result"
    }
   ],
   "source": [
    "y=(5<6 and 1==4) \n",
    "y"
   ]
  },
  {
   "cell_type": "markdown",
   "id": "29fccd2d",
   "metadata": {},
   "source": [
    "13. Write a Python program to get the Python version you are using. "
   ]
  },
  {
   "cell_type": "code",
   "execution_count": 76,
   "id": "7a95f5d9-d8b6-49b7-98a7-5d233a004e13",
   "metadata": {},
   "outputs": [
    {
     "name": "stdout",
     "output_type": "stream",
     "text": [
      "3.12.4 | packaged by Anaconda, Inc. | (main, Jun 18 2024, 15:03:56) [MSC v.1929 64 bit (AMD64)]\n"
     ]
    }
   ],
   "source": [
    "import sys\n",
    "print(sys.version)"
   ]
  },
  {
   "cell_type": "markdown",
   "id": "9a02f1a7",
   "metadata": {},
   "source": [
    "14. Write a program using if-else statements to check if a number is prime number or not."
   ]
  },
  {
   "cell_type": "code",
   "execution_count": 77,
   "id": "67e55f8b-ab8d-4479-8ffb-2df2133abf98",
   "metadata": {},
   "outputs": [
    {
     "name": "stdin",
     "output_type": "stream",
     "text": [
      "Enter a number:  13\n"
     ]
    },
    {
     "name": "stdout",
     "output_type": "stream",
     "text": [
      "13 is a prime number.\n"
     ]
    }
   ],
   "source": [
    "# Input from the user\n",
    "number = int(input(\"Enter a number: \"))\n",
    "\n",
    "if number <= 1:\n",
    "    print(f\"{number} is not a prime number.\")\n",
    "else:\n",
    "    is_prime = True\n",
    "    for i in range(2, number):\n",
    "        if number % i == 0:\n",
    "            is_prime = False\n",
    "            break\n",
    "\n",
    "    if is_prime:\n",
    "        print(f\"{number} is a prime number.\")\n",
    "    else:\n",
    "        print(f\"{number} is not a prime number.\")\n"
   ]
  },
  {
   "cell_type": "markdown",
   "id": "643819f2",
   "metadata": {},
   "source": [
    "15. Write a program where based on user input you need to print different statements. (Use if--elif)\n",
    "     If temperature is greater than 30-- print, Its very hot\n",
    "     If temperature is less than 30 but greater than 20--- print, Its hot but manageable\n",
    "     If temperature is less than 20 but greater than 10--- print, Its cold\n",
    "     If temperature is less than 10 but greater than 0--- print Its very cold\n",
    "     Else if temperature less than 10---- print Its Freezing cold\n",
    "     \n",
    "     Example:To check less than 30 but greater than 20 use (temp>=30 and temp<20) as condition.\n",
    "     This way it will check for temperature between 30 & 20"
   ]
  },
  {
   "cell_type": "code",
   "execution_count": 81,
   "id": "fee192f9-9a52-49a1-8a45-a8231734a160",
   "metadata": {},
   "outputs": [
    {
     "name": "stdin",
     "output_type": "stream",
     "text": [
      "Enter the temperature: 9\n"
     ]
    },
    {
     "name": "stdout",
     "output_type": "stream",
     "text": [
      "Its very cold \n"
     ]
    }
   ],
   "source": [
    "temp=int(input(\"Enter the temperature:\"))\n",
    "if temp>30: \n",
    "    print(\"Its very hot\")\n",
    "elif temp<=30 and temp>20:\n",
    "    print(\"Its hot but managable\")\n",
    "elif temp<=20 and temp>10:\n",
    "    print(\" Its cold If temperature is less than 10 \")\n",
    "elif temp>0 and temp<10:\n",
    "    print(\"Its very cold \")\n",
    "else:\n",
    "   print(\"Its Freezing cold\")"
   ]
  },
  {
   "cell_type": "markdown",
   "id": "e5cc3e97",
   "metadata": {},
   "source": [
    "16. Write a program to check whether a number is divisible by 7 or not"
   ]
  },
  {
   "cell_type": "code",
   "execution_count": 92,
   "id": "a00ec1c2-fcc0-45fa-83bf-5829a73e0227",
   "metadata": {},
   "outputs": [],
   "source": [
    "def number(num):\n",
    "    if num % 7==0:\n",
    "       print(\"Number is divisible by 7\") \n",
    "    else:\n",
    "       print(\"Number is not divisible by 7\")\n"
   ]
  },
  {
   "cell_type": "code",
   "execution_count": 94,
   "id": "2f1b7627-7675-4b52-bd95-0f110ad0779d",
   "metadata": {},
   "outputs": [
    {
     "name": "stdout",
     "output_type": "stream",
     "text": [
      "Number is not divisible by 7\n"
     ]
    }
   ],
   "source": [
    "number(15)"
   ]
  },
  {
   "cell_type": "markdown",
   "id": "34b21fc4",
   "metadata": {},
   "source": [
    "17. To check whather given element exists in list or not??\n",
    "    list=[1,2,3,4,5,6,7,8,9,10]\n",
    "    check if 9 and 12 are present in given list or not17. "
   ]
  },
  {
   "cell_type": "code",
   "execution_count": 3,
   "id": "8d0516ea-e7f6-42cc-9aa8-b521924f5442",
   "metadata": {},
   "outputs": [
    {
     "name": "stdout",
     "output_type": "stream",
     "text": [
      "9 is prasent in list\n",
      "12 is not prasent is list\n"
     ]
    }
   ],
   "source": [
    "list=[1,2,3,4,5,6,7,8,9,10]\n",
    "check_element=[9,12]\n",
    "\n",
    "for element in check_element:\n",
    "    if element in list:\n",
    "        print(f\"{element} is prasent in list\")\n",
    "    else:\n",
    "        print(f\"{element} is not prasent is list\")\n",
    "\n"
   ]
  },
  {
   "cell_type": "code",
   "execution_count": 18,
   "id": "0388b83e-2e6f-4980-aeb1-58ca76f64fd1",
   "metadata": {},
   "outputs": [
    {
     "name": "stdout",
     "output_type": "stream",
     "text": [
      "9is prasent in the list\n",
      "12is not present in the list\n"
     ]
    }
   ],
   "source": [
    "list=[1,2,3,4,5,6,7,8,9,10]\n",
    "check_element=[9,12]\n",
    "index=0\n",
    "\n",
    "while index < len (check_element):\n",
    "    element=check_element[index]\n",
    "    if element in list:\n",
    "        print(f\"{element}is prasent in the list\")\n",
    "    else: \n",
    "       print(f\"{element}is not present in the list\")\n",
    "    index+=1\n",
    "    "
   ]
  },
  {
   "cell_type": "markdown",
   "id": "00e6db2b",
   "metadata": {},
   "source": [
    "18. How to print the largest item from the given list"
   ]
  },
  {
   "cell_type": "code",
   "execution_count": 21,
   "id": "44a5b71a-0f3b-46e4-9a26-3907bfb95614",
   "metadata": {},
   "outputs": [
    {
     "name": "stdout",
     "output_type": "stream",
     "text": [
      "tha largest element in the list: 23\n"
     ]
    }
   ],
   "source": [
    "my_list=[12,1,23,12,11,10,9,7,5]\n",
    "largest_item=my_list[0]\n",
    "\n",
    "for item in my_list:\n",
    "    if item > largest_item:\n",
    "        largest_item=item\n",
    "print(\"tha largest element in the list:\",largest_item)"
   ]
  },
  {
   "cell_type": "markdown",
   "id": "c3a96a8b",
   "metadata": {},
   "source": [
    "19. Write a Python program to display the first and last colors from the following list.\n",
    "    color_list = [\"Red\",\"Green\",\"White\" ,\"Black\"]"
   ]
  },
  {
   "cell_type": "code",
   "execution_count": 1,
   "id": "6634ce6d-2e41-4284-b480-2b74fd837b33",
   "metadata": {},
   "outputs": [
    {
     "name": "stdout",
     "output_type": "stream",
     "text": [
      "first color: Red\n",
      "last color: Black\n"
     ]
    }
   ],
   "source": [
    "color_list = [\"Red\",\"Green\",\"White\" ,\"Black\"]\n",
    "first_color=color_list[0]\n",
    "last_color=color_list[-1]\n",
    "print(\"first color:\",first_color)\n",
    "print(\"last color:\",last_color)\n"
   ]
  },
  {
   "cell_type": "code",
   "execution_count": 3,
   "id": "be38617f-d0c6-4ec1-8dbb-1c06b71461f0",
   "metadata": {},
   "outputs": [
    {
     "data": {
      "text/plain": [
       "'Red'"
      ]
     },
     "execution_count": 3,
     "metadata": {},
     "output_type": "execute_result"
    }
   ],
   "source": [
    "color_list[0]"
   ]
  },
  {
   "cell_type": "code",
   "execution_count": 4,
   "id": "d6c35206-fef9-4a50-9df9-db944c4e9bc8",
   "metadata": {},
   "outputs": [
    {
     "data": {
      "text/plain": [
       "'Black'"
      ]
     },
     "execution_count": 4,
     "metadata": {},
     "output_type": "execute_result"
    }
   ],
   "source": [
    "color_list[-1]"
   ]
  },
  {
   "cell_type": "markdown",
   "id": "5ae5fe9f",
   "metadata": {},
   "source": [
    "20. We have tuple, tup1=(\"hello\",\"thanks\",\"bye\")\n",
    "    How to print index of \"thanks\"?"
   ]
  },
  {
   "cell_type": "code",
   "execution_count": 5,
   "id": "3ac7deac-db98-468a-97c8-8f8fc87973e0",
   "metadata": {},
   "outputs": [
    {
     "data": {
      "text/plain": [
       "1"
      ]
     },
     "execution_count": 5,
     "metadata": {},
     "output_type": "execute_result"
    }
   ],
   "source": [
    " tup1=(\"hello\",\"thanks\",\"bye\")\n",
    " tup1\n",
    "tup1.index(\"thanks\")"
   ]
  },
  {
   "cell_type": "code",
   "execution_count": 11,
   "id": "d825faca",
   "metadata": {},
   "outputs": [
    {
     "data": {
      "text/plain": [
       "'my name is Ashwini'"
      ]
     },
     "execution_count": 11,
     "metadata": {},
     "output_type": "execute_result"
    }
   ],
   "source": [
    "str=\"my name is Ashwini\"\n",
    "str"
   ]
  },
  {
   "cell_type": "code",
   "execution_count": 13,
   "id": "52b0cb68-90c1-4610-865d-14eeaf5a1baa",
   "metadata": {},
   "outputs": [
    {
     "data": {
      "text/plain": [
       "'y'"
      ]
     },
     "execution_count": 13,
     "metadata": {},
     "output_type": "execute_result"
    }
   ],
   "source": [
    "str[1]"
   ]
  },
  {
   "cell_type": "code",
   "execution_count": 14,
   "id": "0c38ac23-c833-466d-a150-1fe573ef7b55",
   "metadata": {},
   "outputs": [
    {
     "data": {
      "text/plain": [
       "'m'"
      ]
     },
     "execution_count": 14,
     "metadata": {},
     "output_type": "execute_result"
    }
   ],
   "source": [
    "str[0]"
   ]
  },
  {
   "cell_type": "code",
   "execution_count": 20,
   "id": "f258138f-1603-43d4-b32e-f1e2620f725e",
   "metadata": {},
   "outputs": [
    {
     "data": {
      "text/plain": [
       "0"
      ]
     },
     "execution_count": 20,
     "metadata": {},
     "output_type": "execute_result"
    }
   ],
   "source": [
    "str.index(\"m\")"
   ]
  },
  {
   "cell_type": "code",
   "execution_count": 21,
   "id": "61c70a0a-b706-4413-9325-6df342f0faeb",
   "metadata": {},
   "outputs": [
    {
     "data": {
      "text/plain": [
       "'my name is Ashwini'"
      ]
     },
     "execution_count": 21,
     "metadata": {},
     "output_type": "execute_result"
    }
   ],
   "source": [
    "str[:]"
   ]
  },
  {
   "cell_type": "code",
   "execution_count": 22,
   "id": "9232f23f-bcf9-4c58-afa0-47a34f23029c",
   "metadata": {},
   "outputs": [
    {
     "data": {
      "text/plain": [
       "'my name is Ashwini'"
      ]
     },
     "execution_count": 22,
     "metadata": {},
     "output_type": "execute_result"
    }
   ],
   "source": [
    "str[::]"
   ]
  },
  {
   "cell_type": "code",
   "execution_count": 23,
   "id": "a3f3ed2f-7a84-4157-a03b-4ada819e50d4",
   "metadata": {},
   "outputs": [
    {
     "data": {
      "text/plain": [
       "'y name is Ashwini'"
      ]
     },
     "execution_count": 23,
     "metadata": {},
     "output_type": "execute_result"
    }
   ],
   "source": [
    "str[1::]"
   ]
  },
  {
   "cell_type": "code",
   "execution_count": 24,
   "id": "16a13550-df37-4d21-a01a-638a3c9cab3e",
   "metadata": {},
   "outputs": [
    {
     "data": {
      "text/plain": [
       "'y name is Ashwini'"
      ]
     },
     "execution_count": 24,
     "metadata": {},
     "output_type": "execute_result"
    }
   ],
   "source": [
    "str[1:]"
   ]
  },
  {
   "cell_type": "code",
   "execution_count": 25,
   "id": "44997df9-1467-465f-8e9c-baf0e72f4320",
   "metadata": {},
   "outputs": [
    {
     "data": {
      "text/plain": [
       "'my name is Ashwini'"
      ]
     },
     "execution_count": 25,
     "metadata": {},
     "output_type": "execute_result"
    }
   ],
   "source": [
    "str[0:]"
   ]
  },
  {
   "cell_type": "code",
   "execution_count": 27,
   "id": "4d739300-3a00-4931-8c11-573a9b0bceea",
   "metadata": {},
   "outputs": [
    {
     "data": {
      "text/plain": [
       "' name'"
      ]
     },
     "execution_count": 27,
     "metadata": {},
     "output_type": "execute_result"
    }
   ],
   "source": [
    "str[2:7] #count the space also"
   ]
  },
  {
   "cell_type": "code",
   "execution_count": 30,
   "id": "81fee6ce-13d5-470a-8dd1-8b1bd740445b",
   "metadata": {},
   "outputs": [
    {
     "data": {
      "text/plain": [
       "'my name is Ashwin'"
      ]
     },
     "execution_count": 30,
     "metadata": {},
     "output_type": "execute_result"
    }
   ],
   "source": [
    "str[:-1]"
   ]
  },
  {
   "cell_type": "code",
   "execution_count": 31,
   "id": "8f6696d3-710e-4a40-981f-132b0bc37d92",
   "metadata": {},
   "outputs": [
    {
     "data": {
      "text/plain": [
       "'my name is Ashwin'"
      ]
     },
     "execution_count": 31,
     "metadata": {},
     "output_type": "execute_result"
    }
   ],
   "source": [
    "str[0:-1]"
   ]
  },
  {
   "cell_type": "code",
   "execution_count": 33,
   "id": "712fdf3c-6045-4487-95d3-8198c9be78d5",
   "metadata": {},
   "outputs": [
    {
     "data": {
      "text/plain": [
       "' eman y'"
      ]
     },
     "execution_count": 33,
     "metadata": {},
     "output_type": "execute_result"
    }
   ],
   "source": [
    "str[7:0:-1]"
   ]
  },
  {
   "cell_type": "code",
   "execution_count": 34,
   "id": "ec4455f9-8eaf-4f57-9710-7c6e1ecc80a1",
   "metadata": {},
   "outputs": [
    {
     "data": {
      "text/plain": [
       "''"
      ]
     },
     "execution_count": 34,
     "metadata": {},
     "output_type": "execute_result"
    }
   ],
   "source": [
    "str[2:5:-1]"
   ]
  },
  {
   "cell_type": "code",
   "execution_count": 54,
   "id": "b6554f2f-4ace-4530-90ff-171f1ee3f31e",
   "metadata": {},
   "outputs": [
    {
     "data": {
      "text/plain": [
       "'helloworld'"
      ]
     },
     "execution_count": 54,
     "metadata": {},
     "output_type": "execute_result"
    }
   ],
   "source": [
    "#cancatination\n",
    "str1=\"hello\"\n",
    "str2=\"world\"\n",
    "my_string=str1+str2\n",
    "my_string"
   ]
  },
  {
   "cell_type": "code",
   "execution_count": 38,
   "id": "88b2f694-c955-486b-a83c-ccd37bd551ac",
   "metadata": {},
   "outputs": [
    {
     "data": {
      "text/plain": [
       "True"
      ]
     },
     "execution_count": 38,
     "metadata": {},
     "output_type": "execute_result"
    }
   ],
   "source": [
    "#string membership\n",
    "\"hello\" in my_string"
   ]
  },
  {
   "cell_type": "code",
   "execution_count": 39,
   "id": "5154c11c-b551-4f77-85a6-e7c3678307e6",
   "metadata": {},
   "outputs": [
    {
     "data": {
      "text/plain": [
       "False"
      ]
     },
     "execution_count": 39,
     "metadata": {},
     "output_type": "execute_result"
    }
   ],
   "source": [
    "\"H\" in my_string"
   ]
  },
  {
   "cell_type": "code",
   "execution_count": 40,
   "id": "c8f6253a-6f0e-4d69-8349-baa21600a1da",
   "metadata": {},
   "outputs": [
    {
     "data": {
      "text/plain": [
       "False"
      ]
     },
     "execution_count": 40,
     "metadata": {},
     "output_type": "execute_result"
    }
   ],
   "source": [
    "\"hello\" not in my_string"
   ]
  },
  {
   "cell_type": "code",
   "execution_count": 41,
   "id": "9d174ec2-4441-4f9f-b8a2-b41145d2a30a",
   "metadata": {},
   "outputs": [
    {
     "data": {
      "text/plain": [
       "True"
      ]
     },
     "execution_count": 41,
     "metadata": {},
     "output_type": "execute_result"
    }
   ],
   "source": [
    "\"H\" not in my_string "
   ]
  },
  {
   "cell_type": "code",
   "execution_count": 42,
   "id": "00ae86c9-7335-4eae-bac0-579506cfd1c4",
   "metadata": {},
   "outputs": [
    {
     "data": {
      "text/plain": [
       "'my name is Ashwini'"
      ]
     },
     "execution_count": 42,
     "metadata": {},
     "output_type": "execute_result"
    }
   ],
   "source": [
    "str"
   ]
  },
  {
   "cell_type": "code",
   "execution_count": 45,
   "id": "2a20b805-b188-48fa-a2cd-8297902e6b26",
   "metadata": {},
   "outputs": [
    {
     "data": {
      "text/plain": [
       "('my name ', 'is', ' Ashwini')"
      ]
     },
     "execution_count": 45,
     "metadata": {},
     "output_type": "execute_result"
    }
   ],
   "source": [
    "#partition\n",
    "str.partition(\"is\")"
   ]
  },
  {
   "cell_type": "code",
   "execution_count": 46,
   "id": "498a4dfe-570e-4a39-adff-f06614e462a5",
   "metadata": {},
   "outputs": [
    {
     "data": {
      "text/plain": [
       "('my name is ', 'Ashwini', '')"
      ]
     },
     "execution_count": 46,
     "metadata": {},
     "output_type": "execute_result"
    }
   ],
   "source": [
    "str.partition(\"Ashwini\")"
   ]
  },
  {
   "cell_type": "code",
   "execution_count": 47,
   "id": "938a9bab-187b-4099-be5c-6c45881ff6cb",
   "metadata": {},
   "outputs": [
    {
     "data": {
      "text/plain": [
       "('', 'my', ' name is Ashwini')"
      ]
     },
     "execution_count": 47,
     "metadata": {},
     "output_type": "execute_result"
    }
   ],
   "source": [
    "str.partition(\"my\")"
   ]
  },
  {
   "cell_type": "code",
   "execution_count": 48,
   "id": "3ff27f75-49af-4f45-9840-e1550a3069e5",
   "metadata": {},
   "outputs": [
    {
     "data": {
      "text/plain": [
       "['my name ', ' Ashwini']"
      ]
     },
     "execution_count": 48,
     "metadata": {},
     "output_type": "execute_result"
    }
   ],
   "source": [
    "#split\n",
    "str.split(\"is\")"
   ]
  },
  {
   "cell_type": "code",
   "execution_count": 50,
   "id": "0f3d55df-8678-4c80-930d-121abbf65029",
   "metadata": {},
   "outputs": [
    {
     "data": {
      "text/plain": [
       "['', ' name is Ashwini']"
      ]
     },
     "execution_count": 50,
     "metadata": {},
     "output_type": "execute_result"
    }
   ],
   "source": [
    "str.split(\"my\")"
   ]
  },
  {
   "cell_type": "code",
   "execution_count": 51,
   "id": "8c570c80-cb6f-42b5-999d-0a3ac9720e7e",
   "metadata": {},
   "outputs": [
    {
     "data": {
      "text/plain": [
       "['my name is ', '']"
      ]
     },
     "execution_count": 51,
     "metadata": {},
     "output_type": "execute_result"
    }
   ],
   "source": [
    "str.split(\"Ashwini\")"
   ]
  },
  {
   "cell_type": "code",
   "execution_count": 60,
   "id": "5ee88f80-10e0-4717-8bc9-59fc38000827",
   "metadata": {},
   "outputs": [
    {
     "data": {
      "text/plain": [
       "'my name is Ashwini'"
      ]
     },
     "execution_count": 60,
     "metadata": {},
     "output_type": "execute_result"
    }
   ],
   "source": [
    "str"
   ]
  },
  {
   "cell_type": "code",
   "execution_count": 53,
   "id": "45546a64-60ed-4726-b21c-f5771ba77748",
   "metadata": {},
   "outputs": [
    {
     "data": {
      "text/plain": [
       "'     hello world    '"
      ]
     },
     "execution_count": 53,
     "metadata": {},
     "output_type": "execute_result"
    }
   ],
   "source": [
    "#strip....#change the permanante \n",
    "str1=\"     hello world    \"\n",
    "str1"
   ]
  },
  {
   "cell_type": "code",
   "execution_count": 56,
   "id": "2cc5c73f-6e6d-45a9-9b3a-e9a25539ddca",
   "metadata": {},
   "outputs": [
    {
     "data": {
      "text/plain": [
       "'hello'"
      ]
     },
     "execution_count": 56,
     "metadata": {},
     "output_type": "execute_result"
    }
   ],
   "source": [
    "str1.strip()"
   ]
  },
  {
   "cell_type": "code",
   "execution_count": 59,
   "id": "6b715091-af61-473c-a61b-c27c93beedf3",
   "metadata": {},
   "outputs": [
    {
     "data": {
      "text/plain": [
       "'hello'"
      ]
     },
     "execution_count": 59,
     "metadata": {},
     "output_type": "execute_result"
    }
   ],
   "source": [
    "str1"
   ]
  },
  {
   "cell_type": "code",
   "execution_count": 61,
   "id": "913708b4-200a-4b4f-b94c-dee70f1e3a15",
   "metadata": {},
   "outputs": [],
   "source": [
    "str2=\"      good night    \""
   ]
  },
  {
   "cell_type": "code",
   "execution_count": 62,
   "id": "a4456af3-b475-405d-b7d8-745b1bd236fa",
   "metadata": {},
   "outputs": [
    {
     "data": {
      "text/plain": [
       "'good night    '"
      ]
     },
     "execution_count": 62,
     "metadata": {},
     "output_type": "execute_result"
    }
   ],
   "source": [
    "str2.lstrip()"
   ]
  },
  {
   "cell_type": "code",
   "execution_count": 63,
   "id": "450b460e-e7ab-4b3b-966f-7e5136eade79",
   "metadata": {},
   "outputs": [
    {
     "data": {
      "text/plain": [
       "'      good night    '"
      ]
     },
     "execution_count": 63,
     "metadata": {},
     "output_type": "execute_result"
    }
   ],
   "source": [
    "str2"
   ]
  },
  {
   "cell_type": "code",
   "execution_count": 64,
   "id": "b84ada69-5bfb-4450-8b4d-aab470900b7b",
   "metadata": {},
   "outputs": [
    {
     "data": {
      "text/plain": [
       "'      good night'"
      ]
     },
     "execution_count": 64,
     "metadata": {},
     "output_type": "execute_result"
    }
   ],
   "source": [
    "str2.rstrip()"
   ]
  },
  {
   "cell_type": "code",
   "execution_count": 65,
   "id": "65951930-bdf9-4391-8daf-36ca814df565",
   "metadata": {},
   "outputs": [
    {
     "data": {
      "text/plain": [
       "'      good night    '"
      ]
     },
     "execution_count": 65,
     "metadata": {},
     "output_type": "execute_result"
    }
   ],
   "source": [
    "str2"
   ]
  },
  {
   "cell_type": "code",
   "execution_count": 66,
   "id": "a223528c-744f-47c0-b546-b7e7ba49bff0",
   "metadata": {},
   "outputs": [
    {
     "data": {
      "text/plain": [
       "'hello'"
      ]
     },
     "execution_count": 66,
     "metadata": {},
     "output_type": "execute_result"
    }
   ],
   "source": [
    "str1"
   ]
  },
  {
   "cell_type": "code",
   "execution_count": 69,
   "id": "823fd789-39fe-46d2-b107-0f900c9bab17",
   "metadata": {},
   "outputs": [
    {
     "data": {
      "text/plain": [
       "True"
      ]
     },
     "execution_count": 69,
     "metadata": {},
     "output_type": "execute_result"
    }
   ],
   "source": [
    "str1.startswith(\"h\")"
   ]
  },
  {
   "cell_type": "code",
   "execution_count": 70,
   "id": "0143a7e4-beda-4043-9e74-2bbe83ef3829",
   "metadata": {},
   "outputs": [
    {
     "data": {
      "text/plain": [
       "False"
      ]
     },
     "execution_count": 70,
     "metadata": {},
     "output_type": "execute_result"
    }
   ],
   "source": [
    "str1.startswith(\"H\")"
   ]
  },
  {
   "cell_type": "code",
   "execution_count": 71,
   "id": "f7bd1e79-4942-41c9-85af-275d9725a716",
   "metadata": {},
   "outputs": [
    {
     "data": {
      "text/plain": [
       "False"
      ]
     },
     "execution_count": 71,
     "metadata": {},
     "output_type": "execute_result"
    }
   ],
   "source": [
    "str1.endswith(\"H\")"
   ]
  },
  {
   "cell_type": "code",
   "execution_count": 72,
   "id": "50fcc5e6-c1a8-4ff2-a534-6d7eba0e1a27",
   "metadata": {},
   "outputs": [
    {
     "data": {
      "text/plain": [
       "True"
      ]
     },
     "execution_count": 72,
     "metadata": {},
     "output_type": "execute_result"
    }
   ],
   "source": [
    "str1.endswith(\"o\")"
   ]
  },
  {
   "cell_type": "code",
   "execution_count": 73,
   "id": "515ee2fd-5c37-470d-a6db-247236492511",
   "metadata": {},
   "outputs": [
    {
     "data": {
      "text/plain": [
       "'hello'"
      ]
     },
     "execution_count": 73,
     "metadata": {},
     "output_type": "execute_result"
    }
   ],
   "source": [
    "str1.lower()"
   ]
  },
  {
   "cell_type": "code",
   "execution_count": 76,
   "id": "79a97e11-8cf3-401d-9429-78bfcc1a3563",
   "metadata": {},
   "outputs": [
    {
     "data": {
      "text/plain": [
       "'HELLO'"
      ]
     },
     "execution_count": 76,
     "metadata": {},
     "output_type": "execute_result"
    }
   ],
   "source": [
    "str1.upper()"
   ]
  },
  {
   "cell_type": "code",
   "execution_count": 77,
   "id": "271f9dba-7925-4503-87b7-889bad69cccb",
   "metadata": {},
   "outputs": [
    {
     "data": {
      "text/plain": [
       "'hello'"
      ]
     },
     "execution_count": 77,
     "metadata": {},
     "output_type": "execute_result"
    }
   ],
   "source": [
    "str1"
   ]
  },
  {
   "cell_type": "code",
   "execution_count": 80,
   "id": "d32c7ee3-81cd-458a-985d-a4536bc5aa15",
   "metadata": {},
   "outputs": [
    {
     "data": {
      "text/plain": [
       "'%%%%%%% hello %%%%%%%%'"
      ]
     },
     "execution_count": 80,
     "metadata": {},
     "output_type": "execute_result"
    }
   ],
   "source": [
    "string=\"%%%%%%% hello %%%%%%%%\"\n",
    "string"
   ]
  },
  {
   "cell_type": "code",
   "execution_count": 82,
   "id": "75c59dc1-7921-4b00-8f8d-384b16cf19ec",
   "metadata": {},
   "outputs": [
    {
     "data": {
      "text/plain": [
       "' hello '"
      ]
     },
     "execution_count": 82,
     "metadata": {},
     "output_type": "execute_result"
    }
   ],
   "source": [
    "string.strip(\"%\")"
   ]
  },
  {
   "cell_type": "code",
   "execution_count": 83,
   "id": "d025e8e5-8af7-4048-be3b-cdb761211020",
   "metadata": {},
   "outputs": [
    {
     "data": {
      "text/plain": [
       "'%%%%%%% hello %%%%%%%%'"
      ]
     },
     "execution_count": 83,
     "metadata": {},
     "output_type": "execute_result"
    }
   ],
   "source": [
    "string"
   ]
  },
  {
   "cell_type": "code",
   "execution_count": 84,
   "id": "6820e9fa-e8d6-4a01-b268-ef26dccb563c",
   "metadata": {},
   "outputs": [],
   "source": [
    "# string can not change or delet it is immutable or unchangable "
   ]
  },
  {
   "cell_type": "code",
   "execution_count": 85,
   "id": "10db2f93-65c8-468a-b904-11bb294753e7",
   "metadata": {},
   "outputs": [
    {
     "data": {
      "text/plain": [
       "'my name is Ashwini'"
      ]
     },
     "execution_count": 85,
     "metadata": {},
     "output_type": "execute_result"
    }
   ],
   "source": [
    "str"
   ]
  },
  {
   "cell_type": "code",
   "execution_count": 86,
   "id": "388e84f0-9278-4432-a092-e2939b8ba8a1",
   "metadata": {},
   "outputs": [
    {
     "data": {
      "text/plain": [
       "'my name is Saurav'"
      ]
     },
     "execution_count": 86,
     "metadata": {},
     "output_type": "execute_result"
    }
   ],
   "source": [
    "str.replace(\"Ashwini\",\"Saurav\")"
   ]
  },
  {
   "cell_type": "code",
   "execution_count": 159,
   "id": "48bd83cd-57b3-446e-ad22-e6f4960ece67",
   "metadata": {},
   "outputs": [
    {
     "data": {
      "text/plain": [
       "'my name is Ashwini'"
      ]
     },
     "execution_count": 159,
     "metadata": {},
     "output_type": "execute_result"
    }
   ],
   "source": [
    "str"
   ]
  },
  {
   "cell_type": "code",
   "execution_count": 89,
   "id": "521d78ce-6f0f-4fe1-8ba1-e9780670496f",
   "metadata": {},
   "outputs": [
    {
     "data": {
      "text/plain": [
       "100"
      ]
     },
     "execution_count": 89,
     "metadata": {},
     "output_type": "execute_result"
    }
   ],
   "source": [
    "#join the string and number \n",
    "x=200+100-200\n",
    "x"
   ]
  },
  {
   "cell_type": "code",
   "execution_count": 91,
   "id": "c85bfb7f-1ae3-4cc2-9218-b0d9ada464b0",
   "metadata": {},
   "outputs": [
    {
     "name": "stdout",
     "output_type": "stream",
     "text": [
      "the value of the x is 100\n"
     ]
    }
   ],
   "source": [
    "print(\"the value of the x is\",x)"
   ]
  },
  {
   "cell_type": "code",
   "execution_count": 92,
   "id": "534b4270-8e0d-4f40-a2bf-dc47cd70fe20",
   "metadata": {},
   "outputs": [
    {
     "name": "stdout",
     "output_type": "stream",
     "text": [
      "the value of x is 100\n"
     ]
    }
   ],
   "source": [
    "print(\"the value of x is {}\".format(x))"
   ]
  },
  {
   "cell_type": "code",
   "execution_count": 95,
   "id": "d1f03354-16c0-4b02-a134-e18be34e7178",
   "metadata": {},
   "outputs": [
    {
     "name": "stdout",
     "output_type": "stream",
     "text": [
      "the value of x is 100\n"
     ]
    }
   ],
   "source": [
    "print(\"the value of x is {}\".format(x))"
   ]
  },
  {
   "cell_type": "code",
   "execution_count": 96,
   "id": "05a111b7-bde4-43b8-8ea0-9a96a72604eb",
   "metadata": {},
   "outputs": [
    {
     "name": "stdout",
     "output_type": "stream",
     "text": [
      "the value of the x is 100\n"
     ]
    }
   ],
   "source": [
    "print(f\"the value of the x is {x}\")"
   ]
  },
  {
   "cell_type": "code",
   "execution_count": 97,
   "id": "9f9431b3-fe65-4e0b-b075-6b144e74e909",
   "metadata": {},
   "outputs": [
    {
     "name": "stdout",
     "output_type": "stream",
     "text": [
      "the value of the x is 100\n"
     ]
    }
   ],
   "source": [
    "print(f\"the value of the x is {x}\")"
   ]
  },
  {
   "cell_type": "code",
   "execution_count": 98,
   "id": "b5996510-fbb0-4e3c-9e0a-496dfbe5d8f8",
   "metadata": {},
   "outputs": [],
   "source": [
    "#typecasting \n",
    "#1)autotypecasting-it automatically covert bydefault \n",
    "#2)forcedtypecasting-coverted by the user using some predefined function"
   ]
  },
  {
   "cell_type": "code",
   "execution_count": 105,
   "id": "d285de77-fbab-4686-98a5-a3e7262f89f2",
   "metadata": {},
   "outputs": [
    {
     "data": {
      "text/plain": [
       "3"
      ]
     },
     "execution_count": 105,
     "metadata": {},
     "output_type": "execute_result"
    }
   ],
   "source": [
    "#forced typecatinng\n",
    "#int(\"hello\") ---does not convert int to string\n",
    "int(3)   #int"
   ]
  },
  {
   "cell_type": "code",
   "execution_count": 106,
   "id": "ad8d42e7-1197-45bc-b133-f66809ab76eb",
   "metadata": {},
   "outputs": [
    {
     "data": {
      "text/plain": [
       "4"
      ]
     },
     "execution_count": 106,
     "metadata": {},
     "output_type": "execute_result"
    }
   ],
   "source": [
    "int(4.7)  #float"
   ]
  },
  {
   "cell_type": "code",
   "execution_count": 107,
   "id": "8266dee1-864b-44b1-8537-e8f3a12853fd",
   "metadata": {},
   "outputs": [
    {
     "data": {
      "text/plain": [
       "10"
      ]
     },
     "execution_count": 107,
     "metadata": {},
     "output_type": "execute_result"
    }
   ],
   "source": [
    "int(\"10\") #number string"
   ]
  },
  {
   "cell_type": "code",
   "execution_count": 109,
   "id": "1ce763b1-4365-4e70-9184-e208861afb6a",
   "metadata": {},
   "outputs": [
    {
     "data": {
      "text/plain": [
       "1"
      ]
     },
     "execution_count": 109,
     "metadata": {},
     "output_type": "execute_result"
    }
   ],
   "source": [
    "int(True) #boolen"
   ]
  },
  {
   "cell_type": "code",
   "execution_count": 110,
   "id": "b909a9dc-85bb-41f0-985c-66f14cf35d83",
   "metadata": {},
   "outputs": [
    {
     "data": {
      "text/plain": [
       "0"
      ]
     },
     "execution_count": 110,
     "metadata": {},
     "output_type": "execute_result"
    }
   ],
   "source": [
    "int(False)"
   ]
  },
  {
   "cell_type": "code",
   "execution_count": 127,
   "id": "fda989a1-cde2-49ef-b3df-7cdfde7060c0",
   "metadata": {},
   "outputs": [
    {
     "data": {
      "text/plain": [
       "-3"
      ]
     },
     "execution_count": 127,
     "metadata": {},
     "output_type": "execute_result"
    }
   ],
   "source": [
    "int(-3)"
   ]
  },
  {
   "cell_type": "code",
   "execution_count": 112,
   "id": "3ee82a71-5a7e-4454-a026-e3f4b3371726",
   "metadata": {},
   "outputs": [
    {
     "data": {
      "text/plain": [
       "2.5"
      ]
     },
     "execution_count": 112,
     "metadata": {},
     "output_type": "execute_result"
    }
   ],
   "source": [
    "#float(\"hello\") ----does not covert float to string\n",
    "float(2.5) #float"
   ]
  },
  {
   "cell_type": "code",
   "execution_count": 113,
   "id": "7371d626-b226-43ca-a4ff-c7b53b58a089",
   "metadata": {},
   "outputs": [
    {
     "data": {
      "text/plain": [
       "10.0"
      ]
     },
     "execution_count": 113,
     "metadata": {},
     "output_type": "execute_result"
    }
   ],
   "source": [
    "float(10) #int"
   ]
  },
  {
   "cell_type": "code",
   "execution_count": 114,
   "id": "38e8a167-29a5-49bd-89d2-16d04478f01a",
   "metadata": {},
   "outputs": [
    {
     "data": {
      "text/plain": [
       "1.0"
      ]
     },
     "execution_count": 114,
     "metadata": {},
     "output_type": "execute_result"
    }
   ],
   "source": [
    "float(True) #boolen"
   ]
  },
  {
   "cell_type": "code",
   "execution_count": 116,
   "id": "c58655db-4d8a-4f8b-99dc-b6ce6487b848",
   "metadata": {},
   "outputs": [
    {
     "data": {
      "text/plain": [
       "0.0"
      ]
     },
     "execution_count": 116,
     "metadata": {},
     "output_type": "execute_result"
    }
   ],
   "source": [
    "float(False)"
   ]
  },
  {
   "cell_type": "code",
   "execution_count": 117,
   "id": "aa3b453a-c977-4821-ad55-79123f321c8e",
   "metadata": {},
   "outputs": [
    {
     "data": {
      "text/plain": [
       "3.0"
      ]
     },
     "execution_count": 117,
     "metadata": {},
     "output_type": "execute_result"
    }
   ],
   "source": [
    "float(\"3\") #string number "
   ]
  },
  {
   "cell_type": "code",
   "execution_count": 128,
   "id": "945d8769-b529-4970-8865-10dfea9160a1",
   "metadata": {},
   "outputs": [
    {
     "data": {
      "text/plain": [
       "-3.0"
      ]
     },
     "execution_count": 128,
     "metadata": {},
     "output_type": "execute_result"
    }
   ],
   "source": [
    "float(-3)"
   ]
  },
  {
   "cell_type": "code",
   "execution_count": 118,
   "id": "a7b65ff7-97f4-4238-b743-366d27bf7fc4",
   "metadata": {},
   "outputs": [
    {
     "data": {
      "text/plain": [
       "True"
      ]
     },
     "execution_count": 118,
     "metadata": {},
     "output_type": "execute_result"
    }
   ],
   "source": [
    "#bool----covert anythinf into 1 instead of o\n",
    "bool(True) #bool"
   ]
  },
  {
   "cell_type": "code",
   "execution_count": 119,
   "id": "53c0389c-6ac1-448b-8966-ccc32256cbf0",
   "metadata": {},
   "outputs": [
    {
     "data": {
      "text/plain": [
       "True"
      ]
     },
     "execution_count": 119,
     "metadata": {},
     "output_type": "execute_result"
    }
   ],
   "source": [
    "bool(\"Hello\") #accept string"
   ]
  },
  {
   "cell_type": "code",
   "execution_count": 121,
   "id": "96bccd75-75d5-423c-a74b-eef568a63177",
   "metadata": {},
   "outputs": [
    {
     "data": {
      "text/plain": [
       "True"
      ]
     },
     "execution_count": 121,
     "metadata": {},
     "output_type": "execute_result"
    }
   ],
   "source": [
    "bool(10) #int"
   ]
  },
  {
   "cell_type": "code",
   "execution_count": 122,
   "id": "7fb12d98-ca2b-492e-8c78-8eb5f225e240",
   "metadata": {},
   "outputs": [
    {
     "data": {
      "text/plain": [
       "True"
      ]
     },
     "execution_count": 122,
     "metadata": {},
     "output_type": "execute_result"
    }
   ],
   "source": [
    "bool(1.5) #float"
   ]
  },
  {
   "cell_type": "code",
   "execution_count": 123,
   "id": "80f609f7-b35f-4430-9dfc-e2a9336cdcbb",
   "metadata": {},
   "outputs": [
    {
     "data": {
      "text/plain": [
       "True"
      ]
     },
     "execution_count": 123,
     "metadata": {},
     "output_type": "execute_result"
    }
   ],
   "source": [
    "bool(\"6\")"
   ]
  },
  {
   "cell_type": "code",
   "execution_count": 125,
   "id": "0e0edcba-f677-41d7-a3d6-691f8326fc47",
   "metadata": {},
   "outputs": [
    {
     "data": {
      "text/plain": [
       "False"
      ]
     },
     "execution_count": 125,
     "metadata": {},
     "output_type": "execute_result"
    }
   ],
   "source": [
    "bool(0)"
   ]
  },
  {
   "cell_type": "code",
   "execution_count": 126,
   "id": "141dd578-5f0f-447d-93e9-04509d3586d1",
   "metadata": {},
   "outputs": [
    {
     "data": {
      "text/plain": [
       "True"
      ]
     },
     "execution_count": 126,
     "metadata": {},
     "output_type": "execute_result"
    }
   ],
   "source": [
    "bool(-3)"
   ]
  },
  {
   "cell_type": "code",
   "execution_count": 139,
   "id": "ec343b1c-a56d-4c28-ac47-8457b4a696e5",
   "metadata": {},
   "outputs": [],
   "source": [
    "import operator \n",
    "import os"
   ]
  },
  {
   "cell_type": "code",
   "execution_count": 134,
   "id": "73ca51fa-8e2a-4824-9a92-86ae927e8fc1",
   "metadata": {},
   "outputs": [
    {
     "name": "stdout",
     "output_type": "stream",
     "text": [
      "3.12.4 | packaged by Anaconda, Inc. | (main, Jun 18 2024, 15:03:56) [MSC v.1929 64 bit (AMD64)]\n"
     ]
    }
   ],
   "source": [
    "import sys\n",
    "print(sys.version)"
   ]
  },
  {
   "cell_type": "code",
   "execution_count": 136,
   "id": "7be2361e-05fa-4487-b3a3-3d92b912dc12",
   "metadata": {},
   "outputs": [
    {
     "name": "stdout",
     "output_type": "stream",
     "text": [
      "['False', 'None', 'True', 'and', 'as', 'assert', 'async', 'await', 'break', 'class', 'continue', 'def', 'del', 'elif', 'else', 'except', 'finally', 'for', 'from', 'global', 'if', 'import', 'in', 'is', 'lambda', 'nonlocal', 'not', 'or', 'pass', 'raise', 'return', 'try', 'while', 'with', 'yield']\n"
     ]
    }
   ],
   "source": [
    "import keyword\n",
    "print(keyword.kwlist)"
   ]
  },
  {
   "cell_type": "code",
   "execution_count": 137,
   "id": "277a080f-a862-48a6-a2b5-f17ce2a0f368",
   "metadata": {},
   "outputs": [
    {
     "data": {
      "text/plain": [
       "'hello'"
      ]
     },
     "execution_count": 137,
     "metadata": {},
     "output_type": "execute_result"
    }
   ],
   "source": [
    "\"hello\""
   ]
  },
  {
   "cell_type": "code",
   "execution_count": 141,
   "id": "20a932ed-6be9-429f-af35-7dae2144188f",
   "metadata": {},
   "outputs": [
    {
     "data": {
      "text/plain": [
       "35"
      ]
     },
     "execution_count": 141,
     "metadata": {},
     "output_type": "execute_result"
    }
   ],
   "source": [
    "len(keyword.kwlist)"
   ]
  },
  {
   "cell_type": "code",
   "execution_count": 142,
   "id": "f07233c9-1d97-4325-bc65-ad75bd8ee763",
   "metadata": {},
   "outputs": [
    {
     "data": {
      "text/plain": [
       "'\\n i am ashwini\\n i am very beautiful'"
      ]
     },
     "execution_count": 142,
     "metadata": {},
     "output_type": "execute_result"
    }
   ],
   "source": [
    "\"\"\"\n",
    " i am ashwini\n",
    " i am very beautiful\"\"\"\n",
    " "
   ]
  },
  {
   "cell_type": "code",
   "execution_count": 143,
   "id": "36263676-961d-41f3-9a89-a3770019e4bd",
   "metadata": {},
   "outputs": [
    {
     "data": {
      "text/plain": [
       "20"
      ]
     },
     "execution_count": 143,
     "metadata": {},
     "output_type": "execute_result"
    }
   ],
   "source": [
    "#variable ----reserved memory location to stor the value\n",
    "#single assignment \n",
    "a=20\n",
    "a"
   ]
  },
  {
   "cell_type": "code",
   "execution_count": 145,
   "id": "3e7fca6d-e431-477d-8d84-f1e03f3ce93a",
   "metadata": {},
   "outputs": [
    {
     "data": {
      "text/plain": [
       "'shiv'"
      ]
     },
     "execution_count": 145,
     "metadata": {},
     "output_type": "execute_result"
    }
   ],
   "source": [
    "#multiple assignment\n",
    "name,age,city=\"shiv\",20,\"pune\"\n",
    "name"
   ]
  },
  {
   "cell_type": "code",
   "execution_count": 146,
   "id": "99ba8bc3-e4e1-4c38-968c-150425e4e085",
   "metadata": {},
   "outputs": [
    {
     "name": "stdout",
     "output_type": "stream",
     "text": [
      "shiv 20 pune\n"
     ]
    }
   ],
   "source": [
    "print(name,age,city)"
   ]
  },
  {
   "cell_type": "code",
   "execution_count": 148,
   "id": "e75b3114-3201-4f08-953e-a2e00505505d",
   "metadata": {},
   "outputs": [
    {
     "data": {
      "text/plain": [
       "20"
      ]
     },
     "execution_count": 148,
     "metadata": {},
     "output_type": "execute_result"
    }
   ],
   "source": [
    "a1=a2=a3=a4=20\n",
    "a2"
   ]
  },
  {
   "cell_type": "code",
   "execution_count": 151,
   "id": "b5fbc72b-73d0-40e8-b0b1-353f7c25db86",
   "metadata": {},
   "outputs": [
    {
     "name": "stdout",
     "output_type": "stream",
     "text": [
      "20 20 20 20\n"
     ]
    }
   ],
   "source": [
    "print(a1,a2,a3,a4)"
   ]
  },
  {
   "cell_type": "code",
   "execution_count": 152,
   "id": "223225ab-f036-46dd-8167-686df12b15c8",
   "metadata": {},
   "outputs": [
    {
     "name": "stdout",
     "output_type": "stream",
     "text": [
      "28\n"
     ]
    }
   ],
   "source": [
    "#single line statement \n",
    "x=3+6+7+12\n",
    "print(x)"
   ]
  },
  {
   "cell_type": "code",
   "execution_count": 153,
   "id": "b140b716-8848-4613-95e0-ceeb4ef56342",
   "metadata": {},
   "outputs": [
    {
     "name": "stdout",
     "output_type": "stream",
     "text": [
      "290\n"
     ]
    }
   ],
   "source": [
    "#multiline statement \n",
    "p1 = 20 + 30 \\\n",
    "+ 40  +  50 \\\n",
    "+ 70 \\\n",
    "+80\n",
    "print(p1)"
   ]
  },
  {
   "cell_type": "code",
   "execution_count": 154,
   "id": "32ec0705-ccb1-4734-aabd-cc47dbeb1ac6",
   "metadata": {},
   "outputs": [
    {
     "name": "stdout",
     "output_type": "stream",
     "text": [
      "2\n"
     ]
    }
   ],
   "source": [
    "#data type\n",
    "a=2\n",
    "print(a)"
   ]
  },
  {
   "cell_type": "code",
   "execution_count": 155,
   "id": "64cf484c-339e-4800-973d-a523c83ba868",
   "metadata": {},
   "outputs": [
    {
     "data": {
      "text/plain": [
       "int"
      ]
     },
     "execution_count": 155,
     "metadata": {},
     "output_type": "execute_result"
    }
   ],
   "source": [
    "type(2)"
   ]
  },
  {
   "cell_type": "code",
   "execution_count": 157,
   "id": "9b79f5f0-a3cc-4388-8834-dde288a72615",
   "metadata": {},
   "outputs": [
    {
     "data": {
      "text/plain": [
       "False"
      ]
     },
     "execution_count": 157,
     "metadata": {},
     "output_type": "execute_result"
    }
   ],
   "source": [
    "isinstance(2,float)"
   ]
  },
  {
   "cell_type": "code",
   "execution_count": 158,
   "id": "32ee8a4a-895f-4892-92c1-b1f74b19465d",
   "metadata": {},
   "outputs": [
    {
     "data": {
      "text/plain": [
       "28"
      ]
     },
     "execution_count": 158,
     "metadata": {},
     "output_type": "execute_result"
    }
   ],
   "source": [
    "import sys\n",
    "sys.getsizeof(x)"
   ]
  }
 ],
 "metadata": {
  "kernelspec": {
   "display_name": "Python 3 (ipykernel)",
   "language": "python",
   "name": "python3"
  },
  "language_info": {
   "codemirror_mode": {
    "name": "ipython",
    "version": 3
   },
   "file_extension": ".py",
   "mimetype": "text/x-python",
   "name": "python",
   "nbconvert_exporter": "python",
   "pygments_lexer": "ipython3",
   "version": "3.12.7"
  }
 },
 "nbformat": 4,
 "nbformat_minor": 5
}
