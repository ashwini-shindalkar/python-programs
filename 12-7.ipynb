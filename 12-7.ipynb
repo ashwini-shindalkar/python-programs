{
 "cells": [
  {
   "cell_type": "markdown",
   "id": "4b0cb05d-b48e-4825-affd-eb8426be0961",
   "metadata": {},
   "source": [
    "1.Write a function calculation() such that it can accept two variables and calculate the addition and subtraction of it.And also it must return both addition and subtraction in a single return call"
   ]
  },
  {
   "cell_type": "code",
   "execution_count": 3,
   "id": "425e84d5-8c08-4aa8-b752-c03c275cfbee",
   "metadata": {},
   "outputs": [],
   "source": [
    "def calculation(a,b):\n",
    "    sum=a+b\n",
    "    difference=a-b\n",
    "    print(\"sum:\",sum)\n",
    "    print(\"difference:\",difference)"
   ]
  },
  {
   "cell_type": "code",
   "execution_count": 6,
   "id": "09d4494f-6f26-4490-91b3-0ea1cc6ec9ea",
   "metadata": {},
   "outputs": [
    {
     "name": "stdout",
     "output_type": "stream",
     "text": [
      "sum: 35\n",
      "difference: 5\n"
     ]
    }
   ],
   "source": [
    "calculation(20,15)"
   ]
  },
  {
   "cell_type": "markdown",
   "id": "120697a8-2efa-44d7-aad1-12b0c0143dee",
   "metadata": {},
   "source": [
    "2.Create a function showEmployee() in such a way that it should accept employee name, and it’s salary and display both,and if the salary is missing in function call it should show it as 9000\n"
   ]
  },
  {
   "cell_type": "code",
   "execution_count": 8,
   "id": "de6fbbc5-5595-4c01-b222-486fa78deccc",
   "metadata": {},
   "outputs": [
    {
     "name": "stdout",
     "output_type": "stream",
     "text": [
      "Ename: sonal\n",
      "salary: 9000\n"
     ]
    }
   ],
   "source": [
    "def showEmployee(Ename,salary=9000):\n",
    "    print(\"Ename:\",Ename)\n",
    "    print(\"salary:\",salary)\n",
    "\n",
    "#result:\n",
    "showEmployee(\"sonal\")\n",
    "    "
   ]
  },
  {
   "cell_type": "markdown",
   "id": "1edc91ee-13ba-4ab9-93bb-9f773cc0e324",
   "metadata": {},
   "source": [
    "3.write a recursive function to calculate the sum of numbers from 0 to 10\n"
   ]
  },
  {
   "cell_type": "code",
   "execution_count": 11,
   "id": "27cd3238-46fc-4495-8592-a3a2cd4ae66d",
   "metadata": {},
   "outputs": [
    {
     "name": "stdout",
     "output_type": "stream",
     "text": [
      "The sum of numbers from 0 to 10 is: 55\n"
     ]
    }
   ],
   "source": [
    "def recursive_sum(n):\n",
    "    if n==0:\n",
    "       return 0\n",
    "    else:\n",
    "        return n+recursive_sum(n-1)\n",
    "#result\n",
    "result=recursive_sum(10)\n",
    "print(\"The sum of numbers from 0 to 10 is:\",result)\n"
   ]
  },
  {
   "cell_type": "markdown",
   "id": "c20ee1ce-5795-4fae-8fb2-ea2a65ce79e9",
   "metadata": {},
   "source": [
    "4.Generate a Python list of all the even numbers between 4 to 30"
   ]
  },
  {
   "cell_type": "code",
   "execution_count": 12,
   "id": "a0525cb5-734e-4837-850d-2532eeb211f3",
   "metadata": {},
   "outputs": [
    {
     "name": "stdout",
     "output_type": "stream",
     "text": [
      "[4, 6, 8, 10, 12, 14, 16, 18, 20, 22, 24, 26, 28, 30]\n"
     ]
    }
   ],
   "source": [
    "even_num=[]\n",
    "num=4\n",
    "while num<=30:\n",
    "    even_num.append(num)\n",
    "    num+=2\n",
    "print(even_num)"
   ]
  },
  {
   "cell_type": "markdown",
   "id": "187071ee-60b7-442d-baaf-2ade12a7108e",
   "metadata": {},
   "source": [
    "5.Write a Python program which accepts the radius of a circle from the user and compute the area "
   ]
  },
  {
   "cell_type": "code",
   "execution_count": 17,
   "id": "284580f9-d911-4014-9d9c-3b1ec3833f34",
   "metadata": {},
   "outputs": [
    {
     "name": "stdin",
     "output_type": "stream",
     "text": [
      "Enter the radius of the circle: 3\n"
     ]
    },
    {
     "name": "stdout",
     "output_type": "stream",
     "text": [
      "The area of the circle: 28.274333882308138\n"
     ]
    }
   ],
   "source": [
    "import math\n",
    "\n",
    "def calculate_area(radius):\n",
    "     area = math.pi * radius * radius\n",
    "     return area\n",
    "    \n",
    "# area of circle\n",
    "redius=float(input(\"Enter the radius of the circle:\"))\n",
    "area=calculate_area(redius)\n",
    "print(\"The area of the circle:\",area)"
   ]
  },
  {
   "cell_type": "markdown",
   "id": "991e17b5-792b-46a3-95fe-451b21f9e2f7",
   "metadata": {},
   "source": [
    "6.Write a Python program to display the current date and time"
   ]
  },
  {
   "cell_type": "code",
   "execution_count": 18,
   "id": "31a5b2ed-088f-47e4-a24b-abc814072ec4",
   "metadata": {},
   "outputs": [
    {
     "name": "stdout",
     "output_type": "stream",
     "text": [
      "current date time: 2024-12-07 23:42:04.327235\n"
     ]
    }
   ],
   "source": [
    "import datetime\n",
    "now=datetime.datetime.now()\n",
    "print(\"current date time:\",now)"
   ]
  },
  {
   "cell_type": "code",
   "execution_count": null,
   "id": "dd1665d8-ee6f-4931-8020-6b34c4ef9f75",
   "metadata": {},
   "outputs": [],
   "source": []
  }
 ],
 "metadata": {
  "kernelspec": {
   "display_name": "Python 3 (ipykernel)",
   "language": "python",
   "name": "python3"
  },
  "language_info": {
   "codemirror_mode": {
    "name": "ipython",
    "version": 3
   },
   "file_extension": ".py",
   "mimetype": "text/x-python",
   "name": "python",
   "nbconvert_exporter": "python",
   "pygments_lexer": "ipython3",
   "version": "3.12.7"
  }
 },
 "nbformat": 4,
 "nbformat_minor": 5
}
