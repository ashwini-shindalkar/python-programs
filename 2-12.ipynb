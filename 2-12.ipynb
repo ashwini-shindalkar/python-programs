{
 "cells": [
  {
   "cell_type": "markdown",
   "id": "2e7047ff",
   "metadata": {},
   "source": [
    "1) From the below nested dictionary, pick the word \"Bangalore\". \n",
    "   d = {'1':'One','2':[1,{'Two':['Ch','Cbe','Salem',{'Place':[5,6,7,'Bangalore']}]}]}"
   ]
  },
  {
   "cell_type": "code",
   "execution_count": 2,
   "id": "62b2169e-9ea7-4511-a858-47d29d714b15",
   "metadata": {},
   "outputs": [],
   "source": [
    "d = {'1':'One','2':[1,{'Two':['Ch','Cbe','Salem',{'Place':[5,6,7,'Bangalore']}]}]}"
   ]
  },
  {
   "cell_type": "code",
   "execution_count": 4,
   "id": "b8735d20-dd2c-414a-9d14-ac522f55de89",
   "metadata": {},
   "outputs": [
    {
     "data": {
      "text/plain": [
       "'Bangalore'"
      ]
     },
     "execution_count": 4,
     "metadata": {},
     "output_type": "execute_result"
    }
   ],
   "source": [
    "d[\"2\"][1][\"Two\"][3][\"Place\"][3]"
   ]
  },
  {
   "cell_type": "markdown",
   "id": "518fde26",
   "metadata": {},
   "source": [
    "2) Write a program to reverse a string using while loop"
   ]
  },
  {
   "cell_type": "code",
   "execution_count": 6,
   "id": "09d64e88-968c-4bc5-95cc-4f656296129f",
   "metadata": {},
   "outputs": [
    {
     "name": "stdin",
     "output_type": "stream",
     "text": [
      "Enter a string to reverse:  my name is Ashu\n"
     ]
    },
    {
     "name": "stdout",
     "output_type": "stream",
     "text": [
      "Reversed string: uhsA si eman ym\n"
     ]
    }
   ],
   "source": [
    "# Input string\n",
    "original_string = input(\"Enter a string to reverse: \")\n",
    "\n",
    "# Initialize variables\n",
    "reversed_string = \"\"\n",
    "i = 0\n",
    "\n",
    "# Reverse the string using a while loop\n",
    "while i < len(original_string):\n",
    "    reversed_string = original_string[i] + reversed_string\n",
    "    i += 1\n",
    "\n",
    "# Output the reversed string\n",
    "print(\"Reversed string:\", reversed_string)\n"
   ]
  },
  {
   "cell_type": "code",
   "execution_count": 5,
   "id": "78747100-e09a-4497-a8db-1bbf2b786026",
   "metadata": {},
   "outputs": [
    {
     "data": {
      "text/plain": [
       "'my name is Ashu'"
      ]
     },
     "execution_count": 5,
     "metadata": {},
     "output_type": "execute_result"
    }
   ],
   "source": [
    "str=\"my name is Ashu\"\n",
    "str"
   ]
  },
  {
   "cell_type": "code",
   "execution_count": null,
   "id": "8fce6cec-8bb5-46e6-9d48-4f2ff1125b54",
   "metadata": {},
   "outputs": [],
   "source": []
  },
  {
   "cell_type": "markdown",
   "id": "28424ca1",
   "metadata": {},
   "source": [
    "3) Write a program to find sum of all numbers from 1 to 20 using for loop"
   ]
  },
  {
   "cell_type": "code",
   "execution_count": 13,
   "id": "ba54cf6a-f0c5-490c-8948-e731cc49be1e",
   "metadata": {},
   "outputs": [
    {
     "name": "stdout",
     "output_type": "stream",
     "text": [
      "sum of all numbers  20\n"
     ]
    }
   ],
   "source": [
    "sum=0\n",
    "for i in range(1,21):\n",
    "    sum+=i\n",
    "print(\"sum of all numbers \",i)"
   ]
  },
  {
   "cell_type": "markdown",
   "id": "1798f1ee",
   "metadata": {},
   "source": [
    "4) Write a program to display the numbers in reverse from 100 to 1"
   ]
  },
  {
   "cell_type": "code",
   "execution_count": 21,
   "id": "3b6e50ff-a5a6-40c9-bc73-6e147c56f18a",
   "metadata": {},
   "outputs": [
    {
     "name": "stdout",
     "output_type": "stream",
     "text": [
      "100  99  98  97  96  95  94  93  92  91  90  89  88  87  86  85  84  83  82  81  80  79  78  77  76  75  74  73  72  71  70  69  68  67  66  65  64  63  62  61  60  59  58  57  56  55  54  53  52  51  50  49  48  47  46  45  44  43  42  41  40  39  38  37  36  35  34  33  32  31  30  29  28  27  26  25  24  23  22  21  20  19  18  17  16  15  14  13  12  11  10  9  8  7  6  5  4  3  2  1  "
     ]
    }
   ],
   "source": [
    "for num in range(100,0,-1):\n",
    "    print(num, end=\"  \")"
   ]
  },
  {
   "cell_type": "markdown",
   "id": "e9a38446",
   "metadata": {},
   "source": [
    "5) Write program to test whether the given number lies between 1 and 10"
   ]
  },
  {
   "cell_type": "code",
   "execution_count": 24,
   "id": "2e4323db-05d4-4ad7-aa9b-62b76e5adcbe",
   "metadata": {},
   "outputs": [
    {
     "name": "stdin",
     "output_type": "stream",
     "text": [
      "enter the number: 12\n"
     ]
    },
    {
     "name": "stdout",
     "output_type": "stream",
     "text": [
      "number is not lies between 1 to 10\n"
     ]
    }
   ],
   "source": [
    "num=int(input(\"enter the number:\"))\n",
    "if num>=1 and num<=10:\n",
    "    print(\"number is lies between 1 to 10\")\n",
    "else:\n",
    "    print(\"number is not lies between 1 to 10\")\n"
   ]
  },
  {
   "cell_type": "markdown",
   "id": "f183d5ae",
   "metadata": {},
   "source": [
    "6) Write program to display multiples of 2 from 10 to 50 using range"
   ]
  },
  {
   "cell_type": "code",
   "execution_count": 26,
   "id": "8a04c0f0-58f6-41f7-a43f-87587bd9d144",
   "metadata": {},
   "outputs": [
    {
     "name": "stdout",
     "output_type": "stream",
     "text": [
      "10 12 14 16 18 20 22 24 26 28 30 32 34 36 38 40 42 44 46 48 50 "
     ]
    }
   ],
   "source": [
    "for i in range(10,51,2):\n",
    "    print(i,end=\" \")\n",
    "    "
   ]
  }
 ],
 "metadata": {
  "kernelspec": {
   "display_name": "Python 3 (ipykernel)",
   "language": "python",
   "name": "python3"
  },
  "language_info": {
   "codemirror_mode": {
    "name": "ipython",
    "version": 3
   },
   "file_extension": ".py",
   "mimetype": "text/x-python",
   "name": "python",
   "nbconvert_exporter": "python",
   "pygments_lexer": "ipython3",
   "version": "3.12.7"
  }
 },
 "nbformat": 4,
 "nbformat_minor": 5
}
