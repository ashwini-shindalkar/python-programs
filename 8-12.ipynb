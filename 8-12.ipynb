{
 "cells": [
  {
   "cell_type": "markdown",
   "id": "2f0f5a55-5eb4-46bb-97b0-a6724d3e589a",
   "metadata": {},
   "source": [
    "*object oriented programming-\n",
    "\n",
    "1.Create a Person class with attributes like name, age, and address. Create objects of this class and print their details."
   ]
  },
  {
   "cell_type": "code",
   "execution_count": 6,
   "id": "e344ee29-0ccd-4b40-ad8e-00abf8b363d6",
   "metadata": {},
   "outputs": [
    {
     "name": "stdout",
     "output_type": "stream",
     "text": [
      "Name: Alice\n",
      "Age: 30\n",
      "Address: 123 Main St\n"
     ]
    }
   ],
   "source": [
    "class Person:\n",
    "    def __init__(self, name, age, address):\n",
    "        self.name = name\n",
    "        self.age = age\n",
    "        self.address = address\n",
    "\n",
    "    def print_details(self):\n",
    "        print(\"Name:\", self.name)\n",
    "        print(\"Age:\", self.age)\n",
    "        print(\"Address:\", self.address)\n",
    "\n",
    "person1 = Person(\"Alice\", 30, \"123 Main St\")\n",
    "person1.print_details()"
   ]
  },
  {
   "cell_type": "markdown",
   "id": "12b93d94-07cb-433f-ae10-69fe7b269e54",
   "metadata": {},
   "source": [
    "\n",
    "2.Create a Student class that inherits from the Person class. Add attributes like roll_no and marks"
   ]
  },
  {
   "cell_type": "code",
   "execution_count": 7,
   "id": "bee6af28-cae5-4a2c-b115-7a1ebc3d8d0a",
   "metadata": {},
   "outputs": [
    {
     "name": "stdout",
     "output_type": "stream",
     "text": [
      "Name: Alice\n",
      "Age: 30\n",
      "Address: 123 Main St\n"
     ]
    }
   ],
   "source": [
    "class Person:\n",
    "    def __init__(self, name, age, address):\n",
    "        self.name = name\n",
    "        self.age = age\n",
    "        self.address = address\n",
    "\n",
    "    def print_details(self):\n",
    "        print(\"Name:\", self.name)\n",
    "        print(\"Age:\", self.age)\n",
    "        print(\"Address:\", self.address)\n",
    "\n",
    "person1 = Person(\"Alice\", 30, \"123 Main St\")\n",
    "person1.print_details()"
   ]
  },
  {
   "cell_type": "markdown",
   "id": "6e0950ef-df0c-45bd-abd9-eac83b73c9df",
   "metadata": {},
   "source": [
    "*Regular expression-\n",
    "\n",
    "3.Write a Python program to validate email addresses using regular expressions."
   ]
  },
  {
   "cell_type": "code",
   "execution_count": 8,
   "id": "80322e85-ddec-4594-9d74-b1e4be5358c9",
   "metadata": {},
   "outputs": [
    {
     "name": "stdout",
     "output_type": "stream",
     "text": [
      "Valid email\n"
     ]
    }
   ],
   "source": [
    "import re\n",
    "\n",
    "def is_valid_email(email):\n",
    "    pattern = r'^[\\w-]+@[\\w-]+\\.[\\w-]+$'\n",
    "    return re.match(pattern, email) is not None\n",
    "\n",
    "email = \"example@email.com\"\n",
    "if is_valid_email(email):\n",
    "    print(\"Valid email\")\n",
    "else:\n",
    "    print(\"Invalid email\")"
   ]
  },
  {
   "cell_type": "markdown",
   "id": "baa7da5b-3e6c-4425-9617-38f7b7c75753",
   "metadata": {},
   "source": [
    "4.Write a Python program to validate phone numbers using regular expressions."
   ]
  },
  {
   "cell_type": "code",
   "execution_count": 9,
   "id": "d3695ab1-bde7-4380-b599-f616c50a3953",
   "metadata": {},
   "outputs": [
    {
     "name": "stdout",
     "output_type": "stream",
     "text": [
      "Valid phone number\n"
     ]
    }
   ],
   "source": [
    "import re\n",
    "\n",
    "def is_valid_phone_number(phone_number):\n",
    "    pattern = r'^\\d{10}$'\n",
    "    return re.match(pattern, phone_number) is not None\n",
    "\n",
    "phone_number = \"1234567890\"\n",
    "if is_valid_phone_number(phone_number):\n",
    "    print(\"Valid phone number\")\n",
    "else:\n",
    "    print(\"Invalid phone number\")"
   ]
  },
  {
   "cell_type": "markdown",
   "id": "3bee5d64-05ad-4277-8eed-b7d6e8389bf8",
   "metadata": {},
   "source": [
    "5.Write a function that takes another function as an argument and applies it to a list of numbers."
   ]
  },
  {
   "cell_type": "code",
   "execution_count": 14,
   "id": "0f79de18-9e0f-4cf1-8a3a-e653b9207292",
   "metadata": {},
   "outputs": [
    {
     "name": "stdout",
     "output_type": "stream",
     "text": [
      "[1, 4, 9, 16, 25]\n"
     ]
    }
   ],
   "source": [
    "def apply_to_list(func, lst):\n",
    "    return [func(x) for x in lst]\n",
    "\n",
    "def square(x):\n",
    "    return x * x\n",
    "\n",
    "numbers = [1, 2, 3, 4, 5]\n",
    "squared_numbers = apply_to_list(square, numbers)\n",
    "print(squared_numbers)"
   ]
  },
  {
   "cell_type": "markdown",
   "id": "4d058587-03bd-41b1-a31d-161ec0496c04",
   "metadata": {},
   "source": [
    "6.Write a lambda function to square a number."
   ]
  },
  {
   "cell_type": "code",
   "execution_count": 17,
   "id": "06049d4c-1e20-4af1-b047-c5d304adef27",
   "metadata": {},
   "outputs": [
    {
     "ename": "SyntaxError",
     "evalue": "invalid syntax (1599993818.py, line 1)",
     "output_type": "error",
     "traceback": [
      "\u001b[1;36m  Cell \u001b[1;32mIn[17], line 1\u001b[1;36m\u001b[0m\n\u001b[1;33m    squre=lambda x:x*x:\u001b[0m\n\u001b[1;37m                      ^\u001b[0m\n\u001b[1;31mSyntaxError\u001b[0m\u001b[1;31m:\u001b[0m invalid syntax\n"
     ]
    }
   ],
   "source": [
    "squre=lambda x:x*x:\n",
    "print(squre(5))"
   ]
  },
  {
   "cell_type": "code",
   "execution_count": null,
   "id": "d03472da-f054-49db-9858-5070f6b7fbd5",
   "metadata": {},
   "outputs": [],
   "source": []
  }
 ],
 "metadata": {
  "kernelspec": {
   "display_name": "Python 3 (ipykernel)",
   "language": "python",
   "name": "python3"
  },
  "language_info": {
   "codemirror_mode": {
    "name": "ipython",
    "version": 3
   },
   "file_extension": ".py",
   "mimetype": "text/x-python",
   "name": "python",
   "nbconvert_exporter": "python",
   "pygments_lexer": "ipython3",
   "version": "3.12.7"
  }
 },
 "nbformat": 4,
 "nbformat_minor": 5
}
