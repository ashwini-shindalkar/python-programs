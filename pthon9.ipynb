{
 "cells": [
  {
   "cell_type": "markdown",
   "id": "7bd4df5c-8371-4167-85d9-6e24aba0e926",
   "metadata": {},
   "source": [
    "##### .....print the list of numbers and give squre list of even numbers and substract the number from squre root of odd numbers"
   ]
  },
  {
   "cell_type": "code",
   "execution_count": 1,
   "id": "db7dd6b4-b02c-4357-a5ef-afed54cce22d",
   "metadata": {},
   "outputs": [
    {
     "name": "stdin",
     "output_type": "stream",
     "text": [
      "Enter a value: 12\n",
      "Enter a value: 15\n",
      "Enter a value: 2\n",
      "Enter a value: 4\n",
      "Enter a value: 16\n",
      "Enter a value: 17\n",
      "Enter a value: 19\n",
      "Enter a value: 25\n",
      "Enter a value: 66\n",
      "Enter a value: 18\n"
     ]
    },
    {
     "name": "stdout",
     "output_type": "stream",
     "text": [
      "mylist: [12, 15, 2, 4, 16, 17, 19, 25, 66, 18]\n",
      "evenlist: [144, 4, 16, 256, 4356, 324]\n",
      "oddlist: [7.5, 8.5, 9.5, 12.5]\n"
     ]
    }
   ],
   "source": [
    "mylist=[]\n",
    "evenlist=[]\n",
    "oddlist=[]\n",
    "\n",
    "for i in range(10):\n",
    "    num=int(input(\"Enter a value:\"))\n",
    "    if num%2==0:\n",
    "        (evenlist.append(num**2))\n",
    "       \n",
    "    else:\n",
    "        (oddlist.append(num-(num*0.5)))\n",
    "        \n",
    "    mylist.append(num)    \n",
    "print(\"mylist:\",mylist)\n",
    "print(\"evenlist:\",evenlist)\n",
    "print(\"oddlist:\",oddlist)"
   ]
  },
  {
   "cell_type": "markdown",
   "id": "90698c21-d1fc-42e0-b7da-8bfe6b31f9a3",
   "metadata": {},
   "source": [
    "### ......print sorted list without using the built in method"
   ]
  },
  {
   "cell_type": "code",
   "execution_count": 3,
   "id": "9f31c875-2977-4e53-9b61-b0a5cdbdc25b",
   "metadata": {},
   "outputs": [
    {
     "name": "stdout",
     "output_type": "stream",
     "text": [
      "[3, 4, 5, 6, 8, 9]\n"
     ]
    }
   ],
   "source": [
    "list1=[4,3,6,8,9,5]\n",
    "for i in range(len(list1)):\n",
    "    min1=list1[i]\n",
    "    for j in range(i+1,len(list1)):\n",
    "        if min1>list1[j]:\n",
    "           temp=list1[j]\n",
    "           list1[j]=min1\n",
    "           min1=temp\n",
    "        list1[i]=min1\n",
    "print(list1)        "
   ]
  },
  {
   "cell_type": "markdown",
   "id": "a7def9b0-2d4f-43fc-b39c-58731dbe7208",
   "metadata": {},
   "source": [
    "## .....ATM program"
   ]
  },
  {
   "cell_type": "code",
   "execution_count": 34,
   "id": "d20f9850-9951-4454-9d80-ac3d714efc62",
   "metadata": {},
   "outputs": [],
   "source": [
    "def deposite(balance,amount):\n",
    "     balance=(balance+amount)\n",
    "     return balance"
   ]
  },
  {
   "cell_type": "code",
   "execution_count": 58,
   "id": "f9d59620-b7c6-47b6-b3fd-91f3a5f7f1de",
   "metadata": {},
   "outputs": [],
   "source": [
    "def withdraw(balance,amount):\n",
    "    if amount<balance:\n",
    "       balance=balance-amount\n",
    "       return balance \n",
    "    \n",
    "    else:\n",
    "        print(\"Insufficient amount\")\n",
    "    \n"
   ]
  },
  {
   "cell_type": "code",
   "execution_count": 62,
   "id": "033dee90-2e34-4dff-977d-0e77aa08c729",
   "metadata": {},
   "outputs": [],
   "source": [
    "def transfer(balance,amount):\n",
    "    if amount<balance:\n",
    "     balance=balance-amount\n",
    "     return balance \n",
    "    \n",
    "    else:\n",
    "        print(\"Insufficient amount\")\n",
    "    \n"
   ]
  },
  {
   "cell_type": "code",
   "execution_count": 11,
   "id": "73bf03c9-3860-4996-afe3-6dd366f3c5c2",
   "metadata": {},
   "outputs": [],
   "source": [
    "def showbal(val,val1,val2):\n",
    "    print(f\"your {val} {val1} and your balance {val2}\")"
   ]
  },
  {
   "cell_type": "code",
   "execution_count": 68,
   "id": "0107b295-8178-4b8f-97e7-cc95e4bff760",
   "metadata": {},
   "outputs": [],
   "source": [
    "def ministatement(info):\n",
    "     print (info)"
   ]
  },
  {
   "cell_type": "code",
   "execution_count": 70,
   "id": "ba486e80-5dd7-4863-91eb-812d4cc2dc5f",
   "metadata": {},
   "outputs": [
    {
     "name": "stdin",
     "output_type": "stream",
     "text": [
      "Enter a pin 1234\n"
     ]
    },
    {
     "name": "stdout",
     "output_type": "stream",
     "text": [
      "\n",
      "1.deposite\n",
      "2.withdraw\n",
      "3.transfer\n",
      "4.ministatement \n",
      "5.Exit\n"
     ]
    },
    {
     "name": "stdin",
     "output_type": "stream",
     "text": [
      "Enter your choice: 1\n",
      "Enter amount 400\n"
     ]
    },
    {
     "name": "stdout",
     "output_type": "stream",
     "text": [
      "your deposite 400 and your balance 2400\n",
      "\n",
      "1.deposite\n",
      "2.withdraw\n",
      "3.transfer\n",
      "4.ministatement \n",
      "5.Exit\n"
     ]
    },
    {
     "name": "stdin",
     "output_type": "stream",
     "text": [
      "Enter your choice: 2\n",
      "Enter amount 500\n"
     ]
    },
    {
     "name": "stdout",
     "output_type": "stream",
     "text": [
      "your withdraw 500 and your balance 1900\n",
      "\n",
      "1.deposite\n",
      "2.withdraw\n",
      "3.transfer\n",
      "4.ministatement \n",
      "5.Exit\n"
     ]
    },
    {
     "name": "stdin",
     "output_type": "stream",
     "text": [
      "Enter your choice: 3\n",
      "Enter amount 500\n"
     ]
    },
    {
     "name": "stdout",
     "output_type": "stream",
     "text": [
      "your transfer 500 and your balance 1400\n",
      "\n",
      "1.deposite\n",
      "2.withdraw\n",
      "3.transfer\n",
      "4.ministatement \n",
      "5.Exit\n"
     ]
    },
    {
     "name": "stdin",
     "output_type": "stream",
     "text": [
      "Enter your choice: 4\n"
     ]
    },
    {
     "name": "stdout",
     "output_type": "stream",
     "text": [
      "your last transection:\n",
      "['deposite:400', 'withdraw:500', 'transfer:500']\n",
      "\n",
      "1.deposite\n",
      "2.withdraw\n",
      "3.transfer\n",
      "4.ministatement \n",
      "5.Exit\n"
     ]
    },
    {
     "name": "stdin",
     "output_type": "stream",
     "text": [
      "Enter your choice: 5\n"
     ]
    }
   ],
   "source": [
    "bal=2000\n",
    "data=[]\n",
    "\n",
    "pin=int(input(\"Enter a pin\"))\n",
    "if pin==1234:\n",
    "    while(True):\n",
    "         print(\"\\n1.deposite\\n2.withdraw\\n3.transfer\\n4.ministatement \\n5.Exit\")\n",
    "         ch=int(input(\"Enter your choice:\"))\n",
    "         if(ch==1):\n",
    "             amt=int(input(\"Enter amount\"))\n",
    "             bal=deposite(bal,amt)\n",
    "             showbal(\"deposite\",amt,bal)\n",
    "             data.append(\"deposite:\"+str(amt))\n",
    "         elif(ch==2):\n",
    "             amt=int(input(\"Enter amount\"))\n",
    "             bal=withdraw(bal,amt)\n",
    "             showbal(\"withdraw\",amt,bal)\n",
    "             data.append(\"withdraw:\"+str(amt))\n",
    "         elif(ch==3):\n",
    "             amt=int(input(\"Enter amount\"))\n",
    "             bal=transfer(bal,amt)\n",
    "             showbal(\"transfer\",amt,bal)\n",
    "             data.append(\"transfer:\"+str(amt))\n",
    "         elif(ch==4):\n",
    "             print(\"your last transection:\")\n",
    "             ministatement(data)\n",
    "             \n",
    "         elif(ch==5):\n",
    "             break\n",
    "\n",
    "else:\n",
    "   print (\"Invalid PIN\")"
   ]
  },
  {
   "cell_type": "markdown",
   "id": "014bb040-c0ca-4d40-9efd-1e1191b0a5ea",
   "metadata": {},
   "source": [
    "### .....print sum of all even numbers in list"
   ]
  },
  {
   "cell_type": "code",
   "execution_count": 32,
   "id": "9a4d3628-95e8-48d9-8bff-80bfde71e3fe",
   "metadata": {},
   "outputs": [
    {
     "name": "stdout",
     "output_type": "stream",
     "text": [
      "sum of even numbers: 54\n"
     ]
    }
   ],
   "source": [
    "l1=[12,5,6,8,18,10,3]\n",
    "sum=0\n",
    "for i in l1:\n",
    "    if i%2==0:\n",
    "     sum+=i\n",
    "print(\"sum of even numbers:\",sum)\n",
    "    \n",
    "    \n",
    "    "
   ]
  },
  {
   "cell_type": "markdown",
   "id": "5d158faa-e196-4f7d-a07b-b3d8548ece46",
   "metadata": {},
   "source": [
    "### ...Implement a function that finds the sum of all even numbers in a list."
   ]
  },
  {
   "cell_type": "code",
   "execution_count": 93,
   "id": "42136f6a-bf17-4a43-be1c-d91a8c0bd814",
   "metadata": {},
   "outputs": [],
   "source": [
    "def sum_even(n):\n",
    "    sum=0\n",
    "    for i in (n):\n",
    "        if i%2==0:\n",
    "         sum+=i\n",
    "    return sum"
   ]
  },
  {
   "cell_type": "code",
   "execution_count": 97,
   "id": "cab88925-706d-46af-906f-679b219e1379",
   "metadata": {},
   "outputs": [
    {
     "name": "stdout",
     "output_type": "stream",
     "text": [
      "sum of even numbers: 54\n"
     ]
    }
   ],
   "source": [
    "l1=[12,5,6,8,18,10,3]\n",
    "print (\"sum of even numbers:\",sum_even(l1))"
   ]
  },
  {
   "cell_type": "markdown",
   "id": "5fa7031f-39ed-467e-9692-4ade7046bbfc",
   "metadata": {},
   "source": [
    "### ....Implement a function to convert a decimal number to binary.\n"
   ]
  },
  {
   "cell_type": "code",
   "execution_count": 34,
   "id": "193550d5-6c1c-4837-922d-cd8d55c35bb6",
   "metadata": {},
   "outputs": [],
   "source": [
    "def decimal_to_binary(decimal_number):\n",
    "    \n",
    "    if decimal_number < 0:\n",
    "        raise ValueError\n",
    "    \n",
    "    if decimal_number == 0:\n",
    "        return \"0\"\n",
    "    \n",
    "    binary_number=\"\"\n",
    "    while decimal_number > 0:\n",
    "        remainder = decimal_number % 2\n",
    "        binary_number =str(remainder)+binary_number\n",
    "        decimal_number = decimal_number // 2\n",
    "    \n",
    "    return binary_number\n"
   ]
  },
  {
   "cell_type": "code",
   "execution_count": 36,
   "id": "8dfdd03b-b6b4-4eaa-98fd-b4b86acd1c32",
   "metadata": {},
   "outputs": [
    {
     "data": {
      "text/plain": [
       "'1101'"
      ]
     },
     "execution_count": 36,
     "metadata": {},
     "output_type": "execute_result"
    }
   ],
   "source": [
    "decimal_to_binary(13)"
   ]
  },
  {
   "cell_type": "markdown",
   "id": "650709f6-ff36-4453-a13b-475a6c7d8b43",
   "metadata": {},
   "source": [
    "### ...Write a function to find the sum of all odd numbers in a list."
   ]
  },
  {
   "cell_type": "code",
   "execution_count": 5,
   "id": "2ba18a21-d0f0-49ca-85f0-d147c041b3e9",
   "metadata": {},
   "outputs": [],
   "source": [
    "def sum_odd(n):\n",
    "    sum=0\n",
    "    for i in (n):\n",
    "        if i%2!=0:\n",
    "            sum+=i\n",
    "    return sum"
   ]
  },
  {
   "cell_type": "code",
   "execution_count": 7,
   "id": "be374e21-3fec-4b82-a189-0b4cd3de7d5a",
   "metadata": {},
   "outputs": [
    {
     "name": "stdout",
     "output_type": "stream",
     "text": [
      "sum od odd in list: 25\n"
     ]
    }
   ],
   "source": [
    "l2=[12,5,3,17,18,20]\n",
    "print(\"sum od odd in list:\",sum_odd(l2))"
   ]
  },
  {
   "cell_type": "markdown",
   "id": "54353d21-646e-4728-92b1-3c2feea8f39d",
   "metadata": {},
   "source": [
    "### ....Implement a function that counts the number of occurrences of each character in a string."
   ]
  },
  {
   "cell_type": "code",
   "execution_count": 14,
   "id": "3b244100-6b02-4b1c-9578-95249e7ce533",
   "metadata": {},
   "outputs": [],
   "source": [
    "def count_char(text,char):\n",
    "    if len(char)!=1:\n",
    "      raise valueError\n",
    "    count=text.count(char)\n",
    "    return count"
   ]
  },
  {
   "cell_type": "code",
   "execution_count": 18,
   "id": "3edb43d4-c6b0-4247-8b58-c66e616809a0",
   "metadata": {},
   "outputs": [
    {
     "data": {
      "text/plain": [
       "5"
      ]
     },
     "execution_count": 18,
     "metadata": {},
     "output_type": "execute_result"
    }
   ],
   "source": [
    "count_char(\"hello and good morning to all\",\"o\")"
   ]
  },
  {
   "cell_type": "markdown",
   "id": "d41df7a5-e84c-487e-a2ee-3c322f6119b7",
   "metadata": {},
   "source": [
    "### ....Implement a function that removes duplicates from a list."
   ]
  },
  {
   "cell_type": "code",
   "execution_count": 21,
   "id": "08819fe6-3b70-4d7c-9723-16aaa56a7b3f",
   "metadata": {},
   "outputs": [],
   "source": [
    "def remove_duplicate(l1):\n",
    "    unique_set=set(l1)\n",
    "    unique_list=list(unique_set)\n",
    "    return unique_list\n",
    "    \n",
    "    "
   ]
  },
  {
   "cell_type": "code",
   "execution_count": 23,
   "id": "cf51ace6-6b8a-4992-98fd-061acf6e0a99",
   "metadata": {},
   "outputs": [
    {
     "name": "stdout",
     "output_type": "stream",
     "text": [
      "[2, 11, 14, 16, 19, 20]\n"
     ]
    }
   ],
   "source": [
    "l1=[11,2,14,11,19,20,20,16,2]\n",
    "print(remove_duplicate(l1))"
   ]
  },
  {
   "cell_type": "markdown",
   "id": "ac0701c9-ffc6-45f4-ac8d-adc83c8f8cda",
   "metadata": {},
   "source": [
    "### ....Implement a program to find the union of two lists."
   ]
  },
  {
   "cell_type": "code",
   "execution_count": 62,
   "id": "29f1c9c0-bf8b-4665-b99d-fc79a073dcd0",
   "metadata": {},
   "outputs": [],
   "source": [
    "def find_union(l1,l2):\n",
    "   myset1=set(l1)\n",
    "   myset2=set(l2)\n",
    "   union_set=myset1.union(myset2)\n",
    "   union_list=list(union_set)\n",
    "   return union_list"
   ]
  },
  {
   "cell_type": "code",
   "execution_count": 64,
   "id": "72e5c74b-23f8-4860-ac71-be81d425cf80",
   "metadata": {},
   "outputs": [
    {
     "name": "stdout",
     "output_type": "stream",
     "text": [
      "[1, 2, 3, 4, 5, 6, 7, 8]\n"
     ]
    }
   ],
   "source": [
    "l1=[1,2,3,4,5]\n",
    "l2=[4,5,6,7,8]\n",
    "print(find_union(l1,l2))"
   ]
  },
  {
   "cell_type": "code",
   "execution_count": null,
   "id": "a65958bb-c475-4103-b55c-76b3dcd4c22b",
   "metadata": {},
   "outputs": [],
   "source": []
  }
 ],
 "metadata": {
  "kernelspec": {
   "display_name": "Python 3 (ipykernel)",
   "language": "python",
   "name": "python3"
  },
  "language_info": {
   "codemirror_mode": {
    "name": "ipython",
    "version": 3
   },
   "file_extension": ".py",
   "mimetype": "text/x-python",
   "name": "python",
   "nbconvert_exporter": "python",
   "pygments_lexer": "ipython3",
   "version": "3.12.4"
  }
 },
 "nbformat": 4,
 "nbformat_minor": 5
}
