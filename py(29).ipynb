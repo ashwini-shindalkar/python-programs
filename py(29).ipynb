{
 "cells": [
  {
   "cell_type": "markdown",
   "id": "8b22d351-5231-4031-a1b7-7cd0c4c25864",
   "metadata": {},
   "source": [
    "#### ...13/8"
   ]
  },
  {
   "cell_type": "code",
   "execution_count": 7,
   "id": "4321d811-a2b0-4818-bb7a-143478400a31",
   "metadata": {},
   "outputs": [],
   "source": [
    "import numpy as np"
   ]
  },
  {
   "cell_type": "code",
   "execution_count": 8,
   "id": "8b35e36e-12de-407d-b75f-73b4078cb1cb",
   "metadata": {},
   "outputs": [
    {
     "data": {
      "text/plain": [
       "array([], dtype=float64)"
      ]
     },
     "execution_count": 8,
     "metadata": {},
     "output_type": "execute_result"
    }
   ],
   "source": [
    "arr1=np.array([])          #create empty array\n",
    "arr1"
   ]
  },
  {
   "cell_type": "code",
   "execution_count": 19,
   "id": "652e9107-fd98-4aa8-a04d-dd8613ceee5d",
   "metadata": {},
   "outputs": [
    {
     "name": "stdout",
     "output_type": "stream",
     "text": [
      "[1, 2.4, 'hii', 15, 1.1]\n",
      "<class 'list'>\n"
     ]
    }
   ],
   "source": [
    "my_list=[1,2.4,\"hii\",15,1.1]\n",
    "print(my_list)\n",
    "print(type(my_list))"
   ]
  },
  {
   "cell_type": "code",
   "execution_count": 20,
   "id": "8a8bf529-1e73-4676-b3cb-aecfff7cca48",
   "metadata": {},
   "outputs": [],
   "source": [
    "a=np.array(my_list)     ##covert list into array"
   ]
  },
  {
   "cell_type": "code",
   "execution_count": 21,
   "id": "770e1d87-39c8-4bfe-9895-8f79505081f2",
   "metadata": {},
   "outputs": [
    {
     "data": {
      "text/plain": [
       "array(['1', '2.4', 'hii', '15', '1.1'], dtype='<U32')"
      ]
     },
     "execution_count": 21,
     "metadata": {},
     "output_type": "execute_result"
    }
   ],
   "source": [
    "a"
   ]
  },
  {
   "cell_type": "code",
   "execution_count": 12,
   "id": "2f29e8c0-0b03-45d3-b50f-34f2efc51ef3",
   "metadata": {},
   "outputs": [
    {
     "data": {
      "text/plain": [
       "numpy.ndarray"
      ]
     },
     "execution_count": 12,
     "metadata": {},
     "output_type": "execute_result"
    }
   ],
   "source": [
    "type(a)    ## give type of a "
   ]
  },
  {
   "cell_type": "code",
   "execution_count": 18,
   "id": "31432387-d7a6-4862-b828-2a7de003e2b0",
   "metadata": {},
   "outputs": [
    {
     "data": {
      "text/plain": [
       "dtype('<U32')"
      ]
     },
     "execution_count": 18,
     "metadata": {},
     "output_type": "execute_result"
    }
   ],
   "source": [
    "a.dtype   ## give the type og data under a"
   ]
  },
  {
   "cell_type": "code",
   "execution_count": 14,
   "id": "710856c2-38c7-452a-9a80-126e1f70c765",
   "metadata": {},
   "outputs": [
    {
     "data": {
      "text/plain": [
       "1"
      ]
     },
     "execution_count": 14,
     "metadata": {},
     "output_type": "execute_result"
    }
   ],
   "source": [
    "a.ndim     ## number of diamension in array __ rows in array"
   ]
  },
  {
   "cell_type": "code",
   "execution_count": 15,
   "id": "2f332f66-e9a6-4241-bb40-1dc956385d8a",
   "metadata": {},
   "outputs": [
    {
     "data": {
      "text/plain": [
       "5"
      ]
     },
     "execution_count": 15,
     "metadata": {},
     "output_type": "execute_result"
    }
   ],
   "source": [
    "a.size  ## how many element prasent in array"
   ]
  },
  {
   "cell_type": "code",
   "execution_count": 20,
   "id": "0375c58b-5768-4e0a-b8e9-f3eaa7e30667",
   "metadata": {},
   "outputs": [
    {
     "data": {
      "text/plain": [
       "(5,)"
      ]
     },
     "execution_count": 20,
     "metadata": {},
     "output_type": "execute_result"
    }
   ],
   "source": [
    "a.shape  ##"
   ]
  },
  {
   "cell_type": "code",
   "execution_count": 22,
   "id": "216fd78d-b548-40cb-9b53-006f57ad8ab7",
   "metadata": {},
   "outputs": [
    {
     "data": {
      "text/plain": [
       "[[1, 2, 3, 4], [5, 6, 7, 8], [9, 10, 11, 12]]"
      ]
     },
     "execution_count": 22,
     "metadata": {},
     "output_type": "execute_result"
    }
   ],
   "source": [
    "my_matrix=[[1,2,3,4],[5,6,7,8],[9,10,11,12]]\n",
    "my_matrix"
   ]
  },
  {
   "cell_type": "code",
   "execution_count": 24,
   "id": "ae13c323-a72d-4682-9086-0a98379c4b64",
   "metadata": {},
   "outputs": [
    {
     "data": {
      "text/plain": [
       "array([[ 1,  2,  3,  4],\n",
       "       [ 5,  6,  7,  8],\n",
       "       [ 9, 10, 11, 12]])"
      ]
     },
     "execution_count": 24,
     "metadata": {},
     "output_type": "execute_result"
    }
   ],
   "source": [
    "import numpy as np\n",
    "b=np.array(my_matrix)\n",
    "b"
   ]
  },
  {
   "cell_type": "code",
   "execution_count": 26,
   "id": "47f1722e-884c-4d03-8d1f-d409e14274e0",
   "metadata": {},
   "outputs": [
    {
     "data": {
      "text/plain": [
       "2"
      ]
     },
     "execution_count": 26,
     "metadata": {},
     "output_type": "execute_result"
    }
   ],
   "source": [
    "b.ndim"
   ]
  },
  {
   "cell_type": "code",
   "execution_count": 28,
   "id": "45f9a282-8f5b-4ce8-9677-2fa15c3de0f5",
   "metadata": {},
   "outputs": [
    {
     "data": {
      "text/plain": [
       "12"
      ]
     },
     "execution_count": 28,
     "metadata": {},
     "output_type": "execute_result"
    }
   ],
   "source": [
    "b.size"
   ]
  },
  {
   "cell_type": "code",
   "execution_count": 30,
   "id": "51570297-25c6-4306-bca0-f07bc8c15acf",
   "metadata": {},
   "outputs": [
    {
     "data": {
      "text/plain": [
       "(3, 4)"
      ]
     },
     "execution_count": 30,
     "metadata": {},
     "output_type": "execute_result"
    }
   ],
   "source": [
    "b.shape"
   ]
  },
  {
   "cell_type": "code",
   "execution_count": 32,
   "id": "7a8bd190-b21b-4887-b73c-e63c1b956a41",
   "metadata": {},
   "outputs": [
    {
     "data": {
      "text/plain": [
       "numpy.ndarray"
      ]
     },
     "execution_count": 32,
     "metadata": {},
     "output_type": "execute_result"
    }
   ],
   "source": [
    "type(b)"
   ]
  },
  {
   "cell_type": "code",
   "execution_count": 34,
   "id": "cf41bb26-9f04-4e22-8c1e-dfae0a3d400e",
   "metadata": {},
   "outputs": [
    {
     "data": {
      "text/plain": [
       "dtype('int32')"
      ]
     },
     "execution_count": 34,
     "metadata": {},
     "output_type": "execute_result"
    }
   ],
   "source": [
    "b.dtype"
   ]
  },
  {
   "cell_type": "code",
   "execution_count": 42,
   "id": "b0a6161e-50f4-4612-90fc-1c9caf5e88e8",
   "metadata": {},
   "outputs": [
    {
     "data": {
      "text/plain": [
       "array([[[ 1,  2,  3],\n",
       "        [ 4,  5,  6]],\n",
       "\n",
       "       [[ 7,  6,  9],\n",
       "        [10, 11, 12]]])"
      ]
     },
     "execution_count": 42,
     "metadata": {},
     "output_type": "execute_result"
    }
   ],
   "source": [
    "arr1=np.array([[[1,2,3],[4,5,6]],[[7,6,9],[10,11,12]]])\n",
    "arr1"
   ]
  },
  {
   "cell_type": "code",
   "execution_count": 46,
   "id": "67bc74eb-9466-4716-9521-d1f04bcd5897",
   "metadata": {},
   "outputs": [
    {
     "data": {
      "text/plain": [
       "(2, 2, 3)"
      ]
     },
     "execution_count": 46,
     "metadata": {},
     "output_type": "execute_result"
    }
   ],
   "source": [
    "arr1.shape"
   ]
  },
  {
   "cell_type": "code",
   "execution_count": 48,
   "id": "b76848cc-619f-4a8b-bcf4-516539646d5a",
   "metadata": {},
   "outputs": [
    {
     "data": {
      "text/plain": [
       "3"
      ]
     },
     "execution_count": 48,
     "metadata": {},
     "output_type": "execute_result"
    }
   ],
   "source": [
    "arr1.ndim"
   ]
  },
  {
   "cell_type": "code",
   "execution_count": 50,
   "id": "43464bf1-1b47-4dad-9c91-bd6474e54855",
   "metadata": {},
   "outputs": [
    {
     "data": {
      "text/plain": [
       "12"
      ]
     },
     "execution_count": 50,
     "metadata": {},
     "output_type": "execute_result"
    }
   ],
   "source": [
    "arr1.size"
   ]
  },
  {
   "cell_type": "code",
   "execution_count": 52,
   "id": "b8338f41-90af-4abe-9794-e2c26c414743",
   "metadata": {},
   "outputs": [
    {
     "data": {
      "text/plain": [
       "numpy.ndarray"
      ]
     },
     "execution_count": 52,
     "metadata": {},
     "output_type": "execute_result"
    }
   ],
   "source": [
    "type(arr1)"
   ]
  },
  {
   "cell_type": "code",
   "execution_count": 54,
   "id": "07242ac1-8bf5-4229-8381-37b7ade5d730",
   "metadata": {},
   "outputs": [
    {
     "data": {
      "text/plain": [
       "dtype('int32')"
      ]
     },
     "execution_count": 54,
     "metadata": {},
     "output_type": "execute_result"
    }
   ],
   "source": [
    "arr1.dtype"
   ]
  },
  {
   "cell_type": "markdown",
   "id": "0f6a1fc7-8005-4a72-b784-0bb39bf70e8a",
   "metadata": {},
   "source": [
    "#### ....built in methods"
   ]
  },
  {
   "cell_type": "markdown",
   "id": "8dd2e66e-09cb-4eff-8d24-3f45e56782d7",
   "metadata": {},
   "source": [
    "#### ...reshape"
   ]
  },
  {
   "cell_type": "code",
   "execution_count": 60,
   "id": "0d5151d7-a501-47a2-ae25-0bfc6a85759e",
   "metadata": {},
   "outputs": [],
   "source": [
    "arr2=arr1.reshape((1,3,4))"
   ]
  },
  {
   "cell_type": "code",
   "execution_count": 62,
   "id": "f96a7609-9046-47f1-b1df-f573e1bc79f3",
   "metadata": {},
   "outputs": [
    {
     "data": {
      "text/plain": [
       "(1, 3, 4)"
      ]
     },
     "execution_count": 62,
     "metadata": {},
     "output_type": "execute_result"
    }
   ],
   "source": [
    "arr2.shape"
   ]
  },
  {
   "cell_type": "code",
   "execution_count": 64,
   "id": "d0528cf0-b749-409f-934c-6555f3bcb4ce",
   "metadata": {},
   "outputs": [
    {
     "data": {
      "text/plain": [
       "array([[[ 1,  2,  3,  4],\n",
       "        [ 5,  6,  7,  6],\n",
       "        [ 9, 10, 11, 12]]])"
      ]
     },
     "execution_count": 64,
     "metadata": {},
     "output_type": "execute_result"
    }
   ],
   "source": [
    "arr2"
   ]
  },
  {
   "cell_type": "markdown",
   "id": "be61b49d-2225-4099-9e5a-0f88d41afb92",
   "metadata": {},
   "source": [
    "### ....arange"
   ]
  },
  {
   "cell_type": "code",
   "execution_count": 68,
   "id": "70c9138d-919e-4af6-b3f1-616246dd9510",
   "metadata": {},
   "outputs": [
    {
     "data": {
      "text/plain": [
       "array([ 0,  1,  2,  3,  4,  5,  6,  7,  8,  9, 10, 11, 12, 13, 14])"
      ]
     },
     "execution_count": 68,
     "metadata": {},
     "output_type": "execute_result"
    }
   ],
   "source": [
    "np.arange(15)"
   ]
  },
  {
   "cell_type": "code",
   "execution_count": 74,
   "id": "964f4992-ab8c-4aba-b332-a426c87ecb90",
   "metadata": {},
   "outputs": [
    {
     "data": {
      "text/plain": [
       "array([100,  96,  92,  88,  84,  80,  76,  72,  68,  64,  60,  56,  52,\n",
       "        48,  44,  40,  36,  32,  28,  24,  20,  16,  12,   8,   4])"
      ]
     },
     "execution_count": 74,
     "metadata": {},
     "output_type": "execute_result"
    }
   ],
   "source": [
    "np.arange(100,2,-4)"
   ]
  },
  {
   "cell_type": "code",
   "execution_count": 76,
   "id": "0002b61a-c31f-4ba5-87c9-99720a041d99",
   "metadata": {},
   "outputs": [
    {
     "data": {
      "text/plain": [
       "array([0, 2, 4, 6, 8])"
      ]
     },
     "execution_count": 76,
     "metadata": {},
     "output_type": "execute_result"
    }
   ],
   "source": [
    "np.arange(0,10,2)"
   ]
  },
  {
   "cell_type": "markdown",
   "id": "3896bc5b-e401-422e-8b72-560412617f45",
   "metadata": {},
   "source": [
    "### .....zeros and ones"
   ]
  },
  {
   "cell_type": "code",
   "execution_count": 79,
   "id": "4f7215aa-3b87-4e98-8554-573080250404",
   "metadata": {},
   "outputs": [
    {
     "data": {
      "text/plain": [
       "array([0., 0., 0.])"
      ]
     },
     "execution_count": 79,
     "metadata": {},
     "output_type": "execute_result"
    }
   ],
   "source": [
    "np.zeros(3)"
   ]
  },
  {
   "cell_type": "code",
   "execution_count": 83,
   "id": "12fe994a-c318-491c-b19c-74e464f5a14a",
   "metadata": {},
   "outputs": [
    {
     "data": {
      "text/plain": [
       "array([[0., 0., 0., 0., 0.],\n",
       "       [0., 0., 0., 0., 0.],\n",
       "       [0., 0., 0., 0., 0.],\n",
       "       [0., 0., 0., 0., 0.],\n",
       "       [0., 0., 0., 0., 0.]])"
      ]
     },
     "execution_count": 83,
     "metadata": {},
     "output_type": "execute_result"
    }
   ],
   "source": [
    "np.zeros((5,5))"
   ]
  },
  {
   "cell_type": "code",
   "execution_count": 86,
   "id": "8150347a-f3d0-46d4-80f8-c35e05291f35",
   "metadata": {},
   "outputs": [
    {
     "data": {
      "text/plain": [
       "array([1., 1., 1.])"
      ]
     },
     "execution_count": 86,
     "metadata": {},
     "output_type": "execute_result"
    }
   ],
   "source": [
    "np.ones(3)"
   ]
  },
  {
   "cell_type": "code",
   "execution_count": 88,
   "id": "1082ebf7-a9d2-47c5-9c18-d954dd753f7d",
   "metadata": {},
   "outputs": [
    {
     "data": {
      "text/plain": [
       "array([[1., 1., 1., 1., 1.],\n",
       "       [1., 1., 1., 1., 1.],\n",
       "       [1., 1., 1., 1., 1.],\n",
       "       [1., 1., 1., 1., 1.]])"
      ]
     },
     "execution_count": 88,
     "metadata": {},
     "output_type": "execute_result"
    }
   ],
   "source": [
    "np.ones((4,5))"
   ]
  },
  {
   "cell_type": "code",
   "execution_count": 90,
   "id": "f5ba7e6b-1cc6-4f90-9a13-41a90110f4d1",
   "metadata": {},
   "outputs": [
    {
     "data": {
      "text/plain": [
       "array([[[1., 1., 1.],\n",
       "        [1., 1., 1.],\n",
       "        [1., 1., 1.],\n",
       "        [1., 1., 1.],\n",
       "        [1., 1., 1.]],\n",
       "\n",
       "       [[1., 1., 1.],\n",
       "        [1., 1., 1.],\n",
       "        [1., 1., 1.],\n",
       "        [1., 1., 1.],\n",
       "        [1., 1., 1.]],\n",
       "\n",
       "       [[1., 1., 1.],\n",
       "        [1., 1., 1.],\n",
       "        [1., 1., 1.],\n",
       "        [1., 1., 1.],\n",
       "        [1., 1., 1.]],\n",
       "\n",
       "       [[1., 1., 1.],\n",
       "        [1., 1., 1.],\n",
       "        [1., 1., 1.],\n",
       "        [1., 1., 1.],\n",
       "        [1., 1., 1.]]])"
      ]
     },
     "execution_count": 90,
     "metadata": {},
     "output_type": "execute_result"
    }
   ],
   "source": [
    "np.ones((4,5,3))"
   ]
  },
  {
   "cell_type": "markdown",
   "id": "b49c02e3-ba6e-4f13-bd6d-48b3fcee2b11",
   "metadata": {},
   "source": [
    "#### .....linesapce"
   ]
  },
  {
   "cell_type": "code",
   "execution_count": 95,
   "id": "39c0a25d-2464-4db8-bc23-c28f42b0c8f0",
   "metadata": {},
   "outputs": [],
   "source": [
    "import numpy as np"
   ]
  },
  {
   "cell_type": "code",
   "execution_count": 99,
   "id": "59a2272c-e313-4dd4-bf1f-d5640fe93bda",
   "metadata": {},
   "outputs": [
    {
     "data": {
      "text/plain": [
       "array([ 1.        ,  1.28571429,  1.57142857,  1.85714286,  2.14285714,\n",
       "        2.42857143,  2.71428571,  3.        ,  3.28571429,  3.57142857,\n",
       "        3.85714286,  4.14285714,  4.42857143,  4.71428571,  5.        ,\n",
       "        5.28571429,  5.57142857,  5.85714286,  6.14285714,  6.42857143,\n",
       "        6.71428571,  7.        ,  7.28571429,  7.57142857,  7.85714286,\n",
       "        8.14285714,  8.42857143,  8.71428571,  9.        ,  9.28571429,\n",
       "        9.57142857,  9.85714286, 10.14285714, 10.42857143, 10.71428571,\n",
       "       11.        , 11.28571429, 11.57142857, 11.85714286, 12.14285714,\n",
       "       12.42857143, 12.71428571, 13.        , 13.28571429, 13.57142857,\n",
       "       13.85714286, 14.14285714, 14.42857143, 14.71428571, 15.        ])"
      ]
     },
     "execution_count": 99,
     "metadata": {},
     "output_type": "execute_result"
    }
   ],
   "source": [
    "np.linspace(1,15)   ##..default 50 observation\n",
    "##  both start and end are included in array"
   ]
  },
  {
   "cell_type": "code",
   "execution_count": 101,
   "id": "41ca0b45-5790-4ce2-9c64-59466adfac13",
   "metadata": {},
   "outputs": [
    {
     "data": {
      "text/plain": [
       "array([ 5.        ,  5.2020202 ,  5.4040404 ,  5.60606061,  5.80808081,\n",
       "        6.01010101,  6.21212121,  6.41414141,  6.61616162,  6.81818182,\n",
       "        7.02020202,  7.22222222,  7.42424242,  7.62626263,  7.82828283,\n",
       "        8.03030303,  8.23232323,  8.43434343,  8.63636364,  8.83838384,\n",
       "        9.04040404,  9.24242424,  9.44444444,  9.64646465,  9.84848485,\n",
       "       10.05050505, 10.25252525, 10.45454545, 10.65656566, 10.85858586,\n",
       "       11.06060606, 11.26262626, 11.46464646, 11.66666667, 11.86868687,\n",
       "       12.07070707, 12.27272727, 12.47474747, 12.67676768, 12.87878788,\n",
       "       13.08080808, 13.28282828, 13.48484848, 13.68686869, 13.88888889,\n",
       "       14.09090909, 14.29292929, 14.49494949, 14.6969697 , 14.8989899 ,\n",
       "       15.1010101 , 15.3030303 , 15.50505051, 15.70707071, 15.90909091,\n",
       "       16.11111111, 16.31313131, 16.51515152, 16.71717172, 16.91919192,\n",
       "       17.12121212, 17.32323232, 17.52525253, 17.72727273, 17.92929293,\n",
       "       18.13131313, 18.33333333, 18.53535354, 18.73737374, 18.93939394,\n",
       "       19.14141414, 19.34343434, 19.54545455, 19.74747475, 19.94949495,\n",
       "       20.15151515, 20.35353535, 20.55555556, 20.75757576, 20.95959596,\n",
       "       21.16161616, 21.36363636, 21.56565657, 21.76767677, 21.96969697,\n",
       "       22.17171717, 22.37373737, 22.57575758, 22.77777778, 22.97979798,\n",
       "       23.18181818, 23.38383838, 23.58585859, 23.78787879, 23.98989899,\n",
       "       24.19191919, 24.39393939, 24.5959596 , 24.7979798 , 25.        ])"
      ]
     },
     "execution_count": 101,
     "metadata": {},
     "output_type": "execute_result"
    }
   ],
   "source": [
    "np.linspace(5,25,100)     ## equally spaced 10 values"
   ]
  },
  {
   "cell_type": "code",
   "execution_count": 105,
   "id": "e0bda303-25e4-4d5d-aabf-64bb9dcf9856",
   "metadata": {},
   "outputs": [
    {
     "data": {
      "text/plain": [
       "array([1.        , 1.44444444, 1.88888889, 2.33333333, 2.77777778,\n",
       "       3.22222222, 3.66666667, 4.11111111, 4.55555556, 5.        ])"
      ]
     },
     "execution_count": 105,
     "metadata": {},
     "output_type": "execute_result"
    }
   ],
   "source": [
    "np.linspace(1,5,10)"
   ]
  },
  {
   "cell_type": "code",
   "execution_count": 107,
   "id": "d0188357-5453-495c-a313-7d98092491a5",
   "metadata": {},
   "outputs": [
    {
     "data": {
      "text/plain": [
       "(array([ 5.        ,  5.2020202 ,  5.4040404 ,  5.60606061,  5.80808081,\n",
       "         6.01010101,  6.21212121,  6.41414141,  6.61616162,  6.81818182,\n",
       "         7.02020202,  7.22222222,  7.42424242,  7.62626263,  7.82828283,\n",
       "         8.03030303,  8.23232323,  8.43434343,  8.63636364,  8.83838384,\n",
       "         9.04040404,  9.24242424,  9.44444444,  9.64646465,  9.84848485,\n",
       "        10.05050505, 10.25252525, 10.45454545, 10.65656566, 10.85858586,\n",
       "        11.06060606, 11.26262626, 11.46464646, 11.66666667, 11.86868687,\n",
       "        12.07070707, 12.27272727, 12.47474747, 12.67676768, 12.87878788,\n",
       "        13.08080808, 13.28282828, 13.48484848, 13.68686869, 13.88888889,\n",
       "        14.09090909, 14.29292929, 14.49494949, 14.6969697 , 14.8989899 ,\n",
       "        15.1010101 , 15.3030303 , 15.50505051, 15.70707071, 15.90909091,\n",
       "        16.11111111, 16.31313131, 16.51515152, 16.71717172, 16.91919192,\n",
       "        17.12121212, 17.32323232, 17.52525253, 17.72727273, 17.92929293,\n",
       "        18.13131313, 18.33333333, 18.53535354, 18.73737374, 18.93939394,\n",
       "        19.14141414, 19.34343434, 19.54545455, 19.74747475, 19.94949495,\n",
       "        20.15151515, 20.35353535, 20.55555556, 20.75757576, 20.95959596,\n",
       "        21.16161616, 21.36363636, 21.56565657, 21.76767677, 21.96969697,\n",
       "        22.17171717, 22.37373737, 22.57575758, 22.77777778, 22.97979798,\n",
       "        23.18181818, 23.38383838, 23.58585859, 23.78787879, 23.98989899,\n",
       "        24.19191919, 24.39393939, 24.5959596 , 24.7979798 , 25.        ]),\n",
       " 0.20202020202020202)"
      ]
     },
     "execution_count": 107,
     "metadata": {},
     "output_type": "execute_result"
    }
   ],
   "source": [
    "np.linspace(5,25,100, retstep=True)"
   ]
  },
  {
   "cell_type": "markdown",
   "id": "8eef2371-a239-4f5e-a0ce-cdd92a7bfd52",
   "metadata": {},
   "source": [
    "### ...eye\n",
    "### ...identity matrix"
   ]
  },
  {
   "cell_type": "code",
   "execution_count": 112,
   "id": "aacc1949-83e2-455f-9709-23e05ef1f170",
   "metadata": {},
   "outputs": [
    {
     "data": {
      "text/plain": [
       "array([[1., 0., 0., 0., 0.],\n",
       "       [0., 1., 0., 0., 0.],\n",
       "       [0., 0., 1., 0., 0.],\n",
       "       [0., 0., 0., 1., 0.],\n",
       "       [0., 0., 0., 0., 1.]])"
      ]
     },
     "execution_count": 112,
     "metadata": {},
     "output_type": "execute_result"
    }
   ],
   "source": [
    "np.eye(5)"
   ]
  },
  {
   "cell_type": "markdown",
   "id": "bbff3109-a2a4-4cb7-8f86-baa992984d8b",
   "metadata": {},
   "source": [
    "####..create an eye from zeros array"
   ]
  },
  {
   "cell_type": "markdown",
   "id": "ee658f4a-1ca9-4cea-98f2-eb779d073777",
   "metadata": {},
   "source": [
    "#### ....USe of copy function "
   ]
  },
  {
   "cell_type": "code",
   "execution_count": 122,
   "id": "ddb5bbf9-13c7-4e32-a3a7-0510efe599b6",
   "metadata": {},
   "outputs": [
    {
     "data": {
      "text/plain": [
       "[0, 1, 2, 3, 4, 5, 6, 7, 8, 9, 10, 11, 12, 13, 14, 15]"
      ]
     },
     "execution_count": 122,
     "metadata": {},
     "output_type": "execute_result"
    }
   ],
   "source": [
    "array2=([0,1,2,3,4,5,6,7,8,9,10,11,12,13,14,15])\n",
    "array2"
   ]
  },
  {
   "cell_type": "code",
   "execution_count": 128,
   "id": "eb98632e-4361-47b4-a821-5fcef910cb6f",
   "metadata": {},
   "outputs": [],
   "source": [
    "B=np.array(array2)"
   ]
  },
  {
   "cell_type": "code",
   "execution_count": 130,
   "id": "650584dd-dddc-4789-9cdb-e2e3ecbe1f48",
   "metadata": {},
   "outputs": [
    {
     "data": {
      "text/plain": [
       "array([ 0,  1,  2,  3,  4,  5,  6,  7,  8,  9, 10, 11, 12, 13, 14, 15])"
      ]
     },
     "execution_count": 130,
     "metadata": {},
     "output_type": "execute_result"
    }
   ],
   "source": [
    "B"
   ]
  },
  {
   "cell_type": "code",
   "execution_count": 158,
   "id": "fcea480a-9aae-4dff-9531-bcb626878ce6",
   "metadata": {},
   "outputs": [
    {
     "ename": "TypeError",
     "evalue": "can only assign an iterable",
     "output_type": "error",
     "traceback": [
      "\u001b[1;31m---------------------------------------------------------------------------\u001b[0m",
      "\u001b[1;31mTypeError\u001b[0m                                 Traceback (most recent call last)",
      "Cell \u001b[1;32mIn[158], line 1\u001b[0m\n\u001b[1;32m----> 1\u001b[0m array2[:\u001b[38;5;241m10\u001b[39m]\u001b[38;5;241m=\u001b[39m\u001b[38;5;241m30\u001b[39m\n\u001b[0;32m      2\u001b[0m array2\n",
      "\u001b[1;31mTypeError\u001b[0m: can only assign an iterable"
     ]
    }
   ],
   "source": [
    "array2[:10]=30\n",
    "array2"
   ]
  },
  {
   "cell_type": "code",
   "execution_count": 136,
   "id": "645a1edc-0dde-45dd-ac7f-ea682df426e2",
   "metadata": {},
   "outputs": [
    {
     "data": {
      "text/plain": [
       "[5, 10, 15, 20, 25]"
      ]
     },
     "execution_count": 136,
     "metadata": {},
     "output_type": "execute_result"
    }
   ],
   "source": [
    "array1=([5,10,15,20,25])\n",
    "array1"
   ]
  },
  {
   "cell_type": "code",
   "execution_count": 138,
   "id": "6dc9efb5-7bb0-44fc-bf3c-349204c89bb3",
   "metadata": {},
   "outputs": [],
   "source": [
    "C=np.array(array1)"
   ]
  },
  {
   "cell_type": "code",
   "execution_count": 140,
   "id": "2874ec42-d6aa-4ddd-955b-45f6dc61c17e",
   "metadata": {},
   "outputs": [
    {
     "data": {
      "text/plain": [
       "array([ 5, 10, 15, 20, 25])"
      ]
     },
     "execution_count": 140,
     "metadata": {},
     "output_type": "execute_result"
    }
   ],
   "source": [
    "C"
   ]
  },
  {
   "cell_type": "code",
   "execution_count": 144,
   "id": "fcc7913a-fa52-47f8-af64-2b1de4757fba",
   "metadata": {},
   "outputs": [
    {
     "data": {
      "text/plain": [
       "[5, 10, 15, 20, 25]"
      ]
     },
     "execution_count": 144,
     "metadata": {},
     "output_type": "execute_result"
    }
   ],
   "source": [
    "array2=array1\n",
    "array2"
   ]
  },
  {
   "cell_type": "code",
   "execution_count": 146,
   "id": "c0e6c6a8-17ad-4bff-8a7e-11ff13cf6f5a",
   "metadata": {},
   "outputs": [
    {
     "data": {
      "text/plain": [
       "[5, 10, 15, 20, 25]"
      ]
     },
     "execution_count": 146,
     "metadata": {},
     "output_type": "execute_result"
    }
   ],
   "source": [
    "array2"
   ]
  },
  {
   "cell_type": "code",
   "execution_count": 152,
   "id": "c47341aa-8284-496a-a56d-b24d29c35422",
   "metadata": {},
   "outputs": [],
   "source": [
    "array3=array2.copy()"
   ]
  },
  {
   "cell_type": "code",
   "execution_count": 154,
   "id": "0e6aa192-3999-4a75-841c-84ff69536139",
   "metadata": {},
   "outputs": [
    {
     "data": {
      "text/plain": [
       "[5, 10, 15, 20, 25]"
      ]
     },
     "execution_count": 154,
     "metadata": {},
     "output_type": "execute_result"
    }
   ],
   "source": [
    "array3"
   ]
  },
  {
   "cell_type": "markdown",
   "id": "705a217c-722e-46f5-ba99-7732a010853f",
   "metadata": {},
   "source": [
    "### ....rand number"
   ]
  },
  {
   "cell_type": "code",
   "execution_count": 161,
   "id": "df3579f2-1688-4434-a9a8-a00330ce402d",
   "metadata": {},
   "outputs": [],
   "source": [
    "import numpy as np"
   ]
  },
  {
   "cell_type": "code",
   "execution_count": 163,
   "id": "412a0873-6784-4100-8c97-ac0e84259c62",
   "metadata": {},
   "outputs": [
    {
     "data": {
      "text/plain": [
       "0.7092794950343102"
      ]
     },
     "execution_count": 163,
     "metadata": {},
     "output_type": "execute_result"
    }
   ],
   "source": [
    "np.random.rand()"
   ]
  },
  {
   "cell_type": "code",
   "execution_count": 165,
   "id": "9c2103da-a14a-499d-bf56-15b335713206",
   "metadata": {},
   "outputs": [
    {
     "data": {
      "text/plain": [
       "array([0.45157194, 0.19677263, 0.70359191, 0.90918632, 0.74706616,\n",
       "       0.69473915, 0.45978325, 0.25538255, 0.38294589, 0.86046185])"
      ]
     },
     "execution_count": 165,
     "metadata": {},
     "output_type": "execute_result"
    }
   ],
   "source": [
    "np.random.rand(10)"
   ]
  },
  {
   "cell_type": "code",
   "execution_count": 167,
   "id": "263efa46-de9f-4552-a5a8-2fdce6d85f39",
   "metadata": {},
   "outputs": [
    {
     "data": {
      "text/plain": [
       "array([[0.1517137 , 0.41542395, 0.74269923, 0.88021719, 0.42008402],\n",
       "       [0.22194004, 0.52382438, 0.31569321, 0.34125622, 0.78464179]])"
      ]
     },
     "execution_count": 167,
     "metadata": {},
     "output_type": "execute_result"
    }
   ],
   "source": [
    "np.random.rand(10).reshape((2,5))"
   ]
  },
  {
   "cell_type": "markdown",
   "id": "fab9b4a7-a607-41b9-a2cc-da03765010c0",
   "metadata": {},
   "source": [
    "### ...randn"
   ]
  },
  {
   "cell_type": "code",
   "execution_count": 172,
   "id": "2d5239a9-fe1c-47bb-aa1e-18a63a1f5451",
   "metadata": {},
   "outputs": [
    {
     "data": {
      "text/plain": [
       "[5, 10, 15, 20, 25]"
      ]
     },
     "execution_count": 172,
     "metadata": {},
     "output_type": "execute_result"
    }
   ],
   "source": [
    "array1"
   ]
  },
  {
   "cell_type": "code",
   "execution_count": 174,
   "id": "4adc1a3d-f1ba-421c-9114-ebfae6059411",
   "metadata": {},
   "outputs": [
    {
     "data": {
      "text/plain": [
       "array([-1.17277125, -0.15290216, -1.03575472, -0.46274872, -0.23758706,\n",
       "        1.62999327, -0.44014491,  0.30587569,  0.51141434, -0.86410509,\n",
       "        0.24815234, -0.54050743, -1.34152645, -0.80904521,  0.29925422,\n",
       "        0.12403251, -2.61876053, -0.6999425 , -1.85003833,  1.20211572,\n",
       "        0.69365397,  1.06333195, -2.18131192, -1.46598763,  0.49970689,\n",
       "        0.15413521, -0.93971824,  0.5129887 , -0.17480017,  0.93377123,\n",
       "       -0.11437767,  0.0579022 , -0.19122195, -0.02966413,  1.76358013,\n",
       "       -2.41419265, -0.51104005, -0.66171395, -1.74834693, -0.18371069,\n",
       "        1.70461784,  1.14674465,  1.68929328, -1.62518969,  1.89031189,\n",
       "       -0.56289033, -1.64969148, -0.62783032,  0.4876886 ,  0.11769148])"
      ]
     },
     "execution_count": 174,
     "metadata": {},
     "output_type": "execute_result"
    }
   ],
   "source": [
    "array1=np.random.randn(50)\n",
    "array1"
   ]
  },
  {
   "cell_type": "markdown",
   "id": "ba107419-17d7-4607-944e-fbf696094e0e",
   "metadata": {},
   "source": [
    "### ....randint"
   ]
  },
  {
   "cell_type": "code",
   "execution_count": 183,
   "id": "fa5d10de-8f08-4135-aef0-e989df8415ca",
   "metadata": {},
   "outputs": [
    {
     "data": {
      "text/plain": [
       "3"
      ]
     },
     "execution_count": 183,
     "metadata": {},
     "output_type": "execute_result"
    }
   ],
   "source": [
    "np.random.randint(10)"
   ]
  },
  {
   "cell_type": "code",
   "execution_count": 187,
   "id": "b070d789-057a-4ff0-99b1-434279cfca40",
   "metadata": {},
   "outputs": [
    {
     "data": {
      "text/plain": [
       "array([60, 16, 51, 52, 28, 92, 78, 36, 71, 60])"
      ]
     },
     "execution_count": 187,
     "metadata": {},
     "output_type": "execute_result"
    }
   ],
   "source": [
    "np.random.randint(1,100,10)"
   ]
  },
  {
   "cell_type": "code",
   "execution_count": 189,
   "id": "08fbe590-2580-415a-afaa-917fc53f8583",
   "metadata": {},
   "outputs": [
    {
     "data": {
      "text/plain": [
       "array([52, 49, 42, 48, 56, 50, 59, 52, 53, 42, 43, 58, 40, 52, 50, 40, 54,\n",
       "       41, 53, 53, 44, 55, 40, 43, 50, 58, 47, 50, 47, 51, 41, 57, 42, 44,\n",
       "       58, 50, 48, 58, 42, 56, 57, 48, 49, 47, 43, 52, 58, 45, 51, 58])"
      ]
     },
     "execution_count": 189,
     "metadata": {},
     "output_type": "execute_result"
    }
   ],
   "source": [
    "np.random.randint(40,60,50)"
   ]
  },
  {
   "cell_type": "code",
   "execution_count": null,
   "id": "325f766e-9f73-47ec-9d1b-9b3bad06c8ef",
   "metadata": {},
   "outputs": [],
   "source": []
  }
 ],
 "metadata": {
  "kernelspec": {
   "display_name": "Python 3 (ipykernel)",
   "language": "python",
   "name": "python3"
  },
  "language_info": {
   "codemirror_mode": {
    "name": "ipython",
    "version": 3
   },
   "file_extension": ".py",
   "mimetype": "text/x-python",
   "name": "python",
   "nbconvert_exporter": "python",
   "pygments_lexer": "ipython3",
   "version": "3.12.4"
  }
 },
 "nbformat": 4,
 "nbformat_minor": 5
}
