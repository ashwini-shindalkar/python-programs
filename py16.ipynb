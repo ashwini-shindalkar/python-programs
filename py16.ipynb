{
 "cells": [
  {
   "cell_type": "code",
   "execution_count": 63,
   "id": "380d3030-a218-4d19-b1ad-02b58b06e575",
   "metadata": {},
   "outputs": [],
   "source": [
    "## 1"
   ]
  },
  {
   "cell_type": "code",
   "execution_count": 3,
   "id": "533e010f-3f80-43db-82c1-330ad41e7ca9",
   "metadata": {},
   "outputs": [],
   "source": [
    "from datetime import date"
   ]
  },
  {
   "cell_type": "code",
   "execution_count": 7,
   "id": "3ebe8c93-8567-450f-bc13-ee5a9c91b704",
   "metadata": {},
   "outputs": [
    {
     "name": "stdout",
     "output_type": "stream",
     "text": [
      "2020-12-01\n"
     ]
    }
   ],
   "source": [
    "my_date=date(2020,12,1)\n",
    "print(my_date)\n",
    "\n"
   ]
  },
  {
   "cell_type": "code",
   "execution_count": 11,
   "id": "f16a475d-2ee2-4ad3-8eb6-ba9171dee59e",
   "metadata": {},
   "outputs": [
    {
     "name": "stdout",
     "output_type": "stream",
     "text": [
      "2024-08-16\n"
     ]
    }
   ],
   "source": [
    "today1=date.today()\n",
    "print(today1)"
   ]
  },
  {
   "cell_type": "code",
   "execution_count": 5,
   "id": "c06844b0-2eb6-4c62-a5b9-0f8da147a65e",
   "metadata": {},
   "outputs": [
    {
     "data": {
      "text/plain": [
       "5"
      ]
     },
     "execution_count": 5,
     "metadata": {},
     "output_type": "execute_result"
    }
   ],
   "source": [
    "today1.isoweekday()"
   ]
  },
  {
   "cell_type": "code",
   "execution_count": 9,
   "id": "fd508d37-ef8a-40b4-b8c2-fc2f3164a2c4",
   "metadata": {},
   "outputs": [
    {
     "data": {
      "text/plain": [
       "2020"
      ]
     },
     "execution_count": 9,
     "metadata": {},
     "output_type": "execute_result"
    }
   ],
   "source": [
    "my_date.year"
   ]
  },
  {
   "cell_type": "code",
   "execution_count": 14,
   "id": "4967364c-c717-47b7-8c58-f2da1f577795",
   "metadata": {},
   "outputs": [
    {
     "data": {
      "text/plain": [
       "12"
      ]
     },
     "execution_count": 14,
     "metadata": {},
     "output_type": "execute_result"
    }
   ],
   "source": [
    "my_date.month"
   ]
  },
  {
   "cell_type": "code",
   "execution_count": 15,
   "id": "d42f696a-9e1a-492b-86b1-c2cac0912ae1",
   "metadata": {},
   "outputs": [
    {
     "data": {
      "text/plain": [
       "1"
      ]
     },
     "execution_count": 15,
     "metadata": {},
     "output_type": "execute_result"
    }
   ],
   "source": [
    "my_date.day"
   ]
  },
  {
   "cell_type": "code",
   "execution_count": 13,
   "id": "ea7bf0b0-6aca-4a18-9639-f032bff16592",
   "metadata": {},
   "outputs": [
    {
     "data": {
      "text/plain": [
       "2024"
      ]
     },
     "execution_count": 13,
     "metadata": {},
     "output_type": "execute_result"
    }
   ],
   "source": [
    "today1.year"
   ]
  },
  {
   "cell_type": "code",
   "execution_count": 16,
   "id": "4782a35c-66b3-444a-b965-ad7bd6795144",
   "metadata": {},
   "outputs": [
    {
     "data": {
      "text/plain": [
       "8"
      ]
     },
     "execution_count": 16,
     "metadata": {},
     "output_type": "execute_result"
    }
   ],
   "source": [
    "today1.month"
   ]
  },
  {
   "cell_type": "code",
   "execution_count": 17,
   "id": "0eed3632-ea62-4c8b-8242-31aa93feb9eb",
   "metadata": {},
   "outputs": [
    {
     "data": {
      "text/plain": [
       "16"
      ]
     },
     "execution_count": 17,
     "metadata": {},
     "output_type": "execute_result"
    }
   ],
   "source": [
    "today1.day"
   ]
  },
  {
   "cell_type": "code",
   "execution_count": 61,
   "id": "693a6835-b222-419a-a07f-bddba92e94da",
   "metadata": {},
   "outputs": [],
   "source": [
    "### 2"
   ]
  },
  {
   "cell_type": "code",
   "execution_count": 22,
   "id": "6a98d0ef-23d9-428f-85c3-bc1e81e12d08",
   "metadata": {},
   "outputs": [],
   "source": [
    "from datetime import time"
   ]
  },
  {
   "cell_type": "code",
   "execution_count": 24,
   "id": "22c4da41-5ded-4b13-a084-721d2d7c7ddd",
   "metadata": {},
   "outputs": [
    {
     "name": "stdout",
     "output_type": "stream",
     "text": [
      "12:30:40.012334\n"
     ]
    }
   ],
   "source": [
    "time1=time(12,30,40,12334)\n",
    "print(time1)"
   ]
  },
  {
   "cell_type": "code",
   "execution_count": 25,
   "id": "1e6117ce-192b-40cc-8401-ca7e50c88711",
   "metadata": {},
   "outputs": [
    {
     "data": {
      "text/plain": [
       "12"
      ]
     },
     "execution_count": 25,
     "metadata": {},
     "output_type": "execute_result"
    }
   ],
   "source": [
    "time1.hour"
   ]
  },
  {
   "cell_type": "code",
   "execution_count": 29,
   "id": "542dc698-a16f-470b-a852-b0f22304502c",
   "metadata": {},
   "outputs": [
    {
     "data": {
      "text/plain": [
       "30"
      ]
     },
     "execution_count": 29,
     "metadata": {},
     "output_type": "execute_result"
    }
   ],
   "source": [
    "time1.minute"
   ]
  },
  {
   "cell_type": "code",
   "execution_count": 30,
   "id": "90dc7882-d19b-43aa-b311-15c5a8d33fb1",
   "metadata": {},
   "outputs": [
    {
     "data": {
      "text/plain": [
       "40"
      ]
     },
     "execution_count": 30,
     "metadata": {},
     "output_type": "execute_result"
    }
   ],
   "source": [
    "time1.second"
   ]
  },
  {
   "cell_type": "code",
   "execution_count": 64,
   "id": "dc3160ee-1958-4809-b513-f18e21b33d2b",
   "metadata": {},
   "outputs": [],
   "source": [
    "### 3"
   ]
  },
  {
   "cell_type": "code",
   "execution_count": 53,
   "id": "3d921b29-b3c1-4ac4-9dc5-c811586d987f",
   "metadata": {},
   "outputs": [],
   "source": [
    "from datetime import datetime"
   ]
  },
  {
   "cell_type": "code",
   "execution_count": 57,
   "id": "0bb74b39-9a33-4f4f-b185-5f16ee4d793b",
   "metadata": {},
   "outputs": [
    {
     "name": "stdout",
     "output_type": "stream",
     "text": [
      "2024-08-16 20:38:29.820172\n"
     ]
    }
   ],
   "source": [
    "current=datetime.now()\n",
    "print(current)"
   ]
  },
  {
   "cell_type": "code",
   "execution_count": 58,
   "id": "a808186b-5a66-48dc-9dbf-a1b0d4e0e5ea",
   "metadata": {},
   "outputs": [
    {
     "name": "stdout",
     "output_type": "stream",
     "text": [
      "20:38:29\n"
     ]
    }
   ],
   "source": [
    "print(current.strftime(\"%T\"))"
   ]
  },
  {
   "cell_type": "code",
   "execution_count": 59,
   "id": "df5741f2-c442-4d02-bb1a-0244374b3c3b",
   "metadata": {},
   "outputs": [
    {
     "name": "stdout",
     "output_type": "stream",
     "text": [
      "16-08-24\n"
     ]
    }
   ],
   "source": [
    "print(current.strftime(\"%d-%m-%y\"))"
   ]
  },
  {
   "cell_type": "code",
   "execution_count": 65,
   "id": "d282f82a-4d84-4c4e-b643-ac61cf74e74b",
   "metadata": {},
   "outputs": [],
   "source": [
    "### 4"
   ]
  },
  {
   "cell_type": "code",
   "execution_count": 66,
   "id": "192d27a3-8ef4-4e00-b6ee-4781581a33ad",
   "metadata": {},
   "outputs": [],
   "source": [
    "from datetime import timedelta"
   ]
  },
  {
   "cell_type": "code",
   "execution_count": 67,
   "id": "01445091-7e2c-4e2f-a381-ab455abcca97",
   "metadata": {},
   "outputs": [],
   "source": [
    "#### ....work with date give feature ,past date"
   ]
  },
  {
   "cell_type": "code",
   "execution_count": 69,
   "id": "c87254c9-83a1-405a-885b-2de35555bee5",
   "metadata": {},
   "outputs": [
    {
     "data": {
      "text/plain": [
       "datetime.date(2024, 8, 16)"
      ]
     },
     "execution_count": 69,
     "metadata": {},
     "output_type": "execute_result"
    }
   ],
   "source": [
    "today1"
   ]
  },
  {
   "cell_type": "code",
   "execution_count": 72,
   "id": "719ed745-bc95-4b0e-8ca5-bffa32d1a93b",
   "metadata": {},
   "outputs": [
    {
     "data": {
      "text/plain": [
       "datetime.date(2024, 7, 22)"
      ]
     },
     "execution_count": 72,
     "metadata": {},
     "output_type": "execute_result"
    }
   ],
   "source": [
    "datetime=date(2024,7,22)\n",
    "datetime"
   ]
  },
  {
   "cell_type": "code",
   "execution_count": 84,
   "id": "31c8d29e-c2a7-4751-91a9-d9cb551e9749",
   "metadata": {},
   "outputs": [
    {
     "name": "stdout",
     "output_type": "stream",
     "text": [
      "2025-03-04\n"
     ]
    }
   ],
   "source": [
    "future_date=today1+timedelta(days=200)\n",
    "print(future_date)"
   ]
  },
  {
   "cell_type": "code",
   "execution_count": 77,
   "id": "885e8904-3684-4d99-8111-2342017c59b2",
   "metadata": {},
   "outputs": [
    {
     "data": {
      "text/plain": [
       "2025"
      ]
     },
     "execution_count": 77,
     "metadata": {},
     "output_type": "execute_result"
    }
   ],
   "source": [
    "future_date.year"
   ]
  },
  {
   "cell_type": "code",
   "execution_count": 78,
   "id": "42c83b91-cffb-4780-8253-babb8012e77b",
   "metadata": {},
   "outputs": [
    {
     "data": {
      "text/plain": [
       "2"
      ]
     },
     "execution_count": 78,
     "metadata": {},
     "output_type": "execute_result"
    }
   ],
   "source": [
    "future_date.isoweekday()"
   ]
  },
  {
   "cell_type": "code",
   "execution_count": 87,
   "id": "d92e92ee-da5b-4840-b4cc-12ef13de559b",
   "metadata": {},
   "outputs": [
    {
     "name": "stdout",
     "output_type": "stream",
     "text": [
      "2022-02-28\n"
     ]
    }
   ],
   "source": [
    "past_date=today1-timedelta(days=900)\n",
    "print(past_date)"
   ]
  },
  {
   "cell_type": "code",
   "execution_count": 88,
   "id": "76a8b603-8a96-4db5-aaaa-e1d72e298915",
   "metadata": {},
   "outputs": [
    {
     "data": {
      "text/plain": [
       "1"
      ]
     },
     "execution_count": 88,
     "metadata": {},
     "output_type": "execute_result"
    }
   ],
   "source": [
    "past_date.isoweekday()"
   ]
  },
  {
   "cell_type": "code",
   "execution_count": null,
   "id": "b5d517f4-f847-4f34-97d4-e2eb6a9fe519",
   "metadata": {},
   "outputs": [],
   "source": []
  }
 ],
 "metadata": {
  "kernelspec": {
   "display_name": "Python 3 (ipykernel)",
   "language": "python",
   "name": "python3"
  },
  "language_info": {
   "codemirror_mode": {
    "name": "ipython",
    "version": 3
   },
   "file_extension": ".py",
   "mimetype": "text/x-python",
   "name": "python",
   "nbconvert_exporter": "python",
   "pygments_lexer": "ipython3",
   "version": "3.12.4"
  }
 },
 "nbformat": 4,
 "nbformat_minor": 5
}
