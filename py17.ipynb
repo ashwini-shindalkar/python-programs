{
 "cells": [
  {
   "cell_type": "code",
   "execution_count": 3,
   "id": "a0f1dcff-9680-494c-858e-6a3b78245cc8",
   "metadata": {},
   "outputs": [
    {
     "name": "stdout",
     "output_type": "stream",
     "text": [
      "* * * * * \n",
      " * * * * \n",
      "  * * * \n",
      "   * * \n",
      "    * \n"
     ]
    }
   ],
   "source": [
    "for i in range(5):\n",
    "    for j in range(i):\n",
    "        print(\" \", end=\"\")\n",
    "    for j in range(i, 5):\n",
    "        print(\"* \", end=\"\")\n",
    "    print()"
   ]
  },
  {
   "cell_type": "code",
   "execution_count": 4,
   "id": "617cfa4f-21b2-4c2a-882b-dbbbd4c41e32",
   "metadata": {},
   "outputs": [
    {
     "name": "stdout",
     "output_type": "stream",
     "text": [
      "     * \n",
      "    * * \n",
      "   * * * \n",
      "  * * * * \n",
      " * * * * * \n"
     ]
    }
   ],
   "source": [
    "for i in range(5):\n",
    "    for j in range(5, i, -1):\n",
    "        print(\" \", end=\"\")\n",
    "    for k in range(i + 1):\n",
    "        print(\"* \", end=\"\")\n",
    "    print()"
   ]
  },
  {
   "cell_type": "code",
   "execution_count": 5,
   "id": "9df6d596-262b-47a3-b384-bd6dc9b8cd35",
   "metadata": {},
   "outputs": [
    {
     "name": "stdout",
     "output_type": "stream",
     "text": [
      "    * \n",
      "   * * \n",
      "  * * * \n",
      " * * * * \n",
      "* * * * * \n",
      " * * * * \n",
      "  * * * \n",
      "   * * \n",
      "    * \n"
     ]
    }
   ],
   "source": [
    "n = 5\n",
    "\n",
    "for i in range(n):\n",
    "    for j in range(n - 1, i, -1):\n",
    "        print(\" \", end=\"\")\n",
    "    for k in range(i + 1):\n",
    "        print(\"* \", end=\"\")\n",
    "    print()\n",
    "\n",
    "for i in range(1, n):\n",
    "    for j in range(i):\n",
    "        print(\" \", end=\"\")\n",
    "    for k in range(n - 1, i - 1, -1):\n",
    "        print(\"* \", end=\"\")\n",
    "    print()"
   ]
  },
  {
   "cell_type": "code",
   "execution_count": 6,
   "id": "0a8a1c84-463c-40ed-a149-ed0b658622ca",
   "metadata": {},
   "outputs": [
    {
     "name": "stdout",
     "output_type": "stream",
     "text": [
      "*****\n",
      "*   *\n",
      "*   *\n",
      "*   *\n",
      "*****\n"
     ]
    }
   ],
   "source": [
    "n = 5\n",
    "\n",
    "for i in range(n):\n",
    "    for j in range(n):\n",
    "        if i == 0 or i == n - 1 or j == 0 or j == n - 1:\n",
    "            print(\"*\", end=\"\")\n",
    "        else:\n",
    "            print(\" \", end=\"\")\n",
    "    print()"
   ]
  },
  {
   "cell_type": "code",
   "execution_count": 17,
   "id": "807bd487-9abe-4b26-9f2c-e4bde40549f6",
   "metadata": {},
   "outputs": [
    {
     "name": "stdout",
     "output_type": "stream",
     "text": [
      "character pattern using the ascii value is: \n",
      "A \n",
      "B C \n",
      "D E F \n",
      "G H I J \n",
      "K L M N O \n"
     ]
    }
   ],
   "source": [
    "print(\"character pattern using the ascii value is: \")    \n",
    "asciiValue = 65       \n",
    "for i in range(0, 5):   \n",
    "    for j in range(0, i + 1):    \n",
    "        alphabate = chr(asciiValue)    \n",
    "        print(alphabate, end=' ')       \n",
    "        asciiValue += 1   \n",
    "    print()    \n"
   ]
  },
  {
   "cell_type": "code",
   "execution_count": 22,
   "id": "d4a144b1-49c1-4e3f-a1ab-67c9e64ec326",
   "metadata": {},
   "outputs": [
    {
     "name": "stdout",
     "output_type": "stream",
     "text": [
      "h\n",
      "he\n",
      "hel\n",
      "hell\n",
      "hello\n",
      "hellop\n",
      "hellopy\n",
      "hellopyt\n",
      "hellopyth\n",
      "hellopytho\n",
      "hellopython\n"
     ]
    }
   ],
   "source": [
    "str1 = \"hellopython\"   \n",
    "x = \"\"    \n",
    "for i in str1:    \n",
    "    x += i     \n",
    "    print(x)"
   ]
  },
  {
   "cell_type": "code",
   "execution_count": 23,
   "id": "5e4754cc-f044-4be5-a419-ffe59a0996d7",
   "metadata": {},
   "outputs": [
    {
     "name": "stdout",
     "output_type": "stream",
     "text": [
      "*\n",
      " *\n",
      "  *\n",
      "   *\n",
      "    *\n"
     ]
    }
   ],
   "source": [
    "def star(n):\n",
    "    for i in range(n):\n",
    "        print(' ' * i + '*')\n",
    "\n",
    "# Example usage\n",
    "staircase(5)\n"
   ]
  },
  {
   "cell_type": "code",
   "execution_count": 24,
   "id": "93ea4895-7e40-4a43-968a-726c2d654f28",
   "metadata": {},
   "outputs": [
    {
     "name": "stdout",
     "output_type": "stream",
     "text": [
      "   *\n",
      "   *\n",
      "   *\n",
      "*******\n",
      "   *\n",
      "   *\n",
      "   *\n"
     ]
    }
   ],
   "source": [
    "def plus(n):\n",
    "    if n % 2 == 0:\n",
    "        n += 1  \n",
    "    \n",
    "    mid = n // 2\n",
    "    for i in range(n):\n",
    "        if i == mid:\n",
    "            print('*' * n)\n",
    "        else:\n",
    "            print(' ' * mid + '*')\n",
    "\n",
    "\n",
    "plus_sign(7)\n"
   ]
  },
  {
   "cell_type": "code",
   "execution_count": 25,
   "id": "fce6f432-b14e-4eb1-b3e7-715b871fc967",
   "metadata": {},
   "outputs": [
    {
     "name": "stdout",
     "output_type": "stream",
     "text": [
      "    *\n",
      "   * *\n",
      "  *   *\n",
      " *     *\n",
      "*       *\n",
      " *     *\n",
      "  *   *\n",
      "   * *\n",
      "    *\n"
     ]
    }
   ],
   "source": [
    "def diamond(n):\n",
    "    for i in range(n):\n",
    "        if i == 0:\n",
    "            print(' ' * (n - i - 1) + '*')\n",
    "        else:\n",
    "            print(' ' * (n - i - 1) + '*' + ' ' * (2 * i - 1) + '*')\n",
    "    for i in range(n - 2, -1, -1):\n",
    "        if i == 0:\n",
    "            print(' ' * (n - i - 1) + '*')\n",
    "        else:\n",
    "            print(' ' * (n - i - 1) + '*' + ' ' * (2 * i - 1) + '*')\n",
    "\n",
    "hollow_diamond(5)\n"
   ]
  },
  {
   "cell_type": "code",
   "execution_count": 30,
   "id": "ff170d16-392e-4805-a014-0a9738b221df",
   "metadata": {},
   "outputs": [
    {
     "name": "stdout",
     "output_type": "stream",
     "text": [
      "*   *\n",
      " * * \n",
      "  *  \n",
      " * * \n",
      "*   *\n"
     ]
    }
   ],
   "source": [
    "def x(n):\n",
    "    if n % 2 == 0:\n",
    "        print(\"Size must be an odd number to form a proper X.\")\n",
    "        return\n",
    "    \n",
    "    for i in range(n):\n",
    "        for j in range(n):\n",
    "            if j == i or j == n - i - 1:\n",
    "                print('*', end='')\n",
    "            else:\n",
    "                print(' ', end='')\n",
    "        print()\n",
    "\n",
    "single_x(5)\n"
   ]
  },
  {
   "cell_type": "code",
   "execution_count": null,
   "id": "e1973dcc-10f3-4199-b30e-862eb7eda15b",
   "metadata": {},
   "outputs": [],
   "source": []
  },
  {
   "cell_type": "code",
   "execution_count": null,
   "id": "dddf834c-79b6-451b-83ce-436f4e21dcad",
   "metadata": {},
   "outputs": [],
   "source": []
  }
 ],
 "metadata": {
  "kernelspec": {
   "display_name": "Python 3 (ipykernel)",
   "language": "python",
   "name": "python3"
  },
  "language_info": {
   "codemirror_mode": {
    "name": "ipython",
    "version": 3
   },
   "file_extension": ".py",
   "mimetype": "text/x-python",
   "name": "python",
   "nbconvert_exporter": "python",
   "pygments_lexer": "ipython3",
   "version": "3.12.4"
  }
 },
 "nbformat": 4,
 "nbformat_minor": 5
}
