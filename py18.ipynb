{
 "cells": [
  {
   "cell_type": "markdown",
   "id": "ee12fdf4-bd19-4577-a5eb-c1b893bbbb31",
   "metadata": {},
   "source": [
    "## practice function program"
   ]
  },
  {
   "cell_type": "markdown",
   "id": "63bda616-8c68-4d6d-b348-aa9040ecc488",
   "metadata": {},
   "source": [
    "### 1. Python function that prints a text"
   ]
  },
  {
   "cell_type": "code",
   "execution_count": 4,
   "id": "50c7bc67-cb08-4bf7-b04c-86a6d505b99d",
   "metadata": {},
   "outputs": [],
   "source": [
    "def text(masage):\n",
    "    print(masage)"
   ]
  },
  {
   "cell_type": "code",
   "execution_count": 5,
   "id": "81eb4914-1272-443e-809e-3c8a82bf11e3",
   "metadata": {},
   "outputs": [
    {
     "name": "stdout",
     "output_type": "stream",
     "text": [
      "helloworld\n"
     ]
    }
   ],
   "source": [
    "text(\"helloworld\")"
   ]
  },
  {
   "cell_type": "markdown",
   "id": "27c91d79-3f60-4b86-9996-ba0b0b0e6e81",
   "metadata": {},
   "source": [
    "#### 2. Python function that accepts two numbers as arguments and returns the sum"
   ]
  },
  {
   "cell_type": "code",
   "execution_count": 1,
   "id": "9386b4b6-0914-472b-b349-f1fdd2ef4108",
   "metadata": {},
   "outputs": [],
   "source": [
    "def  sum(num1,num2):\n",
    "    res=num1+num2\n",
    "    return res"
   ]
  },
  {
   "cell_type": "code",
   "execution_count": 2,
   "id": "92f75f0d-3b84-423b-80a9-ee3878629165",
   "metadata": {},
   "outputs": [
    {
     "data": {
      "text/plain": [
       "100"
      ]
     },
     "execution_count": 2,
     "metadata": {},
     "output_type": "execute_result"
    }
   ],
   "source": [
    "sum(10,90)"
   ]
  },
  {
   "cell_type": "markdown",
   "id": "986857e4-1e02-483b-b20c-881ea39f773b",
   "metadata": {},
   "source": [
    "### 3. Python function that accepts different values as parameters and returns a list"
   ]
  },
  {
   "cell_type": "code",
   "execution_count": 19,
   "id": "83d82e55-d27a-4222-a23a-5f7441c03ed4",
   "metadata": {},
   "outputs": [],
   "source": [
    "def create_list(*values):\n",
    "    return list(values)"
   ]
  },
  {
   "cell_type": "code",
   "execution_count": 20,
   "id": "12b4f531-3610-40fb-89e1-30a8cff6b083",
   "metadata": {},
   "outputs": [
    {
     "data": {
      "text/plain": [
       "[11, 15, 'hello', 2.5]"
      ]
     },
     "execution_count": 20,
     "metadata": {},
     "output_type": "execute_result"
    }
   ],
   "source": [
    "create_list(11,15,\"hello\",2.5)"
   ]
  },
  {
   "cell_type": "markdown",
   "id": "23b7379c-d7cb-49d3-beeb-786f2c45b651",
   "metadata": {},
   "source": [
    "### 4. Python function that returns a dictionary"
   ]
  },
  {
   "cell_type": "code",
   "execution_count": 27,
   "id": "a5402ef7-eb8e-4b7d-a874-da6e5ad229f4",
   "metadata": {},
   "outputs": [],
   "source": [
    "def create_dict():\n",
    "    return {\n",
    "        \"name\":\"Ashwini\",\n",
    "        \"age\":18,\n",
    "        \"marks\":50\n",
    "    }"
   ]
  },
  {
   "cell_type": "code",
   "execution_count": 28,
   "id": "a261ebdf-9a72-4ae5-9351-72b28d2a9935",
   "metadata": {},
   "outputs": [
    {
     "data": {
      "text/plain": [
       "{'name': 'Ashwini', 'age': 18, 'marks': 50}"
      ]
     },
     "execution_count": 28,
     "metadata": {},
     "output_type": "execute_result"
    }
   ],
   "source": [
    "create_dict()"
   ]
  },
  {
   "cell_type": "code",
   "execution_count": 34,
   "id": "3abd291b-c0be-4056-a882-3e7ff778d578",
   "metadata": {},
   "outputs": [
    {
     "name": "stdout",
     "output_type": "stream",
     "text": [
      "[('a', 1), ('b', 2), ('c', 3)]\n"
     ]
    }
   ],
   "source": [
    "my_dict = {'a': 1, 'b': 2, 'c': 3}\n",
    "items_list = list(my_dict.items())\n",
    "print(items_list)\n"
   ]
  },
  {
   "cell_type": "markdown",
   "id": "c9e6003b-2ff1-4952-ade3-f91e3d079109",
   "metadata": {},
   "source": [
    "### 5. Python function that returns a tuple"
   ]
  },
  {
   "cell_type": "code",
   "execution_count": 35,
   "id": "a2a05319-780f-4e12-b8b5-2c995b24ad08",
   "metadata": {},
   "outputs": [],
   "source": [
    "def create_list(*values):\n",
    "    return tuple(values)"
   ]
  },
  {
   "cell_type": "code",
   "execution_count": 38,
   "id": "a33fbeb1-b3bc-4aa2-9752-db69fe294f0a",
   "metadata": {},
   "outputs": [
    {
     "data": {
      "text/plain": [
       "(16, 'hiii', 2.8, 19, 25, 100)"
      ]
     },
     "execution_count": 38,
     "metadata": {},
     "output_type": "execute_result"
    }
   ],
   "source": [
    "create_list(16,\"hiii\",2.8,19,25,100)"
   ]
  },
  {
   "cell_type": "markdown",
   "id": "b4eaae53-c874-4307-9013-d559447281e0",
   "metadata": {},
   "source": [
    "### 6. Python function that accepts a list as a parameter"
   ]
  },
  {
   "cell_type": "code",
   "execution_count": 25,
   "id": "dd81688e-cd10-4f8a-8dc7-ce80d2318d60",
   "metadata": {},
   "outputs": [
    {
     "name": "stdout",
     "output_type": "stream",
     "text": [
      "The reversed list is: [99, 'hii', 11, 2.3, 10.15]\n"
     ]
    }
   ],
   "source": [
    "def reverse_list(lst):\n",
    "\n",
    "    return lst[::-1]\n",
    "\n",
    "my_list = [10.15,2.3,11,\"hii\",99,]\n",
    "reversed_list = reverse_list(my_list)\n",
    "print(\"The reversed list is:\", reversed_list)\n"
   ]
  },
  {
   "cell_type": "markdown",
   "id": "d6faf83d-f12b-4cbc-a00a-a2e438421441",
   "metadata": {},
   "source": [
    "### 7. Python function that accepts a dictionary as a parameter"
   ]
  },
  {
   "cell_type": "code",
   "execution_count": 31,
   "id": "983a0f3f-3292-45b2-b013-bd128966e5eb",
   "metadata": {},
   "outputs": [
    {
     "name": "stdout",
     "output_type": "stream",
     "text": [
      "name: Alice\n",
      "age: 30\n",
      "city: New York\n"
     ]
    }
   ],
   "source": [
    "def print_dictionary(d):\n",
    "    for key, value in d.items():\n",
    "        print(f\"{key}: {value}\")\n",
    "\n",
    "my_dict = {'name': 'Alice', 'age': 30, 'city': 'New York'}\n",
    "print_dictionary(my_dict)\n"
   ]
  },
  {
   "cell_type": "markdown",
   "id": "aa062ded-0b63-4063-ab35-e54b13bfe3e7",
   "metadata": {},
   "source": [
    "#### ...8"
   ]
  },
  {
   "cell_type": "code",
   "execution_count": 35,
   "id": "e40a1475-4d84-42fe-a9d2-1457e22b163a",
   "metadata": {},
   "outputs": [
    {
     "name": "stdout",
     "output_type": "stream",
     "text": [
      "[10.15, 2.3, 11, 'hii', 99]\n"
     ]
    }
   ],
   "source": [
    "def reverse_list(lst):\n",
    "\n",
    "    return lst\n",
    "\n",
    "my_list = [10.15,2.3,11,\"hii\",99,]\n",
    "print(my_list)"
   ]
  },
  {
   "cell_type": "markdown",
   "id": "080fa6c5-7643-4ed4-8307-46f01745be39",
   "metadata": {},
   "source": [
    "### 9. Python function to check if a number is palindrome or not"
   ]
  },
  {
   "cell_type": "code",
   "execution_count": 40,
   "id": "3bb546d4-adc7-4a97-a9b9-17d361fc8738",
   "metadata": {},
   "outputs": [],
   "source": [
    "def number(num):\n",
    "    num=str(num)\n",
    "    if num==num[::-1]:\n",
    "        print(\"number is palindrom\")\n",
    "    else:\n",
    "        print(\"not palindrom\")"
   ]
  },
  {
   "cell_type": "code",
   "execution_count": 43,
   "id": "8961b821-6d9c-4357-8be8-bad6cd139257",
   "metadata": {},
   "outputs": [
    {
     "name": "stdout",
     "output_type": "stream",
     "text": [
      "number is palindrom\n"
     ]
    }
   ],
   "source": [
    "number(12121)"
   ]
  },
  {
   "cell_type": "markdown",
   "id": "a85fb1ce-8583-4a69-a1e1-98cad2569838",
   "metadata": {},
   "source": [
    "### 10. Python function to find the factorial of a number"
   ]
  },
  {
   "cell_type": "code",
   "execution_count": 63,
   "id": "0cc606c9-11cc-4014-bacb-3e49d46b29db",
   "metadata": {},
   "outputs": [],
   "source": [
    "def num(n):\n",
    "    fact=1\n",
    "    for i in range(1,n):\n",
    "        fact*=i   \n",
    "        print(fact)    "
   ]
  },
  {
   "cell_type": "code",
   "execution_count": 66,
   "id": "151c2fa0-a766-4a2a-8e28-b586376333bd",
   "metadata": {},
   "outputs": [
    {
     "name": "stdout",
     "output_type": "stream",
     "text": [
      "1\n",
      "2\n",
      "6\n",
      "24\n",
      "120\n"
     ]
    }
   ],
   "source": [
    "num(6)"
   ]
  },
  {
   "cell_type": "code",
   "execution_count": null,
   "id": "c8e4376c-e07f-45e6-b1dc-530ccf17a221",
   "metadata": {},
   "outputs": [],
   "source": []
  }
 ],
 "metadata": {
  "kernelspec": {
   "display_name": "Python 3 (ipykernel)",
   "language": "python",
   "name": "python3"
  },
  "language_info": {
   "codemirror_mode": {
    "name": "ipython",
    "version": 3
   },
   "file_extension": ".py",
   "mimetype": "text/x-python",
   "name": "python",
   "nbconvert_exporter": "python",
   "pygments_lexer": "ipython3",
   "version": "3.12.4"
  }
 },
 "nbformat": 4,
 "nbformat_minor": 5
}
