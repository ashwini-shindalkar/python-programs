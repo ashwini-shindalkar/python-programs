{
 "cells": [
  {
   "cell_type": "markdown",
   "id": "1c682056-1431-43f2-95a3-275f018fa78e",
   "metadata": {},
   "source": [
    "1. Write a Python program to get the Python version you are using"
   ]
  },
  {
   "cell_type": "code",
   "execution_count": 1,
   "id": "c37b415f-b45d-46f8-bd72-3eac1f33be27",
   "metadata": {},
   "outputs": [
    {
     "name": "stdout",
     "output_type": "stream",
     "text": [
      "Python version\n",
      "3.12.4 | packaged by Anaconda, Inc. | (main, Jun 18 2024, 15:03:56) [MSC v.1929 64 bit (AMD64)]\n",
      "Version info.\n",
      "sys.version_info(major=3, minor=12, micro=4, releaselevel='final', serial=0)\n"
     ]
    }
   ],
   "source": [
    "import sys\n",
    "print(\"Python version\")\n",
    "print (sys.version)\n",
    "print(\"Version info.\")\n",
    "print (sys.version_info)"
   ]
  },
  {
   "cell_type": "markdown",
   "id": "c37bba9a-fccc-44ac-a2b8-128f861b577f",
   "metadata": {},
   "source": [
    "2. Write a Python program which accepts the radius of a circle from the user and compute the area"
   ]
  },
  {
   "cell_type": "code",
   "execution_count": 5,
   "id": "59d81b9d-ca7e-491f-94f7-fbf1133fa030",
   "metadata": {},
   "outputs": [],
   "source": [
    "import numpy as np\n",
    "def areaofcircle():\n",
    "    radius=float(input('Enter the radius of Circle:'))\n",
    "    area=np.pi *radius*radius\n",
    "    return area\n",
    "    "
   ]
  },
  {
   "cell_type": "code",
   "execution_count": 7,
   "id": "4206124a-8cd3-447e-b758-0648a32cb6f3",
   "metadata": {},
   "outputs": [
    {
     "name": "stdin",
     "output_type": "stream",
     "text": [
      "Enter the radius of Circle: 15\n"
     ]
    },
    {
     "data": {
      "text/plain": [
       "706.8583470577034"
      ]
     },
     "execution_count": 7,
     "metadata": {},
     "output_type": "execute_result"
    }
   ],
   "source": [
    "areaofcircle()"
   ]
  },
  {
   "cell_type": "markdown",
   "id": "43db7b51-7c27-4baf-ad2b-f56960945e33",
   "metadata": {},
   "source": [
    "3. Write a Python program which accepts the user's first and last name and print them in reverse order with a space between them."
   ]
  },
  {
   "cell_type": "code",
   "execution_count": 8,
   "id": "d033b682-2ecd-4b20-8d44-4528216a7a79",
   "metadata": {},
   "outputs": [],
   "source": [
    "def reversethestring():\n",
    "    first_name=input('Enter your first name')\n",
    "    last_name=input('Enter your last name')\n",
    "    return last_name[::-1],first_name[::-1]"
   ]
  },
  {
   "cell_type": "code",
   "execution_count": 9,
   "id": "de35ab86-48aa-42aa-b701-c4ba071f6c3b",
   "metadata": {},
   "outputs": [
    {
     "name": "stdin",
     "output_type": "stream",
     "text": [
      "Enter your first name Ashwini \n",
      "Enter your last name patil\n"
     ]
    },
    {
     "data": {
      "text/plain": [
       "('litap', ' iniwhsA')"
      ]
     },
     "execution_count": 9,
     "metadata": {},
     "output_type": "execute_result"
    }
   ],
   "source": [
    "reversethestring()"
   ]
  },
  {
   "cell_type": "markdown",
   "id": "cc399e02-bef4-44e9-a793-493de8cda4d0",
   "metadata": {},
   "source": [
    "4. Write a Python program to display the current date and time."
   ]
  },
  {
   "cell_type": "code",
   "execution_count": 10,
   "id": "b61122d0-55e3-4a6b-b784-b28e90de2f92",
   "metadata": {},
   "outputs": [
    {
     "name": "stdout",
     "output_type": "stream",
     "text": [
      "Current date and time :  2024-08-19 23:35:55.375588\n"
     ]
    }
   ],
   "source": [
    "import datetime\n",
    "now = datetime.datetime.now()\n",
    "print (\"Current date and time : \",now)"
   ]
  },
  {
   "cell_type": "code",
   "execution_count": 11,
   "id": "0dfb2495-a971-4656-8d85-12c3177ed663",
   "metadata": {},
   "outputs": [
    {
     "name": "stdin",
     "output_type": "stream",
     "text": [
      "Input your First Name :  sonu\n",
      "Input your Last Name :  patil\n"
     ]
    },
    {
     "name": "stdout",
     "output_type": "stream",
     "text": [
      "Hello  patil sonu\n"
     ]
    }
   ],
   "source": [
    "## Another way \n",
    "f_name = input(\"Input your First Name : \")\n",
    "l_name = input(\"Input your Last Name : \")\n",
    "print (\"Hello  \" + l_name + \" \" + f_name)"
   ]
  },
  {
   "cell_type": "markdown",
   "id": "df38a454-e783-4c62-890e-93fcc227ad0c",
   "metadata": {},
   "source": [
    "5. Write a Python program to display the first and last colors from the following list"
   ]
  },
  {
   "cell_type": "code",
   "execution_count": 13,
   "id": "fbf905fe-1222-42fe-a5c2-c0b172e65497",
   "metadata": {},
   "outputs": [
    {
     "name": "stdout",
     "output_type": "stream",
     "text": [
      "yellow\n",
      "orange\n"
     ]
    }
   ],
   "source": [
    "color_list = [\"yellow\",\"Green\",\"grey\" ,\"orange\"]\n",
    "print(color_list[0])\n",
    "print(color_list[-1])"
   ]
  },
  {
   "cell_type": "markdown",
   "id": "a42c34d2-e8d4-401d-b5aa-420cd06bb718",
   "metadata": {},
   "source": [
    "6.Write a program to demonstrate different number data types in Python."
   ]
  },
  {
   "cell_type": "code",
   "execution_count": 14,
   "id": "5c896455-ad2a-42de-83d5-d0f9e2facc14",
   "metadata": {},
   "outputs": [
    {
     "name": "stdout",
     "output_type": "stream",
     "text": [
      "The datatype of a is  <class 'bool'>\n",
      "The datatype of b is  <class 'int'>\n",
      "The datatype of c is  <class 'float'>\n",
      "The datatype of d is  <class 'str'>\n"
     ]
    }
   ],
   "source": [
    "a=True\n",
    "b=12\n",
    "c=34.56\n",
    "d='Data sciience'\n",
    "print('The datatype of a is ',type(a))\n",
    "print('The datatype of b is ',type(b))\n",
    "print('The datatype of c is ',type(c))\n",
    "print('The datatype of d is ',type(d))\n"
   ]
  },
  {
   "cell_type": "markdown",
   "id": "3b7bb53f-dc77-4e90-a0d0-ce500d04d314",
   "metadata": {},
   "source": [
    "7. Python Program to find sum of array"
   ]
  },
  {
   "cell_type": "code",
   "execution_count": 15,
   "id": "e522580d-cdb5-4356-9ded-686468e802d9",
   "metadata": {},
   "outputs": [],
   "source": [
    "def sumofarray(b):\n",
    "    add=0\n",
    "    for i in b:\n",
    "        add=add+i\n",
    "    return add"
   ]
  },
  {
   "cell_type": "code",
   "execution_count": 16,
   "id": "8b9b55a3-de8f-43ff-b909-bfdae69592f7",
   "metadata": {},
   "outputs": [
    {
     "data": {
      "text/plain": [
       "6"
      ]
     },
     "execution_count": 16,
     "metadata": {},
     "output_type": "execute_result"
    }
   ],
   "source": [
    "sumofarray(np.array([1,2,3]))"
   ]
  },
  {
   "cell_type": "code",
   "execution_count": null,
   "id": "bb669a89-5530-4550-b4bb-f3a1a5e753db",
   "metadata": {},
   "outputs": [],
   "source": []
  }
 ],
 "metadata": {
  "kernelspec": {
   "display_name": "Python 3 (ipykernel)",
   "language": "python",
   "name": "python3"
  },
  "language_info": {
   "codemirror_mode": {
    "name": "ipython",
    "version": 3
   },
   "file_extension": ".py",
   "mimetype": "text/x-python",
   "name": "python",
   "nbconvert_exporter": "python",
   "pygments_lexer": "ipython3",
   "version": "3.12.4"
  }
 },
 "nbformat": 4,
 "nbformat_minor": 5
}
