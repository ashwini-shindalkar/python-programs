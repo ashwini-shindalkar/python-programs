{
 "cells": [
  {
   "cell_type": "code",
   "execution_count": 79,
   "id": "836ef29c-bc26-4b46-92c9-5b5c44f541ed",
   "metadata": {},
   "outputs": [
    {
     "name": "stdout",
     "output_type": "stream",
     "text": [
      "*\n",
      "**\n",
      "***\n",
      "****\n",
      "*****\n"
     ]
    }
   ],
   "source": [
    "for i in range(1,6):\n",
    "    print(i*\"*\")"
   ]
  },
  {
   "cell_type": "code",
   "execution_count": 1,
   "id": "3d6660d8-a28c-4ad7-9799-d7dcc196eac6",
   "metadata": {},
   "outputs": [
    {
     "name": "stdout",
     "output_type": "stream",
     "text": [
      "******\n",
      "*****\n",
      "****\n",
      "***\n",
      "**\n",
      "*\n"
     ]
    }
   ],
   "source": [
    "for i in range(6,0,-1):\n",
    "     print(i*\"*\")\n",
    "\n",
    "     \n",
    "    "
   ]
  },
  {
   "cell_type": "code",
   "execution_count": 27,
   "id": "cb21e605-1797-4c15-bf12-b965116cba74",
   "metadata": {},
   "outputs": [
    {
     "name": "stdout",
     "output_type": "stream",
     "text": [
      "\n",
      "1\n",
      "22\n",
      "333\n",
      "4444\n",
      "55555\n"
     ]
    }
   ],
   "source": [
    "\n",
    "for i in range(6):\n",
    "       for j in range(i):\n",
    "           print(i,end=\"\")\n",
    "       print(\"\")\n",
    "    "
   ]
  },
  {
   "cell_type": "code",
   "execution_count": 36,
   "id": "09c09ae7-901c-43f8-bf4f-b4c88f1a21f1",
   "metadata": {},
   "outputs": [
    {
     "name": "stdout",
     "output_type": "stream",
     "text": [
      "55555\n",
      "4444\n",
      "333\n",
      "22\n",
      "1\n"
     ]
    }
   ],
   "source": [
    "\n",
    "for i in range(5,0,-1):\n",
    "      for j in range(i):\n",
    "           print(i, end=\"\")\n",
    "      print(\"\")    "
   ]
  },
  {
   "cell_type": "code",
   "execution_count": 27,
   "id": "3fef24e2-dbeb-4495-9d46-a46d513bc608",
   "metadata": {},
   "outputs": [
    {
     "name": "stdout",
     "output_type": "stream",
     "text": [
      "*********\n",
      " *******\n",
      "  *****\n",
      "   ***\n",
      "    *\n"
     ]
    }
   ],
   "source": [
    "rows=5\n",
    "k=0\n",
    "for i in range(row,0,-1):\n",
    "    for space in range(1,(rows-i)+1):\n",
    "           print(end=\" \")\n",
    "    while k!=(2*i-1):\n",
    "           print(\"*\",end=\"\")\n",
    "           k+=1\n",
    "    \n",
    "    k=0\n",
    "    print()\n",
    "        \n",
    "        \n",
    "        \n",
    "    "
   ]
  },
  {
   "cell_type": "code",
   "execution_count": 15,
   "id": "407d8397-c195-4b88-b353-2b460808393e",
   "metadata": {},
   "outputs": [
    {
     "name": "stdout",
     "output_type": "stream",
     "text": [
      "*********\n",
      "************\n",
      "*************\n",
      "************\n",
      "*********\n"
     ]
    }
   ],
   "source": [
    "row=5\n",
    "k=0\n",
    "for i in range(1,row+1):\n",
    "    for space in range(1,(row-i)+1):\n",
    "           print(i*\"*\",end=\"*\")\n",
    "    while k!=(2*i-1):\n",
    "          print(\"*\",end=\"\")\n",
    "          k+=1\n",
    "    k=0\n",
    "    print()\n"
   ]
  },
  {
   "cell_type": "code",
   "execution_count": 47,
   "id": "0bf95bf6-d84b-483a-887a-ffc8fc5af69a",
   "metadata": {},
   "outputs": [
    {
     "name": "stdout",
     "output_type": "stream",
     "text": [
      "    *\n",
      "   ***\n",
      "  *****\n",
      " *******\n",
      "*********\n"
     ]
    }
   ],
   "source": [
    "rows=5\n",
    "k=0\n",
    "for i in range(1,row+1):\n",
    "    for space in range(1,(rows-i)+1):\n",
    "           print(end=\" \")\n",
    "    while k!=(2*i-1):\n",
    "           print(\"*\",end=\"\")\n",
    "           k+=1\n",
    "    \n",
    "    k=0\n",
    "    print()\n",
    "        \n",
    "        \n",
    "        \n",
    "    "
   ]
  },
  {
   "cell_type": "code",
   "execution_count": 45,
   "id": "c9cb92fa-d3fe-4385-9686-df31ba4d8bde",
   "metadata": {},
   "outputs": [
    {
     "name": "stdout",
     "output_type": "stream",
     "text": [
      "*\n",
      "***\n",
      "*****\n",
      "*******\n",
      "*********\n"
     ]
    }
   ],
   "source": [
    "row=5\n",
    "k=0\n",
    "for i in range(1,row+1):\n",
    "    for space in range(1,(row-i)+1):\n",
    "             print(end=\"\")\n",
    "    while k!=(2*i-1):\n",
    "            print(\"*\",end=\"\")\n",
    "            k+=1\n",
    "    k=0 \n",
    "    print()"
   ]
  },
  {
   "cell_type": "code",
   "execution_count": null,
   "id": "700a375f-b22f-46c3-bb91-ece320ae6b15",
   "metadata": {},
   "outputs": [],
   "source": []
  },
  {
   "cell_type": "code",
   "execution_count": 49,
   "id": "9adbabec-df79-4a80-94b7-7e33b6adaec2",
   "metadata": {},
   "outputs": [
    {
     "name": "stdout",
     "output_type": "stream",
     "text": [
      "555555555\n",
      " 4444444\n",
      "  33333\n",
      "   222\n",
      "    1\n"
     ]
    }
   ],
   "source": [
    "rows=5\n",
    "k=0\n",
    "for i in range(row,0,-1):\n",
    "    for space in range(1,(rows-i)+1):\n",
    "           print(end=\" \")\n",
    "    while k!=(2*i-1):\n",
    "           print(i,end=\"\")\n",
    "           k+=1\n",
    "    \n",
    "    k=0\n",
    "    print()\n",
    "        \n",
    "        \n",
    "        \n",
    "    "
   ]
  },
  {
   "cell_type": "code",
   "execution_count": 53,
   "id": "b5659aaf-cde4-4970-8347-369e2ed27220",
   "metadata": {},
   "outputs": [
    {
     "name": "stdout",
     "output_type": "stream",
     "text": [
      "    1\n",
      "   222\n",
      "  33333\n",
      " 4444444\n",
      "555555555\n"
     ]
    }
   ],
   "source": [
    "rows=5\n",
    "k=0\n",
    "for i in range(1,row+1):\n",
    "    for space in range(1,(rows-i)+1):\n",
    "           print(end=\" \")\n",
    "    while k!=(2*i-1):\n",
    "           print(i,end=\"\")\n",
    "           k+=1\n",
    "    \n",
    "    k=0\n",
    "    print()\n",
    "        \n",
    "        \n",
    "        \n",
    "    "
   ]
  }
 ],
 "metadata": {
  "kernelspec": {
   "display_name": "Python 3 (ipykernel)",
   "language": "python",
   "name": "python3"
  },
  "language_info": {
   "codemirror_mode": {
    "name": "ipython",
    "version": 3
   },
   "file_extension": ".py",
   "mimetype": "text/x-python",
   "name": "python",
   "nbconvert_exporter": "python",
   "pygments_lexer": "ipython3",
   "version": "3.12.4"
  }
 },
 "nbformat": 4,
 "nbformat_minor": 5
}
