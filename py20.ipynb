{
 "cells": [
  {
   "cell_type": "markdown",
   "id": "2ac2dafa-3941-4bb9-a42a-4cd06aa2f030",
   "metadata": {},
   "source": [
    "## practice function program 2"
   ]
  },
  {
   "cell_type": "markdown",
   "id": "13ebf8b7-f692-4cd6-90dc-a541a2e18b18",
   "metadata": {},
   "source": [
    "### 1. Python function using positional arguments"
   ]
  },
  {
   "cell_type": "code",
   "execution_count": 7,
   "id": "f229cac5-a2b7-4a1c-8966-245c5fb19c12",
   "metadata": {},
   "outputs": [],
   "source": [
    "def nameAge(name, age):\n",
    "    print(\"Hi, I am\", name)\n",
    "    print(\"My age is\",age)\n"
   ]
  },
  {
   "cell_type": "code",
   "execution_count": 21,
   "id": "b4726f7c-543d-46c2-b585-c0e03cb7d0ad",
   "metadata": {},
   "outputs": [
    {
     "name": "stdout",
     "output_type": "stream",
     "text": [
      "case-1:\n",
      "Hi, I am Riya\n",
      "My age is 20\n",
      "\n",
      "case-2:\n",
      "Hi, I am Anu\n",
      "My age is 25\n"
     ]
    }
   ],
   "source": [
    "print(\"case-1:\")\n",
    "nameAge(\"Riya\",20)\n",
    "print(\"\\ncase-2:\")\n",
    "nameAge(\"Anu\",25)"
   ]
  },
  {
   "cell_type": "markdown",
   "id": "810919ae-e986-4b65-a2bc-7d20b5354a38",
   "metadata": {},
   "source": [
    "### 2. Python function using keyword arguments"
   ]
  },
  {
   "cell_type": "code",
   "execution_count": 19,
   "id": "36fb7375-60c5-42f2-b648-83152cc4c071",
   "metadata": {},
   "outputs": [
    {
     "name": "stdout",
     "output_type": "stream",
     "text": [
      "The oldest child is  Saurav\n"
     ]
    }
   ],
   "source": [
    "def my_function(child3, child2, child1):\n",
    "  print(\"The oldest child is \" , child3)\n",
    "\n",
    "my_function(child1 = \"Sonal\", child2 = \"Abhi\", child3 = \"Saurav\")\n"
   ]
  },
  {
   "cell_type": "markdown",
   "id": "a43b289e-40d6-42dc-a3c6-76eb0e908895",
   "metadata": {},
   "source": [
    "### 3. Python function using default arguments"
   ]
  },
  {
   "cell_type": "code",
   "execution_count": 16,
   "id": "ed43d650-e564-4457-8c68-4ef84340e514",
   "metadata": {},
   "outputs": [
    {
     "name": "stdout",
     "output_type": "stream",
     "text": [
      "I am from  Latur\n",
      "I am from  shambhajinagar\n",
      "I am from  Pune\n",
      "I am from  Nagapur\n",
      "I am from  Pune\n"
     ]
    }
   ],
   "source": [
    "def my_function(city = \"Pune\"):\n",
    "  print(\"I am from \", city)\n",
    "\n",
    "my_function(\"Latur\")\n",
    "my_function(\"shambhajinagar\")\n",
    "my_function()\n",
    "my_function(\"Nagapur\")\n",
    "my_function()\n"
   ]
  },
  {
   "cell_type": "markdown",
   "id": "95004340-2ab6-448f-968d-c4c941c1d7ee",
   "metadata": {},
   "source": [
    "### 4. Python function using optional arguments"
   ]
  },
  {
   "cell_type": "code",
   "execution_count": 23,
   "id": "61ee4d44-cec9-4166-85fa-d990481712d6",
   "metadata": {},
   "outputs": [
    {
     "name": "stdout",
     "output_type": "stream",
     "text": [
      "Hi, Aarohi!\n",
      "Hello, Rohan!\n"
     ]
    }
   ],
   "source": [
    "def greet(name, greeting=\"Hello\"):\n",
    "    \n",
    "    return f\"{greeting}, {name}!\"\n",
    "\n",
    "\n",
    "print(greet(\"Aarohi\", \"Hi\"))  \n",
    "\n",
    "print(greet(\"Rohan\"))  \n"
   ]
  },
  {
   "cell_type": "markdown",
   "id": "55cede70-189d-48a5-9ad5-f3f7a729a777",
   "metadata": {},
   "source": [
    "### 5. assing an arbitrary number of arguments to a Python function"
   ]
  },
  {
   "cell_type": "code",
   "execution_count": 27,
   "id": "37ce3812-fda3-4987-9821-f2580540e5b6",
   "metadata": {},
   "outputs": [
    {
     "name": "stdout",
     "output_type": "stream",
     "text": [
      "1\n",
      "2\n",
      "3\n",
      "4\n",
      "5\n"
     ]
    }
   ],
   "source": [
    "def print_numbers(*args):\n",
    "    for number in args:\n",
    "        print(number)\n",
    "\n",
    "\n",
    "print_numbers(1, 2, 3, 4, 5)\n"
   ]
  },
  {
   "cell_type": "markdown",
   "id": "6a0515ff-7c41-4aa4-9dd8-3d9c6466cfc0",
   "metadata": {},
   "source": [
    "#### 6. Python function that returns multiple values"
   ]
  },
  {
   "cell_type": "code",
   "execution_count": 24,
   "id": "603c6243-6199-417c-b3ac-0e62dfd9910f",
   "metadata": {},
   "outputs": [
    {
     "name": "stdout",
     "output_type": "stream",
     "text": [
      "{'total': 15, 'avg': 3.0, 'max': 5, 'mini': 1}\n"
     ]
    }
   ],
   "source": [
    "def get_stats(numbers):\n",
    "    return {\n",
    "        'total': sum(numbers),\n",
    "        'avg': sum(numbers) / len(numbers),\n",
    "        'max': max(numbers),\n",
    "        'mini': min(numbers)\n",
    "    }\n",
    "\n",
    "\n",
    "stats = get_stats([1, 2, 3, 4, 5])\n",
    "print(stats)  \n"
   ]
  },
  {
   "cell_type": "markdown",
   "id": "2e96362d-d553-4370-9de4-3833b0d645ce",
   "metadata": {},
   "source": [
    "### 7. Python nested functions"
   ]
  },
  {
   "cell_type": "code",
   "execution_count": 30,
   "id": "2117cc53-5d1d-4319-86e5-19242ea2f9cd",
   "metadata": {},
   "outputs": [
    {
     "name": "stdout",
     "output_type": "stream",
     "text": [
      "10\n",
      "15\n"
     ]
    }
   ],
   "source": [
    "def make_multiplier(factor):\n",
    "    def multiplier(x):\n",
    "        return x * factor\n",
    "    return multiplier\n",
    "\n",
    "\n",
    "double = make_multiplier(2)\n",
    "triple = make_multiplier(3)\n",
    "\n",
    "print(double(5))  \n",
    "print(triple(5))  \n"
   ]
  },
  {
   "cell_type": "markdown",
   "id": "bbd74ec8-0223-4850-be02-f630020b4308",
   "metadata": {},
   "source": [
    "### 8. Write a Python function to find the maximum of three numbers."
   ]
  },
  {
   "cell_type": "code",
   "execution_count": 33,
   "id": "0f0123ff-cbe9-4460-888f-4bf40e373e6a",
   "metadata": {},
   "outputs": [],
   "source": [
    "def numbers(A,B,C):\n",
    "    if A>=B and A>= C:\n",
    "        return A\n",
    "    elif B >= A and B >= C:\n",
    "        return B\n",
    "    else:\n",
    "        return C\n"
   ]
  },
  {
   "cell_type": "code",
   "execution_count": 34,
   "id": "ecac84df-2459-4f05-aad4-435011705a11",
   "metadata": {},
   "outputs": [
    {
     "data": {
      "text/plain": [
       "50"
      ]
     },
     "execution_count": 34,
     "metadata": {},
     "output_type": "execute_result"
    }
   ],
   "source": [
    "numbers(10,50,3)"
   ]
  },
  {
   "cell_type": "markdown",
   "id": "fe92a8a5-daf3-4be3-8ee0-f859f2a64365",
   "metadata": {},
   "source": [
    "#### 9. Write a Python function to sum all the numbers in a list.\n"
   ]
  },
  {
   "cell_type": "code",
   "execution_count": 53,
   "id": "0cd6ad86-e128-4d07-a893-fd4d01d3c5d4",
   "metadata": {},
   "outputs": [],
   "source": [
    "def  sum_of_list(numbers):\n",
    "    return sum(numbers)"
   ]
  },
  {
   "cell_type": "code",
   "execution_count": 54,
   "id": "21d895b0-2ce0-457f-9fc2-db0c75997919",
   "metadata": {},
   "outputs": [
    {
     "name": "stdout",
     "output_type": "stream",
     "text": [
      "[2, 4, 5, 6, 7]\n",
      "24\n"
     ]
    }
   ],
   "source": [
    "list=[2,4,5,6,7]\n",
    "result=sum_of_list(list)\n",
    "print(list)\n",
    "print(result)"
   ]
  },
  {
   "cell_type": "markdown",
   "id": "4d028c1c-c5cd-4ad9-8874-d79755a28df6",
   "metadata": {},
   "source": [
    "### 10. Write a Python function to multiply all the numbers in a list."
   ]
  },
  {
   "cell_type": "code",
   "execution_count": 57,
   "id": "8d207505-dac2-43cb-a671-efa3eedc2697",
   "metadata": {},
   "outputs": [],
   "source": [
    "def multiply(numbers):\n",
    "    multi=1\n",
    "    for i in numbers:\n",
    "        multi*=i\n",
    "    return multi"
   ]
  },
  {
   "cell_type": "code",
   "execution_count": 58,
   "id": "299db20a-45db-407b-9c3d-c1708bc3287a",
   "metadata": {},
   "outputs": [
    {
     "name": "stdout",
     "output_type": "stream",
     "text": [
      "360\n"
     ]
    }
   ],
   "source": [
    "list2=[1,3,4,5,6]\n",
    "final_result=multiply(list2)\n",
    "print(final_result)"
   ]
  },
  {
   "cell_type": "markdown",
   "id": "ca47c844-978a-48b6-bc88-bc66377f40c1",
   "metadata": {},
   "source": [
    "## Thank you"
   ]
  },
  {
   "cell_type": "code",
   "execution_count": null,
   "id": "3ad7be69-8524-4e9d-bd77-75a12332ce6b",
   "metadata": {},
   "outputs": [],
   "source": []
  }
 ],
 "metadata": {
  "kernelspec": {
   "display_name": "Python 3 (ipykernel)",
   "language": "python",
   "name": "python3"
  },
  "language_info": {
   "codemirror_mode": {
    "name": "ipython",
    "version": 3
   },
   "file_extension": ".py",
   "mimetype": "text/x-python",
   "name": "python",
   "nbconvert_exporter": "python",
   "pygments_lexer": "ipython3",
   "version": "3.12.4"
  }
 },
 "nbformat": 4,
 "nbformat_minor": 5
}
