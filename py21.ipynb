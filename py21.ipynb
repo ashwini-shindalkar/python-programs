{
 "cells": [
  {
   "cell_type": "markdown",
   "id": "79b04de4-ea8f-4078-9cd4-5b9454363eef",
   "metadata": {},
   "source": [
    "### practice function program 3"
   ]
  },
  {
   "cell_type": "markdown",
   "id": "50f938bc-5b79-45ae-9709-4e6dfbc0a902",
   "metadata": {},
   "source": [
    "### 1. Write a Python program to reverse a string.\n",
    "##### Sample String : \"1234abcd\"\n",
    "##### Expected Output : \"dcba4321\""
   ]
  },
  {
   "cell_type": "code",
   "execution_count": 18,
   "id": "10a8da0f-9f56-4ce0-9ac9-a17f36f2a31b",
   "metadata": {},
   "outputs": [],
   "source": [
    "def string(n):\n",
    "    return n[::-1]"
   ]
  },
  {
   "cell_type": "code",
   "execution_count": 20,
   "id": "5c872887-8648-458c-b3c0-aabb7492647c",
   "metadata": {},
   "outputs": [
    {
     "name": "stdout",
     "output_type": "stream",
     "text": [
      "original string: 1234abcd\n",
      "reverse string: dcba4321\n"
     ]
    }
   ],
   "source": [
    "my_string=\"1234abcd\"\n",
    "reverse_string=string(str)\n",
    "print(\"original string:\",my_string)\n",
    "print(\"reverse string:\",reverse_string)"
   ]
  },
  {
   "cell_type": "code",
   "execution_count": 9,
   "id": "a66d448e-8188-40aa-a06a-66a723617370",
   "metadata": {},
   "outputs": [
    {
     "data": {
      "text/plain": [
       "'dcba4321'"
      ]
     },
     "execution_count": 9,
     "metadata": {},
     "output_type": "execute_result"
    }
   ],
   "source": [
    "str1=(\"1234abcd\")\n",
    "str1[::-1]"
   ]
  },
  {
   "cell_type": "markdown",
   "id": "75300954-3e65-453f-9b3f-f1bf29f5095e",
   "metadata": {},
   "source": [
    "### ...2. Write a Python function to calculate the factorial of a number (a non-negative integer). The function accepts the number as an argument."
   ]
  },
  {
   "cell_type": "code",
   "execution_count": 129,
   "id": "dd27d7c0-423c-49a4-8469-3c13bbcba5a8",
   "metadata": {},
   "outputs": [
    {
     "name": "stdout",
     "output_type": "stream",
     "text": [
      "The factorial of 5 is 120\n"
     ]
    }
   ],
   "source": [
    "def factorial(n):\n",
    "    if n < 0:\n",
    "        raise ValueError(\"Factorial is not defined for negative numbers\")\n",
    "    result = 1\n",
    "    for i in range(1, n + 1):\n",
    "        result *= i\n",
    "    return result\n",
    "\n",
    "# Example usage:\n",
    "number = 5\n",
    "print(f\"The factorial of {number} is {factorial(number)}\")\n"
   ]
  },
  {
   "cell_type": "markdown",
   "id": "5e44bb28-a463-4c57-9ee2-c9407c7ce099",
   "metadata": {},
   "source": [
    "## ...3"
   ]
  },
  {
   "cell_type": "code",
   "execution_count": 126,
   "id": "6f2f8506-c1f0-4c36-8a60-5f9d50d21af4",
   "metadata": {},
   "outputs": [],
   "source": [
    "def factorial(n):\n",
    "    fact=1\n",
    "    for i in range(1,n):\n",
    "        fact*=i\n",
    "        print(\"factorial:\",fact)\n",
    "\n",
    "    return  fact\n"
   ]
  },
  {
   "cell_type": "code",
   "execution_count": 128,
   "id": "35b2215a-f7a6-46f5-a969-8bfbaea17069",
   "metadata": {},
   "outputs": [
    {
     "name": "stdout",
     "output_type": "stream",
     "text": [
      "factorial: 1\n",
      "factorial: 2\n",
      "factorial: 6\n",
      "factorial: 24\n",
      "factorial: 120\n",
      "\n",
      "factorial of 6 is 120\n"
     ]
    }
   ],
   "source": [
    "number=6\n",
    "print(f\"\\nfactorial of {number} is {factorial(number)}\")"
   ]
  },
  {
   "cell_type": "markdown",
   "id": "f321bf5d-8a21-4d84-aafb-8a2381a1ee22",
   "metadata": {},
   "source": [
    "### 4. Write a Python function to check whether a number falls within a given range"
   ]
  },
  {
   "cell_type": "code",
   "execution_count": 141,
   "id": "abf07e20-0dd6-4cfd-abf8-9ab3e27dc62c",
   "metadata": {},
   "outputs": [],
   "source": [
    "def  num(n):\n",
    "    range=20\n",
    "    if n>range:\n",
    "        print(\"not in range\")\n",
    "    else:\n",
    "        print(n)\n"
   ]
  },
  {
   "cell_type": "code",
   "execution_count": 143,
   "id": "8816a542-c905-4c07-b5e4-142f5648769c",
   "metadata": {},
   "outputs": [
    {
     "name": "stdout",
     "output_type": "stream",
     "text": [
      "2\n"
     ]
    }
   ],
   "source": [
    "num(2)"
   ]
  },
  {
   "cell_type": "markdown",
   "id": "59699975-2bdf-47ef-b78c-e9bbaa5f118e",
   "metadata": {},
   "source": [
    "### ....5"
   ]
  },
  {
   "cell_type": "code",
   "execution_count": 155,
   "id": "4f400c93-b6f4-4a05-8761-633e73d08ae1",
   "metadata": {},
   "outputs": [],
   "source": [
    "def is_in_range(number, start, end):\n",
    "    if start <= number <= end:\n",
    "        print(f\"{number} is within the range {start} to {end}\")\n",
    "    else:\n",
    "        print(f\"{number} is not in given range\")\n",
    "\n"
   ]
  },
  {
   "cell_type": "code",
   "execution_count": 157,
   "id": "98bb8dca-5e00-4632-a4ac-c82992e51685",
   "metadata": {},
   "outputs": [
    {
     "name": "stdout",
     "output_type": "stream",
     "text": [
      "5 is within the range 5 to 10\n"
     ]
    }
   ],
   "source": [
    "is_in_range(5,5,10)"
   ]
  },
  {
   "cell_type": "markdown",
   "id": "d31fde0b-ece6-46ab-8de2-2c82b2e6a616",
   "metadata": {},
   "source": [
    "### 6. Write a Python function that accepts a string and counts the number of upper and lower case letters.\n",
    "Sample String : 'The quick Brow Fox'\n",
    "Expected Output :\n",
    "No. of Upper case characters : 3\n",
    "No. of Lower case Characters : 12\n"
   ]
  },
  {
   "cell_type": "code",
   "execution_count": 192,
   "id": "f52fd722-6693-43e8-b3b8-7f00ecdc95d4",
   "metadata": {},
   "outputs": [],
   "source": [
    "def mystring(str):\n",
    "    upper_count=0\n",
    "    lower_count=0\n",
    "    for char in str:\n",
    "         if char.isupper():\n",
    "            upper_count +=1\n",
    "         elif char.islower():\n",
    "            lower_count +=1\n",
    "    print(f\" No.of Uppercase characters: {upper_count}\")\n",
    "    print(f\" No.of Lowercase characters: {lower_count}\")\n"
   ]
  },
  {
   "cell_type": "code",
   "execution_count": 193,
   "id": "25811e79-1d8d-47db-991d-1262521bc002",
   "metadata": {},
   "outputs": [
    {
     "name": "stdout",
     "output_type": "stream",
     "text": [
      " No.of Uppercase characters: 3\n",
      " No.of Lowercase characters: 12\n"
     ]
    }
   ],
   "source": [
    "mystring(\"The quick Brow Fox\")\n"
   ]
  },
  {
   "cell_type": "markdown",
   "id": "5ab04cd5-beaf-420e-880a-0f7eb84e2bce",
   "metadata": {},
   "source": [
    "### 7. Write a Python function that takes a list and returns a new list with distinct elements from the first list.\n",
    "Sample List : [1,2,3,3,3,3,4,5]\n",
    "Unique List : [1, 2, 3, 4, 5]\n"
   ]
  },
  {
   "cell_type": "code",
   "execution_count": 196,
   "id": "c2894dc6-ca53-4fff-9f68-36b1f669eb0f",
   "metadata": {},
   "outputs": [
    {
     "name": "stdout",
     "output_type": "stream",
     "text": [
      "simple list: [1, 2, 3, 3, 3, 3, 4, 5]\n",
      "Unique List: [1, 2, 3, 4, 5]\n"
     ]
    }
   ],
   "source": [
    "def get_unique_elements(lst):\n",
    "    unique_list = list(set(lst))\n",
    "    return unique_list\n",
    "\n",
    "sample_list = [1, 2, 3, 3, 3, 3, 4, 5]\n",
    "unique_list = get_unique_elements(sample_list)\n",
    "print(\"simple list:\",sample_list)\n",
    "print(\"Unique List:\", unique_list)\n"
   ]
  },
  {
   "cell_type": "markdown",
   "id": "0bc04e0a-4d14-4961-bb94-472c9ff715b8",
   "metadata": {},
   "source": [
    "#### 8. Write a Python function that takes a number as a parameter and checks whether the number is prime or not.\n",
    "Note : A prime number (or a prime) is a natural number greater than 1 and that has no positive divisors other than 1 and itself."
   ]
  },
  {
   "cell_type": "code",
   "execution_count": 57,
   "id": "01acbca4-e508-4c40-8997-eff2d6aeb69c",
   "metadata": {},
   "outputs": [],
   "source": [
    "def is_prime(n):\n",
    "    \n",
    "    if n <= 1:\n",
    "        return False\n",
    "\n",
    "    if n <= 3:\n",
    "        return True\n",
    "\n",
    "    if n % 2 == 0 or n % 3 == 0:\n",
    "        return False\n",
    "\n",
    "    i = 5\n",
    "    while i * i <= n:\n",
    "        if n % i == 0 or n % (i + 2) == 0:\n",
    "            return False\n",
    "        i += 6\n",
    "\n",
    "    return True\n",
    "\n"
   ]
  },
  {
   "cell_type": "code",
   "execution_count": 58,
   "id": "63b13b9c-f84e-4fb4-9095-dd14a17ba323",
   "metadata": {},
   "outputs": [
    {
     "name": "stdout",
     "output_type": "stream",
     "text": [
      "True\n",
      "False\n"
     ]
    }
   ],
   "source": [
    "print(is_prime(29))\n",
    "print(is_prime(20))"
   ]
  },
  {
   "cell_type": "markdown",
   "id": "407343db-d98f-475f-9540-9ea9b6b6b28b",
   "metadata": {},
   "source": [
    "### 9.Write a Python program to print the even numbers from a given list.\n",
    "Sample List : [1, 2, 3, 4, 5, 6, 7, 8, 9]\n",
    "Expected Result : [2, 4, 6, 8]"
   ]
  },
  {
   "cell_type": "code",
   "execution_count": 53,
   "id": "c3e1d68b-80af-42b7-9aff-d90e48191b45",
   "metadata": {},
   "outputs": [],
   "source": [
    "def list(l1):\n",
    "    l2=[]\n",
    "    for num in l1:\n",
    "       if num %2==0:\n",
    "          l2.append(num)\n",
    "    return l2"
   ]
  },
  {
   "cell_type": "code",
   "execution_count": 56,
   "id": "11492c28-b4c0-4277-adb2-b7f2c874ccdc",
   "metadata": {},
   "outputs": [
    {
     "name": "stdout",
     "output_type": "stream",
     "text": [
      "sample: [1, 2, 3, 4, 5, 6, 7, 8, 9]\n",
      "Expected result: [2, 4, 6, 8]\n"
     ]
    }
   ],
   "source": [
    "sample_list=[1,2,3,4,5,6,7,8,9]\n",
    "l2=list(sample_list)\n",
    "print(\"sample:\",sample_list)\n",
    "print (\"Expected result:\",l2)"
   ]
  },
  {
   "cell_type": "markdown",
   "id": "ea7ee9f2-153e-4a58-aaae-319bbe092484",
   "metadata": {},
   "source": [
    "### ...4"
   ]
  },
  {
   "cell_type": "code",
   "execution_count": 59,
   "id": "d565b3d6-f8f5-46c3-b3c4-9165485d7c55",
   "metadata": {},
   "outputs": [
    {
     "name": "stdout",
     "output_type": "stream",
     "text": [
      "[2, 4, 6, 8]\n"
     ]
    }
   ],
   "source": [
    "def even_numbers(numbers):\n",
    "\n",
    "    return [num for num in numbers if num % 2 == 0]\n",
    "\n",
    "sample_list = [1, 2, 3, 4, 5, 6, 7, 8, 9]\n",
    "\n",
    "even_numbers = even_numbers(sample_list)\n",
    "print(even_numbers)\n"
   ]
  },
  {
   "cell_type": "code",
   "execution_count": null,
   "id": "ddea8b92-781d-4b8e-9786-aad970cd083b",
   "metadata": {},
   "outputs": [],
   "source": []
  }
 ],
 "metadata": {
  "kernelspec": {
   "display_name": "Python 3 (ipykernel)",
   "language": "python",
   "name": "python3"
  },
  "language_info": {
   "codemirror_mode": {
    "name": "ipython",
    "version": 3
   },
   "file_extension": ".py",
   "mimetype": "text/x-python",
   "name": "python",
   "nbconvert_exporter": "python",
   "pygments_lexer": "ipython3",
   "version": "3.12.4"
  }
 },
 "nbformat": 4,
 "nbformat_minor": 5
}
