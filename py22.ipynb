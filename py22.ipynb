{
 "cells": [
  {
   "cell_type": "markdown",
   "id": "616cfaa2-85bc-49c4-bb70-14b2f37fe24a",
   "metadata": {},
   "source": [
    "#### 1 . Write a Python program to print the following string in a specific format (see the output). Sample String : \"Twinkle, twinkle, little star, How I wonder what you are! Up above the world so high, Like a diamond in the sky. Twinkle, twinkle, little star, How I wonder what you are\" Output :\n",
    "Twinkle, twinkle, little star, How I wonder what you are! Up above the world so high, Like a diamond in the sky. Twinkle, twinkle, little star, How I wonder what you are\n",
    "\n"
   ]
  },
  {
   "cell_type": "code",
   "execution_count": 9,
   "id": "8c80dc4d-9b7e-46b2-b830-d1e1201a16c4",
   "metadata": {},
   "outputs": [
    {
     "name": "stdout",
     "output_type": "stream",
     "text": [
      "Twinkle, twinkle, little star, \n",
      "\tHow I wonder what you are! \n",
      "\t\tUp above the world so high, \n",
      "\t\tLike a diamond in the sky. \n",
      "Twinkle, twinkle, little star, \n",
      "\tHow I wonder what you are!\n"
     ]
    }
   ],
   "source": [
    "print(\"Twinkle, twinkle, little star, \\n\\tHow I wonder what you are! \\n\\t\\tUp above the world so high, \\n\\t\\tLike a diamond in the sky. \\nTwinkle, twinkle, little star, \\n\\tHow I wonder what you are!\")\n"
   ]
  },
  {
   "cell_type": "markdown",
   "id": "64b56844-0dc6-4e0d-91d6-94cb4a846c8c",
   "metadata": {},
   "source": [
    "#### 2. Write on program which accepts a sequence of comma-separated numbers from user and generate a list with those numbers"
   ]
  },
  {
   "cell_type": "code",
   "execution_count": 3,
   "id": "5aee1dd9-4a48-48c8-8099-95e0511e7945",
   "metadata": {},
   "outputs": [
    {
     "name": "stdin",
     "output_type": "stream",
     "text": [
      "Input some comma seprated numbers :  10,11,13,15,18,20\n"
     ]
    },
    {
     "name": "stdout",
     "output_type": "stream",
     "text": [
      "['10', '11', '13', '15', '18', '20']\n"
     ]
    }
   ],
   "source": [
    "values = input(\"Input some comma seprated numbers : \")\n",
    "list1 = values.split(\",\")\n",
    "print(list1)\n"
   ]
  },
  {
   "cell_type": "markdown",
   "id": "a9bed2ad-cbc6-42f0-b274-16bfb0cc1434",
   "metadata": {},
   "source": [
    "### 3.. Write a Python program to accept a filename from the user and print the extension of that"
   ]
  },
  {
   "cell_type": "markdown",
   "id": "1ca6091a-2f9b-440c-a6ac-e3bf465d4f54",
   "metadata": {},
   "source": [
    "file_name=input('Enter the name of file:')\n",
    "a=file_name.split('.')\n",
    "print(a[1])\n"
   ]
  },
  {
   "cell_type": "markdown",
   "id": "bcb7d684-527e-42b0-b8a3-0f814b0ed0f8",
   "metadata": {},
   "source": [
    "### 4 Write a Python program that accepts an integer (n) and computes the value of n+nn+nnn"
   ]
  },
  {
   "cell_type": "code",
   "execution_count": 8,
   "id": "742f5555-d492-4679-8420-5e120f9756ca",
   "metadata": {},
   "outputs": [
    {
     "name": "stdin",
     "output_type": "stream",
     "text": [
      "Input an integer :  12\n"
     ]
    },
    {
     "name": "stdout",
     "output_type": "stream",
     "text": [
      "122436\n"
     ]
    }
   ],
   "source": [
    "x = int(input(\"Input an integer : \"))\n",
    "n1 = int( \"%s\" % x )\n",
    "n2 = int( \"%s%s\" % (x,x) )\n",
    "n3 = int( \"%s%s%s\" % (x,x,x) )\n",
    "print (n1+n2+n3)"
   ]
  },
  {
   "cell_type": "markdown",
   "id": "9b796ccd-e10d-47ee-b1a7-e749d364bfcb",
   "metadata": {},
   "source": [
    "### 5.Write a program to create, concatenate and print a string and\n",
    "### accessing sub-string from a given string"
   ]
  },
  {
   "cell_type": "code",
   "execution_count": 9,
   "id": "c57bbbbe-d051-4c56-b371-dae7db338a6a",
   "metadata": {},
   "outputs": [
    {
     "name": "stdin",
     "output_type": "stream",
     "text": [
      "Enter the first string Ashwini\n",
      "Enter the second string patil\n"
     ]
    },
    {
     "name": "stdout",
     "output_type": "stream",
     "text": [
      "The first string entered is Ashwini\n",
      "The second string entered is  patil\n",
      "concatenation of two entered string Ashwinipatil\n",
      "Substring of s1 sh\n",
      "substring of s2 t\n"
     ]
    }
   ],
   "source": [
    "s1=input('Enter the first string')\n",
    "s2=input('Enter the second string')\n",
    "print('The first string entered is',s1)\n",
    "print('The second string entered is ',s2)\n",
    "print('concatenation of two entered string',s1+s2)\n",
    "print('Substring of s1',s1[1:3])\n",
    "print('substring of s2',s2[2:3])\n"
   ]
  },
  {
   "cell_type": "markdown",
   "id": "835ac7ad-37a6-461f-b797-0b24dbc65d3e",
   "metadata": {},
   "source": [
    "#### 6.Write a python program to find largest of three numbers."
   ]
  },
  {
   "cell_type": "code",
   "execution_count": 10,
   "id": "566707a6-7a82-4929-9efa-f81a0b4b8c04",
   "metadata": {},
   "outputs": [
    {
     "name": "stdin",
     "output_type": "stream",
     "text": [
      "Enter first number 2\n",
      "Enter second number 10\n",
      "Enter third number 4\n"
     ]
    },
    {
     "name": "stdout",
     "output_type": "stream",
     "text": [
      "The highest number is  10.0\n"
     ]
    }
   ],
   "source": [
    "num1=float(input('Enter first number'))\n",
    "num2=float(input('Enter second number'))\n",
    "num3=float(input('Enter third number'))\n",
    "\n",
    "if (num1>=num2) and (num1>=num3):\n",
    "    print('The highest number is',num1)\n",
    "elif (num2>=num1) and (num2>=num3):\n",
    "    print('The highest number is ',num2)\n",
    "else:\n",
    "    print('The higest number is ',num3)\n",
    "    "
   ]
  },
  {
   "cell_type": "markdown",
   "id": "4c3bd0d7-c10c-400e-9f81-ae996a785645",
   "metadata": {},
   "source": [
    "### ....7"
   ]
  },
  {
   "cell_type": "markdown",
   "id": "0740c7cc-0893-40a7-aa1b-08e61a6dfc6d",
   "metadata": {},
   "source": [
    "max=6\n",
    "for i in range(0,max+1):\n",
    "    print(\"* \"*i)\n",
    "for i in range(max,0,-1):\n",
    "    print(\"* \"*i)\n"
   ]
  },
  {
   "cell_type": "markdown",
   "id": "1b8c7bb6-57ca-4255-b5d8-861a301b00c5",
   "metadata": {},
   "source": [
    "#### 8.Given a range of the first 10 numbers, Iterate from the start number to the end number, and In each iteration print the sum of the current number and previous number"
   ]
  },
  {
   "cell_type": "code",
   "execution_count": 22,
   "id": "fa23d55a-f627-4858-a325-cd9bc0e34b2d",
   "metadata": {},
   "outputs": [],
   "source": [
    "def sumofnum(num):\n",
    "    previousnum=0\n",
    "    for i in range(num):\n",
    "        sum=previousnum+i\n",
    "        print('The current number is:',i ,'Previous numbers:',previousnum,'Sum is:',sum)\n",
    "        previousnum=i"
   ]
  },
  {
   "cell_type": "code",
   "execution_count": 24,
   "id": "2722bea7-41df-4f33-891f-cf025a4b4c1d",
   "metadata": {},
   "outputs": [
    {
     "name": "stdout",
     "output_type": "stream",
     "text": [
      "The current number is: 0 Previous numbers: 0 Sum is: 0\n",
      "The current number is: 1 Previous numbers: 0 Sum is: 1\n",
      "The current number is: 2 Previous numbers: 1 Sum is: 3\n",
      "The current number is: 3 Previous numbers: 2 Sum is: 5\n",
      "The current number is: 4 Previous numbers: 3 Sum is: 7\n"
     ]
    }
   ],
   "source": [
    "sumofnum(5)"
   ]
  },
  {
   "cell_type": "markdown",
   "id": "7f2ec0b7-d80b-49ec-8603-d1a5afb0b51e",
   "metadata": {},
   "source": [
    "### 9.Given a string, display only those characters which are present at an even index number."
   ]
  },
  {
   "cell_type": "code",
   "execution_count": 25,
   "id": "82012b12-9344-408f-91d9-b8e5456f08cb",
   "metadata": {},
   "outputs": [
    {
     "name": "stdout",
     "output_type": "stream",
     "text": [
      "Orginal String is  shubhangi\n",
      "Printing only even index chars\n",
      "index[ 0 ] s\n",
      "index[ 2 ] u\n",
      "index[ 4 ] h\n",
      "index[ 6 ] n\n"
     ]
    }
   ],
   "source": [
    "def printEveIndexChar(str):\n",
    "    for i in range(0, len(str)-1, 2):\n",
    "        print(\"index[\",i,\"]\", str[i] )\n",
    "\n",
    "inputStr = \"shubhangi\" \n",
    "print(\"Orginal String is \", inputStr)\n",
    "\n",
    "print(\"Printing only even index chars\")\n",
    "printEveIndexChar(inputStr)"
   ]
  },
  {
   "cell_type": "markdown",
   "id": "0fb3fc6a-f3a0-4d01-adfa-1075eef8b9f8",
   "metadata": {},
   "source": [
    "### 10.Return the count of sub-string “Shubhangi” appears in the given string"
   ]
  },
  {
   "cell_type": "code",
   "execution_count": 26,
   "id": "db2e5256-ff6f-4766-89d4-4f911af082e4",
   "metadata": {},
   "outputs": [],
   "source": [
    "str = \"Shubhangi is good developer. Shubhangi is a Data Scientist\""
   ]
  },
  {
   "cell_type": "code",
   "execution_count": 29,
   "id": "5f61a912-f05d-4f38-ad60-dcb0eae0e513",
   "metadata": {},
   "outputs": [
    {
     "data": {
      "text/plain": [
       "2"
      ]
     },
     "execution_count": 29,
     "metadata": {},
     "output_type": "execute_result"
    }
   ],
   "source": [
    "cnt=str.count(\"Shubhangi\")\n",
    "cnt"
   ]
  },
  {
   "cell_type": "markdown",
   "id": "d59f82df-18d4-4292-979e-ca003ae6b46f",
   "metadata": {},
   "source": [
    "## Thank you"
   ]
  },
  {
   "cell_type": "code",
   "execution_count": null,
   "id": "d8bb7886-76b4-4a4b-a82f-78840aa92e4e",
   "metadata": {},
   "outputs": [],
   "source": []
  }
 ],
 "metadata": {
  "kernelspec": {
   "display_name": "Python 3 (ipykernel)",
   "language": "python",
   "name": "python3"
  },
  "language_info": {
   "codemirror_mode": {
    "name": "ipython",
    "version": 3
   },
   "file_extension": ".py",
   "mimetype": "text/x-python",
   "name": "python",
   "nbconvert_exporter": "python",
   "pygments_lexer": "ipython3",
   "version": "3.12.4"
  }
 },
 "nbformat": 4,
 "nbformat_minor": 5
}
