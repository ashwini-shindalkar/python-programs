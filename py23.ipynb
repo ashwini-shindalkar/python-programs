{
 "cells": [
  {
   "cell_type": "markdown",
   "id": "8acd2bca-b644-432f-95f9-a375fae6d538",
   "metadata": {},
   "source": [
    "## python practice question 3"
   ]
  },
  {
   "cell_type": "markdown",
   "id": "01a5701c-2e7d-4559-a7a1-3452151152bf",
   "metadata": {},
   "source": [
    "### 1.Write a program (function!) that takes a list and returns a new list that contains all the elements of the first list minus all the duplicates."
   ]
  },
  {
   "cell_type": "code",
   "execution_count": 21,
   "id": "94561960-5bb7-41d6-b554-dbd07fb197f7",
   "metadata": {},
   "outputs": [],
   "source": [
    "## Function to remove duplicates from given list\n",
    "def listduplicate(x):\n",
    "    y = []\n",
    "    for i in x:\n",
    "        if i not in y:\n",
    "            y.append(i)\n",
    "    return y\n",
    "\n"
   ]
  },
  {
   "cell_type": "code",
   "execution_count": 22,
   "id": "a0ff2c44-a971-4a0f-a061-eb816ce9f089",
   "metadata": {},
   "outputs": [
    {
     "name": "stdout",
     "output_type": "stream",
     "text": [
      "[1, 2, 3, 4, 5]\n"
     ]
    }
   ],
   "source": [
    "mylist=[1,2,1,3,1,4,5,1,5,5]\n",
    "result=listduplicate(mylist)\n",
    "print(result)\n"
   ]
  },
  {
   "cell_type": "code",
   "execution_count": 23,
   "id": "29fb42bb-163e-46f5-b005-7e3b49573fde",
   "metadata": {},
   "outputs": [],
   "source": [
    "#this one uses sets\n",
    "def v2(x):\n",
    "    return list(set(x))\n",
    "\n"
   ]
  },
  {
   "cell_type": "code",
   "execution_count": 24,
   "id": "8a97ed1e-b3d4-4a92-86d2-64e19149e96a",
   "metadata": {},
   "outputs": [
    {
     "name": "stdout",
     "output_type": "stream",
     "text": [
      "[1, 2, 3, 4, 5]\n"
     ]
    }
   ],
   "source": [
    "mylist=[1,2,1,3,1,4,5,1,5,5]\n",
    "result=listduplicate(mylist)\n",
    "print(result)\n"
   ]
  },
  {
   "cell_type": "markdown",
   "id": "8c4a04bd-532d-437a-b68e-2c470ba07753",
   "metadata": {},
   "source": [
    "### 2.Print multiplication table of 12 using recursion"
   ]
  },
  {
   "cell_type": "code",
   "execution_count": 27,
   "id": "74312954-4739-4ded-adbe-d892f4276277",
   "metadata": {},
   "outputs": [],
   "source": [
    "def table(n,i):\n",
    "    print(n*i)\n",
    "    i=i+1\n",
    "    if i<=10:\n",
    "        table(n,i)\n",
    "    "
   ]
  },
  {
   "cell_type": "code",
   "execution_count": 30,
   "id": "525717d7-9ed7-47cd-ac96-c7e1efe5e31c",
   "metadata": {},
   "outputs": [
    {
     "name": "stdout",
     "output_type": "stream",
     "text": [
      "12\n",
      "24\n",
      "36\n",
      "48\n",
      "60\n",
      "72\n",
      "84\n",
      "96\n",
      "108\n",
      "120\n"
     ]
    }
   ],
   "source": [
    "table(12,1)"
   ]
  },
  {
   "cell_type": "markdown",
   "id": "9bf6cdc6-a670-49a0-b01f-ea59c21db3a5",
   "metadata": {},
   "source": [
    "#### 3 Write a function to calculate area and perimeter of a rectangle."
   ]
  },
  {
   "cell_type": "code",
   "execution_count": 32,
   "id": "48776f34-49da-401c-bef7-986fca99ae63",
   "metadata": {},
   "outputs": [],
   "source": [
    "def reactangle(a,b):\n",
    "    print(\"the area of reactangle:\",a*b)\n",
    "    print(\"the perimeter of reactangle:\",2*(a+b))"
   ]
  },
  {
   "cell_type": "code",
   "execution_count": 33,
   "id": "a7c7193e-4af3-4601-b8cb-d4b33b5a5b97",
   "metadata": {},
   "outputs": [
    {
     "name": "stdout",
     "output_type": "stream",
     "text": [
      "the area of reactangle: 200\n",
      "the perimeter of reactangle: 60\n"
     ]
    }
   ],
   "source": [
    "reactangle(20,10)"
   ]
  },
  {
   "cell_type": "markdown",
   "id": "8967e321-fad4-48a2-8254-83b9aaac2005",
   "metadata": {},
   "source": [
    "### 4.Write a function to calculate power of a number raised to other"
   ]
  },
  {
   "cell_type": "code",
   "execution_count": 34,
   "id": "23755999-6ec9-48c3-832e-1982b7e93538",
   "metadata": {},
   "outputs": [],
   "source": [
    "def number (n,p):\n",
    "    power=n**p\n",
    "    print(power)"
   ]
  },
  {
   "cell_type": "code",
   "execution_count": 35,
   "id": "fb97d3ca-cc5f-4a03-82c4-5423292ececc",
   "metadata": {},
   "outputs": [
    {
     "name": "stdout",
     "output_type": "stream",
     "text": [
      "8\n"
     ]
    }
   ],
   "source": [
    "number(2,3)"
   ]
  },
  {
   "cell_type": "markdown",
   "id": "c757ac59-0ed7-4bee-992e-bb14def6d608",
   "metadata": {},
   "source": [
    "### 5.Write a function to tell user if he/she is able to vote or not."
   ]
  },
  {
   "cell_type": "code",
   "execution_count": 36,
   "id": "89e57baa-2b2e-4187-9acd-8cf0d2386216",
   "metadata": {},
   "outputs": [
    {
     "name": "stdin",
     "output_type": "stream",
     "text": [
      "Enter your age 18\n"
     ]
    },
    {
     "name": "stdout",
     "output_type": "stream",
     "text": [
      "You are eligible to vote\n"
     ]
    }
   ],
   "source": [
    "age=float(input('Enter your age'))\n",
    "if age >=18:\n",
    "    print('You are eligible to vote')\n",
    "else:\n",
    "    print('Not eligible to vote')"
   ]
  },
  {
   "cell_type": "markdown",
   "id": "d006f43b-e2bb-464f-a18b-6ef34f40d8ec",
   "metadata": {},
   "source": [
    "### 6.Given a list of numbers, return True if first and last number of a list is same"
   ]
  },
  {
   "cell_type": "code",
   "execution_count": 42,
   "id": "47b730ce-1327-478c-b416-faa94f8bbca8",
   "metadata": {},
   "outputs": [],
   "source": [
    "def mylist(numberlist):\n",
    "    print(\"given list is:\",numberlist)\n",
    "    firstnumber=numberlist[0]\n",
    "    lastnumber=numberlist[-1]\n",
    "    if firstnumber==lastnumber:\n",
    "        return True\n",
    "    else:\n",
    "        return False"
   ]
  },
  {
   "cell_type": "code",
   "execution_count": 44,
   "id": "768fcc20-f79d-4bd9-b8cf-8777e9bb7b22",
   "metadata": {},
   "outputs": [
    {
     "name": "stdout",
     "output_type": "stream",
     "text": [
      "given list is: [10, 11, 12, 13, 14, 10]\n"
     ]
    },
    {
     "data": {
      "text/plain": [
       "True"
      ]
     },
     "execution_count": 44,
     "metadata": {},
     "output_type": "execute_result"
    }
   ],
   "source": [
    "mylist([10,11,12,13,14,10])\n"
   ]
  },
  {
   "cell_type": "markdown",
   "id": "e2b71d54-28f2-40ce-ae91-19e33cd9fe09",
   "metadata": {},
   "source": [
    "### 7.Write a program to check if each word in a string begins with a capital letter?"
   ]
  },
  {
   "cell_type": "code",
   "execution_count": 50,
   "id": "49bcbc7d-1879-42a1-af1e-79645e52eb25",
   "metadata": {},
   "outputs": [],
   "source": [
    "def string(str):\n",
    "    if str.istitle():\n",
    "         return True\n",
    "    else:\n",
    "        return False"
   ]
  },
  {
   "cell_type": "code",
   "execution_count": 54,
   "id": "f0fd3253-4417-48a4-bc4b-0774aa6ba1a4",
   "metadata": {},
   "outputs": [
    {
     "data": {
      "text/plain": [
       "True"
      ]
     },
     "execution_count": 54,
     "metadata": {},
     "output_type": "execute_result"
    }
   ],
   "source": [
    "string(\"Hello Student\")"
   ]
  },
  {
   "cell_type": "code",
   "execution_count": 48,
   "id": "ca2cc7e3-a6ce-41b0-a44a-4632abdd1d7b",
   "metadata": {},
   "outputs": [
    {
     "name": "stdout",
     "output_type": "stream",
     "text": [
      "True\n",
      "False\n",
      "False\n"
     ]
    }
   ],
   "source": [
    "print( 'The Hilton'.istitle() ) \n",
    "print( 'The dog'.istitle() ) \n",
    "print( 'sticky rice'.istitle() ) "
   ]
  },
  {
   "cell_type": "markdown",
   "id": "11cb75a4-229d-4f45-9067-f3b90ed0156c",
   "metadata": {},
   "source": [
    "### 8 Capitalize the first character of a string"
   ]
  },
  {
   "cell_type": "code",
   "execution_count": 55,
   "id": "c0a7a1fa-4b4f-40a6-8eb1-ca79ac09d62b",
   "metadata": {},
   "outputs": [
    {
     "data": {
      "text/plain": [
       "'Hello coding!'"
      ]
     },
     "execution_count": 55,
     "metadata": {},
     "output_type": "execute_result"
    }
   ],
   "source": [
    "str=(\"hello coding!\")\n",
    "str.capitalize()"
   ]
  },
  {
   "cell_type": "markdown",
   "id": "bbe854af-f216-4dbe-970d-7860eb0a3f4a",
   "metadata": {},
   "source": [
    "### 9.Reverse the string “hello world”"
   ]
  },
  {
   "cell_type": "code",
   "execution_count": 59,
   "id": "4c7bb0fd-8887-4024-9c3a-4c1d1b4b1185",
   "metadata": {},
   "outputs": [
    {
     "data": {
      "text/plain": [
       "'gnirts olleh'"
      ]
     },
     "execution_count": 59,
     "metadata": {},
     "output_type": "execute_result"
    }
   ],
   "source": [
    "''.join(reversed(\"hello string\"))"
   ]
  },
  {
   "cell_type": "code",
   "execution_count": 61,
   "id": "2b9ac92d-ec02-4e1d-9724-1a75ba85a7e4",
   "metadata": {},
   "outputs": [
    {
     "name": "stdout",
     "output_type": "stream",
     "text": [
      "gnirts olleh\n"
     ]
    }
   ],
   "source": [
    "str=(\"hello string\")\n",
    "print(str[::-1])"
   ]
  },
  {
   "cell_type": "markdown",
   "id": "2e9dbb34-dd6d-4a4d-b323-624db0aebe9b",
   "metadata": {},
   "source": [
    "### 10. Remove vowels from a string"
   ]
  },
  {
   "cell_type": "code",
   "execution_count": 72,
   "id": "af32ad10-fced-4890-8d28-a87a2134fe81",
   "metadata": {},
   "outputs": [
    {
     "data": {
      "text/plain": [
       "'Hll 1 Wrld 2'"
      ]
     },
     "execution_count": 72,
     "metadata": {},
     "output_type": "execute_result"
    }
   ],
   "source": [
    "string = 'Hello 1 World 2'\n",
    "vowels = ('a','e','i','o','u')\n",
    "''.join([c for c in string if c not in vowels])\n"
   ]
  },
  {
   "cell_type": "code",
   "execution_count": null,
   "id": "a0db96c9-a78d-486c-bc96-c977598c0d22",
   "metadata": {},
   "outputs": [],
   "source": []
  }
 ],
 "metadata": {
  "kernelspec": {
   "display_name": "Python 3 (ipykernel)",
   "language": "python",
   "name": "python3"
  },
  "language_info": {
   "codemirror_mode": {
    "name": "ipython",
    "version": 3
   },
   "file_extension": ".py",
   "mimetype": "text/x-python",
   "name": "python",
   "nbconvert_exporter": "python",
   "pygments_lexer": "ipython3",
   "version": "3.12.4"
  }
 },
 "nbformat": 4,
 "nbformat_minor": 5
}
