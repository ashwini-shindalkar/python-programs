{
 "cells": [
  {
   "cell_type": "markdown",
   "id": "bbbeda19-4af5-48a2-895d-15a877320c0f",
   "metadata": {},
   "source": [
    "## ....python practice question 4"
   ]
  },
  {
   "cell_type": "markdown",
   "id": "9247bccf-baae-4a79-8090-39fb8df8d1e2",
   "metadata": {},
   "source": [
    "## 1.Iterate through a string Using for Loop.   "
   ]
  },
  {
   "cell_type": "code",
   "execution_count": 1,
   "id": "fa7b29e9-2ca6-45f9-8238-ef1759656aa3",
   "metadata": {},
   "outputs": [
    {
     "name": "stdout",
     "output_type": "stream",
     "text": [
      "['s', 'h', 'u', 'b', 'h', 'a', 'n', 'g', 'i']\n"
     ]
    }
   ],
   "source": [
    "h_letters = []\n",
    "\n",
    "for letter in 'shubhangi':\n",
    "    h_letters.append(letter)\n",
    "\n",
    "print(h_letters)"
   ]
  },
  {
   "cell_type": "markdown",
   "id": "4e3259b9-53e0-4560-9782-3e68c3eb211a",
   "metadata": {},
   "source": [
    "## 2.Iterate through a string Using List Comprehension   #.... creating new list from exist list"
   ]
  },
  {
   "cell_type": "code",
   "execution_count": 2,
   "id": "5c8fc326-9af2-49c1-a272-f334a67c8236",
   "metadata": {},
   "outputs": [
    {
     "name": "stdout",
     "output_type": "stream",
     "text": [
      "['s', 'h', 'u', 'b', 'h', 'a', 'n', 'g', 'i']\n"
     ]
    }
   ],
   "source": [
    "h_letters=[latter for latter in \"shubhangi\"]\n",
    "print(h_letters)"
   ]
  },
  {
   "cell_type": "markdown",
   "id": "def06640-617b-475e-803f-2dd59d60992d",
   "metadata": {},
   "source": [
    "## 3 Write a program to check whether a number is divisible by 7 or not."
   ]
  },
  {
   "cell_type": "code",
   "execution_count": 3,
   "id": "bd5671f0-fcca-47dd-aca8-aab3d4d1d003",
   "metadata": {},
   "outputs": [
    {
     "name": "stdin",
     "output_type": "stream",
     "text": [
      "Enter your age 14\n"
     ]
    },
    {
     "name": "stdout",
     "output_type": "stream",
     "text": [
      "Number is divisible\n"
     ]
    }
   ],
   "source": [
    "num=int(input(\"Enter your number\"))\n",
    "if num%7==0:\n",
    "   print(\"Number is divisible\")\n",
    "else:\n",
    "   print(\"Number is not divisible\")"
   ]
  },
  {
   "cell_type": "code",
   "execution_count": 4,
   "id": "637c5462-2cb4-4620-832b-861941cb8f42",
   "metadata": {},
   "outputs": [],
   "source": [
    "def value(num):\n",
    "    if num % 7==0:\n",
    "        print(\"num is divisible by 7\")\n",
    "    else:\n",
    "        print(\"num is not divisible by 7\")"
   ]
  },
  {
   "cell_type": "code",
   "execution_count": 5,
   "id": "1332f11c-d305-430a-a996-8da5c016a3b4",
   "metadata": {},
   "outputs": [
    {
     "name": "stdout",
     "output_type": "stream",
     "text": [
      "num is not divisible by 7\n"
     ]
    }
   ],
   "source": [
    "value(10)"
   ]
  },
  {
   "cell_type": "markdown",
   "id": "e2c302eb-d4d5-4ef5-a611-27dc35c8e987",
   "metadata": {},
   "source": [
    "## 4.Write a program to calculate the electricity bill (accept number of unit from user) according to the following criteria :Unit Price  \n",
    "First 100 units no charge Next 100 units Rs 5 per unit After 200 units Rs 10 per unit\n",
    "(For example if input unit is 350 than total bill amount is Rs2000)"
   ]
  },
  {
   "cell_type": "code",
   "execution_count": 1,
   "id": "86087ec0-627b-4602-8987-747182ec40fa",
   "metadata": {},
   "outputs": [
    {
     "name": "stdin",
     "output_type": "stream",
     "text": [
      "Enter number of electric unit 350\n"
     ]
    },
    {
     "name": "stdout",
     "output_type": "stream",
     "text": [
      "Amount to pay : 2000\n"
     ]
    }
   ],
   "source": [
    "amt=0\n",
    "nu=int(input(\"Enter number of electric unit\"))\n",
    "if nu<=100:\n",
    "     amt=0\n",
    "if nu>100 and nu<=200:\n",
    "     amt=(nu-100)*5\n",
    "if nu>200:\n",
    "     amt=500+(nu-200)*10\n",
    "print(\"Amount to pay :\",amt)"
   ]
  },
  {
   "cell_type": "markdown",
   "id": "5ed65433-b40d-42c2-a9a0-a481e63e87a6",
   "metadata": {},
   "source": [
    "## 5. Write a program to display the last digit of a number.\n",
    "(hint : any number % 10 will return the last digit)"
   ]
  },
  {
   "cell_type": "code",
   "execution_count": 7,
   "id": "d5dda2ef-a642-48d8-8ef4-a3cfdb21a996",
   "metadata": {},
   "outputs": [
    {
     "name": "stdin",
     "output_type": "stream",
     "text": [
      "Enter any number 123\n"
     ]
    },
    {
     "name": "stdout",
     "output_type": "stream",
     "text": [
      "Last digit of number is  3\n"
     ]
    }
   ],
   "source": [
    "num=int(input(\"Enter any number\"))\n",
    "print(\"Last digit of number is \",num%10)"
   ]
  },
  {
   "cell_type": "markdown",
   "id": "d3a52d5b-342d-4b69-bfe1-0e35b35052c6",
   "metadata": {},
   "source": [
    "### 6 Write a program to check whether an years is leap year or not."
   ]
  },
  {
   "cell_type": "code",
   "execution_count": 8,
   "id": "dc4ac99e-7eca-4ae0-b278-a24d58aed6ee",
   "metadata": {},
   "outputs": [
    {
     "name": "stdin",
     "output_type": "stream",
     "text": [
      "Enter year: 2024\n"
     ]
    },
    {
     "name": "stdout",
     "output_type": "stream",
     "text": [
      "year is leap year\n"
     ]
    }
   ],
   "source": [
    "yr=int(input(\"Enter year:\"))\n",
    "if yr%100==0:\n",
    "    if yr%400==0:\n",
    "        print(\"year is leap year\")\n",
    "    else:\n",
    "        print(\"year is not leap year\")\n",
    "else:\n",
    "    if yr%4==0:\n",
    "       print(\"year is leap year\")\n",
    "    else:\n",
    "       print(\"year is not leap year\")"
   ]
  },
  {
   "cell_type": "markdown",
   "id": "54a5ee67-8bd2-476c-9576-4a8742b4d89a",
   "metadata": {},
   "source": [
    "### 7. Write a program to accept a number from 1 to 7 and display the name of the day like 1 for Sunday , 2 for Monday and so on."
   ]
  },
  {
   "cell_type": "code",
   "execution_count": 3,
   "id": "2d21c8fd-a9d1-45d8-beda-274c119f6634",
   "metadata": {},
   "outputs": [
    {
     "name": "stdin",
     "output_type": "stream",
     "text": [
      "Enter any number between 1 to 7 :  7\n"
     ]
    },
    {
     "name": "stdout",
     "output_type": "stream",
     "text": [
      "Saturday\n"
     ]
    }
   ],
   "source": [
    " num=int(input(\"Enter any number between 1 to 7 : \"))\n",
    "if num==1:\n",
    "    print(\"Sunday\")\n",
    "elif num==2:\n",
    "    print(\"Monday\")\n",
    "elif num==3:\n",
    "    print(\"Tuesday\")\n",
    "elif num==4:\n",
    "   print(\"Wednesday\")\n",
    "elif num==5:\n",
    "   print(\"Thursday\")\n",
    "elif num==6:\n",
    "   print(\"Friday\")\n",
    "elif num==7:\n",
    "   print(\"Saturday\")\n",
    "else:\n",
    "   print(\"Please enter number between 1 to 7\")"
   ]
  },
  {
   "cell_type": "markdown",
   "id": "7168aeae-ea9c-4660-b656-554c53d964ab",
   "metadata": {},
   "source": [
    "### .7 Write a program to check whether a number entered is three digit number or not."
   ]
  },
  {
   "cell_type": "code",
   "execution_count": 5,
   "id": "059ae56a-7692-4208-9d07-597132e93c79",
   "metadata": {},
   "outputs": [
    {
     "name": "stdin",
     "output_type": "stream",
     "text": [
      "Enter any number 123\n"
     ]
    },
    {
     "name": "stdout",
     "output_type": "stream",
     "text": [
      "Entered number is 3 digit and Middle digit is  2\n"
     ]
    }
   ],
   "source": [
    "num1 = (input(\"Enter any number\"))\n",
    "l=len(num1)\n",
    "if l != 3:\n",
    "     print(\"Entered number is not 3 digit\")\n",
    "else:\n",
    "     print(\"Entered number is 3 digit and Middle digit is \",(int(num1)%100//10))"
   ]
  },
  {
   "cell_type": "markdown",
   "id": "4459f108-1c80-4480-afb3-94eea0ad02ca",
   "metadata": {},
   "source": [
    "## 8. Write a program to check whether a number (accepted from user) is positive or negative.."
   ]
  },
  {
   "cell_type": "code",
   "execution_count": 11,
   "id": "9a6165af-76ae-47a3-a599-683931d8d782",
   "metadata": {},
   "outputs": [
    {
     "name": "stdin",
     "output_type": "stream",
     "text": [
      "enetr a number: -1\n"
     ]
    },
    {
     "name": "stdout",
     "output_type": "stream",
     "text": [
      "number is negative\n"
     ]
    }
   ],
   "source": [
    "num=int(input(\"enetr a number:\"))\n",
    "if num<0:\n",
    "    print(\"number is negative\")\n",
    "else:\n",
    "    print(\"number is positive\")"
   ]
  },
  {
   "cell_type": "markdown",
   "id": "310d7cc1-aa4c-4761-998c-d70563fe37f2",
   "metadata": {},
   "source": [
    "## 9. Write a program to whether a number (accepted from user) is divisible by 2 and 3 both."
   ]
  },
  {
   "cell_type": "code",
   "execution_count": 13,
   "id": "ae00a5fc-95d4-4564-9ed0-f88680e2b4c0",
   "metadata": {},
   "outputs": [
    {
     "name": "stdin",
     "output_type": "stream",
     "text": [
      "enter a number: 13\n"
     ]
    },
    {
     "name": "stdout",
     "output_type": "stream",
     "text": [
      "Number is not divisible by both 2 and 3\n"
     ]
    }
   ],
   "source": [
    "num=int(input(\"enter a number:\"))\n",
    "if num%2==0 and num%3==0:\n",
    "    print(\"number is divisible both 2 and 3\")\n",
    "else:\n",
    "    print(\"Number is not divisible by both 2 and 3\")"
   ]
  },
  {
   "cell_type": "markdown",
   "id": "eb366cb3-0f26-454f-b373-1a60da3acf13",
   "metadata": {},
   "source": [
    "## 10.Write a Python program to check the validity of a password (input from users).\n",
    "\n",
    "Validation :\n",
    "\n",
    "At least 1 letter between [a-z] and 1 letter between [A-Z].\n",
    "At least 1 number between [0-9].\n",
    "At least 1 character from [$#@].\n",
    "Minimum length 6 characters.\n",
    "Maximum length 16 characters.   ."
   ]
  },
  {
   "cell_type": "code",
   "execution_count": 18,
   "id": "705c2fa5-11ce-4fd3-a75d-5792a4f09cb7",
   "metadata": {},
   "outputs": [
    {
     "name": "stdin",
     "output_type": "stream",
     "text": [
      "Input your password Saurav@123\n"
     ]
    },
    {
     "name": "stdout",
     "output_type": "stream",
     "text": [
      "Valid Password\n"
     ]
    }
   ],
   "source": [
    "import re\n",
    "p= input(\"Input your password\")\n",
    "x = True\n",
    "while x:  \n",
    "    if (len(p)<6 or len(p)>12):\n",
    "        break\n",
    "    elif not re.search(\"[a-z]\",p):\n",
    "        break\n",
    "    elif not re.search(\"[0-9]\",p):\n",
    "        break\n",
    "    elif not re.search(\"[A-Z]\",p):\n",
    "        break\n",
    "    elif not re.search(\"[$#@]\",p):\n",
    "        break\n",
    "    elif re.search(\"\\\\s\",p):\n",
    "        break\n",
    "    else:\n",
    "        print(\"Valid Password\")\n",
    "        x=False\n",
    "        break\n",
    "\n",
    "if x:\n",
    "    print(\"Not a Valid Password\")\n"
   ]
  },
  {
   "cell_type": "code",
   "execution_count": null,
   "id": "2faa7966-4c67-4e1f-92d9-95d797611ab4",
   "metadata": {},
   "outputs": [],
   "source": []
  }
 ],
 "metadata": {
  "kernelspec": {
   "display_name": "Python 3 (ipykernel)",
   "language": "python",
   "name": "python3"
  },
  "language_info": {
   "codemirror_mode": {
    "name": "ipython",
    "version": 3
   },
   "file_extension": ".py",
   "mimetype": "text/x-python",
   "name": "python",
   "nbconvert_exporter": "python",
   "pygments_lexer": "ipython3",
   "version": "3.12.4"
  }
 },
 "nbformat": 4,
 "nbformat_minor": 5
}
