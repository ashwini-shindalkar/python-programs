{
 "cells": [
  {
   "cell_type": "markdown",
   "id": "ad9d3206-9dc5-4312-92bf-5628791eb568",
   "metadata": {},
   "source": [
    "## python practice question last 5"
   ]
  },
  {
   "cell_type": "markdown",
   "id": "f3b49d3f-cff0-49db-a319-b74616def07a",
   "metadata": {},
   "source": [
    "### 1.Write a Python program to convert temperatures to and from Celsius,\n",
    "### Fahrenheit. [ Formula: c = (f-32)(5/9)]  "
   ]
  },
  {
   "cell_type": "code",
   "execution_count": 1,
   "id": "bcf8c5ff-a605-4cf5-9bdd-e414eb578352",
   "metadata": {},
   "outputs": [
    {
     "name": "stdin",
     "output_type": "stream",
     "text": [
      "Enter temprature 38\n",
      "Enter unit c\n"
     ]
    },
    {
     "name": "stdout",
     "output_type": "stream",
     "text": [
      "Temprature in ferenhite is 100.4\n"
     ]
    }
   ],
   "source": [
    "temp=float(input('Enter temprature'))\n",
    "unit=input('Enter unit')\n",
    "\n",
    "if unit=='C' or unit=='c':\n",
    "    newtemp=9/5*temp+32\n",
    "    print('Temprature in ferenhite is',newtemp)\n",
    "elif unit=='F' or unit=='f':\n",
    "    newtemp=5/9*(temp-32)\n",
    "    print('Temparture is celsius is',newtemp)\n",
    "else:\n",
    "    print('unknown unit passed')\n"
   ]
  },
  {
   "cell_type": "markdown",
   "id": "cab51bae-056e-4fa2-83d8-1144c3a605b6",
   "metadata": {},
   "source": [
    "### 2.Write a Python program to construct the following pattern, using a \n",
    "### nested for loop   "
   ]
  },
  {
   "cell_type": "code",
   "execution_count": 22,
   "id": "c53371b7-e4c0-4d5f-914c-0dc8b1ce7123",
   "metadata": {},
   "outputs": [
    {
     "name": "stdout",
     "output_type": "stream",
     "text": [
      "* \n",
      "* * \n",
      "* * * \n",
      "* * * * \n",
      "* * * * * \n",
      "* * * * * * \n",
      "* \n",
      "* * \n",
      "* * * \n",
      "* * * * \n",
      "* * * * * \n",
      "* * * * * * \n"
     ]
    }
   ],
   "source": [
    "for i in range(1,7,1):\n",
    "    print(\"* \"*i)\n",
    "for k in range(1,7,1):\n",
    "    print(\"* \"*k)\n"
   ]
  },
  {
   "cell_type": "markdown",
   "id": "421436e8-64b4-40cf-9343-d87ca946f232",
   "metadata": {
    "jp-MarkdownHeadingCollapsed": true
   },
   "source": [
    "3.Write a program that accepts the lengths of three sides of a triangle as inputs. The program output should indicate whether or not the triangle\n",
    "is a right triangle (Recall from the Pythagorean Theorem that in a right triangle, the square of one side equals the sum of the squares of the other two sides).   "
   ]
  },
  {
   "cell_type": "code",
   "execution_count": 27,
   "id": "a79a0d32-2186-4e79-b13c-9aa117e59a18",
   "metadata": {},
   "outputs": [
    {
     "name": "stdin",
     "output_type": "stream",
     "text": [
      "Enter the base of triangle: 3\n",
      "Enter the height of triangle: 4\n",
      "Enter the hypo of triangle: 5\n"
     ]
    },
    {
     "name": "stdout",
     "output_type": "stream",
     "text": [
      "Entered dimensions of right angle triangle\n"
     ]
    }
   ],
   "source": [
    "base=float(input('Enter the base of triangle:'))\n",
    "height=float(input('Enter the height of triangle:'))\n",
    "hypo=float(input('Enter the hypo of triangle:'))\n",
    "if hypo**2==((base**2)+(height**2)):\n",
    "    print('Entered dimensions of right angle triangle')\n",
    "else:\n",
    "    print('The trianle is not right angled triganle')\n"
   ]
  },
  {
   "cell_type": "markdown",
   "id": "df757a2d-2b9c-4758-b378-e11326c246b7",
   "metadata": {},
   "source": [
    "#### 4.Write a program to Check if a string contains a specific    "
   ]
  },
  {
   "cell_type": "code",
   "execution_count": 29,
   "id": "8b879873-8473-4884-9648-f629b823114a",
   "metadata": {},
   "outputs": [
    {
     "name": "stdout",
     "output_type": "stream",
     "text": [
      "True\n",
      "False\n"
     ]
    }
   ],
   "source": [
    "print( 'plane'in 'The worlds fastest plane' ) #=> True\n",
    "print( 'car' in 'The worlds fastest plane' ) #=> False"
   ]
  },
  {
   "cell_type": "markdown",
   "id": "9062eb50-4c4b-4084-beda-da0fc0c5bae3",
   "metadata": {},
   "source": [
    "### 5. Transpose of Matrix using Nested Loops  ."
   ]
  },
  {
   "cell_type": "code",
   "execution_count": 30,
   "id": "3ec51fb6-b80a-4eee-a0ab-743639d81dea",
   "metadata": {},
   "outputs": [
    {
     "name": "stdout",
     "output_type": "stream",
     "text": [
      "[[1, 4], [2, 5], [3, 6], [4, 8]]\n"
     ]
    }
   ],
   "source": [
    "transposed = []\n",
    "matrix = [[1, 2, 3, 4], [4, 5, 6, 8]]\n",
    "\n",
    "for i in range(len(matrix[0])):\n",
    "    transposed_row = []\n",
    "\n",
    "    for row in matrix:\n",
    "        transposed_row.append(row[i])\n",
    "    transposed.append(transposed_row)\n",
    "\n",
    "print(transposed)"
   ]
  },
  {
   "cell_type": "markdown",
   "id": "536ffdce-1810-46ed-9a10-f1c293d551d8",
   "metadata": {},
   "source": [
    "### 7.Write a Python program to print alphabet pattern 'A'. "
   ]
  },
  {
   "cell_type": "code",
   "execution_count": 1,
   "id": "a372a4aa-f1f3-47fa-9777-cf19c3368cf1",
   "metadata": {},
   "outputs": [
    {
     "name": "stdout",
     "output_type": "stream",
     "text": [
      "  ***  \n",
      " *   * \n",
      " *   * \n",
      " ***** \n",
      " *   * \n",
      " *   * \n",
      " *   * \n",
      "\n"
     ]
    }
   ],
   "source": [
    "result_str=\"\";    \n",
    "for row in range(0,7):    \n",
    "    for column in range(0,7):     \n",
    "        if (((column == 1 or column == 5) and row != 0) or ((row == 0 or row == 3) and (column > 1 and column < 5))):    \n",
    "            result_str=result_str+\"*\"    \n",
    "        else:      \n",
    "            result_str=result_str+\" \"    \n",
    "    result_str=result_str+\"\\n\"    \n",
    "print(result_str)"
   ]
  },
  {
   "cell_type": "markdown",
   "id": "86b05409-70e7-4a79-ba57-3cf6a27e5a7b",
   "metadata": {},
   "source": [
    "### 8. Write a Python program to print alphabet pattern 'G'."
   ]
  },
  {
   "cell_type": "code",
   "execution_count": 2,
   "id": "88c2998f-fdc9-4676-9e19-2177cb58c6dd",
   "metadata": {},
   "outputs": [
    {
     "name": "stdout",
     "output_type": "stream",
     "text": [
      "  ***  \n",
      " *   * \n",
      " *     \n",
      " * *** \n",
      " *   * \n",
      " *   * \n",
      "  ***  \n",
      "\n"
     ]
    }
   ],
   "source": [
    "result_str=\"\";    \n",
    "for row in range(0,7):    \n",
    "    for column in range(0,7):     \n",
    "        if ((column == 1 and row != 0 and row != 6) or ((row == 0 or row == 6) and column > 1 and column < 5) or (row == 3 and column > 2 and column < 6) or (column == 5 and row != 0 and row != 2 and row != 6)):  \n",
    "            result_str=result_str+\"*\"    \n",
    "        else:      \n",
    "            result_str=result_str+\" \"    \n",
    "    result_str=result_str+\"\\n\"    \n",
    "print(result_str);"
   ]
  },
  {
   "cell_type": "markdown",
   "id": "e0036b5e-cd2f-4c10-be88-adce00bfdbbd",
   "metadata": {},
   "source": [
    "### 9. Write a Python program to calculate a dog's age in dog's years. Go to the editor\n",
    "Note: For the first two years, a dog year is equal to 10.5 human years. After that, each dog year equals 4 human years.\n",
    "Expected Output:\n",
    "\n",
    "Input a dog's age in human years: 15                                    \n",
    "The dog's age in dog's years is 73"
   ]
  },
  {
   "cell_type": "code",
   "execution_count": 3,
   "id": "db1b3ec4-4b98-44c5-aae4-3850c2af437d",
   "metadata": {},
   "outputs": [
    {
     "name": "stdin",
     "output_type": "stream",
     "text": [
      "Input a dog's age in human years:  34\n"
     ]
    },
    {
     "name": "stdout",
     "output_type": "stream",
     "text": [
      "The dog's age in dog's years is 149\n"
     ]
    }
   ],
   "source": [
    "h_age = int(input(\"Input a dog's age in human years: \"))\n",
    "\n",
    "if h_age < 0:\n",
    "    print(\"Age must be positive number.\")\n",
    "    exit()\n",
    "elif h_age <= 2:\n",
    "    d_age = h_age * 10.5\n",
    "else:\n",
    "    d_age = 21 + (h_age - 2)*4\n",
    "\n",
    "print(\"The dog's age in dog's years is\", d_age)"
   ]
  },
  {
   "cell_type": "code",
   "execution_count": 5,
   "id": "3ec9a373-3524-4584-80c9-5f3b34d152ce",
   "metadata": {},
   "outputs": [
    {
     "name": "stdout",
     "output_type": "stream",
     "text": [
      "* \n",
      "* * \n",
      "* * * \n",
      "* * * * \n",
      "* * * * * \n",
      "* * * * * * \n",
      "* * * * * * * \n",
      "* * * * * * \n",
      "* * * * * \n",
      "* * * * \n",
      "* * * \n",
      "* * \n"
     ]
    }
   ],
   "source": [
    "for i in range(1,7,1):\n",
    "    print(\"* \"*i)\n",
    "for k in range(7,1,-1):\n",
    "    print(\"* \"*k)\n"
   ]
  },
  {
   "cell_type": "code",
   "execution_count": null,
   "id": "9f1b888c-0cb2-4324-9760-adbba127d4c7",
   "metadata": {},
   "outputs": [],
   "source": []
  }
 ],
 "metadata": {
  "kernelspec": {
   "display_name": "Python 3 (ipykernel)",
   "language": "python",
   "name": "python3"
  },
  "language_info": {
   "codemirror_mode": {
    "name": "ipython",
    "version": 3
   },
   "file_extension": ".py",
   "mimetype": "text/x-python",
   "name": "python",
   "nbconvert_exporter": "python",
   "pygments_lexer": "ipython3",
   "version": "3.12.4"
  }
 },
 "nbformat": 4,
 "nbformat_minor": 5
}
