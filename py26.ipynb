{
 "cells": [
  {
   "cell_type": "markdown",
   "id": "568398b7-a078-470c-aef6-3514f37d5494",
   "metadata": {},
   "source": [
    "### .....07/08"
   ]
  },
  {
   "cell_type": "markdown",
   "id": "7e9a8f87-3a02-4090-af0f-a95df22d0152",
   "metadata": {},
   "source": [
    "### ...filter function"
   ]
  },
  {
   "cell_type": "code",
   "execution_count": 1,
   "id": "d30930ae-e12f-4a91-b7d9-27040ecd389b",
   "metadata": {},
   "outputs": [
    {
     "data": {
      "text/plain": [
       "[12, 1, 2.3, 22, 11]"
      ]
     },
     "execution_count": 1,
     "metadata": {},
     "output_type": "execute_result"
    }
   ],
   "source": [
    "x=[12,1,2.3,22,11]\n",
    "x"
   ]
  },
  {
   "cell_type": "code",
   "execution_count": 5,
   "id": "78f3cf5b-2486-4c5d-ac38-7a9c36ed219f",
   "metadata": {},
   "outputs": [
    {
     "data": {
      "text/plain": [
       "[1, 11]"
      ]
     },
     "execution_count": 5,
     "metadata": {},
     "output_type": "execute_result"
    }
   ],
   "source": [
    "list(filter(lambda x:x%2==1,x))"
   ]
  },
  {
   "cell_type": "code",
   "execution_count": 6,
   "id": "bfe5a629-6406-4d44-b67b-00242fd5e02a",
   "metadata": {},
   "outputs": [],
   "source": [
    "l2=[1,2,3,4,5,6,7,8,9,10,11,12,13,14,15,16,17,18,19,20]"
   ]
  },
  {
   "cell_type": "code",
   "execution_count": 12,
   "id": "7760a021-06b7-4993-b24e-7cf4a3fb04e8",
   "metadata": {},
   "outputs": [
    {
     "data": {
      "text/plain": [
       "[]"
      ]
     },
     "execution_count": 12,
     "metadata": {},
     "output_type": "execute_result"
    }
   ],
   "source": [
    "list(filter(lambda x :x/3==1 and x/5==1,l2))"
   ]
  },
  {
   "cell_type": "code",
   "execution_count": 14,
   "id": "efd8ad94-5128-49bf-9b60-532bd2ed1f0c",
   "metadata": {},
   "outputs": [
    {
     "data": {
      "text/plain": [
       "[]"
      ]
     },
     "execution_count": 14,
     "metadata": {},
     "output_type": "execute_result"
    }
   ],
   "source": [
    "list(filter(lambda x :x/3==0 and x/5==0,l2))"
   ]
  },
  {
   "cell_type": "code",
   "execution_count": 13,
   "id": "fd8d5f42-a566-4112-903d-fc4ea91d55f7",
   "metadata": {},
   "outputs": [
    {
     "data": {
      "text/plain": [
       "[15]"
      ]
     },
     "execution_count": 13,
     "metadata": {},
     "output_type": "execute_result"
    }
   ],
   "source": [
    "list(filter(lambda x:x%3==0 and x%5==0,l2))"
   ]
  },
  {
   "cell_type": "code",
   "execution_count": 17,
   "id": "a29b0af0-7139-4c5c-96eb-b4e357cb0834",
   "metadata": {},
   "outputs": [
    {
     "data": {
      "text/plain": [
       "[]"
      ]
     },
     "execution_count": 17,
     "metadata": {},
     "output_type": "execute_result"
    }
   ],
   "source": [
    "list(filter(lambda x:x%3==0 and x%5==0,x))"
   ]
  },
  {
   "cell_type": "code",
   "execution_count": 26,
   "id": "01a20a45-1d0c-4b64-af96-9601244bea31",
   "metadata": {},
   "outputs": [
    {
     "data": {
      "text/plain": [
       "[2, 4, 6, 8, 10, 12, 14, 16, 18, 20]"
      ]
     },
     "execution_count": 26,
     "metadata": {},
     "output_type": "execute_result"
    }
   ],
   "source": [
    "list(filter(lambda x:x%2==0,l2))"
   ]
  },
  {
   "cell_type": "code",
   "execution_count": 27,
   "id": "6f779ecc-03cb-428d-bc14-54e07607d33b",
   "metadata": {},
   "outputs": [
    {
     "data": {
      "text/plain": [
       "[1, 3, 5, 7, 9, 11, 13, 15, 17, 19]"
      ]
     },
     "execution_count": 27,
     "metadata": {},
     "output_type": "execute_result"
    }
   ],
   "source": [
    "list(filter(lambda x:x%2!=0,l2))"
   ]
  },
  {
   "cell_type": "markdown",
   "id": "123b1192-5832-40da-b05e-cf75478a6a66",
   "metadata": {},
   "source": [
    "### .....Map function"
   ]
  },
  {
   "cell_type": "code",
   "execution_count": 31,
   "id": "345bc47d-0fa7-4312-b57f-2da4b61443a1",
   "metadata": {},
   "outputs": [],
   "source": [
    "a=list(map(lambda x:x**2,l2))     ##squre"
   ]
  },
  {
   "cell_type": "code",
   "execution_count": 29,
   "id": "679a1474-dbb6-4056-bb04-5ee53528cb05",
   "metadata": {},
   "outputs": [
    {
     "data": {
      "text/plain": [
       "[1,\n",
       " 4,\n",
       " 9,\n",
       " 16,\n",
       " 25,\n",
       " 36,\n",
       " 49,\n",
       " 64,\n",
       " 81,\n",
       " 100,\n",
       " 121,\n",
       " 144,\n",
       " 169,\n",
       " 196,\n",
       " 225,\n",
       " 256,\n",
       " 289,\n",
       " 324,\n",
       " 361,\n",
       " 400]"
      ]
     },
     "execution_count": 29,
     "metadata": {},
     "output_type": "execute_result"
    }
   ],
   "source": [
    "a"
   ]
  },
  {
   "cell_type": "code",
   "execution_count": 32,
   "id": "9ef92c2a-00af-415d-9555-2f91356b45db",
   "metadata": {},
   "outputs": [],
   "source": [
    "b=list(map(lambda x:x**2,x))"
   ]
  },
  {
   "cell_type": "code",
   "execution_count": 33,
   "id": "e4424e9b-5c1a-4a78-9069-e190b74d726e",
   "metadata": {},
   "outputs": [
    {
     "data": {
      "text/plain": [
       "[144, 1, 5.289999999999999, 484, 121]"
      ]
     },
     "execution_count": 33,
     "metadata": {},
     "output_type": "execute_result"
    }
   ],
   "source": [
    "b"
   ]
  },
  {
   "cell_type": "code",
   "execution_count": 34,
   "id": "920f548d-afc7-4931-b00e-b678838f5df6",
   "metadata": {},
   "outputs": [],
   "source": [
    "a=[12,11,12,14,12]"
   ]
  },
  {
   "cell_type": "code",
   "execution_count": 35,
   "id": "32561303-32d1-412e-8ce7-b4973e26df28",
   "metadata": {},
   "outputs": [
    {
     "data": {
      "text/plain": [
       "[12, 11, 12, 14, 12]"
      ]
     },
     "execution_count": 35,
     "metadata": {},
     "output_type": "execute_result"
    }
   ],
   "source": [
    "a"
   ]
  },
  {
   "cell_type": "markdown",
   "id": "2d3c2c9e-6006-40f7-b67d-ab07002af38e",
   "metadata": {},
   "source": [
    "### ....Import/redice function"
   ]
  },
  {
   "cell_type": "code",
   "execution_count": 43,
   "id": "1c1fff3d-1803-4f9e-8617-a6fcc281e463",
   "metadata": {},
   "outputs": [],
   "source": [
    "import functools"
   ]
  },
  {
   "cell_type": "code",
   "execution_count": 44,
   "id": "2f789a93-7c26-47df-bff8-6fffbd85f37f",
   "metadata": {},
   "outputs": [
    {
     "data": {
      "text/plain": [
       "210"
      ]
     },
     "execution_count": 44,
     "metadata": {},
     "output_type": "execute_result"
    }
   ],
   "source": [
    "functools.reduce(lambda x,y:x+y,l2)"
   ]
  },
  {
   "cell_type": "code",
   "execution_count": 45,
   "id": "d99e022b-557e-4b8d-b522-2d8a0467bd91",
   "metadata": {},
   "outputs": [
    {
     "data": {
      "text/plain": [
       "20"
      ]
     },
     "execution_count": 45,
     "metadata": {},
     "output_type": "execute_result"
    }
   ],
   "source": [
    "functools.reduce(lambda x,y:x if x>y else y,l2)"
   ]
  },
  {
   "cell_type": "code",
   "execution_count": 46,
   "id": "fd438b22-b79d-400c-86c1-1299d669c48d",
   "metadata": {},
   "outputs": [
    {
     "data": {
      "text/plain": [
       "[11, 12, 16, 18]"
      ]
     },
     "execution_count": 46,
     "metadata": {},
     "output_type": "execute_result"
    }
   ],
   "source": [
    "b=[11,12,16,18]\n",
    "b"
   ]
  },
  {
   "cell_type": "code",
   "execution_count": 47,
   "id": "a49cd1c7-849d-48c5-8ab7-b350ac182807",
   "metadata": {},
   "outputs": [
    {
     "data": {
      "text/plain": [
       "18"
      ]
     },
     "execution_count": 47,
     "metadata": {},
     "output_type": "execute_result"
    }
   ],
   "source": [
    "functools.reduce(lambda x,y:x if x>y else y,b)"
   ]
  },
  {
   "cell_type": "code",
   "execution_count": 48,
   "id": "ab7a6dd3-8e82-481a-9867-b4801ecc2141",
   "metadata": {},
   "outputs": [
    {
     "data": {
      "text/plain": [
       "11"
      ]
     },
     "execution_count": 48,
     "metadata": {},
     "output_type": "execute_result"
    }
   ],
   "source": [
    "functools.reduce(lambda x,y:x if x-y else y,b)"
   ]
  },
  {
   "cell_type": "code",
   "execution_count": null,
   "id": "ca8fef4b-ae16-42ce-a38f-0088062c4d14",
   "metadata": {},
   "outputs": [],
   "source": []
  }
 ],
 "metadata": {
  "kernelspec": {
   "display_name": "Python 3 (ipykernel)",
   "language": "python",
   "name": "python3"
  },
  "language_info": {
   "codemirror_mode": {
    "name": "ipython",
    "version": 3
   },
   "file_extension": ".py",
   "mimetype": "text/x-python",
   "name": "python",
   "nbconvert_exporter": "python",
   "pygments_lexer": "ipython3",
   "version": "3.12.4"
  }
 },
 "nbformat": 4,
 "nbformat_minor": 5
}
