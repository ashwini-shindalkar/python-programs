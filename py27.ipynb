{
 "cells": [
  {
   "cell_type": "markdown",
   "id": "c10f4046-f124-4359-ac26-2567e55057e5",
   "metadata": {},
   "source": [
    "### ...python practice assignment"
   ]
  },
  {
   "cell_type": "markdown",
   "id": "43dee2f8-7978-4ef3-ad91-c55ce2962f05",
   "metadata": {},
   "source": [
    "### 1.Solve the expression. 5.2 + True + bool(-5) - 4 + 42//5 +bool(0) + False + int(5.9) + float('1')"
   ]
  },
  {
   "cell_type": "code",
   "execution_count": 2,
   "id": "6feb51ee-4c6a-4580-8c8f-8ca8d5ee4018",
   "metadata": {},
   "outputs": [
    {
     "name": "stdout",
     "output_type": "stream",
     "text": [
      "17.2\n"
     ]
    }
   ],
   "source": [
    "part1=5.2\n",
    "part2=True\n",
    "part3=bool(-5)\n",
    "part4=-4\n",
    "part5=42//5\n",
    "part6=bool(0)\n",
    "part7=False\n",
    "part8=int(5.9)\n",
    "part9=float('1')\n",
    "\n",
    "result=part1+part2+part3+part4+part5+part6+part7+part8+part9\n",
    "print(result)\n"
   ]
  },
  {
   "cell_type": "markdown",
   "id": "45f3b393-6593-441b-865e-0d79ac226cac",
   "metadata": {},
   "source": [
    "### 2.Write code to test whether the given number lies between 1 and 10"
   ]
  },
  {
   "cell_type": "code",
   "execution_count": 11,
   "id": "169055c7-ed70-4dc4-b5d4-2d1925acabdc",
   "metadata": {},
   "outputs": [
    {
     "name": "stdin",
     "output_type": "stream",
     "text": [
      "Enter a number to test:  7\n"
     ]
    },
    {
     "name": "stdout",
     "output_type": "stream",
     "text": [
      "7.0 is between 1 and 10.\n"
     ]
    }
   ],
   "source": [
    "number = float(input(\"Enter a number to test: \"))\n",
    "\n",
    "if number >= 1 and number <= 10:\n",
    "    print(f\"{number} is between 1 and 10.\")\n",
    "else:\n",
    "    print(f\"{number} is not between 1 and 10.\")\n"
   ]
  },
  {
   "cell_type": "markdown",
   "id": "5f5dd1a3-6b34-401e-ac08-3fc55e5d5e5b",
   "metadata": {},
   "source": [
    "### 3.sum the numbers from 1 to 20 using for loop"
   ]
  },
  {
   "cell_type": "code",
   "execution_count": 17,
   "id": "b3484b87-c587-4e7d-a020-b0c936487f89",
   "metadata": {},
   "outputs": [
    {
     "name": "stdout",
     "output_type": "stream",
     "text": [
      "210\n"
     ]
    }
   ],
   "source": [
    "sum=0\n",
    "for i in range(1,20+1):\n",
    "    sum+=i\n",
    "print(sum)\n",
    "    "
   ]
  },
  {
   "cell_type": "markdown",
   "id": "3e8d218d-65fe-403a-9dea-bcedf55d9a35",
   "metadata": {},
   "source": [
    "### 4.Display the numbers in reverse from 100 to 1"
   ]
  },
  {
   "cell_type": "code",
   "execution_count": 22,
   "id": "adec5411-e713-44d8-b4a1-52b05b9e333c",
   "metadata": {},
   "outputs": [
    {
     "name": "stdout",
     "output_type": "stream",
     "text": [
      "100 99 98 97 96 95 94 93 92 91 90 89 88 87 86 85 84 83 82 81 80 79 78 77 76 75 74 73 72 71 70 69 68 67 66 65 64 63 62 61 60 59 58 57 56 55 54 53 52 51 50 49 48 47 46 45 44 43 42 41 40 39 38 37 36 35 34 33 32 31 30 29 28 27 26 25 24 23 22 21 20 19 18 17 16 15 14 13 12 11 10 9 8 7 6 5 4 3 2 "
     ]
    }
   ],
   "source": [
    "for i in range(100,1,-1):\n",
    "    print(i, end= \" \")"
   ]
  },
  {
   "cell_type": "markdown",
   "id": "57013f8c-c2af-4104-8383-9aa0434a7f53",
   "metadata": {},
   "source": [
    "### 5.Display multiples of 2 from 10 to 50 using range"
   ]
  },
  {
   "cell_type": "code",
   "execution_count": 36,
   "id": "d6d08f99-3a9c-438e-9bc9-361d7f165365",
   "metadata": {},
   "outputs": [
    {
     "name": "stdout",
     "output_type": "stream",
     "text": [
      "10\n",
      "12\n",
      "14\n",
      "16\n",
      "18\n",
      "20\n",
      "22\n",
      "24\n",
      "26\n",
      "28\n",
      "30\n",
      "32\n",
      "34\n",
      "36\n",
      "38\n",
      "40\n",
      "42\n",
      "44\n",
      "46\n",
      "48\n",
      "50\n"
     ]
    }
   ],
   "source": [
    "for i in range(10,50+1,2):\n",
    "    print(i)"
   ]
  },
  {
   "cell_type": "markdown",
   "id": "a4199513-43d1-47d3-be6a-401974c70188",
   "metadata": {},
   "source": [
    "### 6.From the below nested dictionary, pick the word \"Bangalore\". \n",
    "d = {'1':'One','2':[1,{'Two':['Ch','Cbe','Salem',{'Place':[5,6,7,'Bangalore']}]}]}"
   ]
  },
  {
   "cell_type": "code",
   "execution_count": 25,
   "id": "3a3ddbbf-78b9-4c03-94d1-217da3df9ec8",
   "metadata": {},
   "outputs": [],
   "source": [
    "d = {'1':'One','2':[1,{'Two':['Ch','Cbe','Salem',{'Place':[5,6,7,'Bangalore']}]}]}"
   ]
  },
  {
   "cell_type": "code",
   "execution_count": 29,
   "id": "f30a9f68-4e93-47ff-a9a0-0797189c6a1a",
   "metadata": {},
   "outputs": [
    {
     "data": {
      "text/plain": [
       "'Bangalore'"
      ]
     },
     "execution_count": 29,
     "metadata": {},
     "output_type": "execute_result"
    }
   ],
   "source": [
    "d[\"2\"][1][\"Two\"][3][\"Place\"][3]"
   ]
  },
  {
   "cell_type": "markdown",
   "id": "e6b52f91-d98c-475d-bd5a-f332a5c2338e",
   "metadata": {},
   "source": [
    "### 7.Use functions to return square of numbers from 2 to 5"
   ]
  },
  {
   "cell_type": "code",
   "execution_count": 35,
   "id": "55565dc5-9dd6-461c-a1ac-a99bb762fd10",
   "metadata": {},
   "outputs": [
    {
     "name": "stdout",
     "output_type": "stream",
     "text": [
      "the squre of 2 is 4.\n",
      "the squre of 3 is 9.\n",
      "the squre of 4 is 16.\n",
      "the squre of 5 is 25.\n"
     ]
    }
   ],
   "source": [
    "def square(number):\n",
    "    return number*number\n",
    "numbers=range(2,6)\n",
    "for num in numbers:\n",
    "    print(f\"the squre of {num} is {square(num)}.\")\n",
    "    "
   ]
  },
  {
   "cell_type": "markdown",
   "id": "46c4fa17-72b1-433d-bcd1-f4813201b99c",
   "metadata": {},
   "source": [
    "### 8.Write a Python program which accepts a sequence of comma-separated numbers\n",
    "### from user and generate a list and a tuple with those numbers"
   ]
  },
  {
   "cell_type": "code",
   "execution_count": 44,
   "id": "0de1220d-1e21-417f-8aa8-64cad39a96db",
   "metadata": {},
   "outputs": [
    {
     "name": "stdin",
     "output_type": "stream",
     "text": [
      "Enter the comma separated numbers: 1,2,3,4,5,6,7,8,9,10\n"
     ]
    },
    {
     "name": "stdout",
     "output_type": "stream",
     "text": [
      "['1', '2', '3', '4', '5', '6', '7', '8', '9', '10']\n",
      "('1', '2', '3', '4', '5', '6', '7', '8', '9', '10')\n"
     ]
    }
   ],
   "source": [
    "values=input(\"Enter the comma separated numbers:\")\n",
    "list1=values.split(\",\")\n",
    "tuple1=tuple(list1)\n",
    "print(list1)\n",
    "print(tuple1)"
   ]
  },
  {
   "cell_type": "markdown",
   "id": "3da20605-b971-4f2f-8b75-5e1274b54822",
   "metadata": {},
   "source": [
    "### 9. Write a Python program to display the first and last colors from the following list.\n",
    "color_list = [\"Red\",\"Green\",\"White\" ,\"Black\"]"
   ]
  },
  {
   "cell_type": "code",
   "execution_count": 66,
   "id": "3d439fb0-5300-4586-8c6b-3ed001dc4b94",
   "metadata": {},
   "outputs": [
    {
     "name": "stdout",
     "output_type": "stream",
     "text": [
      "First_color: Red\n",
      "Last_color: Black\n"
     ]
    }
   ],
   "source": [
    "color_list=[\"Red\",\"Green\",\"White\",\"Black\"]\n",
    "first_color=color_list[0]\n",
    "last_color=color_list[-1]\n",
    "print(\"First_color:\",first_color)\n",
    "print(\"Last_color:\",last_color)\n",
    "\n"
   ]
  },
  {
   "cell_type": "markdown",
   "id": "fc18385a-5db9-4bbc-9013-f9521a66d1ad",
   "metadata": {},
   "source": [
    "### 10.Write a Python program to calculate number of days between two dates.\n",
    "Sample dates : (2014, 7, 2), (2014, 7, 11)"
   ]
  },
  {
   "cell_type": "code",
   "execution_count": 73,
   "id": "0e4bce71-75c8-441a-bc11-110815dd7471",
   "metadata": {},
   "outputs": [
    {
     "name": "stdout",
     "output_type": "stream",
     "text": [
      "days between 2014-07-02 and 2024-07-11 is 3662 days.\n"
     ]
    }
   ],
   "source": [
    "from datetime import date\n",
    "date1=date(2014,7,2)\n",
    "date2=date(2024,7,11)\n",
    "\n",
    "days=date2-date1\n",
    "number_of_days=days.days\n",
    "print(f\"days between {date1} and {date2} is {number_of_days} days.\")"
   ]
  },
  {
   "cell_type": "code",
   "execution_count": null,
   "id": "75e1e227-7be5-4e10-a690-604b509aeaf3",
   "metadata": {},
   "outputs": [],
   "source": []
  }
 ],
 "metadata": {
  "kernelspec": {
   "display_name": "Python 3 (ipykernel)",
   "language": "python",
   "name": "python3"
  },
  "language_info": {
   "codemirror_mode": {
    "name": "ipython",
    "version": 3
   },
   "file_extension": ".py",
   "mimetype": "text/x-python",
   "name": "python",
   "nbconvert_exporter": "python",
   "pygments_lexer": "ipython3",
   "version": "3.12.4"
  }
 },
 "nbformat": 4,
 "nbformat_minor": 5
}
