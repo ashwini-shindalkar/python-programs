{
 "cells": [
  {
   "cell_type": "markdown",
   "id": "1a7d4f64-ce53-4664-adeb-8850c99898c6",
   "metadata": {},
   "source": [
    "## 1.Write a Python program to get the difference between a given number and 17,\n",
    "if the number is greater than 17 return double the absolute difference"
   ]
  },
  {
   "cell_type": "code",
   "execution_count": 6,
   "id": "fea22e06-5938-405b-9c6d-972d234937fe",
   "metadata": {},
   "outputs": [],
   "source": [
    "def num_difference(num):\n",
    "    if num>17:\n",
    "        difference=num-17\n",
    "        return 2*difference\n",
    "    else:\n",
    "        difference=17-num\n",
    "        return difference"
   ]
  },
  {
   "cell_type": "code",
   "execution_count": 7,
   "id": "639da959-e500-4bc6-bfef-67524dfba679",
   "metadata": {},
   "outputs": [
    {
     "data": {
      "text/plain": [
       "6"
      ]
     },
     "execution_count": 7,
     "metadata": {},
     "output_type": "execute_result"
    }
   ],
   "source": [
    "num_difference(20)"
   ]
  },
  {
   "cell_type": "markdown",
   "id": "e9ffe8f9-eefc-45ea-ba4f-08adb8cccdb2",
   "metadata": {},
   "source": [
    "### 2.To check whather given element exists in list or not??\n",
    "list=[1,2,3,4,5,6,7,8,9,10]\n",
    "check if 9 and 12 are present in given list or not"
   ]
  },
  {
   "cell_type": "code",
   "execution_count": 14,
   "id": "367c1248-1460-4eed-9d59-f44c4fe806f3",
   "metadata": {},
   "outputs": [
    {
     "name": "stdout",
     "output_type": "stream",
     "text": [
      "9 prasent in the list\n",
      "12 not prasent in the list\n"
     ]
    }
   ],
   "source": [
    "my_list=[1,2,3,4,5,6,7,8,9,10]\n",
    "element_to_check=[9,12]\n",
    "for element in element_to_check:\n",
    "    if element in my_list:\n",
    "        print(f\"{element} prasent in the list\")\n",
    "    else:\n",
    "        print(f\"{element} not prasent in the list\")"
   ]
  },
  {
   "cell_type": "markdown",
   "id": "c789d8b8-1234-43ee-9634-1669610ef3cd",
   "metadata": {},
   "source": [
    "### 3.Write a function calculation() such that it can accept two variables and calculate the addition and subtraction of it.\n",
    "And also it must return both addition and subtraction in a single return call"
   ]
  },
  {
   "cell_type": "code",
   "execution_count": 19,
   "id": "c8666725-8605-44f2-a1b7-668bb0e34552",
   "metadata": {},
   "outputs": [],
   "source": [
    "def calculation(a, b):\n",
    "    addition = a + b\n",
    "    subtraction = a - b\n",
    "    return addition, subtraction\n",
    "\n"
   ]
  },
  {
   "cell_type": "code",
   "execution_count": 22,
   "id": "e8719fad-89f4-4324-80c3-3724776805a3",
   "metadata": {},
   "outputs": [
    {
     "name": "stdout",
     "output_type": "stream",
     "text": [
      "30\n",
      "10\n"
     ]
    }
   ],
   "source": [
    "addition,substraction=calculation(20,10)\n",
    "print(addition)\n",
    "print(substraction)\n"
   ]
  },
  {
   "cell_type": "markdown",
   "id": "b9cc95c7-1655-48e6-8bbd-25b8d8f5c31f",
   "metadata": {},
   "source": [
    "### 4.Create a function showEmployee() in such a way that it should accept employee name, and it’s salary and display both,\n",
    "and if the salary is missing in function call it should show it as 9000"
   ]
  },
  {
   "cell_type": "code",
   "execution_count": 40,
   "id": "322a4ef0-3c88-4602-a551-a5387fa8c2f3",
   "metadata": {},
   "outputs": [],
   "source": [
    "def showEmployee(name,salary=9000):\n",
    "    print(f\"employee name:{name}\")\n",
    "    print(f\"employee salary:{salary}\")\n",
    "    "
   ]
  },
  {
   "cell_type": "code",
   "execution_count": 41,
   "id": "b379ea3c-9617-4079-9beb-c84222d4a076",
   "metadata": {},
   "outputs": [
    {
     "name": "stdout",
     "output_type": "stream",
     "text": [
      "employee name:sonal\n",
      "employee salary:9000\n"
     ]
    }
   ],
   "source": [
    "showEmployee(\"sonal\")"
   ]
  },
  {
   "cell_type": "markdown",
   "id": "d477c179-4132-4c5d-a904-286049de17a6",
   "metadata": {},
   "source": [
    "### .5 Write a recursive function to calculate the sum of numbers from 0 to 10"
   ]
  },
  {
   "cell_type": "code",
   "execution_count": 42,
   "id": "2fe41885-b4d0-4b39-895e-7216eabc104f",
   "metadata": {},
   "outputs": [
    {
     "name": "stdout",
     "output_type": "stream",
     "text": [
      "The sum of numbers from 0 to 10 is: 55\n"
     ]
    }
   ],
   "source": [
    "def recursive_sum(n):\n",
    "\n",
    "    if n == 0:\n",
    "        return 0\n",
    "    else:\n",
    "        return n + recursive_sum(n - 1)\n",
    "\n",
    "result = recursive_sum(10)\n",
    "print(\"The sum of numbers from 0 to 10 is:\", result)\n"
   ]
  },
  {
   "cell_type": "markdown",
   "id": "0745ce04-a970-4b11-8bb9-3caac3a2e60c",
   "metadata": {},
   "source": [
    "### 6.Generate a Python list of all the even numbers between 4 to 30"
   ]
  },
  {
   "cell_type": "code",
   "execution_count": 53,
   "id": "6423d472-5e3e-4dc0-89ce-484a423b64ae",
   "metadata": {},
   "outputs": [
    {
     "name": "stdout",
     "output_type": "stream",
     "text": [
      "[4, 6, 8, 10, 12, 14, 16, 18, 20, 22, 24, 26, 28, 30]\n"
     ]
    }
   ],
   "source": [
    "even_num_list=[]\n",
    "for i in range(4,30+1):\n",
    "    if i%2==0:\n",
    "       even_num_list.append(i)\n",
    "print(even_num_list)"
   ]
  },
  {
   "cell_type": "markdown",
   "id": "2f11632f-3c88-4f2b-a3bd-cabd68756a97",
   "metadata": {},
   "source": [
    "### 7.Return the largest item from the given list"
   ]
  },
  {
   "cell_type": "code",
   "execution_count": 54,
   "id": "738fd20b-1c50-466b-8bf4-0527d599ef64",
   "metadata": {},
   "outputs": [
    {
     "name": "stdout",
     "output_type": "stream",
     "text": [
      "The largest item in the list is 9\n"
     ]
    }
   ],
   "source": [
    "def find_largest(items):\n",
    "    return max(items)\n",
    "\n",
    "my_list = [3, 7, 2, 9, 5]\n",
    "\n",
    "largest_item = find_largest(my_list)\n",
    "print(f\"The largest item in the list is {largest_item}\")\n"
   ]
  },
  {
   "cell_type": "markdown",
   "id": "baa09f26-2f1a-41c7-9c53-c0ef2ada413a",
   "metadata": {},
   "source": [
    "### 8.Write a Python program to get the Python version you are using"
   ]
  },
  {
   "cell_type": "code",
   "execution_count": 58,
   "id": "d86efba2-3452-4850-91db-c460588e21f1",
   "metadata": {},
   "outputs": [
    {
     "name": "stdout",
     "output_type": "stream",
     "text": [
      "python version\n",
      "3.12.4 | packaged by Anaconda, Inc. | (main, Jun 18 2024, 15:03:56) [MSC v.1929 64 bit (AMD64)]\n",
      "python info\n",
      "sys.version_info(major=3, minor=12, micro=4, releaselevel='final', serial=0)\n"
     ]
    }
   ],
   "source": [
    "import sys\n",
    "print(\"python version\")\n",
    "print(sys.version)\n",
    "print(\"python info\")\n",
    "print(sys.version_info)"
   ]
  },
  {
   "cell_type": "markdown",
   "id": "72419aea-d995-43c6-a4c2-12b114d5c932",
   "metadata": {},
   "source": [
    "### 9.Write a Python program to display the current date and time"
   ]
  },
  {
   "cell_type": "code",
   "execution_count": 62,
   "id": "7f6c99a3-8b43-44fd-85c9-5930067de6d2",
   "metadata": {},
   "outputs": [
    {
     "name": "stdout",
     "output_type": "stream",
     "text": [
      "2024-08-28 19:38:41.987874\n"
     ]
    }
   ],
   "source": [
    "import datetime \n",
    "current_DT=datetime.datetime.today()\n",
    "print(current_DT)"
   ]
  },
  {
   "cell_type": "markdown",
   "id": "e7117c43-332b-4642-8a85-ce13b42639bd",
   "metadata": {},
   "source": [
    "### 10. Write a Python program which accepts the radius of a circle from the user and compute the area."
   ]
  },
  {
   "cell_type": "code",
   "execution_count": 64,
   "id": "e863f53a-de61-40c4-aa34-ad24c2ae656b",
   "metadata": {},
   "outputs": [
    {
     "name": "stdin",
     "output_type": "stream",
     "text": [
      "Enter the redius: 6\n"
     ]
    },
    {
     "name": "stdout",
     "output_type": "stream",
     "text": [
      "113.09733552923255\n"
     ]
    }
   ],
   "source": [
    "import math\n",
    "redius=float(input(\"Enter the redius:\"))\n",
    "area=math.pi*redius*redius\n",
    "print(area)"
   ]
  },
  {
   "cell_type": "code",
   "execution_count": 74,
   "id": "e535fd9b-8ee4-4b79-8b7b-59bc2c94d8fc",
   "metadata": {},
   "outputs": [],
   "source": [
    "import numpy as np\n",
    "def area_find():\n",
    "     redius=float(input(\"Enter the redius:\"))\n",
    "     area=np.pi*redius*redius\n",
    "     return area"
   ]
  },
  {
   "cell_type": "code",
   "execution_count": 75,
   "id": "17018ba3-b503-47c2-913d-9f609fa3474a",
   "metadata": {},
   "outputs": [
    {
     "name": "stdin",
     "output_type": "stream",
     "text": [
      "Enter the redius: 6\n"
     ]
    },
    {
     "data": {
      "text/plain": [
       "113.09733552923255"
      ]
     },
     "execution_count": 75,
     "metadata": {},
     "output_type": "execute_result"
    }
   ],
   "source": [
    "area_find()"
   ]
  },
  {
   "cell_type": "code",
   "execution_count": null,
   "id": "60e83031-762d-4d8d-b0b4-f795e61112f3",
   "metadata": {},
   "outputs": [],
   "source": []
  }
 ],
 "metadata": {
  "kernelspec": {
   "display_name": "Python 3 (ipykernel)",
   "language": "python",
   "name": "python3"
  },
  "language_info": {
   "codemirror_mode": {
    "name": "ipython",
    "version": 3
   },
   "file_extension": ".py",
   "mimetype": "text/x-python",
   "name": "python",
   "nbconvert_exporter": "python",
   "pygments_lexer": "ipython3",
   "version": "3.12.4"
  }
 },
 "nbformat": 4,
 "nbformat_minor": 5
}
