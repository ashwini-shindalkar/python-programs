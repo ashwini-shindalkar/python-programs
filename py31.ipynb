{
 "cells": [
  {
   "cell_type": "markdown",
   "id": "8b22d351-5231-4031-a1b7-7cd0c4c25864",
   "metadata": {},
   "source": [
    "#### ...13/8"
   ]
  },
  {
   "cell_type": "code",
   "execution_count": 1,
   "id": "4321d811-a2b0-4818-bb7a-143478400a31",
   "metadata": {},
   "outputs": [],
   "source": [
    "import numpy as np"
   ]
  },
  {
   "cell_type": "code",
   "execution_count": 3,
   "id": "e97a9121-202e-45ab-a6b2-05aee1a43f72",
   "metadata": {},
   "outputs": [],
   "source": [
    "## array can only accept same type of data"
   ]
  },
  {
   "cell_type": "code",
   "execution_count": 4,
   "id": "8b35e36e-12de-407d-b75f-73b4078cb1cb",
   "metadata": {},
   "outputs": [
    {
     "data": {
      "text/plain": [
       "array([], dtype=float64)"
      ]
     },
     "execution_count": 4,
     "metadata": {},
     "output_type": "execute_result"
    }
   ],
   "source": [
    "arr1=np.array([])          #create empty array\n",
    "arr1"
   ]
  },
  {
   "cell_type": "code",
   "execution_count": 5,
   "id": "652e9107-fd98-4aa8-a04d-dd8613ceee5d",
   "metadata": {},
   "outputs": [
    {
     "name": "stdout",
     "output_type": "stream",
     "text": [
      "[1, 2, 5, 15, 11]\n",
      "<class 'list'>\n"
     ]
    }
   ],
   "source": [
    "my_list=[1,2,5,15,11]\n",
    "print(my_list)\n",
    "print(type(my_list))"
   ]
  },
  {
   "cell_type": "code",
   "execution_count": 6,
   "id": "8a8bf529-1e73-4676-b3cb-aecfff7cca48",
   "metadata": {},
   "outputs": [],
   "source": [
    "a=np.array(my_list)     ##covert list into array"
   ]
  },
  {
   "cell_type": "code",
   "execution_count": 7,
   "id": "770e1d87-39c8-4bfe-9895-8f79505081f2",
   "metadata": {},
   "outputs": [
    {
     "data": {
      "text/plain": [
       "array([ 1,  2,  5, 15, 11])"
      ]
     },
     "execution_count": 7,
     "metadata": {},
     "output_type": "execute_result"
    }
   ],
   "source": [
    "a"
   ]
  },
  {
   "cell_type": "code",
   "execution_count": 8,
   "id": "2f29e8c0-0b03-45d3-b50f-34f2efc51ef3",
   "metadata": {},
   "outputs": [
    {
     "data": {
      "text/plain": [
       "numpy.ndarray"
      ]
     },
     "execution_count": 8,
     "metadata": {},
     "output_type": "execute_result"
    }
   ],
   "source": [
    "type(a)    ## give type of a "
   ]
  },
  {
   "cell_type": "code",
   "execution_count": 9,
   "id": "2c877f45-ed1e-4bbf-85a5-24743af96630",
   "metadata": {},
   "outputs": [],
   "source": [
    "## size ,shape, ndim only work with array"
   ]
  },
  {
   "cell_type": "code",
   "execution_count": 10,
   "id": "31432387-d7a6-4862-b828-2a7de003e2b0",
   "metadata": {},
   "outputs": [
    {
     "data": {
      "text/plain": [
       "dtype('int32')"
      ]
     },
     "execution_count": 10,
     "metadata": {},
     "output_type": "execute_result"
    }
   ],
   "source": [
    "a.dtype   ## give the type of  data under a"
   ]
  },
  {
   "cell_type": "code",
   "execution_count": 11,
   "id": "710856c2-38c7-452a-9a80-126e1f70c765",
   "metadata": {},
   "outputs": [
    {
     "data": {
      "text/plain": [
       "1"
      ]
     },
     "execution_count": 11,
     "metadata": {},
     "output_type": "execute_result"
    }
   ],
   "source": [
    "a.ndim     ## number of diamension in array __ rows in array"
   ]
  },
  {
   "cell_type": "code",
   "execution_count": 12,
   "id": "2f332f66-e9a6-4241-bb40-1dc956385d8a",
   "metadata": {},
   "outputs": [
    {
     "data": {
      "text/plain": [
       "5"
      ]
     },
     "execution_count": 12,
     "metadata": {},
     "output_type": "execute_result"
    }
   ],
   "source": [
    "a.size  ## how many element prasent in array"
   ]
  },
  {
   "cell_type": "code",
   "execution_count": 13,
   "id": "0375c58b-5768-4e0a-b8e9-f3eaa7e30667",
   "metadata": {},
   "outputs": [
    {
     "data": {
      "text/plain": [
       "(5,)"
      ]
     },
     "execution_count": 13,
     "metadata": {},
     "output_type": "execute_result"
    }
   ],
   "source": [
    "a.shape  ## give you the shape...no of rows and columns"
   ]
  },
  {
   "cell_type": "code",
   "execution_count": 14,
   "id": "216fd78d-b548-40cb-9b53-006f57ad8ab7",
   "metadata": {},
   "outputs": [
    {
     "data": {
      "text/plain": [
       "[[1, 2, 3, 4], [5, 6, 7, 8], [9, 10, 11, 12]]"
      ]
     },
     "execution_count": 14,
     "metadata": {},
     "output_type": "execute_result"
    }
   ],
   "source": [
    "my_matrix=[[1,2,3,4],[5,6,7,8],[9,10,11,12]]  ##two dimensinal array\n",
    "my_matrix"
   ]
  },
  {
   "cell_type": "code",
   "execution_count": 15,
   "id": "ae13c323-a72d-4682-9086-0a98379c4b64",
   "metadata": {},
   "outputs": [
    {
     "data": {
      "text/plain": [
       "array([[ 1,  2,  3,  4],\n",
       "       [ 5,  6,  7,  8],\n",
       "       [ 9, 10, 11, 12]])"
      ]
     },
     "execution_count": 15,
     "metadata": {},
     "output_type": "execute_result"
    }
   ],
   "source": [
    "import numpy as np\n",
    "b=np.array(my_matrix)\n",
    "b"
   ]
  },
  {
   "cell_type": "code",
   "execution_count": 16,
   "id": "47f1722e-884c-4d03-8d1f-d409e14274e0",
   "metadata": {},
   "outputs": [
    {
     "data": {
      "text/plain": [
       "2"
      ]
     },
     "execution_count": 16,
     "metadata": {},
     "output_type": "execute_result"
    }
   ],
   "source": [
    "b.ndim"
   ]
  },
  {
   "cell_type": "code",
   "execution_count": 17,
   "id": "45f9a282-8f5b-4ce8-9677-2fa15c3de0f5",
   "metadata": {},
   "outputs": [
    {
     "data": {
      "text/plain": [
       "12"
      ]
     },
     "execution_count": 17,
     "metadata": {},
     "output_type": "execute_result"
    }
   ],
   "source": [
    "b.size   ## No of element in \"b\" array that is 12"
   ]
  },
  {
   "cell_type": "code",
   "execution_count": 18,
   "id": "51570297-25c6-4306-bca0-f07bc8c15acf",
   "metadata": {},
   "outputs": [
    {
     "data": {
      "text/plain": [
       "(3, 4)"
      ]
     },
     "execution_count": 18,
     "metadata": {},
     "output_type": "execute_result"
    }
   ],
   "source": [
    "b.shape  # 3 row and 4 colum is there"
   ]
  },
  {
   "cell_type": "code",
   "execution_count": 19,
   "id": "7a8bd190-b21b-4887-b73c-e63c1b956a41",
   "metadata": {},
   "outputs": [
    {
     "data": {
      "text/plain": [
       "numpy.ndarray"
      ]
     },
     "execution_count": 19,
     "metadata": {},
     "output_type": "execute_result"
    }
   ],
   "source": [
    "type(b)  "
   ]
  },
  {
   "cell_type": "code",
   "execution_count": 20,
   "id": "cf41bb26-9f04-4e22-8c1e-dfae0a3d400e",
   "metadata": {},
   "outputs": [
    {
     "data": {
      "text/plain": [
       "dtype('int32')"
      ]
     },
     "execution_count": 20,
     "metadata": {},
     "output_type": "execute_result"
    }
   ],
   "source": [
    "b.dtype"
   ]
  },
  {
   "cell_type": "code",
   "execution_count": 21,
   "id": "b0a6161e-50f4-4612-90fc-1c9caf5e88e8",
   "metadata": {},
   "outputs": [
    {
     "data": {
      "text/plain": [
       "array([[[ 1,  2,  3],\n",
       "        [ 4,  5,  6]],\n",
       "\n",
       "       [[ 7,  6,  9],\n",
       "        [10, 11, 12]]])"
      ]
     },
     "execution_count": 21,
     "metadata": {},
     "output_type": "execute_result"
    }
   ],
   "source": [
    "arr1=np.array([[[1,2,3],[4,5,6]],  [[7,6,9],[10,11,12]]])   ## three dimensional array\n",
    "arr1"
   ]
  },
  {
   "cell_type": "code",
   "execution_count": 22,
   "id": "67bc74eb-9466-4716-9521-d1f04bcd5897",
   "metadata": {},
   "outputs": [
    {
     "data": {
      "text/plain": [
       "(2, 2, 3)"
      ]
     },
     "execution_count": 22,
     "metadata": {},
     "output_type": "execute_result"
    }
   ],
   "source": [
    "arr1.shape # two main row under that  two rows and three columns are given there"
   ]
  },
  {
   "cell_type": "code",
   "execution_count": 23,
   "id": "b76848cc-619f-4a8b-bcf4-516539646d5a",
   "metadata": {},
   "outputs": [
    {
     "data": {
      "text/plain": [
       "3"
      ]
     },
     "execution_count": 23,
     "metadata": {},
     "output_type": "execute_result"
    }
   ],
   "source": [
    "arr1.ndim"
   ]
  },
  {
   "cell_type": "code",
   "execution_count": 24,
   "id": "43464bf1-1b47-4dad-9c91-bd6474e54855",
   "metadata": {},
   "outputs": [
    {
     "data": {
      "text/plain": [
       "12"
      ]
     },
     "execution_count": 24,
     "metadata": {},
     "output_type": "execute_result"
    }
   ],
   "source": [
    "arr1.size   # element in arr is 12"
   ]
  },
  {
   "cell_type": "code",
   "execution_count": 25,
   "id": "b8338f41-90af-4abe-9794-e2c26c414743",
   "metadata": {},
   "outputs": [
    {
     "data": {
      "text/plain": [
       "numpy.ndarray"
      ]
     },
     "execution_count": 25,
     "metadata": {},
     "output_type": "execute_result"
    }
   ],
   "source": [
    "type(arr1)"
   ]
  },
  {
   "cell_type": "code",
   "execution_count": 26,
   "id": "07242ac1-8bf5-4229-8381-37b7ade5d730",
   "metadata": {},
   "outputs": [
    {
     "data": {
      "text/plain": [
       "dtype('int32')"
      ]
     },
     "execution_count": 26,
     "metadata": {},
     "output_type": "execute_result"
    }
   ],
   "source": [
    "arr1.dtype"
   ]
  },
  {
   "cell_type": "markdown",
   "id": "0f6a1fc7-8005-4a72-b784-0bb39bf70e8a",
   "metadata": {},
   "source": [
    "#### ....built in methods"
   ]
  },
  {
   "cell_type": "markdown",
   "id": "8dd2e66e-09cb-4eff-8d24-3f45e56782d7",
   "metadata": {},
   "source": [
    "#### ...reshape"
   ]
  },
  {
   "cell_type": "code",
   "execution_count": 27,
   "id": "844f4fe5-1658-4236-aef7-b201b49e1557",
   "metadata": {},
   "outputs": [
    {
     "data": {
      "text/plain": [
       "array([[[ 1,  2,  3],\n",
       "        [ 4,  5,  6]],\n",
       "\n",
       "       [[ 7,  6,  9],\n",
       "        [10, 11, 12]]])"
      ]
     },
     "execution_count": 27,
     "metadata": {},
     "output_type": "execute_result"
    }
   ],
   "source": [
    "arr1"
   ]
  },
  {
   "cell_type": "code",
   "execution_count": 28,
   "id": "0d5151d7-a501-47a2-ae25-0bfc6a85759e",
   "metadata": {},
   "outputs": [],
   "source": [
    "arr2=arr1.reshape((1,3,4))   ## reshape to the arr1 .."
   ]
  },
  {
   "cell_type": "code",
   "execution_count": 29,
   "id": "f96a7609-9046-47f1-b1df-f573e1bc79f3",
   "metadata": {},
   "outputs": [
    {
     "data": {
      "text/plain": [
       "(1, 3, 4)"
      ]
     },
     "execution_count": 29,
     "metadata": {},
     "output_type": "execute_result"
    }
   ],
   "source": [
    "arr2.shape      # reshape multiplication must be the 12..that is the size of arr"
   ]
  },
  {
   "cell_type": "code",
   "execution_count": 30,
   "id": "d0528cf0-b749-409f-934c-6555f3bcb4ce",
   "metadata": {},
   "outputs": [
    {
     "data": {
      "text/plain": [
       "array([[[ 1,  2,  3,  4],\n",
       "        [ 5,  6,  7,  6],\n",
       "        [ 9, 10, 11, 12]]])"
      ]
     },
     "execution_count": 30,
     "metadata": {},
     "output_type": "execute_result"
    }
   ],
   "source": [
    "arr2"
   ]
  },
  {
   "cell_type": "code",
   "execution_count": 31,
   "id": "d9abac2f-b943-4289-87d8-d3b187d128df",
   "metadata": {},
   "outputs": [
    {
     "ename": "ValueError",
     "evalue": "cannot reshape array of size 12 into shape (2,3,4)",
     "output_type": "error",
     "traceback": [
      "\u001b[1;31m---------------------------------------------------------------------------\u001b[0m",
      "\u001b[1;31mValueError\u001b[0m                                Traceback (most recent call last)",
      "Cell \u001b[1;32mIn[31], line 1\u001b[0m\n\u001b[1;32m----> 1\u001b[0m arr2\u001b[38;5;241m=\u001b[39marr1\u001b[38;5;241m.\u001b[39mreshape((\u001b[38;5;241m2\u001b[39m,\u001b[38;5;241m3\u001b[39m,\u001b[38;5;241m4\u001b[39m))\n",
      "\u001b[1;31mValueError\u001b[0m: cannot reshape array of size 12 into shape (2,3,4)"
     ]
    }
   ],
   "source": [
    "arr2=arr1.reshape((2,3,4))   ## size not a 12 so give the error"
   ]
  },
  {
   "cell_type": "code",
   "execution_count": 32,
   "id": "ca71cef4-c389-40c1-9d9a-995dd8f49c5c",
   "metadata": {},
   "outputs": [
    {
     "data": {
      "text/plain": [
       "array([[[ 1,  2,  3,  4],\n",
       "        [ 5,  6,  7,  6],\n",
       "        [ 9, 10, 11, 12]]])"
      ]
     },
     "execution_count": 32,
     "metadata": {},
     "output_type": "execute_result"
    }
   ],
   "source": [
    "arr2"
   ]
  },
  {
   "cell_type": "code",
   "execution_count": 33,
   "id": "ffafe6ef-1f53-418a-950e-04d960ef661b",
   "metadata": {},
   "outputs": [],
   "source": [
    "arr2=arr1.reshape((2,3,2))"
   ]
  },
  {
   "cell_type": "code",
   "execution_count": 34,
   "id": "a2811256-9b0e-4846-8cec-32b859d3ec17",
   "metadata": {},
   "outputs": [
    {
     "data": {
      "text/plain": [
       "array([[[ 1,  2],\n",
       "        [ 3,  4],\n",
       "        [ 5,  6]],\n",
       "\n",
       "       [[ 7,  6],\n",
       "        [ 9, 10],\n",
       "        [11, 12]]])"
      ]
     },
     "execution_count": 34,
     "metadata": {},
     "output_type": "execute_result"
    }
   ],
   "source": [
    "arr2"
   ]
  },
  {
   "cell_type": "code",
   "execution_count": 35,
   "id": "2871053e-0669-40ac-ac77-be0b1c901086",
   "metadata": {},
   "outputs": [],
   "source": [
    "arr2=arr1.reshape((6,2))"
   ]
  },
  {
   "cell_type": "code",
   "execution_count": 36,
   "id": "52224cca-cf9a-4f4b-aaee-d04b23a91167",
   "metadata": {},
   "outputs": [
    {
     "data": {
      "text/plain": [
       "array([[ 1,  2],\n",
       "       [ 3,  4],\n",
       "       [ 5,  6],\n",
       "       [ 7,  6],\n",
       "       [ 9, 10],\n",
       "       [11, 12]])"
      ]
     },
     "execution_count": 36,
     "metadata": {},
     "output_type": "execute_result"
    }
   ],
   "source": [
    "arr2"
   ]
  },
  {
   "cell_type": "markdown",
   "id": "be61b49d-2225-4099-9e5a-0f88d41afb92",
   "metadata": {},
   "source": [
    "### ....arange"
   ]
  },
  {
   "cell_type": "code",
   "execution_count": 37,
   "id": "70c9138d-919e-4af6-b3f1-616246dd9510",
   "metadata": {},
   "outputs": [
    {
     "data": {
      "text/plain": [
       "array([ 0,  1,  2,  3,  4,  5,  6,  7,  8,  9, 10, 11, 12, 13, 14])"
      ]
     },
     "execution_count": 37,
     "metadata": {},
     "output_type": "execute_result"
    }
   ],
   "source": [
    "np.arange(15)   ## will help you to generate array within the given  range \n",
    "##end; default start at 0"
   ]
  },
  {
   "cell_type": "code",
   "execution_count": 38,
   "id": "999ef40f-e865-400d-af3d-b7dedc967108",
   "metadata": {},
   "outputs": [
    {
     "data": {
      "text/plain": [
       "array([2, 3, 4])"
      ]
     },
     "execution_count": 38,
     "metadata": {},
     "output_type": "execute_result"
    }
   ],
   "source": [
    "np.arange(2,5)   ## star :2   # end:5-1=4"
   ]
  },
  {
   "cell_type": "code",
   "execution_count": 39,
   "id": "234889c5-2651-4619-bf72-4536b43398a6",
   "metadata": {},
   "outputs": [
    {
     "data": {
      "text/plain": [
       "array([2])"
      ]
     },
     "execution_count": 39,
     "metadata": {},
     "output_type": "execute_result"
    }
   ],
   "source": [
    "np.arange(2,3)"
   ]
  },
  {
   "cell_type": "code",
   "execution_count": 40,
   "id": "52465f32-e28a-49a2-8a2a-e18458baf16f",
   "metadata": {},
   "outputs": [
    {
     "data": {
      "text/plain": [
       "array([], dtype=int32)"
      ]
     },
     "execution_count": 40,
     "metadata": {},
     "output_type": "execute_result"
    }
   ],
   "source": [
    "np.arange(3,2)"
   ]
  },
  {
   "cell_type": "code",
   "execution_count": 41,
   "id": "964f4992-ab8c-4aba-b332-a426c87ecb90",
   "metadata": {},
   "outputs": [
    {
     "data": {
      "text/plain": [
       "array([100,  96,  92,  88,  84,  80,  76,  72,  68,  64,  60,  56,  52,\n",
       "        48,  44,  40,  36,  32,  28,  24,  20,  16,  12,   8,   4])"
      ]
     },
     "execution_count": 41,
     "metadata": {},
     "output_type": "execute_result"
    }
   ],
   "source": [
    "np.arange(100,2,-4)"
   ]
  },
  {
   "cell_type": "code",
   "execution_count": 42,
   "id": "0002b61a-c31f-4ba5-87c9-99720a041d99",
   "metadata": {},
   "outputs": [
    {
     "data": {
      "text/plain": [
       "array([0, 2, 4, 6, 8])"
      ]
     },
     "execution_count": 42,
     "metadata": {},
     "output_type": "execute_result"
    }
   ],
   "source": [
    "np.arange(0,10,2)"
   ]
  },
  {
   "cell_type": "code",
   "execution_count": 43,
   "id": "7b14b75c-1317-415f-898c-6ad08258023c",
   "metadata": {},
   "outputs": [],
   "source": [
    "a=np.arange(0,11,2)"
   ]
  },
  {
   "cell_type": "code",
   "execution_count": 44,
   "id": "44babfd8-904f-4243-b8fc-fb6a2b1c431d",
   "metadata": {},
   "outputs": [
    {
     "data": {
      "text/plain": [
       "array([ 0,  2,  4,  6,  8, 10])"
      ]
     },
     "execution_count": 44,
     "metadata": {},
     "output_type": "execute_result"
    }
   ],
   "source": [
    "a"
   ]
  },
  {
   "cell_type": "code",
   "execution_count": 53,
   "id": "7a69d684-7080-4f34-b8e5-5c6ac3912ae1",
   "metadata": {},
   "outputs": [],
   "source": [
    "b=a.reshape(3,2)"
   ]
  },
  {
   "cell_type": "code",
   "execution_count": 54,
   "id": "2f07539d-a2bf-4e47-ba7d-83c3f7d8c983",
   "metadata": {},
   "outputs": [
    {
     "data": {
      "text/plain": [
       "array([[ 0,  2],\n",
       "       [ 4,  6],\n",
       "       [ 8, 10]])"
      ]
     },
     "execution_count": 54,
     "metadata": {},
     "output_type": "execute_result"
    }
   ],
   "source": [
    "b"
   ]
  },
  {
   "cell_type": "code",
   "execution_count": 55,
   "id": "d245f111-f644-44b7-bcd9-b810d097ca08",
   "metadata": {},
   "outputs": [
    {
     "data": {
      "text/plain": [
       "(3, 2)"
      ]
     },
     "execution_count": 55,
     "metadata": {},
     "output_type": "execute_result"
    }
   ],
   "source": [
    "b.shape"
   ]
  },
  {
   "cell_type": "code",
   "execution_count": 47,
   "id": "dbd07447-9cd1-44bf-aeb6-56f1e7ee64d2",
   "metadata": {},
   "outputs": [],
   "source": [
    "b=a.reshape(6)"
   ]
  },
  {
   "cell_type": "code",
   "execution_count": 48,
   "id": "2a9abc6f-58fe-4656-bb93-46a54fb338db",
   "metadata": {},
   "outputs": [
    {
     "data": {
      "text/plain": [
       "array([ 0,  2,  4,  6,  8, 10])"
      ]
     },
     "execution_count": 48,
     "metadata": {},
     "output_type": "execute_result"
    }
   ],
   "source": [
    "b"
   ]
  },
  {
   "cell_type": "code",
   "execution_count": 49,
   "id": "efb58d16-3655-4f1b-b92b-25c15836dbea",
   "metadata": {},
   "outputs": [
    {
     "data": {
      "text/plain": [
       "(6,)"
      ]
     },
     "execution_count": 49,
     "metadata": {},
     "output_type": "execute_result"
    }
   ],
   "source": [
    "b.shape"
   ]
  },
  {
   "cell_type": "code",
   "execution_count": 50,
   "id": "1d6747ef-8d4f-4131-8320-5a315810ec34",
   "metadata": {},
   "outputs": [
    {
     "data": {
      "text/plain": [
       "(6,)"
      ]
     },
     "execution_count": 50,
     "metadata": {},
     "output_type": "execute_result"
    }
   ],
   "source": [
    "b.shape"
   ]
  },
  {
   "cell_type": "code",
   "execution_count": 51,
   "id": "96e2aa37-846c-4816-a763-185fce278fcb",
   "metadata": {},
   "outputs": [
    {
     "data": {
      "text/plain": [
       "(6,)"
      ]
     },
     "execution_count": 51,
     "metadata": {},
     "output_type": "execute_result"
    }
   ],
   "source": [
    "b.shape"
   ]
  },
  {
   "cell_type": "code",
   "execution_count": null,
   "id": "5e265274-d9f5-44b0-ad7c-4c7795aa0f6a",
   "metadata": {},
   "outputs": [],
   "source": [
    "## for odd value there is only one condition that is (1,7) either(7,1)"
   ]
  },
  {
   "cell_type": "markdown",
   "id": "3896bc5b-e401-422e-8b72-560412617f45",
   "metadata": {},
   "source": [
    "### .....zeros and ones"
   ]
  },
  {
   "cell_type": "markdown",
   "id": "6479ba5c-d8b7-4b02-9b83-b8cf300dfc05",
   "metadata": {},
   "source": [
    "..... zeros"
   ]
  },
  {
   "cell_type": "code",
   "execution_count": 79,
   "id": "4f7215aa-3b87-4e98-8554-573080250404",
   "metadata": {},
   "outputs": [
    {
     "data": {
      "text/plain": [
       "array([0., 0., 0.])"
      ]
     },
     "execution_count": 79,
     "metadata": {},
     "output_type": "execute_result"
    }
   ],
   "source": [
    "np.zeros(3)   ## help you to generate only zeros ...and bydefault generate the floting point numbers"
   ]
  },
  {
   "cell_type": "code",
   "execution_count": 83,
   "id": "12fe994a-c318-491c-b19c-74e464f5a14a",
   "metadata": {},
   "outputs": [
    {
     "data": {
      "text/plain": [
       "array([[0., 0., 0., 0., 0.],\n",
       "       [0., 0., 0., 0., 0.],\n",
       "       [0., 0., 0., 0., 0.],\n",
       "       [0., 0., 0., 0., 0.],\n",
       "       [0., 0., 0., 0., 0.]])"
      ]
     },
     "execution_count": 83,
     "metadata": {},
     "output_type": "execute_result"
    }
   ],
   "source": [
    "np.zeros((5,5))"
   ]
  },
  {
   "cell_type": "code",
   "execution_count": 19,
   "id": "b70330d3-e1fa-439b-a65a-7a753f2dfd34",
   "metadata": {},
   "outputs": [],
   "source": [
    "## if you want ot change the type then give the type"
   ]
  },
  {
   "cell_type": "code",
   "execution_count": 18,
   "id": "d724597b-7907-477e-a2a8-9f05e8b5c2a3",
   "metadata": {},
   "outputs": [
    {
     "data": {
      "text/plain": [
       "array([0, 0, 0])"
      ]
     },
     "execution_count": 18,
     "metadata": {},
     "output_type": "execute_result"
    }
   ],
   "source": [
    "np.zeros(3,dtype=int)"
   ]
  },
  {
   "cell_type": "markdown",
   "id": "f02e1976-e8f8-4d79-a55a-ed0a8f8807ac",
   "metadata": {},
   "source": [
    "......ones"
   ]
  },
  {
   "cell_type": "code",
   "execution_count": 86,
   "id": "8150347a-f3d0-46d4-80f8-c35e05291f35",
   "metadata": {},
   "outputs": [
    {
     "data": {
      "text/plain": [
       "array([1., 1., 1.])"
      ]
     },
     "execution_count": 86,
     "metadata": {},
     "output_type": "execute_result"
    }
   ],
   "source": [
    "np.ones(3)        ## help you to generate only ones ...and bydefault generate the floting point numbers   "
   ]
  },
  {
   "cell_type": "code",
   "execution_count": 23,
   "id": "1082ebf7-a9d2-47c5-9c18-d954dd753f7d",
   "metadata": {},
   "outputs": [
    {
     "data": {
      "text/plain": [
       "array([[1, 1, 1, 1, 1],\n",
       "       [1, 1, 1, 1, 1],\n",
       "       [1, 1, 1, 1, 1],\n",
       "       [1, 1, 1, 1, 1]])"
      ]
     },
     "execution_count": 23,
     "metadata": {},
     "output_type": "execute_result"
    }
   ],
   "source": [
    "np.ones((4,5),dtype=int)"
   ]
  },
  {
   "cell_type": "code",
   "execution_count": 27,
   "id": "f5ba7e6b-1cc6-4f90-9a13-41a90110f4d1",
   "metadata": {},
   "outputs": [
    {
     "data": {
      "text/plain": [
       "array([[[1, 1, 1],\n",
       "        [1, 1, 1],\n",
       "        [1, 1, 1],\n",
       "        [1, 1, 1],\n",
       "        [1, 1, 1]],\n",
       "\n",
       "       [[1, 1, 1],\n",
       "        [1, 1, 1],\n",
       "        [1, 1, 1],\n",
       "        [1, 1, 1],\n",
       "        [1, 1, 1]],\n",
       "\n",
       "       [[1, 1, 1],\n",
       "        [1, 1, 1],\n",
       "        [1, 1, 1],\n",
       "        [1, 1, 1],\n",
       "        [1, 1, 1]],\n",
       "\n",
       "       [[1, 1, 1],\n",
       "        [1, 1, 1],\n",
       "        [1, 1, 1],\n",
       "        [1, 1, 1],\n",
       "        [1, 1, 1]]])"
      ]
     },
     "execution_count": 27,
     "metadata": {},
     "output_type": "execute_result"
    }
   ],
   "source": [
    "np.ones((4,5,3),dtype=int)"
   ]
  },
  {
   "cell_type": "markdown",
   "id": "b49c02e3-ba6e-4f13-bd6d-48b3fcee2b11",
   "metadata": {},
   "source": [
    "#### .....linesapce       "
   ]
  },
  {
   "cell_type": "code",
   "execution_count": null,
   "id": "aac3d1cb-5ba3-4633-8389-7db5f1ea8cf4",
   "metadata": {},
   "outputs": [],
   "source": [
    "## linear space\n",
    "## it return evenly spaced numbers over a specified  intervel.\n",
    "## same as arrange function but it return the floting point numbers"
   ]
  },
  {
   "cell_type": "code",
   "execution_count": 28,
   "id": "39c0a25d-2464-4db8-bc23-c28f42b0c8f0",
   "metadata": {},
   "outputs": [],
   "source": [
    "import numpy as np"
   ]
  },
  {
   "cell_type": "code",
   "execution_count": 29,
   "id": "a7e9c58d-a775-4b72-900e-fa52bbefc492",
   "metadata": {},
   "outputs": [
    {
     "data": {
      "text/plain": [
       "array([2.        , 2.06122449, 2.12244898, 2.18367347, 2.24489796,\n",
       "       2.30612245, 2.36734694, 2.42857143, 2.48979592, 2.55102041,\n",
       "       2.6122449 , 2.67346939, 2.73469388, 2.79591837, 2.85714286,\n",
       "       2.91836735, 2.97959184, 3.04081633, 3.10204082, 3.16326531,\n",
       "       3.2244898 , 3.28571429, 3.34693878, 3.40816327, 3.46938776,\n",
       "       3.53061224, 3.59183673, 3.65306122, 3.71428571, 3.7755102 ,\n",
       "       3.83673469, 3.89795918, 3.95918367, 4.02040816, 4.08163265,\n",
       "       4.14285714, 4.20408163, 4.26530612, 4.32653061, 4.3877551 ,\n",
       "       4.44897959, 4.51020408, 4.57142857, 4.63265306, 4.69387755,\n",
       "       4.75510204, 4.81632653, 4.87755102, 4.93877551, 5.        ])"
      ]
     },
     "execution_count": 29,
     "metadata": {},
     "output_type": "execute_result"
    }
   ],
   "source": [
    "np.linspace(2,5)"
   ]
  },
  {
   "cell_type": "code",
   "execution_count": 99,
   "id": "59a2272c-e313-4dd4-bf1f-d5640fe93bda",
   "metadata": {},
   "outputs": [
    {
     "data": {
      "text/plain": [
       "array([ 1.        ,  1.28571429,  1.57142857,  1.85714286,  2.14285714,\n",
       "        2.42857143,  2.71428571,  3.        ,  3.28571429,  3.57142857,\n",
       "        3.85714286,  4.14285714,  4.42857143,  4.71428571,  5.        ,\n",
       "        5.28571429,  5.57142857,  5.85714286,  6.14285714,  6.42857143,\n",
       "        6.71428571,  7.        ,  7.28571429,  7.57142857,  7.85714286,\n",
       "        8.14285714,  8.42857143,  8.71428571,  9.        ,  9.28571429,\n",
       "        9.57142857,  9.85714286, 10.14285714, 10.42857143, 10.71428571,\n",
       "       11.        , 11.28571429, 11.57142857, 11.85714286, 12.14285714,\n",
       "       12.42857143, 12.71428571, 13.        , 13.28571429, 13.57142857,\n",
       "       13.85714286, 14.14285714, 14.42857143, 14.71428571, 15.        ])"
      ]
     },
     "execution_count": 99,
     "metadata": {},
     "output_type": "execute_result"
    }
   ],
   "source": [
    "np.linspace(1,15)   ##..default 50 observation...when we not give the last value\n",
    "##  both start and end are included in array   ## it give "
   ]
  },
  {
   "cell_type": "code",
   "execution_count": 101,
   "id": "41ca0b45-5790-4ce2-9c64-59466adfac13",
   "metadata": {},
   "outputs": [
    {
     "data": {
      "text/plain": [
       "array([ 5.        ,  5.2020202 ,  5.4040404 ,  5.60606061,  5.80808081,\n",
       "        6.01010101,  6.21212121,  6.41414141,  6.61616162,  6.81818182,\n",
       "        7.02020202,  7.22222222,  7.42424242,  7.62626263,  7.82828283,\n",
       "        8.03030303,  8.23232323,  8.43434343,  8.63636364,  8.83838384,\n",
       "        9.04040404,  9.24242424,  9.44444444,  9.64646465,  9.84848485,\n",
       "       10.05050505, 10.25252525, 10.45454545, 10.65656566, 10.85858586,\n",
       "       11.06060606, 11.26262626, 11.46464646, 11.66666667, 11.86868687,\n",
       "       12.07070707, 12.27272727, 12.47474747, 12.67676768, 12.87878788,\n",
       "       13.08080808, 13.28282828, 13.48484848, 13.68686869, 13.88888889,\n",
       "       14.09090909, 14.29292929, 14.49494949, 14.6969697 , 14.8989899 ,\n",
       "       15.1010101 , 15.3030303 , 15.50505051, 15.70707071, 15.90909091,\n",
       "       16.11111111, 16.31313131, 16.51515152, 16.71717172, 16.91919192,\n",
       "       17.12121212, 17.32323232, 17.52525253, 17.72727273, 17.92929293,\n",
       "       18.13131313, 18.33333333, 18.53535354, 18.73737374, 18.93939394,\n",
       "       19.14141414, 19.34343434, 19.54545455, 19.74747475, 19.94949495,\n",
       "       20.15151515, 20.35353535, 20.55555556, 20.75757576, 20.95959596,\n",
       "       21.16161616, 21.36363636, 21.56565657, 21.76767677, 21.96969697,\n",
       "       22.17171717, 22.37373737, 22.57575758, 22.77777778, 22.97979798,\n",
       "       23.18181818, 23.38383838, 23.58585859, 23.78787879, 23.98989899,\n",
       "       24.19191919, 24.39393939, 24.5959596 , 24.7979798 , 25.        ])"
      ]
     },
     "execution_count": 101,
     "metadata": {},
     "output_type": "execute_result"
    }
   ],
   "source": [
    "np.linspace(5,25,100)     ## equally spaced 100 values"
   ]
  },
  {
   "cell_type": "code",
   "execution_count": 105,
   "id": "e0bda303-25e4-4d5d-aabf-64bb9dcf9856",
   "metadata": {},
   "outputs": [
    {
     "data": {
      "text/plain": [
       "array([1.        , 1.44444444, 1.88888889, 2.33333333, 2.77777778,\n",
       "       3.22222222, 3.66666667, 4.11111111, 4.55555556, 5.        ])"
      ]
     },
     "execution_count": 105,
     "metadata": {},
     "output_type": "execute_result"
    }
   ],
   "source": [
    "np.linspace(1,5,10)"
   ]
  },
  {
   "cell_type": "code",
   "execution_count": 58,
   "id": "7a39380d-04a0-4241-bac9-b6dd472c619f",
   "metadata": {},
   "outputs": [
    {
     "data": {
      "text/plain": [
       "(array([1., 2., 3., 4., 5.]), 1.0)"
      ]
     },
     "execution_count": 58,
     "metadata": {},
     "output_type": "execute_result"
    }
   ],
   "source": [
    "np.linspace(1,5,5,retstep=True)"
   ]
  },
  {
   "cell_type": "code",
   "execution_count": 107,
   "id": "d0188357-5453-495c-a313-7d98092491a5",
   "metadata": {},
   "outputs": [
    {
     "data": {
      "text/plain": [
       "(array([ 5.        ,  5.2020202 ,  5.4040404 ,  5.60606061,  5.80808081,\n",
       "         6.01010101,  6.21212121,  6.41414141,  6.61616162,  6.81818182,\n",
       "         7.02020202,  7.22222222,  7.42424242,  7.62626263,  7.82828283,\n",
       "         8.03030303,  8.23232323,  8.43434343,  8.63636364,  8.83838384,\n",
       "         9.04040404,  9.24242424,  9.44444444,  9.64646465,  9.84848485,\n",
       "        10.05050505, 10.25252525, 10.45454545, 10.65656566, 10.85858586,\n",
       "        11.06060606, 11.26262626, 11.46464646, 11.66666667, 11.86868687,\n",
       "        12.07070707, 12.27272727, 12.47474747, 12.67676768, 12.87878788,\n",
       "        13.08080808, 13.28282828, 13.48484848, 13.68686869, 13.88888889,\n",
       "        14.09090909, 14.29292929, 14.49494949, 14.6969697 , 14.8989899 ,\n",
       "        15.1010101 , 15.3030303 , 15.50505051, 15.70707071, 15.90909091,\n",
       "        16.11111111, 16.31313131, 16.51515152, 16.71717172, 16.91919192,\n",
       "        17.12121212, 17.32323232, 17.52525253, 17.72727273, 17.92929293,\n",
       "        18.13131313, 18.33333333, 18.53535354, 18.73737374, 18.93939394,\n",
       "        19.14141414, 19.34343434, 19.54545455, 19.74747475, 19.94949495,\n",
       "        20.15151515, 20.35353535, 20.55555556, 20.75757576, 20.95959596,\n",
       "        21.16161616, 21.36363636, 21.56565657, 21.76767677, 21.96969697,\n",
       "        22.17171717, 22.37373737, 22.57575758, 22.77777778, 22.97979798,\n",
       "        23.18181818, 23.38383838, 23.58585859, 23.78787879, 23.98989899,\n",
       "        24.19191919, 24.39393939, 24.5959596 , 24.7979798 , 25.        ]),\n",
       " 0.20202020202020202)"
      ]
     },
     "execution_count": 107,
     "metadata": {},
     "output_type": "execute_result"
    }
   ],
   "source": [
    "np.linspace(5,25,100, retstep=True)  ##retstep tell the intervel(difference added) within this numbers ## below 0.20"
   ]
  },
  {
   "cell_type": "markdown",
   "id": "8eef2371-a239-4f5e-a0ce-cdd92a7bfd52",
   "metadata": {},
   "source": [
    "### ...eye\n",
    "### ...identity matrix"
   ]
  },
  {
   "cell_type": "code",
   "execution_count": 112,
   "id": "aacc1949-83e2-455f-9709-23e05ef1f170",
   "metadata": {},
   "outputs": [
    {
     "data": {
      "text/plain": [
       "array([[1., 0., 0., 0., 0.],\n",
       "       [0., 1., 0., 0., 0.],\n",
       "       [0., 0., 1., 0., 0.],\n",
       "       [0., 0., 0., 1., 0.],\n",
       "       [0., 0., 0., 0., 1.]])"
      ]
     },
     "execution_count": 112,
     "metadata": {},
     "output_type": "execute_result"
    }
   ],
   "source": [
    "np.eye(5)      ## going to create identity matrix  ## matrix with diagonul elemnt is one and all zero...# cross 1 line\n",
    "##bydefult floting pont number ...we can also use the identity here..#mostly use eye "
   ]
  },
  {
   "cell_type": "code",
   "execution_count": 59,
   "id": "c216c54b-aac2-42d0-af88-8bc9e41251b9",
   "metadata": {},
   "outputs": [
    {
     "data": {
      "text/plain": [
       "array([[1., 0., 0.],\n",
       "       [0., 1., 0.],\n",
       "       [0., 0., 1.]])"
      ]
     },
     "execution_count": 59,
     "metadata": {},
     "output_type": "execute_result"
    }
   ],
   "source": [
    "np.eye(3)"
   ]
  },
  {
   "cell_type": "code",
   "execution_count": 60,
   "id": "eb23b7a6-c21c-4cc0-9e19-a598806a9a94",
   "metadata": {},
   "outputs": [
    {
     "data": {
      "text/plain": [
       "array([[1., 0., 0.],\n",
       "       [0., 1., 0.],\n",
       "       [0., 0., 1.]])"
      ]
     },
     "execution_count": 60,
     "metadata": {},
     "output_type": "execute_result"
    }
   ],
   "source": [
    "np.identity(3)"
   ]
  },
  {
   "cell_type": "code",
   "execution_count": 61,
   "id": "701fdc22-2d95-4ead-9ebd-fb184dd11506",
   "metadata": {},
   "outputs": [
    {
     "data": {
      "text/plain": [
       "array([[1, 0, 0],\n",
       "       [0, 1, 0],\n",
       "       [0, 0, 1]])"
      ]
     },
     "execution_count": 61,
     "metadata": {},
     "output_type": "execute_result"
    }
   ],
   "source": [
    "np.eye(3,dtype=int)"
   ]
  },
  {
   "cell_type": "code",
   "execution_count": 64,
   "id": "d7f3bf21-def5-4778-b833-bfe0331607b9",
   "metadata": {},
   "outputs": [
    {
     "data": {
      "text/plain": [
       "array([[1., 0., 0., 0., 0., 0.],\n",
       "       [0., 1., 0., 0., 0., 0.],\n",
       "       [0., 0., 1., 0., 0., 0.]])"
      ]
     },
     "execution_count": 64,
     "metadata": {},
     "output_type": "execute_result"
    }
   ],
   "source": [
    "np.eye(3,6)"
   ]
  },
  {
   "cell_type": "markdown",
   "id": "bbff3109-a2a4-4cb7-8f86-baa992984d8b",
   "metadata": {},
   "source": [
    "####..create an eye from zeros array"
   ]
  },
  {
   "cell_type": "code",
   "execution_count": 65,
   "id": "a780ba1c-25ed-4964-9cb0-6e06723e3200",
   "metadata": {},
   "outputs": [],
   "source": [
    "z=np.zeros((5,5))"
   ]
  },
  {
   "cell_type": "code",
   "execution_count": 66,
   "id": "e8f7133d-0a8e-43f6-a060-37c1cba203ab",
   "metadata": {},
   "outputs": [
    {
     "data": {
      "text/plain": [
       "array([[0., 0., 0., 0., 0.],\n",
       "       [0., 0., 0., 0., 0.],\n",
       "       [0., 0., 0., 0., 0.],\n",
       "       [0., 0., 0., 0., 0.],\n",
       "       [0., 0., 0., 0., 0.]])"
      ]
     },
     "execution_count": 66,
     "metadata": {},
     "output_type": "execute_result"
    }
   ],
   "source": [
    "z"
   ]
  },
  {
   "cell_type": "code",
   "execution_count": 68,
   "id": "1dec75ec-1f67-4958-921c-55859ec49c85",
   "metadata": {},
   "outputs": [],
   "source": [
    "np.fill_diagonal(z,1)"
   ]
  },
  {
   "cell_type": "code",
   "execution_count": 69,
   "id": "b5e5ef3c-7e36-4cf8-8d7a-276a0082b9a3",
   "metadata": {},
   "outputs": [
    {
     "data": {
      "text/plain": [
       "array([[1., 0., 0., 0., 0.],\n",
       "       [0., 1., 0., 0., 0.],\n",
       "       [0., 0., 1., 0., 0.],\n",
       "       [0., 0., 0., 1., 0.],\n",
       "       [0., 0., 0., 0., 1.]])"
      ]
     },
     "execution_count": 69,
     "metadata": {},
     "output_type": "execute_result"
    }
   ],
   "source": [
    "z"
   ]
  },
  {
   "cell_type": "markdown",
   "id": "c18f5a86-2f4c-4a15-8d74-af9948f01dfb",
   "metadata": {},
   "source": [
    "## broadcasting in array"
   ]
  },
  {
   "cell_type": "code",
   "execution_count": 70,
   "id": "5525bf9b-b7a5-417f-9653-a9799c7fd04c",
   "metadata": {},
   "outputs": [
    {
     "name": "stdout",
     "output_type": "stream",
     "text": [
      "[[1. 1. 1. 1.]\n",
      " [1. 1. 1. 1.]\n",
      " [1. 1. 1. 1.]]\n"
     ]
    }
   ],
   "source": [
    "big_one=np.ones((3,4))   ## accepting all element and perform operation on that is calld broadcasting\n",
    "print(big_one)"
   ]
  },
  {
   "cell_type": "code",
   "execution_count": null,
   "id": "22ba9310-9e4c-4aca-bacd-0aa35fbcea5e",
   "metadata": {},
   "outputs": [],
   "source": [
    "## we want to multiply all element by 5 ...above elemnt"
   ]
  },
  {
   "cell_type": "code",
   "execution_count": 71,
   "id": "e3f36c79-7950-470e-8d40-1c026381972f",
   "metadata": {},
   "outputs": [
    {
     "data": {
      "text/plain": [
       "array([[3., 3., 3., 3.],\n",
       "       [3., 3., 3., 3.],\n",
       "       [3., 3., 3., 3.]])"
      ]
     },
     "execution_count": 71,
     "metadata": {},
     "output_type": "execute_result"
    }
   ],
   "source": [
    "big_one*3"
   ]
  },
  {
   "cell_type": "code",
   "execution_count": 73,
   "id": "92ff3535-f8be-41cf-b784-fad1141b814c",
   "metadata": {},
   "outputs": [
    {
     "data": {
      "text/plain": [
       "array([[4., 4., 4., 4.],\n",
       "       [4., 4., 4., 4.],\n",
       "       [4., 4., 4., 4.]])"
      ]
     },
     "execution_count": 73,
     "metadata": {},
     "output_type": "execute_result"
    }
   ],
   "source": [
    "bigger_one=big_one*6-2\n",
    "bigger_one"
   ]
  },
  {
   "cell_type": "code",
   "execution_count": 77,
   "id": "34f3277a-2c66-40ea-8af6-6ef755fc17b4",
   "metadata": {},
   "outputs": [
    {
     "name": "stdout",
     "output_type": "stream",
     "text": [
      "[[2 2 2 2]\n",
      " [2 2 2 2]\n",
      " [2 2 2 2]]\n"
     ]
    }
   ],
   "source": [
    "bigger=np.array(big_one*3-0.4,dtype=\"int\")\n",
    "print(bigger)"
   ]
  },
  {
   "cell_type": "code",
   "execution_count": 78,
   "id": "6152155e-e58b-4781-9282-d3b91baebf92",
   "metadata": {},
   "outputs": [
    {
     "data": {
      "text/plain": [
       "0"
      ]
     },
     "execution_count": 78,
     "metadata": {},
     "output_type": "execute_result"
    }
   ],
   "source": [
    "int(0.4)"
   ]
  },
  {
   "cell_type": "code",
   "execution_count": 79,
   "id": "76ab1d8e-2121-4ff7-968b-b9de730ed0ae",
   "metadata": {},
   "outputs": [
    {
     "data": {
      "text/plain": [
       "dtype('int32')"
      ]
     },
     "execution_count": 79,
     "metadata": {},
     "output_type": "execute_result"
    }
   ],
   "source": [
    "bigger.dtype"
   ]
  },
  {
   "cell_type": "code",
   "execution_count": 80,
   "id": "2028d786-dcd8-4730-a8f0-1e2d307625ce",
   "metadata": {},
   "outputs": [
    {
     "data": {
      "text/plain": [
       "numpy.ndarray"
      ]
     },
     "execution_count": 80,
     "metadata": {},
     "output_type": "execute_result"
    }
   ],
   "source": [
    "type(bigger)"
   ]
  },
  {
   "cell_type": "code",
   "execution_count": 81,
   "id": "f99d52e0-c087-4e6c-8bed-13a137c9123b",
   "metadata": {},
   "outputs": [
    {
     "data": {
      "text/plain": [
       "(3, 4)"
      ]
     },
     "execution_count": 81,
     "metadata": {},
     "output_type": "execute_result"
    }
   ],
   "source": [
    "bigger.shape"
   ]
  },
  {
   "cell_type": "code",
   "execution_count": 82,
   "id": "2c42ba5b-bb8c-4ed9-a91e-f44e37b86ebe",
   "metadata": {},
   "outputs": [
    {
     "data": {
      "text/plain": [
       "array([[1., 1., 1., 1.],\n",
       "       [1., 1., 1., 1.],\n",
       "       [1., 1., 1., 1.]])"
      ]
     },
     "execution_count": 82,
     "metadata": {},
     "output_type": "execute_result"
    }
   ],
   "source": [
    "bigger/bigger"
   ]
  },
  {
   "cell_type": "code",
   "execution_count": 83,
   "id": "fb29df91-417a-4ce2-8c05-5f9a8c60f19a",
   "metadata": {},
   "outputs": [
    {
     "data": {
      "text/plain": [
       "array([[1, 1, 1, 1],\n",
       "       [1, 1, 1, 1],\n",
       "       [1, 1, 1, 1]])"
      ]
     },
     "execution_count": 83,
     "metadata": {},
     "output_type": "execute_result"
    }
   ],
   "source": [
    "bigger//bigger"
   ]
  },
  {
   "cell_type": "code",
   "execution_count": 85,
   "id": "0bb9cc0f-526f-4045-aab9-8f65b13ef0b9",
   "metadata": {},
   "outputs": [
    {
     "data": {
      "text/plain": [
       "array([ 3,  4,  5,  6,  7,  8,  9, 10, 11, 12, 13, 14, 15, 16, 17, 18, 19])"
      ]
     },
     "execution_count": 85,
     "metadata": {},
     "output_type": "execute_result"
    }
   ],
   "source": [
    "arr1=np.arange(3,20)  #3 to 19 numbers will be generated \n",
    "arr1"
   ]
  },
  {
   "cell_type": "code",
   "execution_count": 87,
   "id": "840cfe10-f8ea-4c0b-94b7-72d4bba21f04",
   "metadata": {},
   "outputs": [
    {
     "data": {
      "text/plain": [
       "array([ 6,  8, 10, 12, 14, 16, 18, 20, 22, 24, 26, 28, 30, 32, 34, 36, 38])"
      ]
     },
     "execution_count": 87,
     "metadata": {},
     "output_type": "execute_result"
    }
   ],
   "source": [
    "arr1+arr1   ## 3+3,4+4,5+5...."
   ]
  },
  {
   "cell_type": "code",
   "execution_count": 88,
   "id": "faf8f8d1-b513-4cdc-85fb-d07284fbb3f0",
   "metadata": {},
   "outputs": [
    {
     "data": {
      "text/plain": [
       "array([         27,         256,        3125,       46656,      823543,\n",
       "          16777216,   387420489,  1410065408,  1843829075,  -251658240,\n",
       "       -1692154371, -1282129920,  1500973039,           0,  1681328401,\n",
       "         457441280,  -306639989])"
      ]
     },
     "execution_count": 88,
     "metadata": {},
     "output_type": "execute_result"
    }
   ],
   "source": [
    "arr1**arr1  "
   ]
  },
  {
   "cell_type": "markdown",
   "id": "ee658f4a-1ca9-4cea-98f2-eb779d073777",
   "metadata": {},
   "source": [
    "#### ....USe of copy function "
   ]
  },
  {
   "cell_type": "code",
   "execution_count": null,
   "id": "9ea70167-c685-4455-bd44-07edece65963",
   "metadata": {},
   "outputs": [],
   "source": [
    "## use generate backup or cpy of your array"
   ]
  },
  {
   "cell_type": "code",
   "execution_count": 100,
   "id": "f8b202e7-8515-45da-a3d2-cc0ec9a683d9",
   "metadata": {},
   "outputs": [],
   "source": [
    "import numpy as np"
   ]
  },
  {
   "cell_type": "code",
   "execution_count": 91,
   "id": "edaf1990-08ed-48f2-9017-6321895b35fe",
   "metadata": {},
   "outputs": [
    {
     "data": {
      "text/plain": [
       "array([ 3,  4,  5,  6,  7,  8,  9, 10, 11, 12, 13, 14, 15, 16, 17, 18, 19])"
      ]
     },
     "execution_count": 91,
     "metadata": {},
     "output_type": "execute_result"
    }
   ],
   "source": [
    "arr2=arr1   ## not recommended\n",
    "arr2"
   ]
  },
  {
   "cell_type": "code",
   "execution_count": 102,
   "id": "9616382b-c23f-4a21-83d6-5b89b6202745",
   "metadata": {},
   "outputs": [
    {
     "data": {
      "text/plain": [
       "array([30, 30, 30, 30, 30, 30, 30, 30, 30, 30, 13, 14, 15, 16, 17, 18, 19])"
      ]
     },
     "execution_count": 102,
     "metadata": {},
     "output_type": "execute_result"
    }
   ],
   "source": [
    "arr2[:10]=30   ## using idexsing /sclicing to modify arr2\n",
    "arr2"
   ]
  },
  {
   "cell_type": "code",
   "execution_count": 103,
   "id": "651f37e3-912e-474d-934b-37fa520272c1",
   "metadata": {},
   "outputs": [
    {
     "data": {
      "text/plain": [
       "array([30, 30, 30, 30, 30, 30, 30, 30, 30, 30, 13, 14, 15, 16, 17, 18, 19])"
      ]
     },
     "execution_count": 103,
     "metadata": {},
     "output_type": "execute_result"
    }
   ],
   "source": [
    "arr1   ## here  aar1 (original) also change so we dont use the\"=\" sign ...## use the copy"
   ]
  },
  {
   "cell_type": "code",
   "execution_count": 111,
   "id": "2d766e75-f711-4460-9a3c-58dd14ce3431",
   "metadata": {},
   "outputs": [
    {
     "data": {
      "text/plain": [
       "array([30, 30, 30, 30, 30, 30, 30, 30, 30, 30, 13, 14, 15, 16, 17, 18, 19])"
      ]
     },
     "execution_count": 111,
     "metadata": {},
     "output_type": "execute_result"
    }
   ],
   "source": [
    "arr3=arr2.copy()\n",
    "arr3                      ##generate a copy/ create a backup"
   ]
  },
  {
   "cell_type": "code",
   "execution_count": 112,
   "id": "5deef3cb-8f63-4c38-b706-64a7224bc3b0",
   "metadata": {},
   "outputs": [
    {
     "data": {
      "text/plain": [
       "array([ 30,  30,  30,  30,  30,  30,  30,  30,  30,  30, 100, 100, 100,\n",
       "       100, 100, 100, 100])"
      ]
     },
     "execution_count": 112,
     "metadata": {},
     "output_type": "execute_result"
    }
   ],
   "source": [
    "arr3[10:]=100\n",
    "arr3"
   ]
  },
  {
   "cell_type": "code",
   "execution_count": 113,
   "id": "8980c48a-c7c2-489a-a35a-a6f8d2ce8e15",
   "metadata": {},
   "outputs": [
    {
     "data": {
      "text/plain": [
       "array([30, 30, 30, 30, 30, 30, 30, 30, 30, 30, 13, 14, 15, 16, 17, 18, 19])"
      ]
     },
     "execution_count": 113,
     "metadata": {},
     "output_type": "execute_result"
    }
   ],
   "source": [
    "arr2   ## here not chage in original"
   ]
  },
  {
   "cell_type": "code",
   "execution_count": 114,
   "id": "1622318d-abb6-4da8-ae32-23a020f819c6",
   "metadata": {},
   "outputs": [
    {
     "data": {
      "text/plain": [
       "array([30, 30, 30, 30, 30, 30, 30, 30, 30, 30, 13, 14, 15, 16, 17, 18, 19])"
      ]
     },
     "execution_count": 114,
     "metadata": {},
     "output_type": "execute_result"
    }
   ],
   "source": [
    "arr1"
   ]
  },
  {
   "cell_type": "markdown",
   "id": "08be4af5-2f55-4301-857b-6f84d6d5bf38",
   "metadata": {},
   "source": [
    "## ....."
   ]
  },
  {
   "cell_type": "code",
   "execution_count": 93,
   "id": "eb98632e-4361-47b4-a821-5fcef910cb6f",
   "metadata": {},
   "outputs": [],
   "source": [
    "B=np.array(array2)"
   ]
  },
  {
   "cell_type": "code",
   "execution_count": 94,
   "id": "650584dd-dddc-4789-9cdb-e2e3ecbe1f48",
   "metadata": {},
   "outputs": [
    {
     "data": {
      "text/plain": [
       "array([ 0,  1,  2,  3,  4,  5,  6,  7,  8,  9, 10, 11, 12, 13, 14, 15])"
      ]
     },
     "execution_count": 94,
     "metadata": {},
     "output_type": "execute_result"
    }
   ],
   "source": [
    "B"
   ]
  },
  {
   "cell_type": "code",
   "execution_count": 95,
   "id": "fcea480a-9aae-4dff-9531-bcb626878ce6",
   "metadata": {},
   "outputs": [
    {
     "ename": "TypeError",
     "evalue": "can only assign an iterable",
     "output_type": "error",
     "traceback": [
      "\u001b[1;31m---------------------------------------------------------------------------\u001b[0m",
      "\u001b[1;31mTypeError\u001b[0m                                 Traceback (most recent call last)",
      "Cell \u001b[1;32mIn[95], line 1\u001b[0m\n\u001b[1;32m----> 1\u001b[0m array2[:\u001b[38;5;241m10\u001b[39m]\u001b[38;5;241m=\u001b[39m\u001b[38;5;241m30\u001b[39m   \u001b[38;5;66;03m## using idexsing /sclicing to modify arr2\u001b[39;00m\n\u001b[0;32m      2\u001b[0m array2\n",
      "\u001b[1;31mTypeError\u001b[0m: can only assign an iterable"
     ]
    }
   ],
   "source": [
    "array2[:10]=30   ## using idexsing /sclicing to modify arr2\n",
    "array2"
   ]
  },
  {
   "cell_type": "code",
   "execution_count": 105,
   "id": "645a1edc-0dde-45dd-ac7f-ea682df426e2",
   "metadata": {},
   "outputs": [
    {
     "data": {
      "text/plain": [
       "[5, 10, 15, 20, 25]"
      ]
     },
     "execution_count": 105,
     "metadata": {},
     "output_type": "execute_result"
    }
   ],
   "source": [
    "array1=([5,10,15,20,25])\n",
    "array1"
   ]
  },
  {
   "cell_type": "code",
   "execution_count": 106,
   "id": "6dc9efb5-7bb0-44fc-bf3c-349204c89bb3",
   "metadata": {},
   "outputs": [],
   "source": [
    "C=np.array(array1)"
   ]
  },
  {
   "cell_type": "code",
   "execution_count": 107,
   "id": "2874ec42-d6aa-4ddd-955b-45f6dc61c17e",
   "metadata": {},
   "outputs": [
    {
     "data": {
      "text/plain": [
       "array([ 5, 10, 15, 20, 25])"
      ]
     },
     "execution_count": 107,
     "metadata": {},
     "output_type": "execute_result"
    }
   ],
   "source": [
    "C"
   ]
  },
  {
   "cell_type": "code",
   "execution_count": 108,
   "id": "fcc7913a-fa52-47f8-af64-2b1de4757fba",
   "metadata": {},
   "outputs": [
    {
     "data": {
      "text/plain": [
       "[5, 10, 15, 20, 25]"
      ]
     },
     "execution_count": 108,
     "metadata": {},
     "output_type": "execute_result"
    }
   ],
   "source": [
    "array2=array1\n",
    "array2"
   ]
  },
  {
   "cell_type": "code",
   "execution_count": 152,
   "id": "c47341aa-8284-496a-a56d-b24d29c35422",
   "metadata": {},
   "outputs": [],
   "source": [
    "array3=array2.copy()"
   ]
  },
  {
   "cell_type": "code",
   "execution_count": 154,
   "id": "0e6aa192-3999-4a75-841c-84ff69536139",
   "metadata": {},
   "outputs": [
    {
     "data": {
      "text/plain": [
       "[5, 10, 15, 20, 25]"
      ]
     },
     "execution_count": 154,
     "metadata": {},
     "output_type": "execute_result"
    }
   ],
   "source": [
    "array3"
   ]
  },
  {
   "cell_type": "markdown",
   "id": "926d8314-b30a-417f-abee-ac1e4f9d2ac6",
   "metadata": {},
   "source": [
    "## #randum number generation"
   ]
  },
  {
   "cell_type": "markdown",
   "id": "cd20ccaf-d367-4a46-baeb-54f1de7b16f0",
   "metadata": {},
   "source": [
    "numpy also has lots of way to create a randum number arrays"
   ]
  },
  {
   "cell_type": "markdown",
   "id": "705a217c-722e-46f5-ba99-7732a010853f",
   "metadata": {},
   "source": [
    "### ....rand  fun"
   ]
  },
  {
   "cell_type": "markdown",
   "id": "4b635f52-655a-4217-8873-633fc591d96a",
   "metadata": {},
   "source": [
    "qs.... create an array of given shape and populate it with randam samples from the uniform distribution over [0 to 1]"
   ]
  },
  {
   "cell_type": "code",
   "execution_count": 116,
   "id": "412a0873-6784-4100-8c97-ac0e84259c62",
   "metadata": {},
   "outputs": [
    {
     "data": {
      "text/plain": [
       "0.6556593447855622"
      ]
     },
     "execution_count": 116,
     "metadata": {},
     "output_type": "execute_result"
    }
   ],
   "source": [
    "np.random.rand()   # any number from o to 1 will be generated"
   ]
  },
  {
   "cell_type": "code",
   "execution_count": 121,
   "id": "9c2103da-a14a-499d-bf56-15b335713206",
   "metadata": {},
   "outputs": [
    {
     "data": {
      "text/plain": [
       "array([0.81853218, 0.58208141, 0.57853386, 0.27977935, 0.50473786,\n",
       "       0.05579729, 0.52269207, 0.44159695, 0.41787331, 0.24613019])"
      ]
     },
     "execution_count": 121,
     "metadata": {},
     "output_type": "execute_result"
    }
   ],
   "source": [
    "np.random.rand(10)  ## give the 10 values from 0 to on 1 ..# it give you the unifom distribution"
   ]
  },
  {
   "cell_type": "code",
   "execution_count": 120,
   "id": "263efa46-de9f-4552-a5a8-2fdce6d85f39",
   "metadata": {},
   "outputs": [
    {
     "data": {
      "text/plain": [
       "array([[0.69501349, 0.02994109, 0.85551132, 0.17904052, 0.11422718],\n",
       "       [0.13036698, 0.25482406, 0.03947236, 0.38692199, 0.66480215]])"
      ]
     },
     "execution_count": 120,
     "metadata": {},
     "output_type": "execute_result"
    }
   ],
   "source": [
    "np.random.rand(10).reshape((2,5))"
   ]
  },
  {
   "cell_type": "code",
   "execution_count": 122,
   "id": "c49655b2-28fa-45d4-8b1f-858286620dbe",
   "metadata": {},
   "outputs": [
    {
     "data": {
      "text/plain": [
       "array([[0.46996402, 0.83824574, 0.09065906],\n",
       "       [0.75552589, 0.62655755, 0.83230577],\n",
       "       [0.92821916, 0.62317155, 0.7529491 ],\n",
       "       [0.12305054, 0.07623544, 0.31542862],\n",
       "       [0.25051062, 0.1728545 , 0.15580474]])"
      ]
     },
     "execution_count": 122,
     "metadata": {},
     "output_type": "execute_result"
    }
   ],
   "source": [
    "# create array from uniform distribution\n",
    "new_array=np.random.rand(5,3)\n",
    "\n",
    "# 2 dimessional array of shape(5,3)\n",
    "new_array"
   ]
  },
  {
   "cell_type": "markdown",
   "id": "0a03e5f7-a31b-4188-b09c-71f61e6b62fb",
   "metadata": {},
   "source": [
    "## randn"
   ]
  },
  {
   "cell_type": "markdown",
   "id": "48684a05-115a-49d9-a0ad-3c3d69615f6e",
   "metadata": {},
   "source": [
    "Return a sample(or samples) from the \"standerd normal distribution\". unlike rand which is uniform   -3 to +3"
   ]
  },
  {
   "cell_type": "code",
   "execution_count": null,
   "id": "9e97aec9-2768-464d-abb0-ed1972c65354",
   "metadata": {},
   "outputs": [],
   "source": [
    "# for randn, random numbers generated will be approximately -3 to +3"
   ]
  },
  {
   "cell_type": "code",
   "execution_count": 172,
   "id": "2d5239a9-fe1c-47bb-aa1e-18a63a1f5451",
   "metadata": {},
   "outputs": [
    {
     "data": {
      "text/plain": [
       "[5, 10, 15, 20, 25]"
      ]
     },
     "execution_count": 172,
     "metadata": {},
     "output_type": "execute_result"
    }
   ],
   "source": [
    "array1"
   ]
  },
  {
   "cell_type": "code",
   "execution_count": 126,
   "id": "4adc1a3d-f1ba-421c-9114-ebfae6059411",
   "metadata": {},
   "outputs": [
    {
     "data": {
      "text/plain": [
       "array([-0.33825965,  1.10401194, -2.13908966,  0.54153036,  0.13021867,\n",
       "        1.86737145,  0.84766673,  0.6725976 , -1.72850122, -0.53651533,\n",
       "        1.2588791 ,  0.7682668 ,  0.56899808,  0.66416243,  0.02277262,\n",
       "        0.3978578 ,  2.31342387,  1.13634365, -1.3114252 , -1.09513927,\n",
       "        0.04028559, -0.69194698, -0.50996809, -1.94035605, -0.11832948,\n",
       "        1.65073097, -0.10124037, -0.83399564,  0.81011334,  0.27401591,\n",
       "       -0.93893279,  0.00289356, -1.36791288,  0.63936133, -1.82322962,\n",
       "        0.69893964, -0.63120267, -1.23432107, -0.37591921, -0.58803257,\n",
       "       -0.65992347, -0.54084531, -0.68393651,  0.87048544,  1.05758183,\n",
       "       -0.92286551, -0.86486766, -0.50061913,  2.5052776 , -0.07052876])"
      ]
     },
     "execution_count": 126,
     "metadata": {},
     "output_type": "execute_result"
    }
   ],
   "source": [
    "array1=np.random.randn(50)   # 50 observations from  std normal distribution\n",
    "array1"
   ]
  },
  {
   "cell_type": "code",
   "execution_count": 128,
   "id": "7d184ff7-67bf-438f-b4b9-9afde733029e",
   "metadata": {},
   "outputs": [
    {
     "data": {
      "text/plain": [
       "2.505277602889379"
      ]
     },
     "execution_count": 128,
     "metadata": {},
     "output_type": "execute_result"
    }
   ],
   "source": [
    "max(array1)"
   ]
  },
  {
   "cell_type": "code",
   "execution_count": 129,
   "id": "d1388d00-83c7-443c-a75e-1e481bc851e5",
   "metadata": {},
   "outputs": [
    {
     "data": {
      "text/plain": [
       "-2.139089655724567"
      ]
     },
     "execution_count": 129,
     "metadata": {},
     "output_type": "execute_result"
    }
   ],
   "source": [
    "min(array1)"
   ]
  },
  {
   "cell_type": "code",
   "execution_count": 132,
   "id": "56099dbb-93d7-4dd8-8b93-4517442d24b9",
   "metadata": {},
   "outputs": [
    {
     "data": {
      "text/plain": [
       "array([[ 0.87035002, -1.20588858],\n",
       "       [-1.01023603, -1.91790869]])"
      ]
     },
     "execution_count": 132,
     "metadata": {},
     "output_type": "execute_result"
    }
   ],
   "source": [
    "np.random.randn(2,2)"
   ]
  },
  {
   "cell_type": "code",
   "execution_count": 138,
   "id": "4f6582f8-d633-4325-9437-121f1184217c",
   "metadata": {},
   "outputs": [
    {
     "data": {
      "text/plain": [
       "array([[[-0.39524655,  0.51441049],\n",
       "        [-0.41942478,  0.82573374]],\n",
       "\n",
       "       [[-1.22406534, -0.25882522],\n",
       "        [-1.24402245, -1.32906433]]])"
      ]
     },
     "execution_count": 138,
     "metadata": {},
     "output_type": "execute_result"
    }
   ],
   "source": [
    "np.random.randn(2,2,2)"
   ]
  },
  {
   "cell_type": "markdown",
   "id": "ba107419-17d7-4607-944e-fbf696094e0e",
   "metadata": {},
   "source": [
    "### ....randint"
   ]
  },
  {
   "cell_type": "markdown",
   "id": "d9c37db0-54f6-44be-86df-e65e14911512",
   "metadata": {},
   "source": [
    "return random integers from low (inclusive) to high(inclusive)"
   ]
  },
  {
   "cell_type": "code",
   "execution_count": null,
   "id": "08c42ded-e31e-4ecf-acf7-536c528ba689",
   "metadata": {},
   "outputs": [],
   "source": [
    "## genereate you the randum integer"
   ]
  },
  {
   "cell_type": "code",
   "execution_count": 6,
   "id": "fa5d10de-8f08-4135-aef0-e989df8415ca",
   "metadata": {},
   "outputs": [
    {
     "data": {
      "text/plain": [
       "45"
      ]
     },
     "execution_count": 6,
     "metadata": {},
     "output_type": "execute_result"
    }
   ],
   "source": [
    "np.random.randint(1,100)\n",
    "# third argument is no. of values. derfault = 1 value under 1 to 100"
   ]
  },
  {
   "cell_type": "code",
   "execution_count": 7,
   "id": "b070d789-057a-4ff0-99b1-434279cfca40",
   "metadata": {},
   "outputs": [
    {
     "data": {
      "text/plain": [
       "array([ 6, 75, 34, 65, 71, 33, 56, 40, 50, 60])"
      ]
     },
     "execution_count": 7,
     "metadata": {},
     "output_type": "execute_result"
    }
   ],
   "source": [
    "np.random.randint(1,100,10)"
   ]
  },
  {
   "cell_type": "code",
   "execution_count": 147,
   "id": "08fbe590-2580-415a-afaa-917fc53f8583",
   "metadata": {},
   "outputs": [],
   "source": [
    "data=np.random.randint(40,60,50)    ## generater 50 value"
   ]
  },
  {
   "cell_type": "code",
   "execution_count": 150,
   "id": "a4957a99-bedb-43d7-ac81-0751fe898ab1",
   "metadata": {},
   "outputs": [
    {
     "data": {
      "text/plain": [
       "array([59, 51, 48, 53, 43, 56, 43, 51, 57, 43, 52, 41, 57, 57, 46, 49, 46,\n",
       "       55, 55, 46, 58, 40, 58, 41, 50, 51, 49, 58, 58, 50, 57, 44, 40, 53,\n",
       "       51, 57, 56, 44, 56, 46, 49, 50, 57, 51, 51, 55, 44, 49, 57, 44])"
      ]
     },
     "execution_count": 150,
     "metadata": {},
     "output_type": "execute_result"
    }
   ],
   "source": [
    "data"
   ]
  },
  {
   "cell_type": "code",
   "execution_count": null,
   "id": "325f766e-9f73-47ec-9d1b-9b3bad06c8ef",
   "metadata": {},
   "outputs": [],
   "source": [
    "## what is mode of this  or  mostly repeted number fromm above\n",
    "## to generated this we use scipy library"
   ]
  },
  {
   "cell_type": "code",
   "execution_count": 145,
   "id": "0873cda2-b0d7-4b56-8da0-0cdf37d33bd2",
   "metadata": {},
   "outputs": [],
   "source": [
    "from scipy import stats"
   ]
  },
  {
   "cell_type": "code",
   "execution_count": 151,
   "id": "366aeca9-6910-4c4a-9488-d81dc5586181",
   "metadata": {},
   "outputs": [
    {
     "data": {
      "text/plain": [
       "ModeResult(mode=57, count=7)"
      ]
     },
     "execution_count": 151,
     "metadata": {},
     "output_type": "execute_result"
    }
   ],
   "source": [
    "stats.mode(data)   ## whenever we generated it give different data"
   ]
  },
  {
   "cell_type": "code",
   "execution_count": 2,
   "id": "011e6862-8e23-4b27-897f-7022a68f5fed",
   "metadata": {},
   "outputs": [
    {
     "data": {
      "text/plain": [
       "11"
      ]
     },
     "execution_count": 2,
     "metadata": {},
     "output_type": "execute_result"
    }
   ],
   "source": [
    " a=np.array([[[[[[[[[[[1,2,3,4]]]]]]]]]]])\n",
    "a.ndim"
   ]
  },
  {
   "cell_type": "markdown",
   "id": "7fe9d97f-ca4d-40ae-95a2-8b5a04a45f4c",
   "metadata": {},
   "source": [
    "## Array Attributes and Methods\n",
    "\n",
    "Let's discuss some useful attributes and methods or an array:"
   ]
  },
  {
   "cell_type": "code",
   "execution_count": 4,
   "id": "2cbbf2a9-4277-47f7-9e49-bdcd34326cd5",
   "metadata": {},
   "outputs": [],
   "source": [
    "arr = np.arange(20)\n",
    "ranarr = np.random.randint(0,100,10)"
   ]
  },
  {
   "cell_type": "code",
   "execution_count": 5,
   "id": "b6187d82-7b2c-4c1f-b0c2-4f2b1840a14d",
   "metadata": {},
   "outputs": [
    {
     "data": {
      "text/plain": [
       "array([ 0,  1,  2,  3,  4,  5,  6,  7,  8,  9, 10, 11, 12, 13, 14, 15, 16,\n",
       "       17, 18, 19])"
      ]
     },
     "execution_count": 5,
     "metadata": {},
     "output_type": "execute_result"
    }
   ],
   "source": [
    "arr"
   ]
  },
  {
   "cell_type": "code",
   "execution_count": 10,
   "id": "320af158-a40d-4594-8373-239b05e49067",
   "metadata": {},
   "outputs": [
    {
     "data": {
      "text/plain": [
       "array([99, 36, 29,  8, 30,  5, 52, 20, 50,  3])"
      ]
     },
     "execution_count": 10,
     "metadata": {},
     "output_type": "execute_result"
    }
   ],
   "source": [
    "ranarr"
   ]
  },
  {
   "cell_type": "markdown",
   "id": "ea8ebe31-efcd-4500-a7b9-b4790fa87ce8",
   "metadata": {},
   "source": [
    "### max,min,argmax,argmin\n"
   ]
  },
  {
   "cell_type": "markdown",
   "id": "facaf2e0-c8cf-415b-a0a0-4670cd7c7a42",
   "metadata": {},
   "source": [
    "These are useful methods for finding max or min values. Or to find their index locations using argmin or argmax"
   ]
  },
  {
   "cell_type": "code",
   "execution_count": 11,
   "id": "4082e94e-1f3c-4b71-a3e0-41e6e4657997",
   "metadata": {},
   "outputs": [
    {
     "data": {
      "text/plain": [
       "array([99, 36, 29,  8, 30,  5, 52, 20, 50,  3])"
      ]
     },
     "execution_count": 11,
     "metadata": {},
     "output_type": "execute_result"
    }
   ],
   "source": [
    "ranarr"
   ]
  },
  {
   "cell_type": "code",
   "execution_count": 12,
   "id": "3415232e-6bf8-4bf6-838e-6d5b63ea9478",
   "metadata": {},
   "outputs": [
    {
     "data": {
      "text/plain": [
       "99"
      ]
     },
     "execution_count": 12,
     "metadata": {},
     "output_type": "execute_result"
    }
   ],
   "source": [
    "ranarr.max()   ## highest element of the array"
   ]
  },
  {
   "cell_type": "code",
   "execution_count": 13,
   "id": "07f66a40-ae94-4c47-b715-ae29b4c19ed6",
   "metadata": {},
   "outputs": [
    {
     "data": {
      "text/plain": [
       "19"
      ]
     },
     "execution_count": 13,
     "metadata": {},
     "output_type": "execute_result"
    }
   ],
   "source": [
    "arr.max()"
   ]
  },
  {
   "cell_type": "code",
   "execution_count": 14,
   "id": "b15a7f46-7d72-4233-93d5-68b7cbd81171",
   "metadata": {},
   "outputs": [
    {
     "data": {
      "text/plain": [
       "3"
      ]
     },
     "execution_count": 14,
     "metadata": {},
     "output_type": "execute_result"
    }
   ],
   "source": [
    "ranarr.min()  ## lowest element of the array"
   ]
  },
  {
   "cell_type": "code",
   "execution_count": 15,
   "id": "8dd6b95e-60b5-4dde-80e1-0aeecfd6ef55",
   "metadata": {},
   "outputs": [
    {
     "data": {
      "text/plain": [
       "0"
      ]
     },
     "execution_count": 15,
     "metadata": {},
     "output_type": "execute_result"
    }
   ],
   "source": [
    "ranarr.argmax() ## Index location of highest element"
   ]
  },
  {
   "cell_type": "code",
   "execution_count": 16,
   "id": "65c62af7-49b4-455c-8fee-35b2e5fa5369",
   "metadata": {},
   "outputs": [
    {
     "data": {
      "text/plain": [
       "9"
      ]
     },
     "execution_count": 16,
     "metadata": {},
     "output_type": "execute_result"
    }
   ],
   "source": [
    "ranarr.argmin() # Index location of lowest element  ## whenever duplicate value it take first accurence"
   ]
  },
  {
   "cell_type": "code",
   "execution_count": 17,
   "id": "e3beceff-7234-40f9-a074-6a928cbbd367",
   "metadata": {},
   "outputs": [
    {
     "data": {
      "text/plain": [
       "0"
      ]
     },
     "execution_count": 17,
     "metadata": {},
     "output_type": "execute_result"
    }
   ],
   "source": [
    "ranarr.argmax()  # index location of highest element"
   ]
  },
  {
   "cell_type": "code",
   "execution_count": 18,
   "id": "f424aa0a-4226-454b-80e0-316427088f4e",
   "metadata": {},
   "outputs": [],
   "source": [
    "ran2=ranarr.reshape(2,5)"
   ]
  },
  {
   "cell_type": "code",
   "execution_count": 19,
   "id": "2fd306d8-4c1e-4b8a-bece-6d62aa18cfcc",
   "metadata": {},
   "outputs": [
    {
     "data": {
      "text/plain": [
       "array([[99, 36, 29,  8, 30],\n",
       "       [ 5, 52, 20, 50,  3]])"
      ]
     },
     "execution_count": 19,
     "metadata": {},
     "output_type": "execute_result"
    }
   ],
   "source": [
    "ran2"
   ]
  },
  {
   "cell_type": "code",
   "execution_count": 20,
   "id": "8b3b981b-6ccb-4930-b529-74b238b8546d",
   "metadata": {},
   "outputs": [
    {
     "data": {
      "text/plain": [
       "99"
      ]
     },
     "execution_count": 20,
     "metadata": {},
     "output_type": "execute_result"
    }
   ],
   "source": [
    "ran2.max()"
   ]
  },
  {
   "cell_type": "code",
   "execution_count": 22,
   "id": "34d6ae81-7ef4-4237-9c59-425f3ecb040e",
   "metadata": {},
   "outputs": [
    {
     "data": {
      "text/plain": [
       "3"
      ]
     },
     "execution_count": 22,
     "metadata": {},
     "output_type": "execute_result"
    }
   ],
   "source": [
    "ran2.min()"
   ]
  },
  {
   "cell_type": "code",
   "execution_count": 23,
   "id": "a65b269e-430a-4366-9312-38e21410fa7f",
   "metadata": {},
   "outputs": [
    {
     "data": {
      "text/plain": [
       "0"
      ]
     },
     "execution_count": 23,
     "metadata": {},
     "output_type": "execute_result"
    }
   ],
   "source": [
    "ran2.argmax()"
   ]
  },
  {
   "cell_type": "code",
   "execution_count": 24,
   "id": "8a16fc85-2a85-436f-bde0-4b5045e37227",
   "metadata": {},
   "outputs": [
    {
     "data": {
      "text/plain": [
       "9"
      ]
     },
     "execution_count": 24,
     "metadata": {},
     "output_type": "execute_result"
    }
   ],
   "source": [
    "ran2.argmin()"
   ]
  },
  {
   "cell_type": "markdown",
   "id": "db84f4e4-79d4-4f6e-aa9b-1c340b445cd4",
   "metadata": {},
   "source": [
    "## Happy learning"
   ]
  }
 ],
 "metadata": {
  "kernelspec": {
   "display_name": "Python 3 (ipykernel)",
   "language": "python",
   "name": "python3"
  },
  "language_info": {
   "codemirror_mode": {
    "name": "ipython",
    "version": 3
   },
   "file_extension": ".py",
   "mimetype": "text/x-python",
   "name": "python",
   "nbconvert_exporter": "python",
   "pygments_lexer": "ipython3",
   "version": "3.12.4"
  }
 },
 "nbformat": 4,
 "nbformat_minor": 5
}
