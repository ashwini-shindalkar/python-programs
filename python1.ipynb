{
 "cells": [
  {
   "cell_type": "markdown",
   "id": "1cebf2c5-71ab-4528-92e2-45c1833ebf08",
   "metadata": {},
   "source": [
    "### ......conditional statement"
   ]
  },
  {
   "cell_type": "markdown",
   "id": "0088fa46-99ad-46e9-99b2-075ff320891a",
   "metadata": {},
   "source": [
    "#### ......if"
   ]
  },
  {
   "cell_type": "code",
   "execution_count": 38,
   "id": "084855f6-aa5b-4350-b5a9-50ccf9e094ec",
   "metadata": {},
   "outputs": [
    {
     "name": "stdout",
     "output_type": "stream",
     "text": [
      "hello\n"
     ]
    }
   ],
   "source": [
    "x=3\n",
    "if x==3:\n",
    "   print(\"hello\")"
   ]
  },
  {
   "cell_type": "code",
   "execution_count": 8,
   "id": "1363e654-59c7-4458-b9ad-8a6ee85f9305",
   "metadata": {},
   "outputs": [
    {
     "name": "stdout",
     "output_type": "stream",
     "text": [
      "a is greater\n",
      "end\n"
     ]
    }
   ],
   "source": [
    "a=30\n",
    "b=10\n",
    "if(a>b):\n",
    "   print(\"a is greater\")\n",
    "   print(\"end\")\n"
   ]
  },
  {
   "cell_type": "code",
   "execution_count": 23,
   "id": "badf36b3-2330-440a-9f9b-ec445eb2155b",
   "metadata": {},
   "outputs": [
    {
     "name": "stdout",
     "output_type": "stream",
     "text": [
      "not greater\n"
     ]
    }
   ],
   "source": [
    "a=10\n",
    "b=20\n",
    "if(a>b):\n",
    "   print(\"a is greater\")\n",
    "print(\"not greater\")\n",
    " \n"
   ]
  },
  {
   "cell_type": "code",
   "execution_count": 32,
   "id": "ff87251b-d8ee-456a-8d63-59b20df4660b",
   "metadata": {},
   "outputs": [
    {
     "name": "stdout",
     "output_type": "stream",
     "text": [
      "num2 is smaller\n"
     ]
    }
   ],
   "source": [
    "num1=2.5\n",
    "num2=1.9\n",
    "if (num2<num1):\n",
    "    print(\"num2 is smaller\")"
   ]
  },
  {
   "cell_type": "markdown",
   "id": "0da2a9a1-0c01-4048-9ce5-6456d21bdf2c",
   "metadata": {},
   "source": [
    "### ........if else"
   ]
  },
  {
   "cell_type": "code",
   "execution_count": 12,
   "id": "7c95fd63-c80c-4c3c-b473-7e15f03a166f",
   "metadata": {},
   "outputs": [
    {
     "name": "stdin",
     "output_type": "stream",
     "text": [
      "Enter the age: 18\n"
     ]
    },
    {
     "name": "stdout",
     "output_type": "stream",
     "text": [
      "eligible for voting\n"
     ]
    }
   ],
   "source": [
    "age=int(input(\"Enter the age:\"))\n",
    "if(age>=18):\n",
    "    print(\"eligible for voting\")\n",
    "else:\n",
    "    print(\"not eligible\")"
   ]
  },
  {
   "cell_type": "code",
   "execution_count": 42,
   "id": "dc208641-3448-4436-bcfb-f4a4dedff9d1",
   "metadata": {},
   "outputs": [
    {
     "name": "stdin",
     "output_type": "stream",
     "text": [
      "Enter the num: 2\n"
     ]
    },
    {
     "name": "stdout",
     "output_type": "stream",
     "text": [
      "number is even\n"
     ]
    }
   ],
   "source": [
    "num=int(input(\"Enter the num:\"))\n",
    "if num%2==0:\n",
    "    print(\"number is even\")\n",
    "else:\n",
    "    print(\"number is odd\")"
   ]
  },
  {
   "cell_type": "code",
   "execution_count": 73,
   "id": "b93385be-8c87-4396-bba9-e98e5a987716",
   "metadata": {},
   "outputs": [
    {
     "name": "stdin",
     "output_type": "stream",
     "text": [
      "Enter a value: 14\n"
     ]
    },
    {
     "name": "stdout",
     "output_type": "stream",
     "text": [
      "divisible by 7\n"
     ]
    }
   ],
   "source": [
    "num=int(input(\"Enter a value:\"))\n",
    "if num%7==0:\n",
    " print(\"divisible by 7\")\n",
    "else:\n",
    " print(\"not\")"
   ]
  },
  {
   "cell_type": "markdown",
   "id": "fb3eab47-9d60-4656-b21a-c93f186b595b",
   "metadata": {},
   "source": [
    "### ........elif"
   ]
  },
  {
   "cell_type": "code",
   "execution_count": 63,
   "id": "33021f14-fa87-4c08-864b-fbaf8cfb377e",
   "metadata": {},
   "outputs": [
    {
     "name": "stdin",
     "output_type": "stream",
     "text": [
      "Enter the num: -1\n"
     ]
    },
    {
     "name": "stdout",
     "output_type": "stream",
     "text": [
      "number is nigative\n",
      "end\n"
     ]
    }
   ],
   "source": [
    "num=int(input(\"Enter the num:\"))\n",
    "if num>=0:\n",
    "    print(\"number is possitive\")\n",
    "elif num<0:\n",
    "    print(\"number is nigative\")\n",
    "print(\"end\")\n",
    "\n",
    "    "
   ]
  },
  {
   "cell_type": "code",
   "execution_count": 77,
   "id": "e2bfe714-0671-4b7d-97e7-d99dc53a0fe5",
   "metadata": {},
   "outputs": [
    {
     "name": "stdout",
     "output_type": "stream",
     "text": [
      "letter is A\n"
     ]
    }
   ],
   "source": [
    "letter='A'\n",
    "if letter=='B':\n",
    "   print(\"letter is B\")\n",
    "elif letter=='C':\n",
    "   print(\"letter is C\")\n",
    "elif letter=='A':\n",
    "   print(\"letter is A\")\n",
    "else:\n",
    "    print(\"letter is not A,B,C\")\n"
   ]
  },
  {
   "cell_type": "markdown",
   "id": "8d6810cb-8daa-45f3-a76d-60d31947823b",
   "metadata": {},
   "source": [
    "##### .....nested if"
   ]
  },
  {
   "cell_type": "code",
   "execution_count": 90,
   "id": "14d59b34-0d21-4201-85b1-4214ecbfa2df",
   "metadata": {},
   "outputs": [
    {
     "name": "stdout",
     "output_type": "stream",
     "text": [
      "bigger than 5\n"
     ]
    }
   ],
   "source": [
    "num=10\n",
    "if num>5:\n",
    "    print(\"bigger than 5\")\n",
    "\n",
    "    if num<=8:\n",
    "         print(\"Between 5 and 15\")"
   ]
  },
  {
   "cell_type": "code",
   "execution_count": null,
   "id": "1b2455de-81df-489c-b2a7-e2722f315bc4",
   "metadata": {},
   "outputs": [],
   "source": []
  }
 ],
 "metadata": {
  "kernelspec": {
   "display_name": "Python 3 (ipykernel)",
   "language": "python",
   "name": "python3"
  },
  "language_info": {
   "codemirror_mode": {
    "name": "ipython",
    "version": 3
   },
   "file_extension": ".py",
   "mimetype": "text/x-python",
   "name": "python",
   "nbconvert_exporter": "python",
   "pygments_lexer": "ipython3",
   "version": "3.12.4"
  }
 },
 "nbformat": 4,
 "nbformat_minor": 5
}
