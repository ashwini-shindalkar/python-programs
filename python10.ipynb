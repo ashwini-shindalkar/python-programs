{
 "cells": [
  {
   "cell_type": "markdown",
   "id": "89b87339-261d-40ac-a0b5-fb8f33e63d6e",
   "metadata": {},
   "source": [
    "### .... Calculate the multiplication and sum of two numbers"
   ]
  },
  {
   "cell_type": "code",
   "execution_count": 72,
   "id": "6829abab-aee5-4ad9-bb5b-972f3119eb22",
   "metadata": {},
   "outputs": [],
   "source": [
    "def num (a,b):\n",
    "    sum=a+b\n",
    "    multi=a*b\n",
    "    return sum,multi"
   ]
  },
  {
   "cell_type": "code",
   "execution_count": 74,
   "id": "484056f8-904d-4698-96e7-5a514cd7ed97",
   "metadata": {},
   "outputs": [
    {
     "data": {
      "text/plain": [
       "(35, 250)"
      ]
     },
     "execution_count": 74,
     "metadata": {},
     "output_type": "execute_result"
    }
   ],
   "source": [
    "num(10,25)"
   ]
  },
  {
   "cell_type": "markdown",
   "id": "0e349eec-7847-4f63-b5fa-9535e8defd53",
   "metadata": {},
   "source": [
    "### ....calculate the division of two numbers"
   ]
  },
  {
   "cell_type": "code",
   "execution_count": 201,
   "id": "ea165500-3dc5-4071-a2cf-d4bcdf001132",
   "metadata": {},
   "outputs": [],
   "source": [
    "def devision(a,b):\n",
    "    div=a/b\n",
    "    return div"
   ]
  },
  {
   "cell_type": "code",
   "execution_count": 203,
   "id": "2a00c5c9-d5c7-4b40-ad67-a1635023c6a0",
   "metadata": {},
   "outputs": [
    {
     "data": {
      "text/plain": [
       "2.0"
      ]
     },
     "execution_count": 203,
     "metadata": {},
     "output_type": "execute_result"
    }
   ],
   "source": [
    "devision(30,15)"
   ]
  },
  {
   "cell_type": "markdown",
   "id": "ae45d315-78b3-4e3b-adae-c64ba3e4ab4d",
   "metadata": {},
   "source": [
    "### ....Print the sum of the current number and the previous number"
   ]
  },
  {
   "cell_type": "code",
   "execution_count": 131,
   "id": "e1911fc4-5e94-450a-8ee2-a3466bd41018",
   "metadata": {},
   "outputs": [],
   "source": [
    "def current_num(n):\n",
    "    previous_num=0\n",
    "    for i in range(1,n):\n",
    "      sum=previous_num+i\n",
    "      print(f\"previous_num {previous_num} current_num {i} =\",sum)\n",
    "      previous_num=i  "
   ]
  },
  {
   "cell_type": "code",
   "execution_count": 135,
   "id": "d8aa896b-fd58-4b88-8378-b47a002ee73d",
   "metadata": {},
   "outputs": [
    {
     "name": "stdout",
     "output_type": "stream",
     "text": [
      "previous_num 0 current_num 1 = 1\n",
      "previous_num 1 current_num 2 = 3\n",
      "previous_num 2 current_num 3 = 5\n",
      "previous_num 3 current_num 4 = 7\n",
      "previous_num 4 current_num 5 = 9\n",
      "previous_num 5 current_num 6 = 11\n",
      "previous_num 6 current_num 7 = 13\n",
      "previous_num 7 current_num 8 = 15\n",
      "previous_num 8 current_num 9 = 17\n"
     ]
    }
   ],
   "source": [
    "current_num(10)"
   ]
  },
  {
   "cell_type": "markdown",
   "id": "b17aff90-a01a-423c-8dc1-25262f1647a7",
   "metadata": {},
   "source": [
    "### ....Display numbers divisible by 5 from a list"
   ]
  },
  {
   "cell_type": "code",
   "execution_count": 193,
   "id": "e59a68df-f16c-477e-b400-07c858ff4384",
   "metadata": {},
   "outputs": [
    {
     "name": "stdout",
     "output_type": "stream",
     "text": [
      "Given list: [10, 20, 33, 46, 55]\n",
      "Divisible by 5:\n",
      "10\n",
      "20\n",
      "55\n"
     ]
    }
   ],
   "source": [
    "num_list = [10, 20, 33, 46, 55]\n",
    "print(\"Given list:\", num_list)\n",
    "print('Divisible by 5:')\n",
    "for num in num_list:\n",
    "    if num % 5 == 0:\n",
    "        print(num)\n"
   ]
  },
  {
   "cell_type": "markdown",
   "id": "7049e097-d1b4-4cd2-9c2b-7bac7b066d25",
   "metadata": {},
   "source": [
    "### ...Print characters from a string that are present at an even index number"
   ]
  },
  {
   "cell_type": "code",
   "execution_count": 19,
   "id": "0529d706-6d5f-413b-9619-d5131094d9a4",
   "metadata": {},
   "outputs": [],
   "source": [
    "def intersection(l1,l2):\n",
    "    set1=set(l1)\n",
    "    set2=set(l2)\n",
    "    common_set=set1&set2\n",
    "    intersection_list=list(common_set)\n",
    "    return intersection_list"
   ]
  },
  {
   "cell_type": "code",
   "execution_count": 21,
   "id": "5eac14ad-b062-4544-8f40-d3d3cf85f736",
   "metadata": {},
   "outputs": [
    {
     "data": {
      "text/plain": [
       "[4, 5]"
      ]
     },
     "execution_count": 21,
     "metadata": {},
     "output_type": "execute_result"
    }
   ],
   "source": [
    "l1=[1,2,3,4,5]\n",
    "l2=[4,5,6,7]\n",
    "intersection(l1,l2)"
   ]
  },
  {
   "cell_type": "markdown",
   "id": "e4d34327-2dc9-4d14-b7cc-854b0c375abb",
   "metadata": {},
   "source": [
    "### ....Write a function to find the difference of two lists."
   ]
  },
  {
   "cell_type": "code",
   "execution_count": 29,
   "id": "9bfa4ebf-c4d8-42d5-b1d2-8581c0bda59c",
   "metadata": {},
   "outputs": [],
   "source": [
    "def difference(l1,l2):\n",
    "    set1=set(l1)\n",
    "    set2=set(l2)\n",
    "    common_set=set1-set2\n",
    "    return list(common_set)"
   ]
  },
  {
   "cell_type": "code",
   "execution_count": 38,
   "id": "17c704bd-712a-4314-a688-fea90c595b88",
   "metadata": {},
   "outputs": [
    {
     "data": {
      "text/plain": [
       "[1, 10, 19, 20]"
      ]
     },
     "execution_count": 38,
     "metadata": {},
     "output_type": "execute_result"
    }
   ],
   "source": [
    "l1=[1,2,5,7,9,10,15,18,19,20]\n",
    "l2=[4,5,7,18,15,9,4,3,2,11,85]\n",
    "difference(l1,l2)"
   ]
  },
  {
   "cell_type": "markdown",
   "id": "86293adb-10b6-414b-a126-3f0345730692",
   "metadata": {},
   "source": [
    "### ....Implement a function that returns the common elements in three lists."
   ]
  },
  {
   "cell_type": "code",
   "execution_count": 42,
   "id": "32fbcbb9-72bf-49e1-b625-ce5f11b07c04",
   "metadata": {},
   "outputs": [],
   "source": [
    "def intersection(l1,l2,l3):\n",
    "    set1=set(l1)\n",
    "    set2=set(l2)\n",
    "    set3=set(l3)\n",
    "    common_set=set1.intersection(set2,set3)\n",
    "    return list(common_set)"
   ]
  },
  {
   "cell_type": "code",
   "execution_count": 48,
   "id": "088dfce3-e08f-4a22-92d4-2f9ec37779e8",
   "metadata": {},
   "outputs": [
    {
     "data": {
      "text/plain": [
       "[]"
      ]
     },
     "execution_count": 48,
     "metadata": {},
     "output_type": "execute_result"
    }
   ],
   "source": [
    "l1=[1,2,3,4,5]\n",
    "l2=[4,5,6,7]\n",
    "l3=[7,8,9]\n",
    "intersection(l1,l2,l3)"
   ]
  },
  {
   "cell_type": "markdown",
   "id": "29de337a-4f19-4ec0-a156-ded71ffc8af4",
   "metadata": {},
   "source": [
    "### ...Implement a function to generate the first n Fibonacci numbers."
   ]
  },
  {
   "cell_type": "code",
   "execution_count": 52,
   "id": "b27b4e6a-a2b2-4f51-930e-c73161e620e5",
   "metadata": {},
   "outputs": [],
   "source": [
    "def fibonacci(n):\n",
    "    fib_sequence = []\n",
    "    a, b = 0, 1\n",
    "    while len(fib_sequence) < n:\n",
    "        fib_sequence.append(a)\n",
    "        a, b = b, a + b\n",
    "    return fib_sequence\n"
   ]
  },
  {
   "cell_type": "code",
   "execution_count": 54,
   "id": "aefc475b-ef0f-4588-b439-330d48bc795a",
   "metadata": {},
   "outputs": [
    {
     "name": "stdout",
     "output_type": "stream",
     "text": [
      "[0, 1, 1, 2, 3, 5, 8, 13, 21, 34]\n"
     ]
    }
   ],
   "source": [
    "first_10_fibonacci = fibonacci(10)\n",
    "print(first_10_fibonacci)\n"
   ]
  },
  {
   "cell_type": "markdown",
   "id": "36f64524-3df4-4bd4-b294-af6f8ce6fb59",
   "metadata": {},
   "source": [
    "### ....Python program to interchange first and last elements in a list"
   ]
  },
  {
   "cell_type": "code",
   "execution_count": 21,
   "id": "1244864e-eeea-4ce2-97fe-9cc2bf040b52",
   "metadata": {},
   "outputs": [],
   "source": [
    "def interchange(list):\n",
    "    len(list)\n",
    "    temp=list[0]\n",
    "    list[0]=list[len(list)-1]\n",
    "    list[len(list)-1]=temp\n",
    "    return list"
   ]
  },
  {
   "cell_type": "code",
   "execution_count": 25,
   "id": "ad124201-ecc8-4727-889d-df11c7d33554",
   "metadata": {},
   "outputs": [
    {
     "data": {
      "text/plain": [
       "[15, 30, 18, 20, 15, 10]"
      ]
     },
     "execution_count": 25,
     "metadata": {},
     "output_type": "execute_result"
    }
   ],
   "source": [
    "list=[10,30,18,20,15,15]\n",
    "interchange(list)"
   ]
  },
  {
   "cell_type": "markdown",
   "id": "999de018-a92d-4135-95e3-a935a6e0ce4d",
   "metadata": {},
   "source": [
    "### ...Python Program to Swap Two Elements in a List"
   ]
  },
  {
   "cell_type": "code",
   "execution_count": 34,
   "id": "47847606-10e9-4cce-a01d-02bd5f60e2a0",
   "metadata": {},
   "outputs": [],
   "source": [
    "def swap(list,element1,element2):\n",
    "    list[element1],list[element2]=list[element2],list[element1]\n",
    "    return list"
   ]
  },
  {
   "cell_type": "code",
   "execution_count": 46,
   "id": "dc95802c-ba9f-4078-bfee-92f7b1e1980c",
   "metadata": {},
   "outputs": [
    {
     "data": {
      "text/plain": [
       "[10, 23, 20, 17, 19, 17, 5]"
      ]
     },
     "execution_count": 46,
     "metadata": {},
     "output_type": "execute_result"
    }
   ],
   "source": [
    "list=[10,23,5,17,19,17,20]\n",
    "element1=3\n",
    "element2=7\n",
    "swap(list,element1-1,element2-1)"
   ]
  },
  {
   "cell_type": "code",
   "execution_count": null,
   "id": "82375a6a-3b79-48ca-a2d4-3e71d4433ce5",
   "metadata": {},
   "outputs": [],
   "source": []
  }
 ],
 "metadata": {
  "kernelspec": {
   "display_name": "Python 3 (ipykernel)",
   "language": "python",
   "name": "python3"
  },
  "language_info": {
   "codemirror_mode": {
    "name": "ipython",
    "version": 3
   },
   "file_extension": ".py",
   "mimetype": "text/x-python",
   "name": "python",
   "nbconvert_exporter": "python",
   "pygments_lexer": "ipython3",
   "version": "3.12.4"
  }
 },
 "nbformat": 4,
 "nbformat_minor": 5
}
