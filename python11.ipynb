{
 "cells": [
  {
   "cell_type": "markdown",
   "id": "bdecad13-0d9e-4c12-9ef9-85562243f44d",
   "metadata": {},
   "source": [
    "### ....pattern using function "
   ]
  },
  {
   "cell_type": "code",
   "execution_count": 1,
   "id": "23ac0bf6-2415-4139-a457-bad3e779546b",
   "metadata": {},
   "outputs": [],
   "source": [
    "def star(n):\n",
    "    print(n*\"@\")\n",
    "    print(n*\"*\")\n"
   ]
  },
  {
   "cell_type": "code",
   "execution_count": 3,
   "id": "4dc5b88c-eb4d-4b61-8c9f-36e530a87705",
   "metadata": {},
   "outputs": [
    {
     "name": "stdout",
     "output_type": "stream",
     "text": [
      "@@@@@@@@@@\n",
      "**********\n"
     ]
    }
   ],
   "source": [
    "star(10)"
   ]
  },
  {
   "cell_type": "code",
   "execution_count": 5,
   "id": "ba40026f-a61a-4baa-9733-c2e1bb0ac9d0",
   "metadata": {},
   "outputs": [],
   "source": [
    "def star(n):\n",
    "    for i in range(1,n):\n",
    "       print(i*\"*\")"
   ]
  },
  {
   "cell_type": "code",
   "execution_count": 7,
   "id": "ca44e4ef-f322-4084-b722-69afe7dcd45c",
   "metadata": {},
   "outputs": [
    {
     "name": "stdout",
     "output_type": "stream",
     "text": [
      "*\n",
      "**\n",
      "***\n",
      "****\n",
      "*****\n",
      "******\n"
     ]
    }
   ],
   "source": [
    "star(7)"
   ]
  },
  {
   "cell_type": "code",
   "execution_count": 9,
   "id": "7bb1f2aa-4471-48ad-9432-e885aad2d5e4",
   "metadata": {},
   "outputs": [],
   "source": [
    "def star(n):\n",
    "    for i in range(1,n+1):\n",
    "       print(10*\"*\")\n"
   ]
  },
  {
   "cell_type": "code",
   "execution_count": 11,
   "id": "491ddeb9-b25b-46fb-bad9-b9eb581c745f",
   "metadata": {},
   "outputs": [
    {
     "name": "stdout",
     "output_type": "stream",
     "text": [
      "**********\n",
      "**********\n",
      "**********\n",
      "**********\n"
     ]
    }
   ],
   "source": [
    "star(4)"
   ]
  },
  {
   "cell_type": "code",
   "execution_count": 13,
   "id": "15536ae9-ce52-4bcd-b914-d163fd570542",
   "metadata": {},
   "outputs": [],
   "source": [
    "def star(n):\n",
    "    for i in range(n,0,-1):\n",
    "       print(n*\"*\")"
   ]
  },
  {
   "cell_type": "code",
   "execution_count": 15,
   "id": "ab7a4795-96ce-4a90-9dbc-500321379371",
   "metadata": {},
   "outputs": [
    {
     "name": "stdout",
     "output_type": "stream",
     "text": [
      "*****\n",
      "*****\n",
      "*****\n",
      "*****\n",
      "*****\n"
     ]
    }
   ],
   "source": [
    "star(5)"
   ]
  },
  {
   "cell_type": "code",
   "execution_count": 17,
   "id": "960449c1-3a89-4842-846e-fe6018fd7cfc",
   "metadata": {},
   "outputs": [
    {
     "name": "stdout",
     "output_type": "stream",
     "text": [
      "666666@@@@@@\n",
      "55555@@@@@\n",
      "4444@@@@\n",
      "333@@@\n",
      "22@@\n",
      "1@\n"
     ]
    }
   ],
   "source": [
    "for i in range(6,0,-1):\n",
    "       for j in range(i):\n",
    "            print(i,end=\"\")\n",
    "           \n",
    "       print(i*\"@\")\n"
   ]
  },
  {
   "cell_type": "code",
   "execution_count": 29,
   "id": "2be28123-d2ff-4e4e-815b-4741de71c087",
   "metadata": {},
   "outputs": [],
   "source": [
    "def star(n):\n",
    "    for i in range(1,n):\n",
    "       print(i*\"*\")\n",
    "    if i==i:    \n",
    "       for i in range(n,0,-1):\n",
    "         print(i*\"*\")\n"
   ]
  },
  {
   "cell_type": "code",
   "execution_count": 31,
   "id": "1169ec88-ddb4-4b9b-89a3-e0451c5e3484",
   "metadata": {},
   "outputs": [
    {
     "name": "stdout",
     "output_type": "stream",
     "text": [
      "*\n",
      "**\n",
      "***\n",
      "****\n",
      "*****\n",
      "****\n",
      "***\n",
      "**\n",
      "*\n"
     ]
    }
   ],
   "source": [
    "star(5)"
   ]
  },
  {
   "cell_type": "code",
   "execution_count": 57,
   "id": "7e5382d5-fe64-4581-aee9-f3f7fa22681c",
   "metadata": {},
   "outputs": [],
   "source": [
    "def star(n):\n",
    "    for i in range(n,0,-1):\n",
    "       print(i*\"*\")\n",
    "    if i==i:    \n",
    "       for i in range(1,n+1):\n",
    "         print(i*\"*\")"
   ]
  },
  {
   "cell_type": "code",
   "execution_count": 51,
   "id": "9c51a32d-52f6-4012-8149-7f3865214581",
   "metadata": {},
   "outputs": [
    {
     "name": "stdout",
     "output_type": "stream",
     "text": [
      "******\n",
      "*****\n",
      "****\n",
      "***\n",
      "**\n",
      "*\n",
      "*\n",
      "**\n",
      "***\n",
      "****\n",
      "*****\n",
      "******\n"
     ]
    }
   ],
   "source": [
    "star(6)"
   ]
  },
  {
   "cell_type": "code",
   "execution_count": 101,
   "id": "8316f13f-2d00-46f7-b420-99a998f3b5e1",
   "metadata": {},
   "outputs": [],
   "source": [
    "def star(n):\n",
    "    for i in range(n,4,-1):\n",
    "       print(7*\"*\")\n",
    "    if i==i:    \n",
    "       for i in range(n,0,-1):\n",
    "         print(i*\"*\")"
   ]
  },
  {
   "cell_type": "code",
   "execution_count": 103,
   "id": "586cd97d-f8ea-4389-9027-02eee5e44de3",
   "metadata": {},
   "outputs": [
    {
     "name": "stdout",
     "output_type": "stream",
     "text": [
      "*******\n",
      "*******\n",
      "*******\n",
      "*******\n",
      "******\n",
      "*****\n",
      "****\n",
      "***\n",
      "**\n",
      "*\n"
     ]
    }
   ],
   "source": [
    "star(7)"
   ]
  },
  {
   "cell_type": "code",
   "execution_count": 75,
   "id": "0333d43b-47f6-40f7-8046-c17b24a0938b",
   "metadata": {},
   "outputs": [],
   "source": [
    "def star(n):\n",
    "    for i in range(n,0,-1):\n",
    "       print(i*\"*\")\n",
    "    if i==i:    \n",
    "       for i in range(n,0,-1):\n",
    "         print(i*\"*\")"
   ]
  },
  {
   "cell_type": "code",
   "execution_count": 77,
   "id": "20b37ded-0232-441f-9f75-5f40f2a90876",
   "metadata": {},
   "outputs": [
    {
     "name": "stdout",
     "output_type": "stream",
     "text": [
      "******\n",
      "*****\n",
      "****\n",
      "***\n",
      "**\n",
      "*\n",
      "******\n",
      "*****\n",
      "****\n",
      "***\n",
      "**\n",
      "*\n"
     ]
    }
   ],
   "source": [
    "star(6)"
   ]
  },
  {
   "cell_type": "code",
   "execution_count": 161,
   "id": "4dcbbc1f-135b-46e6-88ac-16ef08b557b9",
   "metadata": {},
   "outputs": [],
   "source": [
    "def star(n):\n",
    "    for i in range(1,n):\n",
    "        if i%2==0:\n",
    "           print(i*\"@\")\n",
    "        else:\n",
    "            print(i*\"$\")\n",
    "    if i==i:    \n",
    "       for i in range(n,0,-1):\n",
    "           if i%2==0:\n",
    "              print(i*\"@\")\n",
    "           else:\n",
    "              print(i*\"$\")\n"
   ]
  },
  {
   "cell_type": "code",
   "execution_count": 163,
   "id": "206f65e4-29bd-4854-a1be-d458371d3e5b",
   "metadata": {},
   "outputs": [
    {
     "name": "stdout",
     "output_type": "stream",
     "text": [
      "$\n",
      "@@\n",
      "$$$\n",
      "@@@@\n",
      "$$$$$\n",
      "@@@@@@\n",
      "$$$$$\n",
      "@@@@\n",
      "$$$\n",
      "@@\n",
      "$\n"
     ]
    }
   ],
   "source": [
    "star(6)"
   ]
  },
  {
   "cell_type": "code",
   "execution_count": null,
   "id": "48aaa13c-7780-4ce5-a143-fbc8b05e3146",
   "metadata": {},
   "outputs": [],
   "source": []
  }
 ],
 "metadata": {
  "kernelspec": {
   "display_name": "Python 3 (ipykernel)",
   "language": "python",
   "name": "python3"
  },
  "language_info": {
   "codemirror_mode": {
    "name": "ipython",
    "version": 3
   },
   "file_extension": ".py",
   "mimetype": "text/x-python",
   "name": "python",
   "nbconvert_exporter": "python",
   "pygments_lexer": "ipython3",
   "version": "3.12.4"
  }
 },
 "nbformat": 4,
 "nbformat_minor": 5
}
