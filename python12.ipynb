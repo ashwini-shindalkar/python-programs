{
 "cells": [
  {
   "cell_type": "markdown",
   "id": "2258814e-2b20-485f-b12a-365f907897f6",
   "metadata": {},
   "source": [
    "#### ...creating class"
   ]
  },
  {
   "cell_type": "code",
   "execution_count": 33,
   "id": "05062bf8-d552-45b9-9688-5470c85107a2",
   "metadata": {},
   "outputs": [],
   "source": [
    "class sample():\n",
    "    def __init__ (self):\n",
    "         self. a=10\n",
    "    \n",
    "    \n",
    "    def show(self):\n",
    "        print(self. a)\n"
   ]
  },
  {
   "cell_type": "code",
   "execution_count": 37,
   "id": "ddb5ef30-8f53-42f7-a991-e3702f1a9835",
   "metadata": {},
   "outputs": [
    {
     "name": "stdout",
     "output_type": "stream",
     "text": [
      "10\n"
     ]
    }
   ],
   "source": [
    "        obj=sample()\n",
    "        obj.show()"
   ]
  },
  {
   "cell_type": "markdown",
   "id": "7d3867d4-bfef-4cdf-8f25-db782532910e",
   "metadata": {},
   "source": [
    "### ...class program"
   ]
  },
  {
   "cell_type": "code",
   "execution_count": 114,
   "id": "19590c30-9429-4633-9b50-ac692c5c72fc",
   "metadata": {},
   "outputs": [],
   "source": [
    "class addition():\n",
    "    def __init__(self):\n",
    "         self.a=20\n",
    "         self.b=20\n",
    "    def add(self):\n",
    "        print(self.a+self.b)\n",
    "    def substraction(self):\n",
    "        print(self.a-self.b)\n",
    "    def division(self):\n",
    "        print(self.a/self.b)\n",
    "    def multi(self):\n",
    "        print(self.a*self.b)\n"
   ]
  },
  {
   "cell_type": "code",
   "execution_count": 116,
   "id": "14cda580-c2d1-4a81-b424-ef83c5cd9181",
   "metadata": {},
   "outputs": [
    {
     "name": "stdout",
     "output_type": "stream",
     "text": [
      "40\n",
      "0\n",
      "1.0\n",
      "400\n"
     ]
    }
   ],
   "source": [
    "obj=addition()\n",
    "obj.add()\n",
    "obj.substraction()\n",
    "obj.division()\n",
    "obj.multi()"
   ]
  },
  {
   "cell_type": "markdown",
   "id": "61adffe6-8614-4901-afa9-613944daaa63",
   "metadata": {},
   "source": [
    "### ....Inheritance"
   ]
  },
  {
   "cell_type": "markdown",
   "id": "d7f9b98c-a6de-4e0d-ab54-235a8fb8f0ef",
   "metadata": {},
   "source": [
    "#### ...single inheritance"
   ]
  },
  {
   "cell_type": "code",
   "execution_count": 106,
   "id": "46a83024-b29b-47da-88d6-86f47d4b4abc",
   "metadata": {},
   "outputs": [],
   "source": [
    "class parent():\n",
    "    def get(add):\n",
    "        add.a=10\n",
    "        add.b=15"
   ]
  },
  {
   "cell_type": "code",
   "execution_count": 108,
   "id": "6bffe4db-2482-4dcb-bf36-5c326f255d56",
   "metadata": {},
   "outputs": [],
   "source": [
    "class child(parent):\n",
    "    def show(add):\n",
    "        print(add.a+add.b)"
   ]
  },
  {
   "cell_type": "code",
   "execution_count": 110,
   "id": "4b390825-bcc3-4b0d-b814-816255fe479c",
   "metadata": {},
   "outputs": [
    {
     "name": "stdout",
     "output_type": "stream",
     "text": [
      "25\n"
     ]
    }
   ],
   "source": [
    "obj=child()\n",
    "obj.get()\n",
    "obj.show()"
   ]
  },
  {
   "cell_type": "markdown",
   "id": "d17e8eaa-242d-44dc-a380-83d740756d5e",
   "metadata": {},
   "source": [
    "#### ...multiple inheritance"
   ]
  },
  {
   "cell_type": "code",
   "execution_count": 126,
   "id": "b4d7aa1a-161d-4fef-b2af-c35e14b7f363",
   "metadata": {},
   "outputs": [],
   "source": [
    "class parent1():\n",
    "    def get1(add):\n",
    "        add.a=10\n",
    "        "
   ]
  },
  {
   "cell_type": "code",
   "execution_count": 128,
   "id": "d317c511-1959-42c6-b553-5a14adef7f2c",
   "metadata": {},
   "outputs": [],
   "source": [
    "class parent2():\n",
    "    def get2(add):\n",
    "        add.b=15"
   ]
  },
  {
   "cell_type": "code",
   "execution_count": 130,
   "id": "a2cbbcaf-31bc-43ef-882a-cd9d61193227",
   "metadata": {},
   "outputs": [],
   "source": [
    "class child(parent1,parent2):\n",
    "    def show(add):\n",
    "        print(add.a+add.b)"
   ]
  },
  {
   "cell_type": "code",
   "execution_count": 132,
   "id": "2f411982-6986-4432-9718-643835b38e12",
   "metadata": {},
   "outputs": [
    {
     "name": "stdout",
     "output_type": "stream",
     "text": [
      "25\n"
     ]
    }
   ],
   "source": [
    "obj=child()\n",
    "obj.get1()\n",
    "obj.get2()\n",
    "obj.show()"
   ]
  },
  {
   "cell_type": "markdown",
   "id": "10b67995-adc3-43c6-808f-0db4d1baa5c2",
   "metadata": {},
   "source": [
    "#### ....multilevel inheritance"
   ]
  },
  {
   "cell_type": "code",
   "execution_count": 174,
   "id": "2bbfb6cd-c981-42a4-8ea6-e00233b513e0",
   "metadata": {},
   "outputs": [],
   "source": [
    "class parent():\n",
    "    def get1(self):\n",
    "        self.a=10\n",
    "        self.b=20"
   ]
  },
  {
   "cell_type": "code",
   "execution_count": 178,
   "id": "1ade457e-5402-4cb1-9f9e-93d3dc18c1e0",
   "metadata": {},
   "outputs": [],
   "source": [
    "class child1(parent):\n",
    "    def add(self):\n",
    "        self.c=self.a+self.b"
   ]
  },
  {
   "cell_type": "code",
   "execution_count": 180,
   "id": "1f12a3dd-bb54-4e02-b6bf-e6f5a08ae4c5",
   "metadata": {},
   "outputs": [],
   "source": [
    "class child12(child1):\n",
    "    def show(self):\n",
    "        print(self.c)"
   ]
  },
  {
   "cell_type": "code",
   "execution_count": 202,
   "id": "583c6f01-114c-40e9-85c5-c0d6b8b2499c",
   "metadata": {},
   "outputs": [
    {
     "name": "stdout",
     "output_type": "stream",
     "text": [
      "30\n"
     ]
    }
   ],
   "source": [
    "obj=child12()\n",
    "obj.get1()\n",
    "obj.add()\n",
    "obj.show()"
   ]
  },
  {
   "cell_type": "markdown",
   "id": "1e874f9f-5714-44db-8b9a-3bb76b669ac4",
   "metadata": {},
   "source": [
    "#### ....hierarchical inheritance"
   ]
  },
  {
   "cell_type": "code",
   "execution_count": 166,
   "id": "a0845cd3-87c3-4f4e-9ea5-03cfee7e270c",
   "metadata": {},
   "outputs": [],
   "source": [
    "class parent1:\n",
    "    def get1(self):\n",
    "        self.a=10\n",
    "        self.b=20"
   ]
  },
  {
   "cell_type": "code",
   "execution_count": 168,
   "id": "c4166d51-27f2-4529-aaad-269d283792f3",
   "metadata": {},
   "outputs": [],
   "source": [
    "class child(parent1):\n",
    "    def add(self):\n",
    "        self.c=self.a+self.b\n",
    "        print(self.c)"
   ]
  },
  {
   "cell_type": "code",
   "execution_count": 170,
   "id": "e75bbd29-934d-4363-98d4-ebdf58461fe4",
   "metadata": {},
   "outputs": [],
   "source": [
    "class child2(parent1):\n",
    "    def show(self):\n",
    "        self.c=self.a-self.b\n",
    "        print(self.c)"
   ]
  },
  {
   "cell_type": "code",
   "execution_count": 186,
   "id": "bff2879f-dc78-4cbc-bcf4-4d3b4578e5ae",
   "metadata": {},
   "outputs": [
    {
     "name": "stdout",
     "output_type": "stream",
     "text": [
      "30\n",
      "-10\n"
     ]
    }
   ],
   "source": [
    "obj1=child()\n",
    "obj2=child2()\n",
    "obj1.get1()\n",
    "obj2.get1()\n",
    "obj1.add()\n",
    "obj2.show()"
   ]
  },
  {
   "cell_type": "markdown",
   "id": "c806d853-3bc3-44bc-9954-ed5401a884a7",
   "metadata": {},
   "source": [
    "### ....single inheritance"
   ]
  },
  {
   "cell_type": "code",
   "execution_count": 17,
   "id": "d7536f35-1239-4147-997a-c9de233db77b",
   "metadata": {},
   "outputs": [],
   "source": [
    "class Animal:\n",
    "    def speak(self):\n",
    "        print(\"Animal speaking\")"
   ]
  },
  {
   "cell_type": "code",
   "execution_count": 19,
   "id": "a8f11b3a-09c6-437e-80d1-5ed84f38058c",
   "metadata": {},
   "outputs": [],
   "source": [
    "class dog(Animal):\n",
    "    def bark(self):\n",
    "        print(\"Dog barking\")"
   ]
  },
  {
   "cell_type": "code",
   "execution_count": 21,
   "id": "f3e81982-3e13-4c4b-abce-54461d9ab4e6",
   "metadata": {},
   "outputs": [
    {
     "name": "stdout",
     "output_type": "stream",
     "text": [
      "Animal speaking\n",
      "Dog barking\n"
     ]
    }
   ],
   "source": [
    "obj=dog()\n",
    "obj.speak()\n",
    "obj.bark()"
   ]
  },
  {
   "cell_type": "markdown",
   "id": "4b7d44f5-c1cd-4bda-be60-ff31f2cb587f",
   "metadata": {},
   "source": [
    "#### ....multilevel inheritance"
   ]
  },
  {
   "cell_type": "code",
   "execution_count": 37,
   "id": "72f5625f-fab4-4301-a1aa-d7f88b39e854",
   "metadata": {},
   "outputs": [],
   "source": [
    "class Animal:\n",
    "    def speak(self):\n",
    "        print(\"Animal speking\")"
   ]
  },
  {
   "cell_type": "code",
   "execution_count": 39,
   "id": "f494d063-587f-498d-b646-ccc2dcdb3d0b",
   "metadata": {},
   "outputs": [],
   "source": [
    "class Dog(Animal):\n",
    "    def bark(self):\n",
    "        print(\" Dog barking\")"
   ]
  },
  {
   "cell_type": "code",
   "execution_count": 41,
   "id": "759fb423-8a10-47a2-a269-4c23763cc4be",
   "metadata": {},
   "outputs": [],
   "source": [
    "class Babydog(Dog):\n",
    "    def eat(self):\n",
    "        print(\"Dog eating\")"
   ]
  },
  {
   "cell_type": "code",
   "execution_count": 43,
   "id": "fbde7bd8-04f3-4118-87e9-8377cc83c90e",
   "metadata": {},
   "outputs": [
    {
     "name": "stdout",
     "output_type": "stream",
     "text": [
      "Animal speking\n",
      " Dog barking\n",
      "Dog eating\n"
     ]
    }
   ],
   "source": [
    "obj=Babydog()\n",
    "obj.speak()\n",
    "obj.bark()\n",
    "obj.eat()"
   ]
  },
  {
   "cell_type": "markdown",
   "id": "7efa2bbb-0519-4e55-a022-101567ed2d92",
   "metadata": {},
   "source": [
    "### ....multiple inheritance"
   ]
  },
  {
   "cell_type": "code",
   "execution_count": 54,
   "id": "f07e0e08-cced-4e02-9af2-1dc8b9dcd197",
   "metadata": {},
   "outputs": [],
   "source": [
    "class base1:\n",
    "    def val1(self):\n",
    "        self.a=10\n",
    "    \n",
    "      "
   ]
  },
  {
   "cell_type": "code",
   "execution_count": 56,
   "id": "16243613-7e8c-4507-a16a-84e545fb683c",
   "metadata": {},
   "outputs": [],
   "source": [
    "class base2:\n",
    "    def val2(self):\n",
    "        self.b=25"
   ]
  },
  {
   "cell_type": "code",
   "execution_count": 68,
   "id": "f1d5d388-14a5-420e-b429-d6b37b3a6ff4",
   "metadata": {},
   "outputs": [],
   "source": [
    "class derived(base1,base2):\n",
    "    def multi(self):\n",
    "        print(self.a*self.b)"
   ]
  },
  {
   "cell_type": "code",
   "execution_count": 70,
   "id": "c0771ec1-8533-4274-a0d8-1958ae220d18",
   "metadata": {},
   "outputs": [
    {
     "name": "stdout",
     "output_type": "stream",
     "text": [
      "250\n"
     ]
    }
   ],
   "source": [
    "obj=derived()\n",
    "obj.val1()\n",
    "obj.val2()\n",
    "obj.multi()"
   ]
  },
  {
   "cell_type": "markdown",
   "id": "d1d5e385-7c3c-489a-994b-1777a538474b",
   "metadata": {},
   "source": [
    "### ....hierarchical inheritance"
   ]
  },
  {
   "cell_type": "code",
   "execution_count": 73,
   "id": "d1d5b713-f900-4bd6-95e0-dd94d5def3c4",
   "metadata": {},
   "outputs": [],
   "source": [
    "class base:\n",
    "    def num(self):\n",
    "        self.a=20\n",
    "        self.b=10"
   ]
  },
  {
   "cell_type": "code",
   "execution_count": 77,
   "id": "d404a553-3cc9-4586-b69f-44c7244f0dde",
   "metadata": {},
   "outputs": [],
   "source": [
    "class derived(base):\n",
    "    def multi(self):\n",
    "        print(self.a*self.b)"
   ]
  },
  {
   "cell_type": "code",
   "execution_count": 79,
   "id": "e21b6d4f-8c90-4b82-a55a-9cbdd26399ce",
   "metadata": {},
   "outputs": [],
   "source": [
    "class derived2(base):\n",
    "    def div(self):\n",
    "        print(self.a/self.b)"
   ]
  },
  {
   "cell_type": "code",
   "execution_count": 83,
   "id": "472391e8-9d63-4240-9a5b-d431a8ef94ce",
   "metadata": {},
   "outputs": [
    {
     "name": "stdout",
     "output_type": "stream",
     "text": [
      "200\n",
      "2.0\n"
     ]
    }
   ],
   "source": [
    "obj1=derived()\n",
    "obj2=derived2()\n",
    "obj1.num()\n",
    "obj2.num()\n",
    "obj1.multi()\n",
    "obj2.div()"
   ]
  },
  {
   "cell_type": "code",
   "execution_count": null,
   "id": "ecff6d5e-9d5a-4cae-8c89-d57c873a95f0",
   "metadata": {},
   "outputs": [],
   "source": []
  }
 ],
 "metadata": {
  "kernelspec": {
   "display_name": "Python 3 (ipykernel)",
   "language": "python",
   "name": "python3"
  },
  "language_info": {
   "codemirror_mode": {
    "name": "ipython",
    "version": 3
   },
   "file_extension": ".py",
   "mimetype": "text/x-python",
   "name": "python",
   "nbconvert_exporter": "python",
   "pygments_lexer": "ipython3",
   "version": "3.12.4"
  }
 },
 "nbformat": 4,
 "nbformat_minor": 5
}
