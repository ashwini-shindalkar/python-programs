{
 "cells": [
  {
   "cell_type": "markdown",
   "id": "b792ed9e-c38e-4af3-9091-4e2236badd04",
   "metadata": {},
   "source": [
    "##### ..Write a program that counts the number of vowels in a given string."
   ]
  },
  {
   "cell_type": "code",
   "execution_count": 29,
   "id": "1666d734-4cd0-416b-bc7b-455a853833f3",
   "metadata": {},
   "outputs": [
    {
     "name": "stdout",
     "output_type": "stream",
     "text": [
      "o\n",
      "o\n",
      "i\n",
      "a\n",
      "o\n",
      "o\n",
      "u\n",
      "number of vowels in string: 7\n"
     ]
    }
   ],
   "source": [
    "string=\"good night all of you\"\n",
    "vowels=\"aeiouAEIOU\"\n",
    "count=0\n",
    "for  char in string:\n",
    "    if char in vowels:\n",
    "      print(char )\n",
    "      count+=1\n",
    "print(\"number of vowels in string:\",count)\n"
   ]
  },
  {
   "cell_type": "markdown",
   "id": "fba9a85b-3ad4-40e3-8251-9757c0cc7b48",
   "metadata": {},
   "source": [
    "#### ...Write a function to check if a number is a palindrome."
   ]
  },
  {
   "cell_type": "code",
   "execution_count": 9,
   "id": "a0b5968c-3434-46d9-8f5d-65f939290104",
   "metadata": {},
   "outputs": [
    {
     "name": "stdin",
     "output_type": "stream",
     "text": [
      "Enter a number: 1221\n"
     ]
    },
    {
     "name": "stdout",
     "output_type": "stream",
     "text": [
      "1221 is palindrome\n"
     ]
    }
   ],
   "source": [
    "num=int(input(\"Enter a number:\"))\n",
    "num=str(num)\n",
    "if num==num[::-1]:\n",
    "    print(f\"{num} is palindrome\")\n",
    "else:\n",
    "    print(f\"{num} is not palindrome\")"
   ]
  },
  {
   "cell_type": "markdown",
   "id": "e02bc0d1-9862-4a06-b7cb-79bee3a6a855",
   "metadata": {},
   "source": [
    "#### ..Write a function to calculate the factorial of a number."
   ]
  },
  {
   "cell_type": "code",
   "execution_count": 3,
   "id": "a651e51d-2911-4aa0-8e09-1b966964cc9f",
   "metadata": {},
   "outputs": [
    {
     "name": "stdout",
     "output_type": "stream",
     "text": [
      " factorial of 1 is: 1\n",
      " factorial of 2 is: 2\n",
      " factorial of 3 is: 6\n",
      " factorial of 4 is: 24\n"
     ]
    }
   ],
   "source": [
    "fact=1\n",
    "for i in range(1,5):\n",
    "    fact*=i\n",
    "    print(f\" factorial of {i} is:\",fact)\n"
   ]
  },
  {
   "cell_type": "markdown",
   "id": "0a406012-9e74-43a2-9ad3-1001ba3e9848",
   "metadata": {},
   "source": [
    "#### ..Write a program to check if a number is a prime number."
   ]
  },
  {
   "cell_type": "code",
   "execution_count": 21,
   "id": "d6f78d79-7675-4783-b37f-e221742a9b40",
   "metadata": {},
   "outputs": [
    {
     "name": "stdin",
     "output_type": "stream",
     "text": [
      "Enter a number to check if it is prime:  3\n"
     ]
    },
    {
     "name": "stdout",
     "output_type": "stream",
     "text": [
      "3 is a prime number.\n"
     ]
    }
   ],
   "source": [
    "number = int(input(\"Enter a number to check if it is prime: \"))\n",
    "\n",
    "is_prime = True\n",
    "\n",
    "if number <= 1:\n",
    "    is_prime = False\n",
    "elif number == 2:\n",
    "    is_prime = True\n",
    "else:\n",
    "       for i in range(2,number):\n",
    "          if number % 2 == 0:\n",
    "             is_prime = False\n",
    "             break\n",
    "\n",
    "if is_prime:\n",
    "    print(f\"{number} is a prime number.\")\n",
    "else:\n",
    "    print(f\"{number} is not a prime number.\")\n"
   ]
  },
  {
   "cell_type": "markdown",
   "id": "dd167e01-80e5-4aa9-a6e2-2c999de717c4",
   "metadata": {},
   "source": [
    "#### ....Implement a program that prints the multiplication table for a given number."
   ]
  },
  {
   "cell_type": "code",
   "execution_count": 51,
   "id": "6fe166bf-9b55-49c9-a84a-a82b33fe6b55",
   "metadata": {},
   "outputs": [
    {
     "name": "stdin",
     "output_type": "stream",
     "text": [
      "Enter any number: 8\n"
     ]
    },
    {
     "name": "stdout",
     "output_type": "stream",
     "text": [
      "8 * 1 = 8\n",
      "8 * 2 = 16\n",
      "8 * 3 = 24\n",
      "8 * 4 = 32\n",
      "8 * 5 = 40\n",
      "8 * 6 = 48\n",
      "8 * 7 = 56\n",
      "8 * 8 = 64\n",
      "8 * 9 = 72\n",
      "8 * 10 = 80\n"
     ]
    }
   ],
   "source": [
    "num=int(input(\"Enter any number:\"))\n",
    "for i in range(1,10+1):\n",
    "    print(f\"{num} * {i} = {num*i}\")"
   ]
  },
  {
   "cell_type": "markdown",
   "id": "1d58dde7-e28a-41ac-b15e-3c093cf925ab",
   "metadata": {},
   "source": [
    "### .....python program to display the calender"
   ]
  },
  {
   "cell_type": "code",
   "execution_count": 23,
   "id": "52061d7d-26b8-44ca-9a8c-9ac7f7c551fa",
   "metadata": {},
   "outputs": [
    {
     "name": "stdout",
     "output_type": "stream",
     "text": [
      "   December 2003\n",
      "Mo Tu We Th Fr Sa Su\n",
      " 1  2  3  4  5  6  7\n",
      " 8  9 10 11 12 13 14\n",
      "15 16 17 18 19 20 21\n",
      "22 23 24 25 26 27 28\n",
      "29 30 31\n",
      "\n"
     ]
    }
   ],
   "source": [
    "import calendar\n",
    "yy=2003\n",
    "mm=12\n",
    "print(calendar.month(yy,mm))"
   ]
  },
  {
   "cell_type": "markdown",
   "id": "e5273358-440b-4d75-9a60-4eeb8d929465",
   "metadata": {},
   "source": [
    "#### .....find sum of series of cubes of first n natural number"
   ]
  },
  {
   "cell_type": "code",
   "execution_count": 79,
   "id": "71ca6ccb-81e1-4cce-80f5-fbf002cc567a",
   "metadata": {},
   "outputs": [],
   "source": [
    "def sumofseries(n):\n",
    "    sum=0\n",
    "    for i in range(1,n+1):\n",
    "        sum+=i*i*i\n",
    "    return sum"
   ]
  },
  {
   "cell_type": "code",
   "execution_count": 81,
   "id": "944fbf8f-e355-47f5-936b-0ce20570c531",
   "metadata": {},
   "outputs": [
    {
     "data": {
      "text/plain": [
       "225"
      ]
     },
     "execution_count": 81,
     "metadata": {},
     "output_type": "execute_result"
    }
   ],
   "source": [
    "sumofseries(5)"
   ]
  },
  {
   "cell_type": "markdown",
   "id": "a0cd7cd8-0c70-4368-85b7-73cf69c4a7cc",
   "metadata": {},
   "source": [
    "#### ...python program for sum of squares of first n natural number "
   ]
  },
  {
   "cell_type": "code",
   "execution_count": 86,
   "id": "4efa96bd-ace4-43fe-8d02-e6c05e805e7b",
   "metadata": {},
   "outputs": [],
   "source": [
    "def squaresum(n):\n",
    "    sum=0\n",
    "    for i in range(1,n+1):\n",
    "         sum+=i*i\n",
    "    return sum"
   ]
  },
  {
   "cell_type": "code",
   "execution_count": 88,
   "id": "8b787917-ce03-476e-9681-7e9168c3d389",
   "metadata": {},
   "outputs": [
    {
     "data": {
      "text/plain": [
       "30"
      ]
     },
     "execution_count": 88,
     "metadata": {},
     "output_type": "execute_result"
    }
   ],
   "source": [
    "squaresum(4)"
   ]
  },
  {
   "cell_type": "markdown",
   "id": "fe4f5fd0-6365-46a7-91ae-9e8649425810",
   "metadata": {},
   "source": [
    "#### .... Default function to implement conditions to check leap year  \n",
    "  "
   ]
  },
  {
   "cell_type": "code",
   "execution_count": 90,
   "id": "caf30f47-75c3-4d58-a6c1-bd30aec8a3b6",
   "metadata": {},
   "outputs": [],
   "source": [
    "def CheckLeap(Year):  \n",
    "  if((Year % 400 == 0) or  \n",
    "     (Year % 100 != 0) and  \n",
    "     (Year % 4 == 0)):   \n",
    "    print(\"Given Year is a leap Year\");  \n",
    "  else:  \n",
    "    print (\"Given Year is not a leap Year\")  \n"
   ]
  },
  {
   "cell_type": "code",
   "execution_count": 96,
   "id": "42042b8a-f249-4198-83a9-1ef38fd3e2dc",
   "metadata": {},
   "outputs": [
    {
     "name": "stdin",
     "output_type": "stream",
     "text": [
      "Enter the number:  2024\n"
     ]
    },
    {
     "name": "stdout",
     "output_type": "stream",
     "text": [
      "Given Year is a leap Year\n"
     ]
    }
   ],
   "source": [
    "Year = int(input(\"Enter the number: \"))  \n",
    "CheckLeap(Year)  "
   ]
  },
  {
   "cell_type": "markdown",
   "id": "6f1c3349-d65d-4c4a-9fe1-2d036e9aaf4e",
   "metadata": {},
   "source": [
    "#### .... To swap the value of two variables  "
   ]
  },
  {
   "cell_type": "code",
   "execution_count": 100,
   "id": "56ca80de-4b9f-4a53-8330-bde0b380ed7a",
   "metadata": {},
   "outputs": [
    {
     "name": "stdin",
     "output_type": "stream",
     "text": [
      "Please enter value for P:  50\n",
      "Please enter value for Q:  25\n"
     ]
    },
    {
     "name": "stdout",
     "output_type": "stream",
     "text": [
      "The Value of P after swapping:  25\n",
      "The Value of Q after swapping:  50\n"
     ]
    }
   ],
   "source": [
    "P = int( input(\"Please enter value for P: \"))  \n",
    "Q = int( input(\"Please enter value for Q: \"))  \n",
    "   \n",
    "temp_1 = P  \n",
    "P = Q  \n",
    "Q = temp_1  \n",
    "   \n",
    "print (\"The Value of P after swapping: \", P)  \n",
    "print (\"The Value of Q after swapping: \", Q)  \n"
   ]
  },
  {
   "cell_type": "code",
   "execution_count": null,
   "id": "45ed0eca-22ce-4303-a715-5ff26765beb8",
   "metadata": {},
   "outputs": [],
   "source": []
  }
 ],
 "metadata": {
  "kernelspec": {
   "display_name": "Python 3 (ipykernel)",
   "language": "python",
   "name": "python3"
  },
  "language_info": {
   "codemirror_mode": {
    "name": "ipython",
    "version": 3
   },
   "file_extension": ".py",
   "mimetype": "text/x-python",
   "name": "python",
   "nbconvert_exporter": "python",
   "pygments_lexer": "ipython3",
   "version": "3.12.4"
  }
 },
 "nbformat": 4,
 "nbformat_minor": 5
}
