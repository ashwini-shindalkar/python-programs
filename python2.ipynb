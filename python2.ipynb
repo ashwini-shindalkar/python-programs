{
 "cells": [
  {
   "cell_type": "code",
   "execution_count": 4,
   "id": "0fc2cf54-c162-449f-a849-4c25b70b4675",
   "metadata": {},
   "outputs": [
    {
     "name": "stdout",
     "output_type": "stream",
     "text": [
      "hello\n",
      "hello\n",
      "hello\n",
      "hello\n",
      "hello\n"
     ]
    }
   ],
   "source": [
    "count=1\n",
    "while count<=5:\n",
    "   print(\"hello\")\n",
    "   count+=1"
   ]
  },
  {
   "cell_type": "code",
   "execution_count": 16,
   "id": "0d92e3c6-e330-4c18-8838-93ace33aecd6",
   "metadata": {},
   "outputs": [
    {
     "name": "stdout",
     "output_type": "stream",
     "text": [
      "hii 1\n",
      "hii 2\n",
      "hii 3\n",
      "hii 4\n",
      "hii 5\n"
     ]
    }
   ],
   "source": [
    "count=1\n",
    "while count<=5:\n",
    "    print(\"hii\",count)\n",
    "    count+=1"
   ]
  },
  {
   "cell_type": "markdown",
   "id": "70fc3744-cbbf-4bf4-9660-1b8a698e34c0",
   "metadata": {},
   "source": [
    "##### ......print number from 1 to 20"
   ]
  },
  {
   "cell_type": "code",
   "execution_count": 15,
   "id": "5ec47d1a-99d4-4200-9d24-e90fb987c1ad",
   "metadata": {},
   "outputs": [
    {
     "name": "stdout",
     "output_type": "stream",
     "text": [
      "1\n",
      "2\n",
      "3\n",
      "4\n",
      "5\n",
      "6\n",
      "7\n",
      "8\n",
      "9\n",
      "10\n",
      "11\n",
      "12\n",
      "13\n",
      "14\n",
      "15\n",
      "16\n",
      "17\n",
      "18\n",
      "19\n",
      "20\n"
     ]
    }
   ],
   "source": [
    "num=1\n",
    "while num<=20:\n",
    "    print(num)\n",
    "    num+=1"
   ]
  },
  {
   "cell_type": "markdown",
   "id": "e8417a26-ed15-410f-9cb3-3a27dda026a3",
   "metadata": {},
   "source": [
    "##### ......print number from 20 to 1"
   ]
  },
  {
   "cell_type": "code",
   "execution_count": 13,
   "id": "cac0cd85-4881-429a-9bc9-661e0a90fe37",
   "metadata": {},
   "outputs": [
    {
     "name": "stdout",
     "output_type": "stream",
     "text": [
      "10\n",
      "9\n",
      "8\n",
      "7\n",
      "6\n",
      "5\n",
      "4\n",
      "3\n",
      "2\n",
      "1\n",
      "end of loop\n"
     ]
    }
   ],
   "source": [
    "count=10\n",
    "while count>=1:\n",
    "    print(count)\n",
    "    count-=1\n",
    "print(\"end of loop\")"
   ]
  },
  {
   "cell_type": "markdown",
   "id": "470d46dd-72e2-4e91-8022-7e13b754f052",
   "metadata": {},
   "source": [
    "##### ......print table of five using while loop"
   ]
  },
  {
   "cell_type": "code",
   "execution_count": 15,
   "id": "2388dca6-1f18-4942-baf9-95a6dee603eb",
   "metadata": {},
   "outputs": [
    {
     "name": "stdout",
     "output_type": "stream",
     "text": [
      "5\n",
      "10\n",
      "15\n",
      "20\n",
      "25\n",
      "30\n",
      "35\n",
      "40\n",
      "45\n",
      "50\n"
     ]
    }
   ],
   "source": [
    "table=1\n",
    "while table<=10:\n",
    "    print(table*5)\n",
    "    table+=1"
   ]
  },
  {
   "cell_type": "markdown",
   "id": "c5a349a2-a84f-490a-bf92-6227b0b510ae",
   "metadata": {},
   "source": [
    "##### .....print the element following list"
   ]
  },
  {
   "cell_type": "code",
   "execution_count": 16,
   "id": "e6d19309-67f7-4c73-a05e-7ea864e786d4",
   "metadata": {},
   "outputs": [
    {
     "name": "stdout",
     "output_type": "stream",
     "text": [
      "2\n",
      "4\n",
      "18\n",
      "38\n",
      "44\n",
      "89\n",
      "93\n",
      "100\n"
     ]
    }
   ],
   "source": [
    "num=[2,4,18,38,44,89,93,100]\n",
    "idx=0\n",
    "while idx<len(num):\n",
    "    print(num [idx])\n",
    "    idx+=1"
   ]
  },
  {
   "cell_type": "markdown",
   "id": "831f75f6-0f1d-4519-ae13-b027454d30f9",
   "metadata": {},
   "source": [
    "##### ....search for number x in this tuple using loop"
   ]
  },
  {
   "cell_type": "code",
   "execution_count": 13,
   "id": "045fcef6-ddd1-4cd1-b4b3-e5d40431d9b2",
   "metadata": {},
   "outputs": [
    {
     "name": "stdout",
     "output_type": "stream",
     "text": [
      "2\n",
      "4\n",
      "18\n",
      "25\n",
      "38\n",
      "44\n",
      "found 44\n"
     ]
    }
   ],
   "source": [
    "num=(2,4,18,25,38,44,84,95,100)\n",
    "x=44\n",
    "i=0\n",
    "while i<len(num):\n",
    "       print(num[i])\n",
    "       if (num[i]==x):\n",
    "         print(\"found\",x)\n",
    "         break\n",
    "       i+=1"
   ]
  },
  {
   "cell_type": "code",
   "execution_count": 15,
   "id": "0ecd7377-a619-4d41-8187-6f9626946e1a",
   "metadata": {},
   "outputs": [
    {
     "name": "stdout",
     "output_type": "stream",
     "text": [
      "1\n",
      "2\n",
      "3\n",
      "5\n",
      "6\n",
      "7\n",
      "8\n"
     ]
    }
   ],
   "source": [
    "i=1\n",
    "while i<=8:\n",
    "   if i==4:\n",
    "      i+=1\n",
    "      continue\n",
    "   print(i)   \n",
    "   i+=1"
   ]
  },
  {
   "cell_type": "markdown",
   "id": "d64a78ec-750d-4fb9-b221-f165e10857a9",
   "metadata": {},
   "source": [
    "##### .....write a program to print sum of first 10 natural numbers "
   ]
  },
  {
   "cell_type": "code",
   "execution_count": 17,
   "id": "adb3a8be-fb13-4b05-8c15-b246c9eb3222",
   "metadata": {},
   "outputs": [
    {
     "name": "stdout",
     "output_type": "stream",
     "text": [
      "55\n"
     ]
    }
   ],
   "source": [
    "i=1\n",
    "sum=0\n",
    "while i<=10:\n",
    "   sum=sum+i\n",
    "   i+=1\n",
    "print(sum)"
   ]
  },
  {
   "cell_type": "markdown",
   "id": "9a813e58-146e-45b5-8b52-b9b27a1fb178",
   "metadata": {},
   "source": [
    "#### .....write a program to print first 10 integers and their squres"
   ]
  },
  {
   "cell_type": "code",
   "execution_count": 19,
   "id": "f4482135-5073-49c1-96d8-ed8099bb0bc7",
   "metadata": {},
   "outputs": [
    {
     "name": "stdout",
     "output_type": "stream",
     "text": [
      "1 1\n",
      "2 4\n",
      "3 9\n",
      "4 16\n",
      "5 25\n",
      "6 36\n",
      "7 49\n",
      "8 64\n",
      "9 81\n",
      "10 100\n"
     ]
    }
   ],
   "source": [
    "i=1\n",
    "while i<=10:\n",
    "    print(i,i*i)\n",
    "    i+=1\n",
    "\n"
   ]
  },
  {
   "cell_type": "code",
   "execution_count": null,
   "id": "bdf84db8-ab52-495f-9dc7-743042bef1ee",
   "metadata": {},
   "outputs": [],
   "source": []
  }
 ],
 "metadata": {
  "kernelspec": {
   "display_name": "Python 3 (ipykernel)",
   "language": "python",
   "name": "python3"
  },
  "language_info": {
   "codemirror_mode": {
    "name": "ipython",
    "version": 3
   },
   "file_extension": ".py",
   "mimetype": "text/x-python",
   "name": "python",
   "nbconvert_exporter": "python",
   "pygments_lexer": "ipython3",
   "version": "3.12.4"
  }
 },
 "nbformat": 4,
 "nbformat_minor": 5
}
