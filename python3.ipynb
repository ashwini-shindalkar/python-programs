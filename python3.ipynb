{
 "cells": [
  {
   "cell_type": "code",
   "execution_count": null,
   "id": "2f4590cb-fa03-4b97-8762-03b01b6310a9",
   "metadata": {},
   "outputs": [],
   "source": [
    "side=10             #.....area of square"
   ]
  },
  {
   "cell_type": "code",
   "execution_count": 15,
   "id": "bb562cc1-e72c-4034-bd1e-b31d5e7bda65",
   "metadata": {},
   "outputs": [
    {
     "name": "stdout",
     "output_type": "stream",
     "text": [
      "area of squar: 100\n"
     ]
    }
   ],
   "source": [
    "\n",
    "print(\"area of squar:\",side*side)"
   ]
  },
  {
   "cell_type": "code",
   "execution_count": 2,
   "id": "0d9bb180-8116-449f-ba49-98b56f32ee75",
   "metadata": {},
   "outputs": [
    {
     "name": "stdout",
     "output_type": "stream",
     "text": [
      "area of ractangle: 110\n"
     ]
    }
   ],
   "source": [
    "lenth=10                                   #......area of ractangle\n",
    "width=11\n",
    "print (\"area of ractangle:\",lenth*width)       "
   ]
  },
  {
   "cell_type": "code",
   "execution_count": 5,
   "id": "18e5b548-86b6-4e65-af24-9c432924e863",
   "metadata": {},
   "outputs": [
    {
     "name": "stdout",
     "output_type": "stream",
     "text": [
      "area of parallelogram: 450\n"
     ]
    }
   ],
   "source": [
    "base= 25                                 #....area of parallelogram\n",
    "height=18\n",
    "area =base * height\n",
    "print(\"area of parallelogram:\",area)"
   ]
  },
  {
   "cell_type": "code",
   "execution_count": 9,
   "id": "e06ec031-e46d-4b8a-a538-8946803d5365",
   "metadata": {},
   "outputs": [
    {
     "name": "stdout",
     "output_type": "stream",
     "text": [
      "area of Tringle: 225.0\n"
     ]
    }
   ],
   "source": [
    "area=1/2*base*height            #......area of Triangle\n",
    "print(\"area of Tringle:\",area)\n"
   ]
  },
  {
   "cell_type": "code",
   "execution_count": 25,
   "id": "709e798c-508f-4dd1-8aa1-293a2237bb8f",
   "metadata": {},
   "outputs": [
    {
     "name": "stdout",
     "output_type": "stream",
     "text": [
      "area of circle: 1963.4954084936207\n"
     ]
    }
   ],
   "source": [
    "import math                      #........area of circle\n",
    "r=25\n",
    "area=math.pi*r*r\n",
    "print(\"area of circle:\",area)"
   ]
  },
  {
   "cell_type": "code",
   "execution_count": 5,
   "id": "a7b35e7d-3750-428e-8879-1158c3b9746a",
   "metadata": {},
   "outputs": [
    {
     "name": "stdout",
     "output_type": "stream",
     "text": [
      "area of rhombus: 100.0\n"
     ]
    }
   ],
   "source": [
    "diagonal1=10                    #............area of rhombus\n",
    "diagonal2=20\n",
    "area=1/2*diagonal1*diagonal2\n",
    "print(\"area of rhombus:\",area)"
   ]
  },
  {
   "cell_type": "code",
   "execution_count": 33,
   "id": "9372c25b-aaec-4ef2-b653-71753e1d6c1a",
   "metadata": {},
   "outputs": [
    {
     "name": "stdout",
     "output_type": "stream",
     "text": [
      "area of trapezium: 525.0\n"
     ]
    }
   ],
   "source": [
    "side1=15                        #.....area of trapezium\n",
    "side2=20\n",
    "height=30\n",
    "area=1/2*(side1+side2)*height\n",
    "print(\"area of trapezium:\",area)"
   ]
  },
  {
   "cell_type": "code",
   "execution_count": 31,
   "id": "08ec41d6-4e87-4afa-b16f-c2af349e8811",
   "metadata": {},
   "outputs": [
    {
     "name": "stdout",
     "output_type": "stream",
     "text": [
      "sides: 35.0\n"
     ]
    }
   ],
   "source": [
    "side=2*area/height\n",
    "print(\"sides:\",side)"
   ]
  },
  {
   "cell_type": "code",
   "execution_count": 59,
   "id": "d732e7bf-37ed-4de3-bcda-af8946ca1ca7",
   "metadata": {},
   "outputs": [
    {
     "name": "stdin",
     "output_type": "stream",
     "text": [
      "Enter a redius: 2\n",
      "Enter a height: 30\n"
     ]
    },
    {
     "name": "stdout",
     "output_type": "stream",
     "text": [
      "surface area of cylinder : 402.1238596594935\n"
     ]
    }
   ],
   "source": [
    "import math                            #.....surface area ofcylinder  \n",
    "redius=int(input(\"Enter a redius:\"))\n",
    "height=int(input(\"Enter a height:\"))\n",
    "area=2* math.pi *redius*(height+redius)\n",
    "print(\"surface area of cylinder :\", area)"
   ]
  },
  {
   "cell_type": "code",
   "execution_count": 67,
   "id": "e58a88e0-075c-4bdc-a212-d5d11a1b8010",
   "metadata": {},
   "outputs": [
    {
     "name": "stdout",
     "output_type": "stream",
     "text": [
      "surface area of cone: 43.982297150257104\n"
     ]
    }
   ],
   "source": [
    "import math                                #........surface area of cone\n",
    "slantheight=5\n",
    "area=math.pi *redius*(redius+slantheight)\n",
    "print(\"surface area of cone:\",area)"
   ]
  },
  {
   "cell_type": "code",
   "execution_count": 75,
   "id": "64736752-4b9c-4171-a70c-ba7eaa2406c5",
   "metadata": {},
   "outputs": [
    {
     "name": "stdout",
     "output_type": "stream",
     "text": [
      "SF of cuboid: 3550\n"
     ]
    }
   ],
   "source": [
    "l=15                                     #.......surface  area of cuboid \n",
    "b=25\n",
    "h=35\n",
    "SF=2*(l*b+b*h+h*l)\n",
    "print(\"SF of cuboid:\",SF)"
   ]
  },
  {
   "cell_type": "code",
   "execution_count": null,
   "id": "30210e74-9d29-4c8e-89a9-64b18e67d177",
   "metadata": {},
   "outputs": [],
   "source": []
  }
 ],
 "metadata": {
  "kernelspec": {
   "display_name": "Python 3 (ipykernel)",
   "language": "python",
   "name": "python3"
  },
  "language_info": {
   "codemirror_mode": {
    "name": "ipython",
    "version": 3
   },
   "file_extension": ".py",
   "mimetype": "text/x-python",
   "name": "python",
   "nbconvert_exporter": "python",
   "pygments_lexer": "ipython3",
   "version": "3.12.4"
  }
 },
 "nbformat": 4,
 "nbformat_minor": 5
}
