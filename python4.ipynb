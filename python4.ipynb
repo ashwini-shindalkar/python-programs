{
 "cells": [
  {
   "cell_type": "markdown",
   "id": "71dee652-7bc2-4cc9-9d61-6897a568b423",
   "metadata": {},
   "source": [
    "#### .......for loop"
   ]
  },
  {
   "cell_type": "code",
   "execution_count": 2,
   "id": "8c53035d-2dc9-4898-913c-2d145b7ce7a8",
   "metadata": {},
   "outputs": [
    {
     "name": "stdout",
     "output_type": "stream",
     "text": [
      "28\n",
      "4\n",
      "10\n",
      "14\n",
      "16\n"
     ]
    }
   ],
   "source": [
    "x=[14,2,5,7,8]\n",
    "for i in x:\n",
    "    print(i*2)"
   ]
  },
  {
   "cell_type": "markdown",
   "id": "7b279a67-1070-457c-96ca-0fe9f3e8a1e1",
   "metadata": {},
   "source": [
    "#### .....print value from 20 to 1"
   ]
  },
  {
   "cell_type": "code",
   "execution_count": 291,
   "id": "d81d545e-4cb6-49a7-add1-3bca8bc0ba51",
   "metadata": {},
   "outputs": [
    {
     "name": "stdout",
     "output_type": "stream",
     "text": [
      "20\n",
      "19\n",
      "18\n",
      "17\n",
      "16\n",
      "15\n",
      "14\n",
      "13\n",
      "12\n",
      "11\n",
      "10\n",
      "9\n",
      "8\n",
      "7\n",
      "6\n",
      "5\n",
      "4\n",
      "3\n",
      "2\n"
     ]
    }
   ],
   "source": [
    "\n",
    "for i  in range (20,1,-1):\n",
    "      print(i)"
   ]
  },
  {
   "cell_type": "code",
   "execution_count": 24,
   "id": "0bc7be64-fdb3-46cb-be47-4fd6cd937e1f",
   "metadata": {},
   "outputs": [
    {
     "name": "stdout",
     "output_type": "stream",
     "text": [
      "22\n",
      "10\n",
      "14\n",
      "16\n",
      "18\n",
      "[22, 10, 14, 16, 18]\n"
     ]
    }
   ],
   "source": [
    "x=[11,5,7,8,9]\n",
    "ans=[]\n",
    "for i in x:\n",
    "    print(i*2)\n",
    "    ans.append(i*2)\n",
    "print(ans)    \n",
    "    "
   ]
  },
  {
   "cell_type": "code",
   "execution_count": 275,
   "id": "11e11244-7d04-41fa-8396-105dbcf6d5ef",
   "metadata": {},
   "outputs": [
    {
     "name": "stdout",
     "output_type": "stream",
     "text": [
      "S\n",
      "P\n",
      "R\n",
      "I\n",
      "D\n",
      "E\n",
      "R\n",
      "M\n",
      "A\n",
      "N\n"
     ]
    }
   ],
   "source": [
    "string=\"sprider man\"\n",
    "for i in  string:\n",
    "    if i==\" \":\n",
    "        continue\n",
    "    print(i.upper())"
   ]
  },
  {
   "cell_type": "code",
   "execution_count": 273,
   "id": "d3436e55-c121-4695-9f07-48f9cc17c29d",
   "metadata": {},
   "outputs": [
    {
     "name": "stdout",
     "output_type": "stream",
     "text": [
      "spiderman"
     ]
    }
   ],
   "source": [
    "string=\"SPIDER MAN\"\n",
    "for i in string:\n",
    "    if i==\" \":\n",
    "     continue\n",
    "    print(i.lower(),end=\"\")\n",
    "  "
   ]
  },
  {
   "cell_type": "code",
   "execution_count": 74,
   "id": "2e136417-1232-466a-a6f5-fcfa73fcb31b",
   "metadata": {},
   "outputs": [
    {
     "name": "stdout",
     "output_type": "stream",
     "text": [
      "2\n",
      "4\n",
      "6\n",
      "8\n",
      "10\n",
      "12\n",
      "14\n",
      "16\n",
      "18\n"
     ]
    }
   ],
   "source": [
    "for i in range(1,20):\n",
    "     if i%2==0:\n",
    "      print(i)"
   ]
  },
  {
   "cell_type": "code",
   "execution_count": 82,
   "id": "162fb129-25c1-4bb3-ac02-1abdfed54ecb",
   "metadata": {},
   "outputs": [
    {
     "name": "stdout",
     "output_type": "stream",
     "text": [
      "hiii\n",
      "by\n",
      "hiii\n",
      "by\n",
      "hiii\n",
      "by\n",
      "hiii\n",
      "by\n",
      "hiii\n",
      "by\n"
     ]
    }
   ],
   "source": [
    "for i in range(0,10):\n",
    "    if i%2==0:\n",
    "        print(\"hiii\")\n",
    "    else:\n",
    "        print(\"by\")"
   ]
  },
  {
   "cell_type": "markdown",
   "id": "75abd375-3b00-4775-839c-0c9f50855bca",
   "metadata": {},
   "source": [
    "#### ...print  given vagetables using for loop"
   ]
  },
  {
   "cell_type": "code",
   "execution_count": 88,
   "id": "7958e642-6a27-42f2-963f-3470e2b4e5ad",
   "metadata": {},
   "outputs": [
    {
     "name": "stdout",
     "output_type": "stream",
     "text": [
      "Carrot\n",
      "Broccoli\n",
      "Spinach\n",
      "Potato\n",
      "Tomato\n"
     ]
    }
   ],
   "source": [
    "vegetables = [\"Carrot\", \"Broccoli\", \"Spinach\", \"Potato\", \"Tomato\"]\n",
    "for i in vegetables:\n",
    "    print(i)\n"
   ]
  },
  {
   "cell_type": "markdown",
   "id": "dcf96aaf-15b3-4e47-b779-8fbc76fbfd0c",
   "metadata": {},
   "source": [
    "#### program to find a charecter"
   ]
  },
  {
   "cell_type": "code",
   "execution_count": 174,
   "id": "9801618c-99ba-460d-a7b8-cbd2a07f594d",
   "metadata": {},
   "outputs": [
    {
     "name": "stdout",
     "output_type": "stream",
     "text": [
      "h\n",
      "e\n",
      "l\n",
      "l\n",
      "o\n",
      "found charecter\n"
     ]
    }
   ],
   "source": [
    "str2=\"hello world\"\n",
    "for i in str2:\n",
    "   print(i)\n",
    "   if i==\"o\":\n",
    "      print(\"found charecter\")\n",
    "      break\n",
    "   \n",
    "    "
   ]
  },
  {
   "cell_type": "markdown",
   "id": "7f8cbfb8-a3f3-4422-b791-df1402beb6a3",
   "metadata": {},
   "source": [
    "##### find a specific number using for loop"
   ]
  },
  {
   "cell_type": "markdown",
   "id": "2ada877d-5c62-4c9f-8501-9d9a28e19cda",
   "metadata": {},
   "source": [
    "##### ......print multiplication table of given number"
   ]
  },
  {
   "cell_type": "code",
   "execution_count": 266,
   "id": "80422595-b48d-4974-8243-67ac3e268e43",
   "metadata": {},
   "outputs": [
    {
     "name": "stdin",
     "output_type": "stream",
     "text": [
      "Enter a value: 9\n"
     ]
    },
    {
     "name": "stdout",
     "output_type": "stream",
     "text": [
      "9 * 1 = 9\n",
      "9 * 2 = 18\n",
      "9 * 3 = 27\n",
      "9 * 4 = 36\n",
      "9 * 5 = 45\n",
      "9 * 6 = 54\n",
      "9 * 7 = 63\n",
      "9 * 8 = 72\n",
      "9 * 9 = 81\n"
     ]
    }
   ],
   "source": [
    "n=int(input(\"Enter a value:\"))\n",
    "for i in range(1,10):\n",
    "    print(f\"{n} * {i} = {i*n}\")\n",
    "    "
   ]
  },
  {
   "cell_type": "code",
   "execution_count": null,
   "id": "fb55a22b-617e-452d-aa72-f1dd8a7ca3de",
   "metadata": {},
   "outputs": [],
   "source": []
  }
 ],
 "metadata": {
  "kernelspec": {
   "display_name": "Python 3 (ipykernel)",
   "language": "python",
   "name": "python3"
  },
  "language_info": {
   "codemirror_mode": {
    "name": "ipython",
    "version": 3
   },
   "file_extension": ".py",
   "mimetype": "text/x-python",
   "name": "python",
   "nbconvert_exporter": "python",
   "pygments_lexer": "ipython3",
   "version": "3.12.4"
  }
 },
 "nbformat": 4,
 "nbformat_minor": 5
}
