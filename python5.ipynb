{
 "cells": [
  {
   "cell_type": "code",
   "execution_count": 267,
   "id": "f4c0435b-fe8d-4a32-8b59-3bb0baf8c077",
   "metadata": {},
   "outputs": [],
   "source": [
    "import math\n",
    "def  area (r):\n",
    "    print(\"phere surface area:\")\n",
    "    res=4*math.pi*r*r\n",
    "    return res"
   ]
  },
  {
   "cell_type": "code",
   "execution_count": 269,
   "id": "7e86df56-89e1-4858-8714-b4205a70b4e1",
   "metadata": {},
   "outputs": [
    {
     "name": "stdout",
     "output_type": "stream",
     "text": [
      "phere surface area:\n"
     ]
    },
    {
     "data": {
      "text/plain": [
       "452.3893421169302"
      ]
     },
     "execution_count": 269,
     "metadata": {},
     "output_type": "execute_result"
    }
   ],
   "source": [
    "  area(6)"
   ]
  },
  {
   "cell_type": "code",
   "execution_count": 47,
   "id": "cc7de755-819c-4413-9653-dfb5095c4006",
   "metadata": {},
   "outputs": [],
   "source": [
    "def perimeter(side):\n",
    "    print(\"perimeter of square:\")\n",
    "    res=4*side\n",
    "    return res"
   ]
  },
  {
   "cell_type": "code",
   "execution_count": 49,
   "id": "306420a0-d381-44ec-afb9-490b28b06526",
   "metadata": {},
   "outputs": [
    {
     "name": "stdout",
     "output_type": "stream",
     "text": [
      "perimeter of square:\n"
     ]
    },
    {
     "data": {
      "text/plain": [
       "48"
      ]
     },
     "execution_count": 49,
     "metadata": {},
     "output_type": "execute_result"
    }
   ],
   "source": [
    "perimeter(12)"
   ]
  },
  {
   "cell_type": "code",
   "execution_count": 55,
   "id": "f1a54208-9f3c-418b-9e58-7f74b8944042",
   "metadata": {},
   "outputs": [],
   "source": [
    "def perimeter(length,breadth):\n",
    "    print(\"perimeter of ractangle:\")\n",
    "    res=length*breadth\n",
    "    return res"
   ]
  },
  {
   "cell_type": "code",
   "execution_count": 67,
   "id": "4f9e4ae4-b67e-49fd-b3dc-2ed25e13c8f0",
   "metadata": {},
   "outputs": [
    {
     "name": "stdout",
     "output_type": "stream",
     "text": [
      "perimeter of ractangle:\n"
     ]
    },
    {
     "data": {
      "text/plain": [
       "200"
      ]
     },
     "execution_count": 67,
     "metadata": {},
     "output_type": "execute_result"
    }
   ],
   "source": [
    "perimeter(10,20)"
   ]
  },
  {
   "cell_type": "code",
   "execution_count": 117,
   "id": "09d76a74-0428-4566-b5bb-bbecab702d7f",
   "metadata": {},
   "outputs": [],
   "source": [
    "def  circumference(d):\n",
    "    print(\"circumference of circle:\")\n",
    "    res=math.pi*d\n",
    "    return res"
   ]
  },
  {
   "cell_type": "code",
   "execution_count": 119,
   "id": "7fedb5b4-a3e2-48df-ae00-f1ed4ea1d611",
   "metadata": {},
   "outputs": [
    {
     "name": "stdout",
     "output_type": "stream",
     "text": [
      "circumference of circle:\n"
     ]
    },
    {
     "data": {
      "text/plain": [
       "109.95574287564276"
      ]
     },
     "execution_count": 119,
     "metadata": {},
     "output_type": "execute_result"
    }
   ],
   "source": [
    "circumference(35)\n"
   ]
  },
  {
   "cell_type": "code",
   "execution_count": 126,
   "id": "6359f819-0580-4ff9-97fa-512cf596e4e5",
   "metadata": {},
   "outputs": [],
   "source": [
    "def  perimeter_triangle(a,b,c):\n",
    "     res=a+b+c\n",
    "     return res"
   ]
  },
  {
   "cell_type": "code",
   "execution_count": 134,
   "id": "e3db5a1a-bbe1-412e-8ecf-3037009f7f28",
   "metadata": {},
   "outputs": [
    {
     "data": {
      "text/plain": [
       "17.0"
      ]
     },
     "execution_count": 134,
     "metadata": {},
     "output_type": "execute_result"
    }
   ],
   "source": [
    "perimeter_triangle(2.0,8.0,7.0)"
   ]
  },
  {
   "cell_type": "code",
   "execution_count": 138,
   "id": "943cc7e4-83d2-485e-a8dd-4fd18060ee56",
   "metadata": {},
   "outputs": [],
   "source": [
    "def percentage(part,whole):\n",
    "    res=part/whole*100\n",
    "    return res"
   ]
  },
  {
   "cell_type": "code",
   "execution_count": 140,
   "id": "6c000bff-e854-4b78-8a53-c61e74d9ecf3",
   "metadata": {},
   "outputs": [
    {
     "data": {
      "text/plain": [
       "75.0"
      ]
     },
     "execution_count": 140,
     "metadata": {},
     "output_type": "execute_result"
    }
   ],
   "source": [
    "percentage(75,100)"
   ]
  },
  {
   "cell_type": "code",
   "execution_count": 156,
   "id": "171ac714-9b03-42b0-b633-ae30b0d82e60",
   "metadata": {},
   "outputs": [],
   "source": [
    "import math\n",
    "def pythogoerm_theorm(a,b):\n",
    "     c= math.sqrt(a**2+b**2)\n",
    "     return c"
   ]
  },
  {
   "cell_type": "code",
   "execution_count": 172,
   "id": "e0bdb764-bd02-4e1d-a692-477197e4ec64",
   "metadata": {},
   "outputs": [
    {
     "data": {
      "text/plain": [
       "5.0"
      ]
     },
     "execution_count": 172,
     "metadata": {},
     "output_type": "execute_result"
    }
   ],
   "source": [
    "pythogoerm_theorm(3,4)"
   ]
  },
  {
   "cell_type": "code",
   "execution_count": 177,
   "id": "2105fbda-7f23-45b2-80e2-a85b82c3bba0",
   "metadata": {},
   "outputs": [],
   "source": [
    "import math\n",
    "def distance(x1,x2,y1,y2):\n",
    "    d=math.sqrt((x2-x1)**2+(y2-y1)**2)\n",
    "    return d\n",
    "    "
   ]
  },
  {
   "cell_type": "code",
   "execution_count": 193,
   "id": "7ba56aa8-6252-43ce-a85a-15881f0bbf9b",
   "metadata": {},
   "outputs": [
    {
     "data": {
      "text/plain": [
       "5.385164807134504"
      ]
     },
     "execution_count": 193,
     "metadata": {},
     "output_type": "execute_result"
    }
   ],
   "source": [
    "distance(3,8,16,18)"
   ]
  },
  {
   "cell_type": "code",
   "execution_count": 229,
   "id": "16440de9-c2d2-4b13-ae39-b27cf468854b",
   "metadata": {},
   "outputs": [],
   "source": [
    "def volume(r,h):\n",
    "    print(\"volume of cylinder:\")\n",
    "    res=3.14*r*r*h\n",
    "    return res"
   ]
  },
  {
   "cell_type": "code",
   "execution_count": 231,
   "id": "e246a42b-e42d-421c-8fe7-567ca02ea6e2",
   "metadata": {},
   "outputs": [
    {
     "name": "stdout",
     "output_type": "stream",
     "text": [
      "volume of cylinder:\n"
     ]
    },
    {
     "data": {
      "text/plain": [
       "100.48"
      ]
     },
     "execution_count": 231,
     "metadata": {},
     "output_type": "execute_result"
    }
   ],
   "source": [
    "volume(4,2)"
   ]
  },
  {
   "cell_type": "code",
   "execution_count": 259,
   "id": "5d919b56-4c0e-4598-af4c-dc6ceb52742a",
   "metadata": {},
   "outputs": [],
   "source": [
    "def volume(r):\n",
    "    print(\"volume of sphere:\")\n",
    "    res=4/3*3.14*r**3\n",
    "    return res"
   ]
  },
  {
   "cell_type": "code",
   "execution_count": 261,
   "id": "5e317db8-497a-44c6-8967-f6902124c6c2",
   "metadata": {},
   "outputs": [
    {
     "name": "stdout",
     "output_type": "stream",
     "text": [
      "volume of sphere:\n"
     ]
    },
    {
     "data": {
      "text/plain": [
       "523.3333333333334"
      ]
     },
     "execution_count": 261,
     "metadata": {},
     "output_type": "execute_result"
    }
   ],
   "source": [
    "volume(5)"
   ]
  },
  {
   "cell_type": "code",
   "execution_count": null,
   "id": "1504f809-aeb4-4137-8467-37e7dc1de4bf",
   "metadata": {},
   "outputs": [],
   "source": []
  }
 ],
 "metadata": {
  "kernelspec": {
   "display_name": "Python 3 (ipykernel)",
   "language": "python",
   "name": "python3"
  },
  "language_info": {
   "codemirror_mode": {
    "name": "ipython",
    "version": 3
   },
   "file_extension": ".py",
   "mimetype": "text/x-python",
   "name": "python",
   "nbconvert_exporter": "python",
   "pygments_lexer": "ipython3",
   "version": "3.12.4"
  }
 },
 "nbformat": 4,
 "nbformat_minor": 5
}
