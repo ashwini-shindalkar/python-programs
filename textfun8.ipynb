{
 "cells": [
  {
   "cell_type": "code",
   "execution_count": 5,
   "id": "58c43095-fa98-4537-9eb0-f955f9daf20f",
   "metadata": {},
   "outputs": [
    {
     "name": "stdout",
     "output_type": "stream",
     "text": [
      "['ai', 'ai']\n"
     ]
    }
   ],
   "source": [
    "import re \n",
    "\n",
    "txt=\"the rain in spain \"\n",
    "x=re.findall(\"ai\",txt)\n",
    "print(x)"
   ]
  },
  {
   "cell_type": "code",
   "execution_count": 5,
   "id": "0b17ffb9-97b4-4c7f-9e52-13b267ad893a",
   "metadata": {},
   "outputs": [
    {
     "name": "stdout",
     "output_type": "stream",
     "text": [
      "[]\n"
     ]
    }
   ],
   "source": [
    "txt=\"the rain in spain\"\n",
    "x=re.findall(\"portugal\",txt)\n",
    "print(x)"
   ]
  },
  {
   "cell_type": "code",
   "execution_count": 23,
   "id": "6bf77d59-9620-425f-a22c-96beeabb8a1b",
   "metadata": {},
   "outputs": [
    {
     "name": "stdout",
     "output_type": "stream",
     "text": [
      "the first white-space charecter is located in position: 3\n"
     ]
    }
   ],
   "source": [
    "txt=\"the rain in spain\"\n",
    "x=re.search(\"\\\\s\",txt)\n",
    "print(\"the first white-space charecter is located in position:\",x.start())"
   ]
  },
  {
   "cell_type": "code",
   "execution_count": 15,
   "id": "e1a4f5c8-b4a2-4ee4-ab36-ce5fceb3aff4",
   "metadata": {},
   "outputs": [
    {
     "name": "stdout",
     "output_type": "stream",
     "text": [
      "None\n"
     ]
    }
   ],
   "source": [
    "txt=\"the rain in spain\"\n",
    "x=re.search(\"portugal\",txt)\n",
    "print(x)"
   ]
  },
  {
   "cell_type": "code",
   "execution_count": 25,
   "id": "ffd905fd-849b-408a-bfb9-6ce4a620f287",
   "metadata": {},
   "outputs": [
    {
     "name": "stdout",
     "output_type": "stream",
     "text": [
      "['the rai', ' i', ' spai', '']\n"
     ]
    }
   ],
   "source": [
    "txt=\"the rain in spain\"\n",
    "x=re.split(\"n\",txt)\n",
    "print(x)"
   ]
  },
  {
   "cell_type": "code",
   "execution_count": 29,
   "id": "25f8939a-7bde-4c2c-9ae1-0a9991f121ed",
   "metadata": {},
   "outputs": [
    {
     "name": "stdout",
     "output_type": "stream",
     "text": [
      "['the', 'rain in spain']\n"
     ]
    }
   ],
   "source": [
    "txt=\"the rain in spain\"\n",
    "x=re.split(\"\\\\s\",txt,1)\n",
    "print(x)"
   ]
  },
  {
   "cell_type": "code",
   "execution_count": 41,
   "id": "2f565db3-6180-4936-8f99-6c32d34179ae",
   "metadata": {},
   "outputs": [
    {
     "name": "stdout",
     "output_type": "stream",
     "text": [
      "search successful\n"
     ]
    }
   ],
   "source": [
    "pattern='^a*s$'\n",
    "string='aaaaas'\n",
    "result=re.match(pattern,string)\n",
    "\n",
    "if result:\n",
    "    print(\"search successful\")\n",
    "else:\n",
    "    print(\"search unsuccessful\")"
   ]
  },
  {
   "cell_type": "code",
   "execution_count": 45,
   "id": "c68de558-98a1-487c-8c20-6bd675f1a47d",
   "metadata": {},
   "outputs": [
    {
     "name": "stdout",
     "output_type": "stream",
     "text": [
      "['12', '89', '34']\n"
     ]
    }
   ],
   "source": [
    "pattern='\\\\d+'\n",
    "string='hello 12 hi 89. howdy 34'\n",
    "result=re.findall(pattern,string)\n",
    "\n",
    "print(result)\n",
    "\n"
   ]
  },
  {
   "cell_type": "code",
   "execution_count": 53,
   "id": "15f5b0da-392c-4f70-b63c-e38f442e8070",
   "metadata": {},
   "outputs": [
    {
     "name": "stdout",
     "output_type": "stream",
     "text": [
      "['Twelve:', ' Eight nine:', ' .']\n"
     ]
    }
   ],
   "source": [
    "string=\"Twelve:12 Eight nine:89 .\"\n",
    "pattern=\"\\\\d+\"\n",
    "result=re.split(pattern,string)\n",
    "print(result)"
   ]
  },
  {
   "cell_type": "code",
   "execution_count": 51,
   "id": "17da7894-d043-41e9-85d6-718ecf982576",
   "metadata": {},
   "outputs": [
    {
     "name": "stdout",
     "output_type": "stream",
     "text": [
      "['Twelve:', ' Eight nine:89 nine:9.']\n"
     ]
    }
   ],
   "source": [
    "string=\"Twelve:12 Eight nine:89 nine:9.\"\n",
    "pattern=\"\\\\d+\"\n",
    "result=re.split(pattern,string,1)\n",
    "print(result)"
   ]
  },
  {
   "cell_type": "code",
   "execution_count": 63,
   "id": "01bf64d0-8d81-4b28-b886-5b845a9c2cff",
   "metadata": {},
   "outputs": [
    {
     "name": "stdout",
     "output_type": "stream",
     "text": [
      "abc12de23f456\n"
     ]
    }
   ],
   "source": [
    "#program to remove all white space\n",
    "#multiline string\n",
    "string=\"abc 12 de 23 \\n f45 6\"\n",
    "#match all whitespace charecter\n",
    "pattern=\"\\\\s+\"\n",
    "#emty string\n",
    "replace=\"\"\n",
    "new_string=re.sub(pattern,replace,string)\n",
    "print(new_string)"
   ]
  },
  {
   "cell_type": "code",
   "execution_count": 67,
   "id": "aebe4ace-91f1-4bb0-ae35-42ac83b53bc0",
   "metadata": {},
   "outputs": [
    {
     "name": "stdout",
     "output_type": "stream",
     "text": [
      "<re.Match object; span=(5, 7), match='ai'>\n"
     ]
    }
   ],
   "source": [
    "txt=\"the rain in spain\"\n",
    "x=re.search(\"ai\",txt)\n",
    "print(x)    #print object"
   ]
  },
  {
   "cell_type": "code",
   "execution_count": 7,
   "id": "d240b142-c2de-43fb-8237-271ecd35c0b3",
   "metadata": {},
   "outputs": [
    {
     "name": "stdout",
     "output_type": "stream",
     "text": [
      "(5, 7)\n"
     ]
    }
   ],
   "source": [
    "txt=\"the rain in spain\"\n",
    "x=re.search(\"ai\",txt)\n",
    "print(x.span())    #print object"
   ]
  },
  {
   "cell_type": "code",
   "execution_count": 77,
   "id": "a0a27de5-1224-4204-8536-ed3b53930ea3",
   "metadata": {},
   "outputs": [
    {
     "name": "stdout",
     "output_type": "stream",
     "text": [
      "the rain in spain\n"
     ]
    }
   ],
   "source": [
    "txt=\"the rain in spain\"\n",
    "x=re.search(\"ai\",txt)\n",
    "print(x.string)    #print object"
   ]
  },
  {
   "cell_type": "code",
   "execution_count": 79,
   "id": "c5d3a18e-ffc6-44ee-939e-23f584d504c8",
   "metadata": {},
   "outputs": [
    {
     "name": "stdout",
     "output_type": "stream",
     "text": [
      "ai\n"
     ]
    }
   ],
   "source": [
    "txt=\"the rain in spain\"\n",
    "x=re.search(\"ai\",txt)\n",
    "print(x.group())    #print object"
   ]
  },
  {
   "cell_type": "code",
   "execution_count": null,
   "id": "74a3ea23-9a77-4bd7-9ab8-129fab427f2b",
   "metadata": {},
   "outputs": [],
   "source": []
  }
 ],
 "metadata": {
  "kernelspec": {
   "display_name": "Python 3 (ipykernel)",
   "language": "python",
   "name": "python3"
  },
  "language_info": {
   "codemirror_mode": {
    "name": "ipython",
    "version": 3
   },
   "file_extension": ".py",
   "mimetype": "text/x-python",
   "name": "python",
   "nbconvert_exporter": "python",
   "pygments_lexer": "ipython3",
   "version": "3.12.4"
  }
 },
 "nbformat": 4,
 "nbformat_minor": 5
}
